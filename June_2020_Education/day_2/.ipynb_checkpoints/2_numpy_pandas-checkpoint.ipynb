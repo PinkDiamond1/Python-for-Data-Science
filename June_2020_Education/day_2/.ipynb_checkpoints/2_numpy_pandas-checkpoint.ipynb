{
 "cells": [
  {
   "cell_type": "code",
   "execution_count": 132,
   "metadata": {},
   "outputs": [
    {
     "name": "stdout",
     "output_type": "stream",
     "text": [
      "Populating the interactive namespace from numpy and matplotlib\n"
     ]
    }
   ],
   "source": [
    "import numpy as np\n",
    "import pandas as pd\n",
    "%pylab inline"
   ]
  },
  {
   "cell_type": "markdown",
   "metadata": {},
   "source": [
    "# Session 2: Numpy and Pandas\n",
    "We will use these two libraries to do the following:\n",
    "* __Numpy:__ make arrays and matrices, change their shapes, perform math operations on them, compute sums and means.\n",
    "* __Pandas:__ Read, clean, summarize and plot data."
   ]
  },
  {
   "cell_type": "markdown",
   "metadata": {},
   "source": [
    "#### 1. Why use Numpy?\n",
    "\n",
    "Python has built-in number objects (ints, floats) and container objects (lists, tuples). Lists can contain any object types, which are retrieved from elsewhere in memory, with a range of functionality to insert and change items. By contract, Numpy arrays are homogenous (only numbers) and are optimized for speed in operations like matrix algebra."
   ]
  },
  {
   "cell_type": "code",
   "execution_count": 9,
   "metadata": {},
   "outputs": [
    {
     "name": "stdout",
     "output_type": "stream",
     "text": [
      "216 µs ± 835 ns per loop (mean ± std. dev. of 7 runs, 1000 loops each)\n"
     ]
    }
   ],
   "source": [
    "# speed test - regular\n",
    "\n",
    "my_range = range(1000)\n",
    "%timeit [i**2 for i in my_range]"
   ]
  },
  {
   "cell_type": "code",
   "execution_count": 11,
   "metadata": {},
   "outputs": [
    {
     "name": "stdout",
     "output_type": "stream",
     "text": [
      "805 ns ± 8.64 ns per loop (mean ± std. dev. of 7 runs, 1000000 loops each)\n"
     ]
    }
   ],
   "source": [
    "# speed test - numpy\n",
    "\n",
    "my_array = np.arange(1000)\n",
    "%timeit my_array ** 2"
   ]
  },
  {
   "cell_type": "markdown",
   "metadata": {},
   "source": [
    "#### 2. Creating arrays\n",
    "\n",
    "You can create them manually by passing a list. In reality, you're not usually going to type individual values in. More often, you would:\n",
    "* (a) load existing data from a file (eg. CSV);\n",
    "* (b) create arrays based on an arithmetic sequence;\n",
    "* (c) create a spread of values between a start and end-point;\n",
    "* (d) or create an empty array to populate later."
   ]
  },
  {
   "cell_type": "code",
   "execution_count": 13,
   "metadata": {},
   "outputs": [
    {
     "data": {
      "text/plain": [
       "array([1, 2, 3, 4])"
      ]
     },
     "execution_count": 13,
     "metadata": {},
     "output_type": "execute_result"
    }
   ],
   "source": [
    "# create an array from a list:\n",
    "\n",
    "np.array([1,2,3,4])"
   ]
  },
  {
   "cell_type": "code",
   "execution_count": 15,
   "metadata": {},
   "outputs": [
    {
     "data": {
      "text/plain": [
       "array([0, 1, 2, 3, 4, 5, 6, 7, 8, 9])"
      ]
     },
     "execution_count": 15,
     "metadata": {},
     "output_type": "execute_result"
    }
   ],
   "source": [
    "# from a range:\n",
    "\n",
    "np.arange(10)"
   ]
  },
  {
   "cell_type": "code",
   "execution_count": 19,
   "metadata": {},
   "outputs": [
    {
     "data": {
      "text/plain": [
       "array([-5.        , -4.47368421, -3.94736842, -3.42105263, -2.89473684,\n",
       "       -2.36842105, -1.84210526, -1.31578947, -0.78947368, -0.26315789,\n",
       "        0.26315789,  0.78947368,  1.31578947,  1.84210526,  2.36842105,\n",
       "        2.89473684,  3.42105263,  3.94736842,  4.47368421,  5.        ])"
      ]
     },
     "execution_count": 19,
     "metadata": {},
     "output_type": "execute_result"
    }
   ],
   "source": [
    "# equally spaced values between a start and end point:\n",
    "\n",
    "np.linspace(-5,5,20)"
   ]
  },
  {
   "cell_type": "code",
   "execution_count": 129,
   "metadata": {},
   "outputs": [
    {
     "data": {
      "text/plain": [
       "array([[0., 0., 0., 0.],\n",
       "       [0., 0., 0., 0.],\n",
       "       [0., 0., 0., 0.],\n",
       "       [0., 0., 0., 0.]])"
      ]
     },
     "execution_count": 129,
     "metadata": {},
     "output_type": "execute_result"
    }
   ],
   "source": [
    "# values to populate later:\n",
    "\n",
    "np.zeros([4,4])"
   ]
  },
  {
   "cell_type": "code",
   "execution_count": 25,
   "metadata": {},
   "outputs": [
    {
     "data": {
      "text/plain": [
       "array([[0.23494339, 0.47383913, 0.55662857, 0.8235813 ],\n",
       "       [0.49281739, 0.35150569, 0.46723797, 0.9188939 ],\n",
       "       [0.76339471, 0.85830051, 0.57572257, 0.88422427],\n",
       "       [0.82987559, 0.59093834, 0.56748631, 0.86664508]])"
      ]
     },
     "execution_count": 25,
     "metadata": {},
     "output_type": "execute_result"
    }
   ],
   "source": [
    "# random numbers with a uniform distribution (default: between 0 and 1):\n",
    "\n",
    "np.random.random([4,4])"
   ]
  },
  {
   "cell_type": "code",
   "execution_count": 27,
   "metadata": {},
   "outputs": [
    {
     "data": {
      "text/plain": [
       "array([ 0.38225236,  1.19685692,  0.49648456, -0.88418595])"
      ]
     },
     "execution_count": 27,
     "metadata": {},
     "output_type": "execute_result"
    }
   ],
   "source": [
    "# random numbers with normal distribution centered on 0:\n",
    "\n",
    "np.random.randn(4)"
   ]
  },
  {
   "cell_type": "code",
   "execution_count": 55,
   "metadata": {},
   "outputs": [
    {
     "data": {
      "text/plain": [
       "array([[ 0,  1,  2,  3],\n",
       "       [ 4,  5,  6,  7],\n",
       "       [ 8,  9, 10, 11]])"
      ]
     },
     "execution_count": 55,
     "metadata": {},
     "output_type": "execute_result"
    }
   ],
   "source": [
    "# create a sequence then reshape:\n",
    "\n",
    "array1 = np.arange(12).reshape([3,4])\n",
    "array1"
   ]
  },
  {
   "cell_type": "code",
   "execution_count": 130,
   "metadata": {},
   "outputs": [
    {
     "data": {
      "text/plain": [
       "(3, 4)"
      ]
     },
     "execution_count": 130,
     "metadata": {},
     "output_type": "execute_result"
    }
   ],
   "source": [
    "# the shape attribute tells you the number of rows and columns:\n",
    "\n",
    "array1.shape"
   ]
  },
  {
   "cell_type": "markdown",
   "metadata": {},
   "source": [
    "#### 3. Math operations are performed element-wise\n",
    "For example `+10`, `*10` or `== 10` would be performed on *each* element in the array."
   ]
  },
  {
   "cell_type": "code",
   "execution_count": 34,
   "metadata": {},
   "outputs": [
    {
     "data": {
      "text/plain": [
       "array([0, 1, 2, 3, 4, 5])"
      ]
     },
     "execution_count": 34,
     "metadata": {},
     "output_type": "execute_result"
    }
   ],
   "source": [
    "my_array = np.arange(6)\n",
    "my_array"
   ]
  },
  {
   "cell_type": "code",
   "execution_count": 35,
   "metadata": {},
   "outputs": [
    {
     "data": {
      "text/plain": [
       "array([ 0, 10, 20, 30, 40, 50])"
      ]
     },
     "execution_count": 35,
     "metadata": {},
     "output_type": "execute_result"
    }
   ],
   "source": [
    "my_array * 10"
   ]
  },
  {
   "cell_type": "markdown",
   "metadata": {},
   "source": [
    "#### 4. Summarize and compute reductions\n",
    "If you guessed that `ndarray` objects have some pretty useful methods, you guessed right:"
   ]
  },
  {
   "cell_type": "code",
   "execution_count": 64,
   "metadata": {},
   "outputs": [
    {
     "data": {
      "text/plain": [
       "array([[ 0,  1,  2,  3,  4,  5,  6,  7,  8,  9],\n",
       "       [10, 11, 12, 13, 14, 15, 16, 17, 18, 19],\n",
       "       [20, 21, 22, 23, 24, 25, 26, 27, 28, 29],\n",
       "       [30, 31, 32, 33, 34, 35, 36, 37, 38, 39],\n",
       "       [40, 41, 42, 43, 44, 45, 46, 47, 48, 49],\n",
       "       [50, 51, 52, 53, 54, 55, 56, 57, 58, 59],\n",
       "       [60, 61, 62, 63, 64, 65, 66, 67, 68, 69],\n",
       "       [70, 71, 72, 73, 74, 75, 76, 77, 78, 79],\n",
       "       [80, 81, 82, 83, 84, 85, 86, 87, 88, 89],\n",
       "       [90, 91, 92, 93, 94, 95, 96, 97, 98, 99]])"
      ]
     },
     "execution_count": 64,
     "metadata": {},
     "output_type": "execute_result"
    }
   ],
   "source": [
    "array2 = np.arange(100).reshape([10,10])\n",
    "array2"
   ]
  },
  {
   "cell_type": "code",
   "execution_count": 39,
   "metadata": {},
   "outputs": [
    {
     "data": {
      "text/plain": [
       "4950"
      ]
     },
     "execution_count": 39,
     "metadata": {},
     "output_type": "execute_result"
    }
   ],
   "source": [
    "array2.sum()"
   ]
  },
  {
   "cell_type": "code",
   "execution_count": 41,
   "metadata": {},
   "outputs": [
    {
     "data": {
      "text/plain": [
       "array([450, 460, 470, 480, 490, 500, 510, 520, 530, 540])"
      ]
     },
     "execution_count": 41,
     "metadata": {},
     "output_type": "execute_result"
    }
   ],
   "source": [
    "array2.sum(axis = 0)  # remember, axis 0 means columns.    (Most often you'd sum down columns first...)"
   ]
  },
  {
   "cell_type": "code",
   "execution_count": 42,
   "metadata": {},
   "outputs": [
    {
     "data": {
      "text/plain": [
       "array([ 45, 145, 245, 345, 445, 545, 645, 745, 845, 945])"
      ]
     },
     "execution_count": 42,
     "metadata": {},
     "output_type": "execute_result"
    }
   ],
   "source": [
    "array2.sum(axis = 1)  # axis 1 means rows"
   ]
  },
  {
   "cell_type": "code",
   "execution_count": 54,
   "metadata": {},
   "outputs": [
    {
     "data": {
      "text/plain": [
       "array([   0,    1,    3,    6,   10,   15,   21,   28,   36,   45,   55,\n",
       "         66,   78,   91,  105,  120,  136,  153,  171,  190,  210,  231,\n",
       "        253,  276,  300,  325,  351,  378,  406,  435,  465,  496,  528,\n",
       "        561,  595,  630,  666,  703,  741,  780,  820,  861,  903,  946,\n",
       "        990, 1035, 1081, 1128, 1176, 1225, 1275, 1326, 1378, 1431, 1485,\n",
       "       1540, 1596, 1653, 1711, 1770, 1830, 1891, 1953, 2016, 2080, 2145,\n",
       "       2211, 2278, 2346, 2415, 2485, 2556, 2628, 2701, 2775, 2850, 2926,\n",
       "       3003, 3081, 3160, 3240, 3321, 3403, 3486, 3570, 3655, 3741, 3828,\n",
       "       3916, 4005, 4095, 4186, 4278, 4371, 4465, 4560, 4656, 4753, 4851,\n",
       "       4950])"
      ]
     },
     "execution_count": 54,
     "metadata": {},
     "output_type": "execute_result"
    }
   ],
   "source": [
    "array2.cumsum()"
   ]
  },
  {
   "cell_type": "code",
   "execution_count": 43,
   "metadata": {},
   "outputs": [
    {
     "data": {
      "text/plain": [
       "99"
      ]
     },
     "execution_count": 43,
     "metadata": {},
     "output_type": "execute_result"
    }
   ],
   "source": [
    "array2.max()"
   ]
  },
  {
   "cell_type": "code",
   "execution_count": 44,
   "metadata": {},
   "outputs": [
    {
     "data": {
      "text/plain": [
       "0"
      ]
     },
     "execution_count": 44,
     "metadata": {},
     "output_type": "execute_result"
    }
   ],
   "source": [
    "array2.min()"
   ]
  },
  {
   "cell_type": "code",
   "execution_count": 48,
   "metadata": {},
   "outputs": [
    {
     "data": {
      "text/plain": [
       "array([45., 46., 47., 48., 49., 50., 51., 52., 53., 54.])"
      ]
     },
     "execution_count": 48,
     "metadata": {},
     "output_type": "execute_result"
    }
   ],
   "source": [
    "array2.mean(axis = 0)"
   ]
  },
  {
   "cell_type": "markdown",
   "metadata": {},
   "source": [
    "#### 5. Slice arrays, change their shape"
   ]
  },
  {
   "cell_type": "code",
   "execution_count": 60,
   "metadata": {},
   "outputs": [
    {
     "data": {
      "text/plain": [
       "array([[ 0,  1,  2,  3,  4,  5,  6,  7,  8,  9],\n",
       "       [10, 11, 12, 13, 14, 15, 16, 17, 18, 19],\n",
       "       [20, 21, 22, 23, 24, 25, 26, 27, 28, 29],\n",
       "       [30, 31, 32, 33, 34, 35, 36, 37, 38, 39],\n",
       "       [40, 41, 42, 43, 44, 45, 46, 47, 48, 49],\n",
       "       [50, 51, 52, 53, 54, 55, 56, 57, 58, 59],\n",
       "       [60, 61, 62, 63, 64, 65, 66, 67, 68, 69],\n",
       "       [70, 71, 72, 73, 74, 75, 76, 77, 78, 79],\n",
       "       [80, 81, 82, 83, 84, 85, 86, 87, 88, 89],\n",
       "       [90, 91, 92, 93, 94, 95, 96, 97, 98, 99]])"
      ]
     },
     "execution_count": 60,
     "metadata": {},
     "output_type": "execute_result"
    }
   ],
   "source": [
    "array2"
   ]
  },
  {
   "cell_type": "code",
   "execution_count": 61,
   "metadata": {},
   "outputs": [
    {
     "data": {
      "text/plain": [
       "array([[55, 56, 57, 58, 59],\n",
       "       [65, 66, 67, 68, 69],\n",
       "       [75, 76, 77, 78, 79],\n",
       "       [85, 86, 87, 88, 89],\n",
       "       [95, 96, 97, 98, 99]])"
      ]
     },
     "execution_count": 61,
     "metadata": {},
     "output_type": "execute_result"
    }
   ],
   "source": [
    "array2[5:,5:]"
   ]
  },
  {
   "cell_type": "code",
   "execution_count": 62,
   "metadata": {},
   "outputs": [
    {
     "data": {
      "text/plain": [
       "array([51, 52, 53, 54, 55, 56, 57, 58, 59, 60, 61, 62, 63, 64, 65, 66, 67,\n",
       "       68, 69, 70, 71, 72, 73, 74, 75, 76, 77, 78, 79, 80, 81, 82, 83, 84,\n",
       "       85, 86, 87, 88, 89, 90, 91, 92, 93, 94, 95, 96, 97, 98, 99])"
      ]
     },
     "execution_count": 62,
     "metadata": {},
     "output_type": "execute_result"
    }
   ],
   "source": [
    "array2[array2 > 50]"
   ]
  },
  {
   "cell_type": "code",
   "execution_count": 69,
   "metadata": {},
   "outputs": [
    {
     "data": {
      "text/plain": [
       "array([[ 0,  0,  0,  0,  0,  0,  0,  0,  0,  0],\n",
       "       [ 0,  0,  0,  0,  0,  0,  0,  0,  0,  0],\n",
       "       [ 0,  0,  0,  0,  0,  0,  0,  0,  0,  0],\n",
       "       [30, 31, 32, 33, 34, 35, 36, 37, 38, 39],\n",
       "       [40, 41, 42, 43, 44, 45, 46, 47, 48, 49],\n",
       "       [50, 51, 52, 53, 54, 55, 56, 57, 58, 59],\n",
       "       [60, 61, 62, 63, 64, 65, 66, 67, 68, 69],\n",
       "       [70, 71, 72, 73, 74, 75, 76, 77, 78, 79],\n",
       "       [80, 81, 82, 83, 84, 85, 86, 87, 88, 89],\n",
       "       [90, 91, 92, 93, 94, 95, 96, 97, 98, 99]])"
      ]
     },
     "execution_count": 69,
     "metadata": {},
     "output_type": "execute_result"
    }
   ],
   "source": [
    "# index arrays based on conditions\n",
    "\n",
    "array2 = np.arange(100).reshape([10,10])\n",
    "\n",
    "array2[array2 < 30] = 0\n",
    "\n",
    "array2"
   ]
  },
  {
   "cell_type": "markdown",
   "metadata": {},
   "source": [
    "## MatPlotLib\n",
    "\n",
    "#### 6. Plotting\n",
    "MatPlotLib is a widely used plotting library. You can pass it data directly, either for data exploration purposes or to produce publication quality outputs. Also you should get to know it because Pandas calls it."
   ]
  },
  {
   "cell_type": "code",
   "execution_count": 134,
   "metadata": {},
   "outputs": [
    {
     "name": "stdout",
     "output_type": "stream",
     "text": [
      "Populating the interactive namespace from numpy and matplotlib\n"
     ]
    },
    {
     "name": "stderr",
     "output_type": "stream",
     "text": [
      "/Users/nicholasjones/anaconda3/lib/python3.7/site-packages/IPython/core/magics/pylab.py:160: UserWarning: pylab import has clobbered these variables: ['plt']\n",
      "`%matplotlib` prevents importing * from pylab and numpy\n",
      "  \"\\n`%matplotlib` prevents importing * from pylab and numpy\"\n"
     ]
    }
   ],
   "source": [
    "# import it like this:\n",
    "\n",
    "import pylab as plt\n",
    "%pylab inline"
   ]
  },
  {
   "cell_type": "code",
   "execution_count": 151,
   "metadata": {},
   "outputs": [],
   "source": [
    "# Let's make a sine wave and cos wave\n",
    "X = np.linspace(-10, 10, 200)\n",
    "C = np.cos(X)\n",
    "S = np.sin(X)"
   ]
  },
  {
   "cell_type": "code",
   "execution_count": 152,
   "metadata": {},
   "outputs": [
    {
     "data": {
      "text/plain": [
       "[<matplotlib.lines.Line2D at 0x1256dec88>]"
      ]
     },
     "execution_count": 152,
     "metadata": {},
     "output_type": "execute_result"
    },
    {
     "data": {
      "image/png": "[encoded data removed]",
      "text/plain": [
       "<Figure size 432x288 with 1 Axes>"
      ]
     },
     "metadata": {
      "needs_background": "light"
     },
     "output_type": "display_data"
    }
   ],
   "source": [
    "plt.plot(X, C)\n",
    "plt.plot(X, S)"
   ]
  },
  {
   "cell_type": "code",
   "execution_count": 155,
   "metadata": {},
   "outputs": [
    {
     "data": {
      "text/plain": [
       "<Figure size 432x288 with 0 Axes>"
      ]
     },
     "metadata": {},
     "output_type": "display_data"
    }
   ],
   "source": [
    "fig = plt.figure()\n",
    "ax = fig.add_subplot()"
   ]
  },
  {
   "cell_type": "code",
   "execution_count": 178,
   "metadata": {},
   "outputs": [
    {
     "data": {
      "text/plain": [
       "<matplotlib.legend.Legend at 0x1257d8208>"
      ]
     },
     "execution_count": 178,
     "metadata": {},
     "output_type": "execute_result"
    },
    {
     "data": {
      "image/png": "[encoded data removed]",
      "text/plain": [
       "<Figure size 432x432 with 1 Axes>"
      ]
     },
     "metadata": {
      "needs_background": "light"
     },
     "output_type": "display_data"
    }
   ],
   "source": [
    "fig, ax = plt.subplots(figsize = [6,6])\n",
    "\n",
    "ax.plot(X, C, color=\"blue\", linewidth=4, linestyle=\"-\", label = 'cos')\n",
    "ax.plot(X, S, color=\"green\", linewidth=4, linestyle=\"--\", label = 'sine')\n",
    "ax.set(title='Sine and cosine')\n",
    "\n",
    "#ax.set(xlim=[0,5])\n",
    "ax.legend(loc='upper left')\n"
   ]
  },
  {
   "cell_type": "markdown",
   "metadata": {},
   "source": [
    "## Pandas"
   ]
  },
  {
   "cell_type": "markdown",
   "metadata": {},
   "source": [
    "#### 6. Recap: creating Series and DataFrames"
   ]
  },
  {
   "cell_type": "code",
   "execution_count": 70,
   "metadata": {},
   "outputs": [
    {
     "data": {
      "text/plain": [
       "0    10\n",
       "1    20\n",
       "2    30\n",
       "3    40\n",
       "dtype: int64"
      ]
     },
     "execution_count": 70,
     "metadata": {},
     "output_type": "execute_result"
    }
   ],
   "source": [
    "# a Series is a Pandas object containing a single array of data.\n",
    "\n",
    "mySeries = pd.Series([10, 20, 30, 40])\n",
    "mySeries"
   ]
  },
  {
   "cell_type": "code",
   "execution_count": 71,
   "metadata": {},
   "outputs": [
    {
     "data": {
      "text/plain": [
       "array([10, 20, 30, 40])"
      ]
     },
     "execution_count": 71,
     "metadata": {},
     "output_type": "execute_result"
    }
   ],
   "source": [
    "# it contains an array of values, plus an associated array of data labels, called its index\n",
    "\n",
    "mySeries.values"
   ]
  },
  {
   "cell_type": "code",
   "execution_count": 14,
   "metadata": {},
   "outputs": [
    {
     "data": {
      "text/plain": [
       "a    10\n",
       "b    20\n",
       "c    30\n",
       "d    40\n",
       "dtype: int64"
      ]
     },
     "execution_count": 14,
     "metadata": {},
     "output_type": "execute_result"
    }
   ],
   "source": [
    "# you could pass both the values and the index to the Series constructor\n",
    "\n",
    "mySeries = pd.Series(data = [10,20,30,40], index = ['a','b','c','d'])\n",
    "mySeries"
   ]
  },
  {
   "cell_type": "markdown",
   "metadata": {},
   "source": [
    "**Note**: in practice, the index would normally be just 0:n for a DataFrame with n elements. Or a time series."
   ]
  },
  {
   "cell_type": "code",
   "execution_count": 73,
   "metadata": {},
   "outputs": [
    {
     "data": {
      "text/plain": [
       "25.0"
      ]
     },
     "execution_count": 73,
     "metadata": {},
     "output_type": "execute_result"
    }
   ],
   "source": [
    "# a Series is built on a Numpy array. It has built-in methods to sort, summarize, handle missing values, export as CSV, etc.\n",
    "\n",
    "mySeries.mean()"
   ]
  },
  {
   "cell_type": "markdown",
   "metadata": {},
   "source": [
    "**DataFrames can be built many ways.** The DataFrame constructor is flexible and pretty intuitive to work with. Pass it a list of items. Pass it a Numpy array.\n",
    "\n",
    "Or a good approach: pass it a dictionary:\n",
    "* keys: name of column\n",
    "* values: data for the column"
   ]
  },
  {
   "cell_type": "code",
   "execution_count": 80,
   "metadata": {},
   "outputs": [
    {
     "data": {
      "text/html": [
       "<div>\n",
       "<style scoped>\n",
       "    .dataframe tbody tr th:only-of-type {\n",
       "        vertical-align: middle;\n",
       "    }\n",
       "\n",
       "    .dataframe tbody tr th {\n",
       "        vertical-align: top;\n",
       "    }\n",
       "\n",
       "    .dataframe thead th {\n",
       "        text-align: right;\n",
       "    }\n",
       "</style>\n",
       "<table border=\"1\" class=\"dataframe\">\n",
       "  <thead>\n",
       "    <tr style=\"text-align: right;\">\n",
       "      <th></th>\n",
       "      <th>Man Utd</th>\n",
       "      <th>Liverpool</th>\n",
       "      <th>Wrexham FC</th>\n",
       "    </tr>\n",
       "  </thead>\n",
       "  <tbody>\n",
       "    <tr>\n",
       "      <th>0</th>\n",
       "      <td>4</td>\n",
       "      <td>2</td>\n",
       "      <td>0</td>\n",
       "    </tr>\n",
       "    <tr>\n",
       "      <th>1</th>\n",
       "      <td>2</td>\n",
       "      <td>3</td>\n",
       "      <td>0</td>\n",
       "    </tr>\n",
       "    <tr>\n",
       "      <th>2</th>\n",
       "      <td>0</td>\n",
       "      <td>0</td>\n",
       "      <td>0</td>\n",
       "    </tr>\n",
       "    <tr>\n",
       "      <th>3</th>\n",
       "      <td>2</td>\n",
       "      <td>5</td>\n",
       "      <td>1</td>\n",
       "    </tr>\n",
       "  </tbody>\n",
       "</table>\n",
       "</div>"
      ],
      "text/plain": [
       "   Man Utd  Liverpool  Wrexham FC\n",
       "0        4          2           0\n",
       "1        2          3           0\n",
       "2        0          0           0\n",
       "3        2          5           1"
      ]
     },
     "execution_count": 80,
     "metadata": {},
     "output_type": "execute_result"
    }
   ],
   "source": [
    "# Create a dataframe from scratch several ways. A good one is to pass a dictionary containing\n",
    "# the column name and the values.\n",
    "\n",
    "goals_scored = pd.DataFrame({\"Man Utd\": [4, 2, 0, 2],\n",
    "                         \"Liverpool\": [2, 3, 0, 5],\n",
    "                          \"Wrexham FC\": [0, 0, 0, 1]})\n",
    "\n",
    "goals_scored"
   ]
  },
  {
   "cell_type": "code",
   "execution_count": 177,
   "metadata": {},
   "outputs": [
    {
     "name": "stdout",
     "output_type": "stream",
     "text": [
      "Average goals this season: 2.5\n"
     ]
    }
   ],
   "source": [
    "print(\"Average goals this season:\", goals_scored['Liverpool'].mean())"
   ]
  },
  {
   "cell_type": "code",
   "execution_count": 81,
   "metadata": {},
   "outputs": [
    {
     "data": {
      "text/plain": [
       "<matplotlib.axes._subplots.AxesSubplot at 0x12259fbe0>"
      ]
     },
     "execution_count": 81,
     "metadata": {},
     "output_type": "execute_result"
    },
    {
     "data": {
      "image/png": "[encoded data removed]",
      "text/plain": [
       "<Figure size 432x288 with 1 Axes>"
      ]
     },
     "metadata": {
      "needs_background": "light"
     },
     "output_type": "display_data"
    }
   ],
   "source": [
    "# Pandas has useful built-in plotting via MatplotLib.\n",
    "\n",
    "goals_scored.sum().plot(kind='bar')"
   ]
  },
  {
   "cell_type": "markdown",
   "metadata": {},
   "source": [
    "#### 7. Data manipulation - census of firms\n",
    "This dataset describes characteristics of firms in Dhaka, Bangladesh. "
   ]
  },
  {
   "cell_type": "code",
   "execution_count": 83,
   "metadata": {},
   "outputs": [],
   "source": [
    "path = r'https://raw.githubusercontent.com/worldbank/Python-for-Data-Science/master/Spring%202019%208-week%20course/week%204/SampleData/Exercise%201/firms_Dhaka.csv'"
   ]
  },
  {
   "cell_type": "code",
   "execution_count": 84,
   "metadata": {},
   "outputs": [],
   "source": [
    "df = pd.read_csv(path, encoding = 'utf_8')"
   ]
  },
  {
   "cell_type": "code",
   "execution_count": 88,
   "metadata": {},
   "outputs": [
    {
     "data": {
      "text/html": [
       "<div>\n",
       "<style scoped>\n",
       "    .dataframe tbody tr th:only-of-type {\n",
       "        vertical-align: middle;\n",
       "    }\n",
       "\n",
       "    .dataframe tbody tr th {\n",
       "        vertical-align: top;\n",
       "    }\n",
       "\n",
       "    .dataframe thead th {\n",
       "        text-align: right;\n",
       "    }\n",
       "</style>\n",
       "<table border=\"1\" class=\"dataframe\">\n",
       "  <thead>\n",
       "    <tr style=\"text-align: right;\">\n",
       "      <th></th>\n",
       "      <th>Unnamed: 0</th>\n",
       "      <th>Geographic</th>\n",
       "      <th>Sector</th>\n",
       "      <th>Size_Frame</th>\n",
       "      <th>Size_Inter</th>\n",
       "      <th>Weights</th>\n",
       "      <th>age</th>\n",
       "      <th>export</th>\n",
       "      <th>exporter</th>\n",
       "      <th>family_own</th>\n",
       "      <th>...</th>\n",
       "      <th>sales_per_</th>\n",
       "      <th>sector_1</th>\n",
       "      <th>share_fore</th>\n",
       "      <th>share_sold</th>\n",
       "      <th>share_wome</th>\n",
       "      <th>size_</th>\n",
       "      <th>wt</th>\n",
       "      <th>years</th>\n",
       "      <th>rank</th>\n",
       "      <th>ID</th>\n",
       "    </tr>\n",
       "  </thead>\n",
       "  <tbody>\n",
       "    <tr>\n",
       "      <th>0</th>\n",
       "      <td>0</td>\n",
       "      <td>Dhaka</td>\n",
       "      <td>Leather and Lather goods</td>\n",
       "      <td>0-9</td>\n",
       "      <td>0-9</td>\n",
       "      <td>1.75</td>\n",
       "      <td>20+years</td>\n",
       "      <td>0</td>\n",
       "      <td>Non-exporter</td>\n",
       "      <td>1</td>\n",
       "      <td>...</td>\n",
       "      <td>2155263.3</td>\n",
       "      <td>leather</td>\n",
       "      <td>0</td>\n",
       "      <td>0</td>\n",
       "      <td>0</td>\n",
       "      <td>Micro</td>\n",
       "      <td>1.42</td>\n",
       "      <td>50</td>\n",
       "      <td>10</td>\n",
       "      <td>0</td>\n",
       "    </tr>\n",
       "    <tr>\n",
       "      <th>1</th>\n",
       "      <td>1</td>\n",
       "      <td>Dhaka</td>\n",
       "      <td>Leather and Lather goods</td>\n",
       "      <td>0-9</td>\n",
       "      <td>0-9</td>\n",
       "      <td>1.75</td>\n",
       "      <td>6-10years</td>\n",
       "      <td>0</td>\n",
       "      <td>Non-exporter</td>\n",
       "      <td>1</td>\n",
       "      <td>...</td>\n",
       "      <td>3123123.0</td>\n",
       "      <td>leather</td>\n",
       "      <td>0</td>\n",
       "      <td>0</td>\n",
       "      <td>0</td>\n",
       "      <td>Micro</td>\n",
       "      <td>1.42</td>\n",
       "      <td>10</td>\n",
       "      <td>10</td>\n",
       "      <td>1</td>\n",
       "    </tr>\n",
       "  </tbody>\n",
       "</table>\n",
       "<p>2 rows × 39 columns</p>\n",
       "</div>"
      ],
      "text/plain": [
       "   Unnamed: 0 Geographic                    Sector Size_Frame Size_Inter  \\\n",
       "0           0      Dhaka  Leather and Lather goods        0-9        0-9   \n",
       "1           1      Dhaka  Leather and Lather goods        0-9        0-9   \n",
       "\n",
       "   Weights        age  export      exporter  family_own  ... sales_per_  \\\n",
       "0     1.75   20+years       0  Non-exporter           1  ...  2155263.3   \n",
       "1     1.75  6-10years       0  Non-exporter           1  ...  3123123.0   \n",
       "\n",
       "  sector_1 share_fore  share_sold  share_wome  size_    wt  years  rank  ID  \n",
       "0  leather          0           0           0  Micro  1.42     50    10   0  \n",
       "1  leather          0           0           0  Micro  1.42     10    10   1  \n",
       "\n",
       "[2 rows x 39 columns]"
      ]
     },
     "execution_count": 88,
     "metadata": {},
     "output_type": "execute_result"
    }
   ],
   "source": [
    "# inspect first two rows\n",
    "\n",
    "df.head(2)"
   ]
  },
  {
   "cell_type": "code",
   "execution_count": 89,
   "metadata": {},
   "outputs": [
    {
     "data": {
      "text/plain": [
       "Index(['Unnamed: 0', 'Geographic', 'Sector', 'Size_Frame', 'Size_Inter',\n",
       "       'Weights', 'age', 'export', 'exporter', 'family_own', 'female_own',\n",
       "       'foreign_ow', 'geometry', 'gpsAccurac', 'gpsAltitud', 'Lat', 'Lon',\n",
       "       'innovative', 'leader', 'limited_li', 'node', 'number_cli',\n",
       "       'partnershi', 'product_re', 'product_ye', 'public_', 'region',\n",
       "       'sales_ex_1', 'sales_expo', 'sales_per_', 'sector_1', 'share_fore',\n",
       "       'share_sold', 'share_wome', 'size_', 'wt', 'years', 'rank', 'ID'],\n",
       "      dtype='object')"
      ]
     },
     "execution_count": 89,
     "metadata": {},
     "output_type": "execute_result"
    }
   ],
   "source": [
    "# print a list of the columns\n",
    "\n",
    "df.columns"
   ]
  },
  {
   "cell_type": "code",
   "execution_count": 90,
   "metadata": {},
   "outputs": [
    {
     "data": {
      "text/plain": [
       "(1438, 39)"
      ]
     },
     "execution_count": 90,
     "metadata": {},
     "output_type": "execute_result"
    }
   ],
   "source": [
    "# check the shape\n",
    "\n",
    "df.shape"
   ]
  },
  {
   "cell_type": "code",
   "execution_count": 93,
   "metadata": {},
   "outputs": [
    {
     "data": {
      "text/plain": [
       "0    50\n",
       "1    10\n",
       "2    41\n",
       "3    40\n",
       "4    38\n",
       "Name: years, dtype: int64"
      ]
     },
     "execution_count": 93,
     "metadata": {},
     "output_type": "execute_result"
    }
   ],
   "source": [
    "# a DataFrame is equivalent to several Series glued together. Use square bracket notation, or dot notation, to inspect one Series (ie. a column).\n",
    "\n",
    "df.years[:5]"
   ]
  },
  {
   "cell_type": "code",
   "execution_count": 98,
   "metadata": {},
   "outputs": [
    {
     "data": {
      "text/plain": [
       "14.68219749652295"
      ]
     },
     "execution_count": 98,
     "metadata": {},
     "output_type": "execute_result"
    }
   ],
   "source": [
    "# summarize this column \n",
    "\n",
    "df.years.mean()"
   ]
  },
  {
   "cell_type": "code",
   "execution_count": 97,
   "metadata": {},
   "outputs": [
    {
     "data": {
      "text/plain": [
       "count    1438.000000\n",
       "mean       14.682197\n",
       "std        12.125066\n",
       "min         1.000000\n",
       "25%         5.000000\n",
       "50%        10.000000\n",
       "75%        20.000000\n",
       "max        80.000000\n",
       "Name: years, dtype: float64"
      ]
     },
     "execution_count": 97,
     "metadata": {},
     "output_type": "execute_result"
    }
   ],
   "source": [
    "df.years.describe()"
   ]
  },
  {
   "cell_type": "code",
   "execution_count": 99,
   "metadata": {},
   "outputs": [
    {
     "data": {
      "text/plain": [
       "array(['20+years', '6-10years', '16-20years', '11-15years', '0-5years'],\n",
       "      dtype=object)"
      ]
     },
     "execution_count": 99,
     "metadata": {},
     "output_type": "execute_result"
    }
   ],
   "source": [
    "# check the unique values in a column (good for categorical data)\n",
    "\n",
    "df.age.unique()"
   ]
  },
  {
   "cell_type": "code",
   "execution_count": 101,
   "metadata": {},
   "outputs": [
    {
     "data": {
      "text/plain": [
       "0-5years      397\n",
       "20+years      342\n",
       "6-10years     329\n",
       "11-15years    189\n",
       "16-20years    181\n",
       "Name: age, dtype: int64"
      ]
     },
     "execution_count": 101,
     "metadata": {},
     "output_type": "execute_result"
    }
   ],
   "source": [
    "# get a count of each unique value\n",
    "\n",
    "df.age.value_counts()"
   ]
  },
  {
   "cell_type": "code",
   "execution_count": 102,
   "metadata": {},
   "outputs": [
    {
     "data": {
      "text/plain": [
       "domestic_owned    1435\n",
       "foreign_owned        3\n",
       "Name: foreign_ow, dtype: int64"
      ]
     },
     "execution_count": 102,
     "metadata": {},
     "output_type": "execute_result"
    }
   ],
   "source": [
    "# how many firms are foreign owned?\n",
    "\n",
    "df.foreign_ow.value_counts()"
   ]
  },
  {
   "cell_type": "markdown",
   "metadata": {},
   "source": [
    "Let's explore growth trends for new firms. Which industries are the new firms concentrated in? (Take domestic firms only.)"
   ]
  },
  {
   "cell_type": "code",
   "execution_count": 108,
   "metadata": {},
   "outputs": [
    {
     "data": {
      "text/html": [
       "<div>\n",
       "<style scoped>\n",
       "    .dataframe tbody tr th:only-of-type {\n",
       "        vertical-align: middle;\n",
       "    }\n",
       "\n",
       "    .dataframe tbody tr th {\n",
       "        vertical-align: top;\n",
       "    }\n",
       "\n",
       "    .dataframe thead th {\n",
       "        text-align: right;\n",
       "    }\n",
       "</style>\n",
       "<table border=\"1\" class=\"dataframe\">\n",
       "  <thead>\n",
       "    <tr style=\"text-align: right;\">\n",
       "      <th></th>\n",
       "      <th>Unnamed: 0</th>\n",
       "      <th>Geographic</th>\n",
       "      <th>Sector</th>\n",
       "      <th>Size_Frame</th>\n",
       "      <th>Size_Inter</th>\n",
       "      <th>Weights</th>\n",
       "      <th>age</th>\n",
       "      <th>export</th>\n",
       "      <th>exporter</th>\n",
       "      <th>family_own</th>\n",
       "      <th>...</th>\n",
       "      <th>sales_per_</th>\n",
       "      <th>sector_1</th>\n",
       "      <th>share_fore</th>\n",
       "      <th>share_sold</th>\n",
       "      <th>share_wome</th>\n",
       "      <th>size_</th>\n",
       "      <th>wt</th>\n",
       "      <th>years</th>\n",
       "      <th>rank</th>\n",
       "      <th>ID</th>\n",
       "    </tr>\n",
       "  </thead>\n",
       "  <tbody>\n",
       "    <tr>\n",
       "      <th>11</th>\n",
       "      <td>11</td>\n",
       "      <td>Dhaka</td>\n",
       "      <td>Leather and Lather goods</td>\n",
       "      <td>0-9</td>\n",
       "      <td>0-9</td>\n",
       "      <td>1.750000</td>\n",
       "      <td>0-5years</td>\n",
       "      <td>0</td>\n",
       "      <td>Non-exporter</td>\n",
       "      <td>1</td>\n",
       "      <td>...</td>\n",
       "      <td>1500000.00</td>\n",
       "      <td>leather</td>\n",
       "      <td>0</td>\n",
       "      <td>0</td>\n",
       "      <td>0</td>\n",
       "      <td>Micro</td>\n",
       "      <td>1.893333</td>\n",
       "      <td>3</td>\n",
       "      <td>10</td>\n",
       "      <td>11</td>\n",
       "    </tr>\n",
       "    <tr>\n",
       "      <th>18</th>\n",
       "      <td>18</td>\n",
       "      <td>Dhaka</td>\n",
       "      <td>Leather and Lather goods</td>\n",
       "      <td>0-9</td>\n",
       "      <td>0-9</td>\n",
       "      <td>1.611940</td>\n",
       "      <td>0-5years</td>\n",
       "      <td>70</td>\n",
       "      <td>Exporter</td>\n",
       "      <td>1</td>\n",
       "      <td>...</td>\n",
       "      <td>1911179.30</td>\n",
       "      <td>leather</td>\n",
       "      <td>0</td>\n",
       "      <td>20</td>\n",
       "      <td>0</td>\n",
       "      <td>Micro</td>\n",
       "      <td>1.307036</td>\n",
       "      <td>3</td>\n",
       "      <td>10</td>\n",
       "      <td>18</td>\n",
       "    </tr>\n",
       "    <tr>\n",
       "      <th>23</th>\n",
       "      <td>23</td>\n",
       "      <td>Dhaka</td>\n",
       "      <td>Footwear</td>\n",
       "      <td>0-9</td>\n",
       "      <td>0-9</td>\n",
       "      <td>1.659574</td>\n",
       "      <td>0-5years</td>\n",
       "      <td>0</td>\n",
       "      <td>Non-exporter</td>\n",
       "      <td>1</td>\n",
       "      <td>...</td>\n",
       "      <td>423703.72</td>\n",
       "      <td>footwear</td>\n",
       "      <td>0</td>\n",
       "      <td>0</td>\n",
       "      <td>0</td>\n",
       "      <td>Micro</td>\n",
       "      <td>1.364271</td>\n",
       "      <td>2</td>\n",
       "      <td>10</td>\n",
       "      <td>23</td>\n",
       "    </tr>\n",
       "    <tr>\n",
       "      <th>27</th>\n",
       "      <td>27</td>\n",
       "      <td>Dhaka</td>\n",
       "      <td>Footwear</td>\n",
       "      <td>0-9</td>\n",
       "      <td>0-9</td>\n",
       "      <td>1.281690</td>\n",
       "      <td>0-5years</td>\n",
       "      <td>0</td>\n",
       "      <td>Non-exporter</td>\n",
       "      <td>1</td>\n",
       "      <td>...</td>\n",
       "      <td>2500000.00</td>\n",
       "      <td>footwear</td>\n",
       "      <td>0</td>\n",
       "      <td>0</td>\n",
       "      <td>0</td>\n",
       "      <td>Micro</td>\n",
       "      <td>1.556338</td>\n",
       "      <td>2</td>\n",
       "      <td>10</td>\n",
       "      <td>27</td>\n",
       "    </tr>\n",
       "    <tr>\n",
       "      <th>31</th>\n",
       "      <td>31</td>\n",
       "      <td>Dhaka</td>\n",
       "      <td>Leather and Lather goods</td>\n",
       "      <td>0-9</td>\n",
       "      <td>0-9</td>\n",
       "      <td>1.611940</td>\n",
       "      <td>0-5years</td>\n",
       "      <td>100</td>\n",
       "      <td>Exporter</td>\n",
       "      <td>0</td>\n",
       "      <td>...</td>\n",
       "      <td>1848275.90</td>\n",
       "      <td>leather</td>\n",
       "      <td>0</td>\n",
       "      <td>20</td>\n",
       "      <td>0</td>\n",
       "      <td>Small</td>\n",
       "      <td>1.307036</td>\n",
       "      <td>4</td>\n",
       "      <td>5</td>\n",
       "      <td>31</td>\n",
       "    </tr>\n",
       "  </tbody>\n",
       "</table>\n",
       "<p>5 rows × 39 columns</p>\n",
       "</div>"
      ],
      "text/plain": [
       "    Unnamed: 0 Geographic                    Sector Size_Frame Size_Inter  \\\n",
       "11          11      Dhaka  Leather and Lather goods        0-9        0-9   \n",
       "18          18      Dhaka  Leather and Lather goods        0-9        0-9   \n",
       "23          23      Dhaka                  Footwear        0-9        0-9   \n",
       "27          27      Dhaka                  Footwear        0-9        0-9   \n",
       "31          31      Dhaka  Leather and Lather goods        0-9        0-9   \n",
       "\n",
       "     Weights       age  export      exporter  family_own  ...  sales_per_  \\\n",
       "11  1.750000  0-5years       0  Non-exporter           1  ...  1500000.00   \n",
       "18  1.611940  0-5years      70      Exporter           1  ...  1911179.30   \n",
       "23  1.659574  0-5years       0  Non-exporter           1  ...   423703.72   \n",
       "27  1.281690  0-5years       0  Non-exporter           1  ...  2500000.00   \n",
       "31  1.611940  0-5years     100      Exporter           0  ...  1848275.90   \n",
       "\n",
       "    sector_1 share_fore  share_sold  share_wome  size_        wt  years  rank  \\\n",
       "11   leather          0           0           0  Micro  1.893333      3    10   \n",
       "18   leather          0          20           0  Micro  1.307036      3    10   \n",
       "23  footwear          0           0           0  Micro  1.364271      2    10   \n",
       "27  footwear          0           0           0  Micro  1.556338      2    10   \n",
       "31   leather          0          20           0  Small  1.307036      4     5   \n",
       "\n",
       "    ID  \n",
       "11  11  \n",
       "18  18  \n",
       "23  23  \n",
       "27  27  \n",
       "31  31  \n",
       "\n",
       "[5 rows x 39 columns]"
      ]
     },
     "execution_count": 108,
     "metadata": {},
     "output_type": "execute_result"
    }
   ],
   "source": [
    "# select values where a conditional statement is true (Boolean indexing - Nick's favorite)\n",
    "\n",
    "df[df.years < 5][:5]"
   ]
  },
  {
   "cell_type": "code",
   "execution_count": 117,
   "metadata": {},
   "outputs": [],
   "source": [
    "df1 = df[df.years < 5]\n",
    "df2 = df1[df1.foreign_ow == 'domestic_owned']\n",
    "\n",
    "# df_new_domestic_firms = df[(df.years < 5) & (df.foreign_ow == 'domestic_owned')]      <-- another way to do it"
   ]
  },
  {
   "cell_type": "code",
   "execution_count": 118,
   "metadata": {},
   "outputs": [
    {
     "data": {
      "text/plain": [
       "footwear             97\n",
       "plastic              85\n",
       "light_engineering    63\n",
       "leather              54\n",
       "Name: sector_1, dtype: int64"
      ]
     },
     "execution_count": 118,
     "metadata": {},
     "output_type": "execute_result"
    }
   ],
   "source": [
    "df2.sector_1.value_counts()"
   ]
  },
  {
   "cell_type": "markdown",
   "metadata": {},
   "source": [
    "#### 8. Call Matplotlib from Pandas\n",
    "DataFrames have a helpful set of methods which call MatPlotLib directly. Make a pie chart or line chart from a DataFrame."
   ]
  },
  {
   "cell_type": "code",
   "execution_count": 179,
   "metadata": {},
   "outputs": [
    {
     "data": {
      "text/plain": [
       "<matplotlib.axes._subplots.AxesSubplot at 0x1275e4b00>"
      ]
     },
     "execution_count": 179,
     "metadata": {},
     "output_type": "execute_result"
    },
    {
     "data": {
      "image/png": "[encoded data removed]",
      "text/plain": [
       "<Figure size 432x288 with 1 Axes>"
      ]
     },
     "metadata": {},
     "output_type": "display_data"
    }
   ],
   "source": [
    "df2.sector_1.value_counts().plot(kind = 'pie')"
   ]
  },
  {
   "cell_type": "code",
   "execution_count": 180,
   "metadata": {},
   "outputs": [
    {
     "data": {
      "text/plain": [
       "<matplotlib.axes._subplots.AxesSubplot at 0x12c4aebe0>"
      ]
     },
     "execution_count": 180,
     "metadata": {},
     "output_type": "execute_result"
    },
    {
     "data": {
      "image/png": "[encoded data removed]",
      "text/plain": [
       "<Figure size 432x288 with 1 Axes>"
      ]
     },
     "metadata": {
      "needs_background": "light"
     },
     "output_type": "display_data"
    }
   ],
   "source": [
    "df2.sector_1.value_counts().plot(kind = 'bar')"
   ]
  },
  {
   "cell_type": "markdown",
   "metadata": {},
   "source": [
    "#### 9. NYC buildings - Load and clean a noisy dataset"
   ]
  },
  {
   "cell_type": "code",
   "execution_count": 119,
   "metadata": {},
   "outputs": [
    {
     "name": "stdout",
     "output_type": "stream",
     "text": [
      "loaded csv with 42950 rows and 97 columns\n"
     ]
    },
    {
     "name": "stderr",
     "output_type": "stream",
     "text": [
      "/Users/nicholasjones/anaconda3/lib/python3.7/site-packages/IPython/core/interactiveshell.py:3049: DtypeWarning: Columns (18,19,21,23,78) have mixed types. Specify dtype option on import or set low_memory=False.\n",
      "  interactivity=interactivity, compiler=compiler, result=result)\n"
     ]
    }
   ],
   "source": [
    "# Create a dataframe using read_csv()\n",
    "\n",
    "#filename = 'pluto_shorter.csv'\n",
    "url = 'https://github.com/worldbank/Python-for-Data-Science/raw/master/Spring%202019%208-week%20course/week%203/pluto_shorter.csv'\n",
    "\n",
    "df = pd.read_csv(url)\n",
    "print('loaded csv with {} rows and {} columns'.format(df.shape[0], df.shape[1]))"
   ]
  },
  {
   "cell_type": "code",
   "execution_count": 120,
   "metadata": {},
   "outputs": [
    {
     "data": {
      "text/html": [
       "<div>\n",
       "<style scoped>\n",
       "    .dataframe tbody tr th:only-of-type {\n",
       "        vertical-align: middle;\n",
       "    }\n",
       "\n",
       "    .dataframe tbody tr th {\n",
       "        vertical-align: top;\n",
       "    }\n",
       "\n",
       "    .dataframe thead th {\n",
       "        text-align: right;\n",
       "    }\n",
       "</style>\n",
       "<table border=\"1\" class=\"dataframe\">\n",
       "  <thead>\n",
       "    <tr style=\"text-align: right;\">\n",
       "      <th></th>\n",
       "      <th>Unnamed: 0</th>\n",
       "      <th>borough</th>\n",
       "      <th>block</th>\n",
       "      <th>lot</th>\n",
       "      <th>cd</th>\n",
       "      <th>ct2010</th>\n",
       "      <th>cb2010</th>\n",
       "      <th>schooldist</th>\n",
       "      <th>council</th>\n",
       "      <th>zipcode</th>\n",
       "      <th>...</th>\n",
       "      <th>firm07_flag</th>\n",
       "      <th>pfirm15_flag</th>\n",
       "      <th>rpaddate</th>\n",
       "      <th>dcasdate</th>\n",
       "      <th>zoningdate</th>\n",
       "      <th>landmkdate</th>\n",
       "      <th>basempdate</th>\n",
       "      <th>masdate</th>\n",
       "      <th>polidate</th>\n",
       "      <th>edesigdate</th>\n",
       "    </tr>\n",
       "  </thead>\n",
       "  <tbody>\n",
       "    <tr>\n",
       "      <th>0</th>\n",
       "      <td>0</td>\n",
       "      <td>BX</td>\n",
       "      <td>5641.0</td>\n",
       "      <td>670.0</td>\n",
       "      <td>210.0</td>\n",
       "      <td>516.00</td>\n",
       "      <td>2.0</td>\n",
       "      <td>NaN</td>\n",
       "      <td>13.0</td>\n",
       "      <td>NaN</td>\n",
       "      <td>...</td>\n",
       "      <td>1.0</td>\n",
       "      <td>1.0</td>\n",
       "      <td>12/6/2018</td>\n",
       "      <td>12/20/2018</td>\n",
       "      <td>12/21/2018</td>\n",
       "      <td>12/20/2018</td>\n",
       "      <td>12/21/2018</td>\n",
       "      <td>NaN</td>\n",
       "      <td>NaN</td>\n",
       "      <td>12/20/2018</td>\n",
       "    </tr>\n",
       "    <tr>\n",
       "      <th>1</th>\n",
       "      <td>20</td>\n",
       "      <td>QN</td>\n",
       "      <td>4671.0</td>\n",
       "      <td>39.0</td>\n",
       "      <td>407.0</td>\n",
       "      <td>1039.00</td>\n",
       "      <td>2011.0</td>\n",
       "      <td>25.0</td>\n",
       "      <td>19.0</td>\n",
       "      <td>11357.0</td>\n",
       "      <td>...</td>\n",
       "      <td>NaN</td>\n",
       "      <td>NaN</td>\n",
       "      <td>12/6/2018</td>\n",
       "      <td>12/20/2018</td>\n",
       "      <td>12/21/2018</td>\n",
       "      <td>12/20/2018</td>\n",
       "      <td>12/21/2018</td>\n",
       "      <td>NaN</td>\n",
       "      <td>NaN</td>\n",
       "      <td>12/20/2018</td>\n",
       "    </tr>\n",
       "    <tr>\n",
       "      <th>2</th>\n",
       "      <td>40</td>\n",
       "      <td>BK</td>\n",
       "      <td>3925.0</td>\n",
       "      <td>32.0</td>\n",
       "      <td>305.0</td>\n",
       "      <td>1172.02</td>\n",
       "      <td>2004.0</td>\n",
       "      <td>19.0</td>\n",
       "      <td>37.0</td>\n",
       "      <td>11208.0</td>\n",
       "      <td>...</td>\n",
       "      <td>NaN</td>\n",
       "      <td>NaN</td>\n",
       "      <td>12/6/2018</td>\n",
       "      <td>12/20/2018</td>\n",
       "      <td>12/21/2018</td>\n",
       "      <td>12/20/2018</td>\n",
       "      <td>12/21/2018</td>\n",
       "      <td>NaN</td>\n",
       "      <td>NaN</td>\n",
       "      <td>12/20/2018</td>\n",
       "    </tr>\n",
       "    <tr>\n",
       "      <th>3</th>\n",
       "      <td>60</td>\n",
       "      <td>MN</td>\n",
       "      <td>1836.0</td>\n",
       "      <td>19.0</td>\n",
       "      <td>107.0</td>\n",
       "      <td>189.00</td>\n",
       "      <td>2002.0</td>\n",
       "      <td>3.0</td>\n",
       "      <td>7.0</td>\n",
       "      <td>10025.0</td>\n",
       "      <td>...</td>\n",
       "      <td>NaN</td>\n",
       "      <td>NaN</td>\n",
       "      <td>12/6/2018</td>\n",
       "      <td>12/20/2018</td>\n",
       "      <td>12/21/2018</td>\n",
       "      <td>12/20/2018</td>\n",
       "      <td>12/21/2018</td>\n",
       "      <td>NaN</td>\n",
       "      <td>NaN</td>\n",
       "      <td>12/20/2018</td>\n",
       "    </tr>\n",
       "    <tr>\n",
       "      <th>4</th>\n",
       "      <td>80</td>\n",
       "      <td>QN</td>\n",
       "      <td>8898.0</td>\n",
       "      <td>16.0</td>\n",
       "      <td>409.0</td>\n",
       "      <td>4.00</td>\n",
       "      <td>2001.0</td>\n",
       "      <td>27.0</td>\n",
       "      <td>30.0</td>\n",
       "      <td>11421.0</td>\n",
       "      <td>...</td>\n",
       "      <td>NaN</td>\n",
       "      <td>NaN</td>\n",
       "      <td>12/6/2018</td>\n",
       "      <td>12/20/2018</td>\n",
       "      <td>12/21/2018</td>\n",
       "      <td>12/20/2018</td>\n",
       "      <td>12/21/2018</td>\n",
       "      <td>NaN</td>\n",
       "      <td>NaN</td>\n",
       "      <td>12/20/2018</td>\n",
       "    </tr>\n",
       "  </tbody>\n",
       "</table>\n",
       "<p>5 rows × 97 columns</p>\n",
       "</div>"
      ],
      "text/plain": [
       "   Unnamed: 0 borough   block    lot     cd   ct2010  cb2010  schooldist  \\\n",
       "0           0      BX  5641.0  670.0  210.0   516.00     2.0         NaN   \n",
       "1          20      QN  4671.0   39.0  407.0  1039.00  2011.0        25.0   \n",
       "2          40      BK  3925.0   32.0  305.0  1172.02  2004.0        19.0   \n",
       "3          60      MN  1836.0   19.0  107.0   189.00  2002.0         3.0   \n",
       "4          80      QN  8898.0   16.0  409.0     4.00  2001.0        27.0   \n",
       "\n",
       "   council  zipcode  ... firm07_flag  pfirm15_flag   rpaddate    dcasdate  \\\n",
       "0     13.0      NaN  ...         1.0           1.0  12/6/2018  12/20/2018   \n",
       "1     19.0  11357.0  ...         NaN           NaN  12/6/2018  12/20/2018   \n",
       "2     37.0  11208.0  ...         NaN           NaN  12/6/2018  12/20/2018   \n",
       "3      7.0  10025.0  ...         NaN           NaN  12/6/2018  12/20/2018   \n",
       "4     30.0  11421.0  ...         NaN           NaN  12/6/2018  12/20/2018   \n",
       "\n",
       "   zoningdate  landmkdate  basempdate masdate polidate  edesigdate  \n",
       "0  12/21/2018  12/20/2018  12/21/2018     NaN      NaN  12/20/2018  \n",
       "1  12/21/2018  12/20/2018  12/21/2018     NaN      NaN  12/20/2018  \n",
       "2  12/21/2018  12/20/2018  12/21/2018     NaN      NaN  12/20/2018  \n",
       "3  12/21/2018  12/20/2018  12/21/2018     NaN      NaN  12/20/2018  \n",
       "4  12/21/2018  12/20/2018  12/21/2018     NaN      NaN  12/20/2018  \n",
       "\n",
       "[5 rows x 97 columns]"
      ]
     },
     "execution_count": 120,
     "metadata": {},
     "output_type": "execute_result"
    }
   ],
   "source": [
    "# Inspect the dataframe (it may be messy)\n",
    "\n",
    "df.head()"
   ]
  },
  {
   "cell_type": "markdown",
   "metadata": {},
   "source": [
    "#### Clean dataset\n",
    "Also known as 'data munging'"
   ]
  },
  {
   "cell_type": "code",
   "execution_count": 121,
   "metadata": {
    "collapsed": true
   },
   "outputs": [],
   "source": [
    "# List the columns and select some\n",
    "\n",
    "df.columns\n",
    "\n",
    "my_cols = ['borough','numfloors','yearbuilt', 'landuse', 'zipcode', 'unitstotal', 'assesstot']\n",
    "df = df[my_cols]"
   ]
  },
  {
   "cell_type": "code",
   "execution_count": 122,
   "metadata": {
    "collapsed": true
   },
   "outputs": [],
   "source": [
    "# Rename columns\n",
    "\n",
    "df.columns\n",
    "\n",
    "df.rename(columns = {'zipcode': 'zip', 'yearbuilt': 'year_built', 'unitstotal': 'housing_units', 'assesstotal': 'assessed_value_USD'},\n",
    "         inplace = True)"
   ]
  },
  {
   "cell_type": "code",
   "execution_count": 123,
   "metadata": {},
   "outputs": [
    {
     "data": {
      "text/plain": [
       "<matplotlib.axes._subplots.AxesSubplot at 0x1260f48d0>"
      ]
     },
     "execution_count": 123,
     "metadata": {},
     "output_type": "execute_result"
    },
    {
     "data": {
      "image/png": "[encoded data removed]",
      "text/plain": [
       "<Figure size 432x288 with 1 Axes>"
      ]
     },
     "metadata": {
      "needs_background": "light"
     },
     "output_type": "display_data"
    }
   ],
   "source": [
    "# Check distribution of year_built. Any problem?\n",
    "\n",
    "df.year_built.hist()"
   ]
  },
  {
   "cell_type": "code",
   "execution_count": 124,
   "metadata": {},
   "outputs": [
    {
     "name": "stderr",
     "output_type": "stream",
     "text": [
      "/Users/nicholasjones/anaconda3/lib/python3.7/site-packages/ipykernel_launcher.py:4: SettingWithCopyWarning: \n",
      "A value is trying to be set on a copy of a slice from a DataFrame\n",
      "\n",
      "See the caveats in the documentation: http://pandas.pydata.org/pandas-docs/stable/indexing.html#indexing-view-versus-copy\n",
      "  after removing the cwd from sys.path.\n"
     ]
    },
    {
     "data": {
      "text/plain": [
       "<matplotlib.axes._subplots.AxesSubplot at 0x1260eb940>"
      ]
     },
     "execution_count": 124,
     "metadata": {},
     "output_type": "execute_result"
    },
    {
     "data": {
      "image/png": "[encoded data removed]",
      "text/plain": [
       "<Figure size 432x288 with 1 Axes>"
      ]
     },
     "metadata": {
      "needs_background": "light"
     },
     "output_type": "display_data"
    }
   ],
   "source": [
    "# Presumably few NYC buildings were constructed during the early days of the Roman Empire.\n",
    "# Set year_built to np.nan for such values.\n",
    "\n",
    "df.year_built[df.year_built < 1000] = np.nan\n",
    "\n",
    "df.year_built.hist()"
   ]
  },
  {
   "cell_type": "code",
   "execution_count": 125,
   "metadata": {},
   "outputs": [
    {
     "data": {
      "text/plain": [
       "borough             0\n",
       "numfloors          30\n",
       "year_built       2244\n",
       "landuse           134\n",
       "zip              1050\n",
       "housing_units      20\n",
       "assesstot          20\n",
       "dtype: int64"
      ]
     },
     "execution_count": 125,
     "metadata": {},
     "output_type": "execute_result"
    }
   ],
   "source": [
    "# How many missing values do the columns have?\n",
    "# We could drop rows with missing values, or impute them based on mean, median or another strategy.\n",
    "\n",
    "df.isnull().sum()"
   ]
  },
  {
   "cell_type": "code",
   "execution_count": 126,
   "metadata": {},
   "outputs": [
    {
     "name": "stdout",
     "output_type": "stream",
     "text": [
      "original shape:  (42950, 7)\n",
      "new shape:  (40644, 7)\n"
     ]
    }
   ],
   "source": [
    "print('original shape: ', df.shape)\n",
    "df.dropna(inplace=True)\n",
    "print('new shape: ', df.shape)"
   ]
  },
  {
   "cell_type": "markdown",
   "metadata": {},
   "source": [
    "#### Compute summary statistics"
   ]
  },
  {
   "cell_type": "code",
   "execution_count": 127,
   "metadata": {},
   "outputs": [
    {
     "name": "stdout",
     "output_type": "stream",
     "text": [
      "Max floors:  58.0\n",
      "Mean assessed value: 441861\n"
     ]
    }
   ],
   "source": [
    "# Use methods like max, min and mean() on a column\n",
    "\n",
    "print(\"Max floors: \", df.numfloors.max())\n",
    "print(\"Mean assessed value: {:.0f}\".format(df.assesstot.mean()))"
   ]
  },
  {
   "cell_type": "code",
   "execution_count": 128,
   "metadata": {},
   "outputs": [
    {
     "data": {
      "image/png": "[encoded data removed]",
      "text/plain": [
       "<Figure size 432x288 with 1 Axes>"
      ]
     },
     "metadata": {
      "needs_background": "light"
     },
     "output_type": "display_data"
    }
   ],
   "source": [
    "# Use plotting to explore relationships in the data\n",
    "\n",
    "df.plot(x = 'year_built', y = 'numfloors', kind = 'scatter', title = 'NYC buildings: Year built versus number of floors');"
   ]
  },
  {
   "cell_type": "code",
   "execution_count": null,
   "metadata": {},
   "outputs": [],
   "source": []
  }
 ],
 "metadata": {
  "kernelspec": {
   "display_name": "Python 3",
   "language": "python",
   "name": "python3"
  },
  "language_info": {
   "codemirror_mode": {
    "name": "ipython",
    "version": 3
   },
   "file_extension": ".py",
   "mimetype": "text/x-python",
   "name": "python",
   "nbconvert_exporter": "python",
   "pygments_lexer": "ipython3",
   "version": "3.7.3"
  }
 },
 "nbformat": 4,
 "nbformat_minor": 2
}
