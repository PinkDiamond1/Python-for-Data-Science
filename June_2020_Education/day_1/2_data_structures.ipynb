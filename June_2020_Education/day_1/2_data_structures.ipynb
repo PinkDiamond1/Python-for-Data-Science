{
 "cells": [
  {
   "cell_type": "markdown",
   "metadata": {},
   "source": [
    "### Session 2: Data structures and control flow - towards big data\n",
    "This session goes into more depth on strings, numerical data and compound data types like lists. Building your agility with these structures is crucial for what follows! We'll begin to handle data at scale through loops and list comprehensions. "
   ]
  },
  {
   "cell_type": "markdown",
   "metadata": {},
   "source": [
    "### 1: Strings and escape characters\n",
    "Strings can be defined several ways, such as with single quotes or double quotes. Why? Strings themselves may include quotes. The resulting ambiguity can break your code. All programming languages have tricks to get around this issue:"
   ]
  },
  {
   "cell_type": "code",
   "execution_count": null,
   "metadata": {},
   "outputs": [],
   "source": [
    "# One string, two ways\n",
    "\n",
    "print('Yes, they said.')\n",
    "print(\"Yes, they said.\")"
   ]
  },
  {
   "cell_type": "code",
   "execution_count": null,
   "metadata": {},
   "outputs": [],
   "source": [
    "# An easy way to trip up\n",
    "\n",
    "print(''Yes', they said.')"
   ]
  },
  {
   "cell_type": "code",
   "execution_count": null,
   "metadata": {},
   "outputs": [],
   "source": [
    "# If your string contains one type of quote, define it with the other type\n",
    "\n",
    "print(\"'Yes', they said\")"
   ]
  },
  {
   "cell_type": "code",
   "execution_count": null,
   "metadata": {},
   "outputs": [],
   "source": [
    "# backlash is an 'escape character'. It negates any special properties of the character that follows:\n",
    "\n",
    "print('\\'Yes\\', they said')"
   ]
  },
  {
   "cell_type": "code",
   "execution_count": null,
   "metadata": {},
   "outputs": [],
   "source": [
    "# ... if followed by n, it creates a new line\n",
    "print(\"They said:\\nYes\")"
   ]
  },
  {
   "cell_type": "code",
   "execution_count": null,
   "metadata": {},
   "outputs": [],
   "source": [
    "# ... or a tab if followed by t\n",
    "print(\"They said:\\tYes\")"
   ]
  },
  {
   "cell_type": "code",
   "execution_count": null,
   "metadata": {},
   "outputs": [],
   "source": [
    "# careful with unintended escape characters in filenames!\n",
    "\n",
    "string_will_fail = 'C:\\Users\\charl\\Documents\\CE\\RAM\\OneDrive_1_3-6-2019\\QXN\\RN'"
   ]
  },
  {
   "cell_type": "code",
   "execution_count": null,
   "metadata": {},
   "outputs": [],
   "source": [
    "# adding r denotes 'raw string'\n",
    "\n",
    "string_will_work = r'C:\\Users\\charl\\Documents\\CE\\RAM\\OneDrive_1_3-6-2019\\QXN\\RN'"
   ]
  },
  {
   "cell_type": "markdown",
   "metadata": {},
   "source": [
    "### 2. Control the `print` statement\n",
    "`print()` is a built-in function that echos objects to the console. When printing strings, use the .format() method. Putting this at the end of a string let's you:\n",
    "* substitute variables into the string;\n",
    "* control how they're formatted (eg. decimal places)."
   ]
  },
  {
   "cell_type": "code",
   "execution_count": 7,
   "metadata": {},
   "outputs": [
    {
     "name": "stdout",
     "output_type": "stream",
     "text": [
      "A string: that was easy\n"
     ]
    }
   ],
   "source": [
    "print(\"A string: that was easy\")"
   ]
  },
  {
   "cell_type": "code",
   "execution_count": 8,
   "metadata": {},
   "outputs": [
    {
     "name": "stdout",
     "output_type": "stream",
     "text": [
      "42 that was also easy\n"
     ]
    }
   ],
   "source": [
    "print(42, \"that was also easy\")"
   ]
  },
  {
   "cell_type": "code",
   "execution_count": 10,
   "metadata": {},
   "outputs": [
    {
     "name": "stdout",
     "output_type": "stream",
     "text": [
      "54.794520547945204 that's not ideal\n"
     ]
    }
   ],
   "source": [
    "print(20000/365, \"that's not ideal\")"
   ]
  },
  {
   "cell_type": "code",
   "execution_count": 11,
   "metadata": {},
   "outputs": [
    {
     "name": "stdout",
     "output_type": "stream",
     "text": [
      "Here's a number: 42. It's less than 50\n"
     ]
    }
   ],
   "source": [
    "# include variables inside strings with {}, then (after the string), .format()\n",
    "x = 42\n",
    "\n",
    "print(\"Here's a number: {}. It's less than 50\".format(x))"
   ]
  },
  {
   "cell_type": "code",
   "execution_count": 15,
   "metadata": {},
   "outputs": [
    {
     "name": "stdout",
     "output_type": "stream",
     "text": [
      "Is 42 really less than 50? Answer: True.\n"
     ]
    }
   ],
   "source": [
    "# you can include multiple substitutions, and they don't have to be variables (operations are fine)\n",
    "\n",
    "print(\"Is {} really less than 50? Answer: {}.\".format(x, x<50))"
   ]
  },
  {
   "cell_type": "markdown",
   "metadata": {},
   "source": [
    "Note: `.format()` actually has a mini-language associated with it, check the documentation [here](https://pyformat.info/)."
   ]
  },
  {
   "cell_type": "code",
   "execution_count": 17,
   "metadata": {},
   "outputs": [
    {
     "name": "stdout",
     "output_type": "stream",
     "text": [
      "Daily salary is approximately 54.79 (two decimal places)\n"
     ]
    }
   ],
   "source": [
    "# just memorize this one for now:\n",
    "\n",
    "print(\"Daily salary is approximately {:.2f} (two decimal places)\".format(20000/365))"
   ]
  },
  {
   "cell_type": "markdown",
   "metadata": {},
   "source": [
    "### 3. Indexing and slicing\n",
    "Several data types are defined as 'sequences.' They share a common approach to selecting their elements using square bracket notation. This powerful notation works across strings, lists, arrays and DataFrames:"
   ]
  },
  {
   "cell_type": "code",
   "execution_count": null,
   "metadata": {},
   "outputs": [],
   "source": [
    "# to get one character from a string, put the index number in square brackets directly after the variable name\n",
    "language = 'Python'\n",
    "language[0] "
   ]
  },
  {
   "cell_type": "code",
   "execution_count": null,
   "metadata": {},
   "outputs": [],
   "source": [
    "# index values can be negative.\n",
    "language[-1]"
   ]
  },
  {
   "cell_type": "markdown",
   "metadata": {},
   "source": [
    "Index values point between characters. The left edge of the first character is 0. Python has six characters, so the right edge of the last character is index 6."
   ]
  },
  {
   "cell_type": "code",
   "execution_count": null,
   "metadata": {},
   "outputs": [],
   "source": [
    "#       +---+---+---+---+---+---+\n",
    "#       | P | y | t | h | o | n |\n",
    "#       +---+---+---+---+---+---+\n",
    "#       0   1   2   3   4   5   6\n",
    "#      -6  -5  -4  -3  -2  -1\n",
    "\n",
    "# credit: www.python.org/3/tutorial"
   ]
  },
  {
   "cell_type": "markdown",
   "metadata": {},
   "source": [
    "You can 'slice' strings and other sequences, using the start and end index"
   ]
  },
  {
   "cell_type": "code",
   "execution_count": null,
   "metadata": {},
   "outputs": [],
   "source": [
    "# slices give you all elements from the start index, up to (but not including) the end index\n",
    "\n",
    "language[0:4]"
   ]
  },
  {
   "cell_type": "markdown",
   "metadata": {},
   "source": [
    "What happens if you leave out the start or end index while slicing? Python will use default values instead. Take a sequence of length `n`. For start position, it will default to 0. For end position, it will default to `n`."
   ]
  },
  {
   "cell_type": "code",
   "execution_count": null,
   "metadata": {},
   "outputs": [],
   "source": [
    "# everything up to fourth index\n",
    "language[:4]"
   ]
  },
  {
   "cell_type": "code",
   "execution_count": null,
   "metadata": {},
   "outputs": [],
   "source": [
    "# fourth position onwards\n",
    "language[4:]"
   ]
  },
  {
   "cell_type": "code",
   "execution_count": null,
   "metadata": {},
   "outputs": [],
   "source": [
    "# fourth from last, up to end of string\n",
    "language[-4:]"
   ]
  },
  {
   "cell_type": "markdown",
   "metadata": {},
   "source": [
    "Sneak preview: You can use the same index notation with higher dimensional datastructures, eg. a 3D array (eg. a stack of rasters: latitude, longitude, time, temperature)."
   ]
  },
  {
   "cell_type": "markdown",
   "metadata": {},
   "source": [
    "### 3. An aside: extracting data from messy strings"
   ]
  },
  {
   "cell_type": "code",
   "execution_count": null,
   "metadata": {},
   "outputs": [],
   "source": [
    "# say you get a large column of ZIP codes, but in a messy format like this\n",
    "zip_code1 = \"Fred: ZIP 20022-0049\"\n",
    "zip_code2 = \"Margaret: ZIP 20009-0132\""
   ]
  },
  {
   "cell_type": "code",
   "execution_count": null,
   "metadata": {},
   "outputs": [],
   "source": [
    "# we're interested in this part:\n",
    "zip_code1[10:15]"
   ]
  },
  {
   "cell_type": "code",
   "execution_count": null,
   "metadata": {
    "scrolled": true
   },
   "outputs": [],
   "source": [
    "# how could we systematicaly pull out the key 5 digits, to create a clean list of zips?"
   ]
  },
  {
   "cell_type": "markdown",
   "metadata": {},
   "source": [
    "To crack a problem like this, you could:\n",
    "* Use tab completion to list available string methods\n",
    "* Ask StackOverflow\n",
    "* Check the [documentation](https://docs.python.org/2/library/stdtypes.html#string-methods)"
   ]
  },
  {
   "cell_type": "code",
   "execution_count": null,
   "metadata": {},
   "outputs": [],
   "source": [
    "# Get help on the .split() method\n",
    "\n",
    "zip_code1.split?"
   ]
  },
  {
   "cell_type": "code",
   "execution_count": null,
   "metadata": {},
   "outputs": [],
   "source": [
    "# a quick solution: split each string twice (using a different separator):\n",
    "\n",
    "answer = zip_code1.split()[2].split('-')[0]"
   ]
  },
  {
   "cell_type": "code",
   "execution_count": null,
   "metadata": {},
   "outputs": [],
   "source": [
    "# then make it an integer:\n",
    "\n",
    "int(answer)"
   ]
  },
  {
   "cell_type": "markdown",
   "metadata": {},
   "source": [
    "Operating on data at scale requires more firepower: eg. list comprehensions and functions."
   ]
  },
  {
   "cell_type": "markdown",
   "metadata": {},
   "source": [
    "### 4: Test conditions with Boolean logic\n",
    "To build up operations on larger datasets, more control flow tricks are helpful: including Boolean logic.\n",
    "\n",
    "The statement `a == b` asks Python to evaluate whether variable a equals variable b; the interpreter will return True or False.\n",
    "\n",
    "Similar statements would be `a > b`, `a >= b`, or `a != b`. "
   ]
  },
  {
   "cell_type": "code",
   "execution_count": null,
   "metadata": {},
   "outputs": [],
   "source": [
    "a = 6\n",
    "b = 4\n",
    "\n",
    "print(\"Dear Python, please evaluate the statement 'a > b' for me.\")\n",
    "\n",
    "print(\"YOUR ANSWER: [drum roll ...]\", a > b)"
   ]
  },
  {
   "cell_type": "markdown",
   "metadata": {},
   "source": [
    "The `and`, `or` and `not` operators check whether combinations of statements are true at the same time."
   ]
  },
  {
   "cell_type": "code",
   "execution_count": null,
   "metadata": {},
   "outputs": [],
   "source": [
    "month = 'July'\n",
    "hour = 14"
   ]
  },
  {
   "cell_type": "code",
   "execution_count": null,
   "metadata": {},
   "outputs": [],
   "source": [
    "(month == 'July') and (hour < 12)         # is it a morning in July?"
   ]
  },
  {
   "cell_type": "code",
   "execution_count": null,
   "metadata": {},
   "outputs": [],
   "source": [
    "(month == 'July') or (hour < 12)          # is it either a morning, or in July?"
   ]
  },
  {
   "cell_type": "code",
   "execution_count": null,
   "metadata": {},
   "outputs": [],
   "source": [
    "not(hour < 12) and (month == 'July')     # is it not a morning, and in July?"
   ]
  },
  {
   "cell_type": "markdown",
   "metadata": {},
   "source": [
    "You can apply Boolean logic to lists. This is the idea of Boolean masking (we'll return to this later - useful to filter datasets based on conditions, or when handling raster data)."
   ]
  },
  {
   "cell_type": "code",
   "execution_count": null,
   "metadata": {},
   "outputs": [],
   "source": [
    "some_values = [3, 5, 6, 8, 9, 11, 14, 16]       # Let's get only even numbers"
   ]
  },
  {
   "cell_type": "code",
   "execution_count": null,
   "metadata": {},
   "outputs": [],
   "source": [
    "mask = []\n",
    "\n",
    "for value in some_values:\n",
    "    mask.append(value % 2 == 0)                 # is the number divisible by two?"
   ]
  },
  {
   "cell_type": "code",
   "execution_count": null,
   "metadata": {},
   "outputs": [],
   "source": [
    "mask"
   ]
  },
  {
   "cell_type": "code",
   "execution_count": null,
   "metadata": {},
   "outputs": [],
   "source": [
    "for i in range(len(some_values)):\n",
    "    if mask[i]:\n",
    "        print(some_values[i])"
   ]
  },
  {
   "cell_type": "markdown",
   "metadata": {},
   "source": [
    "### 5. Building programs with `if`, `elif` and `else`\n",
    "\n",
    "We already met `if` constructions. Get the indentation right, and build more sophisticated rules that test multiple conditions."
   ]
  },
  {
   "cell_type": "code",
   "execution_count": null,
   "metadata": {},
   "outputs": [],
   "source": [
    "# an if statement executes the indented code only if some condition is true\n",
    "\n",
    "my_value = 11\n",
    "\n",
    "if my_value > 10:\n",
    "    print(\"Number is greater than 10\")"
   ]
  },
  {
   "cell_type": "code",
   "execution_count": null,
   "metadata": {},
   "outputs": [],
   "source": [
    "# use Boolean operators to test multiple conditions\n",
    "\n",
    "if (my_value > 10) and (my_value < 15):\n",
    "    print(\"Number is between 10 and 15\")"
   ]
  },
  {
   "cell_type": "code",
   "execution_count": null,
   "metadata": {},
   "outputs": [],
   "source": [
    "# if the first if statement evaluates to false, elif executes a code block if its condition is true\n",
    "# else executes a code block if no preceding if or elif evaluated to true\n",
    "\n",
    "if (my_value > 0) and (my_value < 10):\n",
    "    print(\"Number is positive and less than 10\")\n",
    "    \n",
    "elif my_value > 10:\n",
    "    print(\"Number is greater than 10\")\n",
    "        \n",
    "else:\n",
    "    print(\"Must be negative or not a number.\")"
   ]
  },
  {
   "cell_type": "markdown",
   "metadata": {},
   "source": [
    "### 6. Error handling"
   ]
  },
  {
   "cell_type": "code",
   "execution_count": null,
   "metadata": {},
   "outputs": [],
   "source": [
    "# What happens if we run the cell above with 'penguin' instead of a number?\n"
   ]
  },
  {
   "cell_type": "code",
   "execution_count": null,
   "metadata": {},
   "outputs": [],
   "source": [
    "# try-except is one method to catch and handle errors\n",
    "\n",
    "my_list = [5,6,'Sally',10]\n",
    "\n",
    "for obj in my_list:\n",
    "    try:\n",
    "        print('{}'.format(obj + 1))\n",
    "    except:\n",
    "        print(\"I am not a number, I am a free woman!\")"
   ]
  },
  {
   "cell_type": "markdown",
   "metadata": {},
   "source": [
    "### 7. Iterables and range()"
   ]
  },
  {
   "cell_type": "code",
   "execution_count": null,
   "metadata": {},
   "outputs": [],
   "source": [
    "# strings and lists are examples of iterables: they can return their members one-by-one.\n",
    "\n",
    "for meal in ['Breakfast', 'Snack', 'Dinner']:\n",
    "    print(\"{} has {} letters\".format(meal, len(meal)))"
   ]
  },
  {
   "cell_type": "code",
   "execution_count": null,
   "metadata": {},
   "outputs": [],
   "source": [
    "# range() is another way to generate iterables; it returns an arithmetic series\n",
    "\n",
    "print(\"NUMBERS AND THEIR CUBES\")\n",
    "for i in range(5):\n",
    "    print(i, i**3)"
   ]
  },
  {
   "cell_type": "code",
   "execution_count": null,
   "metadata": {},
   "outputs": [],
   "source": [
    "# as usual, you get all numbers from start point (included) to end point (not included)\n",
    "\n",
    "print(\"NUMBERS AND THEIR CUBES\")\n",
    "for i in range(-5, 5):\n",
    "    print(i, i**3)"
   ]
  },
  {
   "cell_type": "code",
   "execution_count": null,
   "metadata": {
    "scrolled": true
   },
   "outputs": [],
   "source": [
    "# using range(n+1) often makes sense\n",
    "\n",
    "print('Give me numbers up to n, where n = 3')\n",
    "\n",
    "n = 3\n",
    "for i in range(n+1):\n",
    "    print(i)"
   ]
  },
  {
   "cell_type": "code",
   "execution_count": null,
   "metadata": {},
   "outputs": [],
   "source": [
    "# what happens when you print a range() item?\n",
    "range(5)"
   ]
  },
  {
   "cell_type": "code",
   "execution_count": null,
   "metadata": {},
   "outputs": [],
   "source": [
    "# the list() function turns any iterable into a list.   (not ideal if you're counting to 1 million!)\n",
    "list(range(5))"
   ]
  },
  {
   "cell_type": "code",
   "execution_count": null,
   "metadata": {},
   "outputs": [],
   "source": [
    "# enumerate() lets you loop through an iterable,  keeping track of where you are\n",
    "\n",
    "meals = ['Breakfast', 'Post-Breakfast Snack','Elevenses', 'Lunch','Tea','Dinner','Bedtime snack']\n",
    "\n",
    "for n, meal in enumerate(meals):\n",
    "    print(\"Meal {} today: {}\".format(n + 1, meal))"
   ]
  },
  {
   "cell_type": "markdown",
   "metadata": {},
   "source": [
    "### 8. Classes and methods (applied to lists)"
   ]
  },
  {
   "cell_type": "markdown",
   "metadata": {},
   "source": [
    "__Sneak preview of classes:__ Python (as an object oriented language) lets you define __classes__ of objects. A class of objects has in-built functions that can be summoned up quickly (these are called __methods__).\n",
    "    \n",
    "Example:\n",
    "* I define a class `road_network`.\n",
    "* Each time I type `my_network = road_network(parameter1, parameter 2...)`, I create a new instance of the class.\n",
    "* Helpful functionality might be (i) calculate total length of roads; (ii) calculate shortest path between two points.\n",
    "* I write a method `find_shortest_path(start_point, end_point`. This could be accessed from any instance of class `road_network` in future.\n",
    "* Like this: `my_network.find_shortest_path(my_start_point, my_end_point)`"
   ]
  },
  {
   "cell_type": "markdown",
   "metadata": {},
   "source": [
    "__List methods.__ Lists (and other data types) are implemented as classes. So check out the helpful methods that are at your disposal."
   ]
  },
  {
   "cell_type": "code",
   "execution_count": null,
   "metadata": {},
   "outputs": [],
   "source": [
    "cubes = [1, 8, 27]\n",
    "cubes"
   ]
  },
  {
   "cell_type": "code",
   "execution_count": null,
   "metadata": {},
   "outputs": [],
   "source": [
    "cubes.insert(0,0)    # insert element at given index"
   ]
  },
  {
   "cell_type": "code",
   "execution_count": null,
   "metadata": {},
   "outputs": [],
   "source": [
    "cubes.append(65)     # add element to end of list"
   ]
  },
  {
   "cell_type": "code",
   "execution_count": null,
   "metadata": {},
   "outputs": [],
   "source": [
    "cubes.remove(65)    # remove element if it exists"
   ]
  },
  {
   "cell_type": "code",
   "execution_count": null,
   "metadata": {},
   "outputs": [],
   "source": [
    "cubes.extend([64,125,216])   # add all the elements of an iterable "
   ]
  },
  {
   "cell_type": "code",
   "execution_count": null,
   "metadata": {},
   "outputs": [],
   "source": [
    "cubes"
   ]
  },
  {
   "cell_type": "code",
   "execution_count": null,
   "metadata": {},
   "outputs": [],
   "source": [
    "cubes.pop()         # return the last element (and remove it)"
   ]
  },
  {
   "cell_type": "code",
   "execution_count": null,
   "metadata": {},
   "outputs": [],
   "source": [
    "cubes.count(64)    # count how many times an element appears"
   ]
  },
  {
   "cell_type": "code",
   "execution_count": null,
   "metadata": {},
   "outputs": [],
   "source": [
    "print(cubes)\n",
    "cubes.clear()       # delete all elements\n",
    "print(cubes)"
   ]
  },
  {
   "cell_type": "markdown",
   "metadata": {},
   "source": [
    "Remember tab complete or question mark to list available methods of a object. Other object types that we'll use extensively: NumPy arrays, Pandas Series, Pandas DataFrames. Each has its own (pretty amazing) set of methods."
   ]
  },
  {
   "cell_type": "markdown",
   "metadata": {},
   "source": [
    "### 9. List comprehensions\n",
    "Return to our zip code example. We have seen many ways to operate on strings or numbers. But how to scale these operations across several hundred (or thousand) examples?\n",
    "\n",
    "List comprehensions are a concise way to build lists using rules. They apply an operation to a series of items, and package the result in a list."
   ]
  },
  {
   "cell_type": "code",
   "execution_count": null,
   "metadata": {},
   "outputs": [],
   "source": [
    "# first a squares example\n",
    "[x**2 for x in range(10)]"
   ]
  },
  {
   "cell_type": "markdown",
   "metadata": {},
   "source": [
    "Steps:\n",
    "* First write the expression to evaluate.\n",
    "* Then add a `for` statement\n",
    "* And the sequence to perform the operation on."
   ]
  },
  {
   "cell_type": "code",
   "execution_count": null,
   "metadata": {},
   "outputs": [],
   "source": [
    "# re-write the following as a list comprehension\n",
    "\n",
    "absolute_cubes = []\n",
    "for n in range(-100, 101):\n",
    "    absolute_cubes.append((n**3))"
   ]
  },
  {
   "cell_type": "code",
   "execution_count": null,
   "metadata": {},
   "outputs": [],
   "source": [
    "# code here:\n"
   ]
  },
  {
   "cell_type": "markdown",
   "metadata": {},
   "source": [
    "__Data wrangling example__"
   ]
  },
  {
   "cell_type": "code",
   "execution_count": null,
   "metadata": {},
   "outputs": [],
   "source": [
    "# here's our messy input data\n",
    "input_data = [\"Alex: ZIP 20022-0049\", \"Margaret: ZIP 20009-0132\", \"Hermione: ZIP 10009-3214\"]"
   ]
  },
  {
   "cell_type": "code",
   "execution_count": null,
   "metadata": {},
   "outputs": [],
   "source": [
    "# as a for loop\n",
    "\n",
    "clean_list = []\n",
    "for i in input_data:\n",
    "    clean_list.append(i.split()[2].split('-')[0])"
   ]
  },
  {
   "cell_type": "code",
   "execution_count": null,
   "metadata": {},
   "outputs": [],
   "source": [
    "[x.split()[2].split('-')[0] for x in input_data]"
   ]
  }
 ],
 "metadata": {
  "kernelspec": {
   "display_name": "APIs_geospatial",
   "language": "python",
   "name": "apis_geospatial"
  },
  "language_info": {
   "codemirror_mode": {
    "name": "ipython",
    "version": 3
   },
   "file_extension": ".py",
   "mimetype": "text/x-python",
   "name": "python",
   "nbconvert_exporter": "python",
   "pygments_lexer": "ipython3",
   "version": "3.7.3"
  }
 },
 "nbformat": 4,
 "nbformat_minor": 2
}
