{
 "cells": [
  {
   "cell_type": "code",
   "execution_count": null,
   "metadata": {},
   "outputs": [],
   "source": [
    "! pip install geopandas\n",
    "! pip install pandana\n",
    "! pip install mplleaflet"
   ]
  },
  {
   "cell_type": "code",
   "execution_count": 82,
   "metadata": {},
   "outputs": [
    {
     "name": "stdout",
     "output_type": "stream",
     "text": [
      "Populating the interactive namespace from numpy and matplotlib\n"
     ]
    },
    {
     "name": "stderr",
     "output_type": "stream",
     "text": [
      "/Users/nicholasjones/anaconda3/envs/geospatial_Pandana/lib/python3.7/site-packages/IPython/core/magics/pylab.py:160: UserWarning: pylab import has clobbered these variables: ['plt']\n",
      "`%matplotlib` prevents importing * from pylab and numpy\n",
      "  \"\\n`%matplotlib` prevents importing * from pylab and numpy\"\n"
     ]
    }
   ],
   "source": [
    "import pandas as pd\n",
    "import numpy as np\n",
    "import geopandas as gpd\n",
    "import requests\n",
    "from shapely.geometry import Point\n",
    "import pylab as plt\n",
    "%pylab inline\n",
    "import mplleaflet as mpll\n",
    "#import osmnx as ox\n",
    "from IPython.display import Image\n",
    "from pandana.loaders import osm"
   ]
  },
  {
   "cell_type": "markdown",
   "metadata": {},
   "source": [
    "# Session 2 - Further geospatial, APIs"
   ]
  },
  {
   "cell_type": "markdown",
   "metadata": {},
   "source": [
    "### Part 1. Getting data from APIs"
   ]
  },
  {
   "cell_type": "markdown",
   "metadata": {},
   "source": [
    "#### What are APIs, why use them?"
   ]
  },
  {
   "cell_type": "markdown",
   "metadata": {},
   "source": [
    "Companies and organizations make certain data available through their Application Programming Interfaces (APIs). To use an API, you make a request to a remote web server via its HTTP address.\n",
    "\n",
    "You can retrieve data from APIs instead of downloading a static file to your hard drive and reading it in. This is helpful where:\n",
    "* you want the latest data in real time (eg. stock prices or weather)\n",
    "* you want a small, selected piece of data (eg. hospital locations in a bounding box)\n",
    "* the organization will run its own computations for you (eg. request satellite imagery with cloud cover removed, Planet API; analyze sentiment of a document, IBM Watson API)."
   ]
  },
  {
   "cell_type": "markdown",
   "metadata": {},
   "source": [
    "\n",
    "|Example API|Functionality|\n",
    "|---|---|\n",
    "|Overpass API|Get OpenStreetMap data|\n",
    "|Google Maps|Get point of interest locations, create distance features|\n",
    "|Yahoo Stock|Get stock prices|\n",
    "|Twitter, Youtube, Instagram|Get social media data|\n",
    "|World Bank Indicators API|Get data from WDI, Doing Business etc|\n",
    "|Socrata|City data portals|"
   ]
  },
  {
   "cell_type": "markdown",
   "metadata": {},
   "source": [
    "#### Four steps to using APIs\n",
    "\n",
    "1. Read the documentation\n",
    "\n",
    "  APIs are rules specifying what query you should send, and what format of data the server will return back. You query APIs using an HTTP request (ie. a web address). Read the docs to check (i) what the API can do; (ii) what the HTTP request should look like. \n",
    "  \n",
    "\n",
    "2. Find the API endpoint\n",
    "\n",
    "  Examples: http://api.twitter.com, http://api.github.com\n",
    "\n",
    "\n",
    "3. Try a sample query in your web brower or terminal: `curl https://api.github.com/users/nj935/repos`\n",
    "\n",
    "  Queries start with the API endpoint, then add commands using the API's specific format. Send a sample query to see what the output looks like. Normally it will be Javascript Object Notation (JSON).\n",
    "\n",
    "\n",
    "4. Extract the information you need from the JSON.\n",
    "\n",
    "  Remember JSON is a widely used data interchange format. It comprises nested dictionaries and lists.\n",
    "\n",
    "\n",
    "5. Write some code to send custom requests.\n",
    "\n",
    "  The `requests` library is a painless way to make HTML requests. Using the API's rules and some lines of code, you can quickly request the precise data you want. There are also API wrappers (small Python libraries that manage API requests for you, providing an easier syntax)."
   ]
  },
  {
   "cell_type": "markdown",
   "metadata": {},
   "source": [
    "### Worked example 1: How many humans in space?\n",
    "    \n",
    "A simple API, created by space travel enthusiasts, is [Open Notify](http://open-notify.org/). First find the endpoint."
   ]
  },
  {
   "cell_type": "code",
   "execution_count": 83,
   "metadata": {},
   "outputs": [],
   "source": [
    "endpoint_url = 'http://api.open-notify.org/astros.json'"
   ]
  },
  {
   "cell_type": "code",
   "execution_count": 84,
   "metadata": {},
   "outputs": [],
   "source": [
    "response = requests.get(endpoint_url)"
   ]
  },
  {
   "cell_type": "code",
   "execution_count": 117,
   "metadata": {},
   "outputs": [],
   "source": [
    "response.status_code"
   ]
  },
  {
   "cell_type": "code",
   "execution_count": 118,
   "metadata": {},
   "outputs": [],
   "source": [
    "data = response.json()\n",
    "data"
   ]
  },
  {
   "cell_type": "code",
   "execution_count": 87,
   "metadata": {},
   "outputs": [],
   "source": [
    "people_in_space = data['number']"
   ]
  },
  {
   "cell_type": "code",
   "execution_count": 88,
   "metadata": {},
   "outputs": [
    {
     "name": "stdout",
     "output_type": "stream",
     "text": [
      "there are currently 3 people in space\n"
     ]
    }
   ],
   "source": [
    "print(\"there are currently {} people in space\".format(people_in_space))"
   ]
  },
  {
   "cell_type": "markdown",
   "metadata": {},
   "source": [
    "### Worked example 2: Mexico open data"
   ]
  },
  {
   "cell_type": "markdown",
   "metadata": {},
   "source": [
    "**Objective:** Get data from a national Open Data Portal, convert lat / lon coordinates into a geometry object, plot maps.\n",
    "\n",
    "* Look at the Government of Mexico open data portal: https://datos.gob.mx/.\n",
    "* Inspect the Condiciones Atmosfericas link in your web browser or via `curl <url>`."
   ]
  },
  {
   "cell_type": "code",
   "execution_count": 89,
   "metadata": {},
   "outputs": [],
   "source": [
    "endpoint_url = 'https://api.datos.gob.mx/v1/condiciones-atmosfericas'"
   ]
  },
  {
   "cell_type": "code",
   "execution_count": 90,
   "metadata": {},
   "outputs": [],
   "source": [
    "response = requests.get(endpoint_url)"
   ]
  },
  {
   "cell_type": "code",
   "execution_count": 91,
   "metadata": {},
   "outputs": [],
   "source": [
    "data = response.json()"
   ]
  },
  {
   "cell_type": "code",
   "execution_count": 119,
   "metadata": {},
   "outputs": [],
   "source": [
    "data['results'][0]['latitude']"
   ]
  },
  {
   "cell_type": "code",
   "execution_count": 93,
   "metadata": {},
   "outputs": [],
   "source": [
    "df = pd.DataFrame(data['results'])"
   ]
  },
  {
   "cell_type": "code",
   "execution_count": 120,
   "metadata": {},
   "outputs": [],
   "source": [
    "df.shape"
   ]
  },
  {
   "cell_type": "code",
   "execution_count": 121,
   "metadata": {},
   "outputs": [],
   "source": [
    "df.dtypes"
   ]
  },
  {
   "cell_type": "code",
   "execution_count": 96,
   "metadata": {},
   "outputs": [],
   "source": [
    "df.longitude = df.longitude.astype(float)\n",
    "df.latitude = df.latitude.astype(float)\n",
    "df.tempc = df.tempc.astype(float)"
   ]
  },
  {
   "cell_type": "code",
   "execution_count": 122,
   "metadata": {},
   "outputs": [],
   "source": [
    "df.head(2)"
   ]
  },
  {
   "cell_type": "code",
   "execution_count": 123,
   "metadata": {},
   "outputs": [],
   "source": [
    "df.tempc.describe()"
   ]
  },
  {
   "cell_type": "code",
   "execution_count": 99,
   "metadata": {},
   "outputs": [],
   "source": [
    "gdf = gpd.GeoDataFrame(df)"
   ]
  },
  {
   "cell_type": "code",
   "execution_count": 124,
   "metadata": {},
   "outputs": [],
   "source": [
    "gdf.head(2)"
   ]
  },
  {
   "cell_type": "code",
   "execution_count": 101,
   "metadata": {},
   "outputs": [],
   "source": [
    "# Useful snippet to re-use:\n",
    "\n",
    "gdf['geometry'] = list(zip(df.longitude, df.latitude))\n",
    "gdf['geometry'] = [Point(geom) for geom in gdf.geometry]"
   ]
  },
  {
   "cell_type": "code",
   "execution_count": 125,
   "metadata": {},
   "outputs": [],
   "source": [
    "df.tempc.value_counts().sort_index(ascending = True).plot(kind = 'barh')\n",
    "plt.title('Latest temperatures in Mexico');"
   ]
  },
  {
   "cell_type": "code",
   "execution_count": 126,
   "metadata": {
    "scrolled": true
   },
   "outputs": [],
   "source": [
    "ax = gdf.plot(column = 'tempc', colormap = 'viridis')\n",
    "mpll.display(fig = ax.figure)"
   ]
  },
  {
   "cell_type": "code",
   "execution_count": 104,
   "metadata": {},
   "outputs": [
    {
     "data": {
      "image/png": "[encoded data removed]",
      "text/plain": [
       "<Figure size 576x36 with 1 Axes>"
      ]
     },
     "metadata": {
      "needs_background": "light"
     },
     "output_type": "display_data"
    }
   ],
   "source": [
    "f, ax1 = plt.subplots(figsize = [8,0.5])\n",
    "norm = mpl.colors.Normalize(df.tempc.min(), df.tempc.max())\n",
    "cb1 = mpl.colorbar.ColorbarBase(ax1, norm = norm, orientation='horizontal')\n",
    "cb1.set_label('Temperatures')"
   ]
  },
  {
   "cell_type": "markdown",
   "metadata": {},
   "source": [
    "Documentation:\n",
    "* the requests library ([click here](https://realpython.com/python-requests/))\n",
    "* Pandas: [value_counts](https://pandas.pydata.org/pandas-docs/stable/reference/api/pandas.Series.value_counts.html), [df.plot()](https://pandas.pydata.org/pandas-docs/stable/reference/api/pandas.DataFrame.plot.html)\n",
    "* [customizing colorbars](https://jakevdp.github.io/PythonDataScienceHandbook/04.07-customizing-colorbars.html)\n",
    "* [convert lat / lon columns to Geometry](https://medium.com/@shakasom/how-to-convert-latitude-longtitude-columns-in-csv-to-geometry-column-using-python-4219d2106dea)"
   ]
  },
  {
   "cell_type": "markdown",
   "metadata": {},
   "source": [
    "## Worked example 3: OSM locations\n",
    "**Objective:** Create an Area of Interest, download OpenStreetMap points of interest, intersect them with administrative boundaries"
   ]
  },
  {
   "cell_type": "markdown",
   "metadata": {},
   "source": [
    "**Step 1: create an Area of Interest using www.geojson.io**"
   ]
  },
  {
   "cell_type": "code",
   "execution_count": 105,
   "metadata": {},
   "outputs": [],
   "source": [
    "my_geojson = {\n",
    "  \"type\": \"FeatureCollection\",\n",
    "  \"features\": [\n",
    "    {\n",
    "      \"type\": \"Feature\",\n",
    "      \"properties\": {},\n",
    "      \"geometry\": {\n",
    "        \"type\": \"Polygon\",\n",
    "        \"coordinates\": [\n",
    "          [\n",
    "            [\n",
    "              -99.16671752929688,\n",
    "              19.690435317911682\n",
    "            ],\n",
    "            [\n",
    "              -99.43038940429686,\n",
    "              19.508020154916768\n",
    "            ],\n",
    "            [\n",
    "              -99.40155029296875,\n",
    "              19.27744323287618\n",
    "            ],\n",
    "            [\n",
    "              -99.25735473632812,\n",
    "              19.182786626300352\n",
    "            ],\n",
    "            [\n",
    "              -98.94012451171875,\n",
    "              19.156843799897302\n",
    "            ],\n",
    "            [\n",
    "              -98.81515502929688,\n",
    "              19.540378338405763\n",
    "            ],\n",
    "            [\n",
    "              -98.9208984375,\n",
    "              19.730512997022263\n",
    "            ],\n",
    "            [\n",
    "              -99.16671752929688,\n",
    "              19.690435317911682\n",
    "            ]\n",
    "          ]\n",
    "        ]\n",
    "      }\n",
    "    }\n",
    "  ]\n",
    "}"
   ]
  },
  {
   "cell_type": "markdown",
   "metadata": {},
   "source": [
    "YOUR ACTION:\n",
    "\n",
    "* Go to www.GeoJSON.io and draw a Polygon around an area that interests you. \n",
    "* Copy the text onto your clipboard. After the Mexico example, you can swap it into the cell above, and re-run."
   ]
  },
  {
   "cell_type": "code",
   "execution_count": 108,
   "metadata": {
    "scrolled": true
   },
   "outputs": [],
   "source": [
    "gdf = gpd.GeoDataFrame.from_features(my_geojson)"
   ]
  },
  {
   "cell_type": "code",
   "execution_count": 127,
   "metadata": {},
   "outputs": [],
   "source": [
    "ax = gdf.plot()\n",
    "mpll.display(fig = ax.figure)"
   ]
  },
  {
   "cell_type": "code",
   "execution_count": 110,
   "metadata": {},
   "outputs": [],
   "source": [
    "my_geom = gdf.geometry[0]"
   ]
  },
  {
   "cell_type": "code",
   "execution_count": 111,
   "metadata": {},
   "outputs": [],
   "source": [
    "coords = my_geom.bounds"
   ]
  },
  {
   "cell_type": "code",
   "execution_count": 112,
   "metadata": {},
   "outputs": [],
   "source": [
    "# Call the Overpass API using Pandana\n",
    "\n",
    "amenities = ['hospital']  # others: school, clinic, restaurant, cafe, bank, pharmacy, park\n",
    "osm_tags = '\"amenity\"~\"{}\"'.format('|'.join(amenities))"
   ]
  },
  {
   "cell_type": "code",
   "execution_count": 113,
   "metadata": {},
   "outputs": [],
   "source": [
    "pois = osm.node_query(coords[1],coords[0],coords[3],coords[2],tags=osm_tags)"
   ]
  },
  {
   "cell_type": "code",
   "execution_count": 114,
   "metadata": {},
   "outputs": [],
   "source": [
    "#pois = ox.pois_from_polygon(my_geom, ['hospital'])\n",
    "#pois = pois[['name','geometry']]"
   ]
  },
  {
   "cell_type": "code",
   "execution_count": 115,
   "metadata": {
    "scrolled": true
   },
   "outputs": [
    {
     "name": "stdout",
     "output_type": "stream",
     "text": [
      "Found 187 hospitals in AOI.\n"
     ]
    },
    {
     "data": {
      "text/html": [
       "<div>\n",
       "<style scoped>\n",
       "    .dataframe tbody tr th:only-of-type {\n",
       "        vertical-align: middle;\n",
       "    }\n",
       "\n",
       "    .dataframe tbody tr th {\n",
       "        vertical-align: top;\n",
       "    }\n",
       "\n",
       "    .dataframe thead th {\n",
       "        text-align: right;\n",
       "    }\n",
       "</style>\n",
       "<table border=\"1\" class=\"dataframe\">\n",
       "  <thead>\n",
       "    <tr style=\"text-align: right;\">\n",
       "      <th></th>\n",
       "      <th>addr:city</th>\n",
       "      <th>addr:country</th>\n",
       "      <th>addr:housenumber</th>\n",
       "      <th>addr:postcode</th>\n",
       "      <th>addr:street</th>\n",
       "      <th>addr:unit</th>\n",
       "      <th>alt_name</th>\n",
       "      <th>amenity</th>\n",
       "      <th>designation</th>\n",
       "      <th>email</th>\n",
       "      <th>...</th>\n",
       "      <th>note</th>\n",
       "      <th>old_name</th>\n",
       "      <th>opening_hours</th>\n",
       "      <th>operator</th>\n",
       "      <th>phone</th>\n",
       "      <th>toilets:wheelchair</th>\n",
       "      <th>website</th>\n",
       "      <th>wheelchair</th>\n",
       "      <th>wikidata</th>\n",
       "      <th>wikipedia:es</th>\n",
       "    </tr>\n",
       "    <tr>\n",
       "      <th>id</th>\n",
       "      <th></th>\n",
       "      <th></th>\n",
       "      <th></th>\n",
       "      <th></th>\n",
       "      <th></th>\n",
       "      <th></th>\n",
       "      <th></th>\n",
       "      <th></th>\n",
       "      <th></th>\n",
       "      <th></th>\n",
       "      <th></th>\n",
       "      <th></th>\n",
       "      <th></th>\n",
       "      <th></th>\n",
       "      <th></th>\n",
       "      <th></th>\n",
       "      <th></th>\n",
       "      <th></th>\n",
       "      <th></th>\n",
       "      <th></th>\n",
       "      <th></th>\n",
       "    </tr>\n",
       "  </thead>\n",
       "  <tbody>\n",
       "    <tr>\n",
       "      <th>319436637</th>\n",
       "      <td>NaN</td>\n",
       "      <td>NaN</td>\n",
       "      <td>NaN</td>\n",
       "      <td>NaN</td>\n",
       "      <td>NaN</td>\n",
       "      <td>NaN</td>\n",
       "      <td>NaN</td>\n",
       "      <td>hospital</td>\n",
       "      <td>NaN</td>\n",
       "      <td>NaN</td>\n",
       "      <td>...</td>\n",
       "      <td>NaN</td>\n",
       "      <td>NaN</td>\n",
       "      <td>NaN</td>\n",
       "      <td>NaN</td>\n",
       "      <td>NaN</td>\n",
       "      <td>NaN</td>\n",
       "      <td>NaN</td>\n",
       "      <td>NaN</td>\n",
       "      <td>NaN</td>\n",
       "      <td>NaN</td>\n",
       "    </tr>\n",
       "    <tr>\n",
       "      <th>331600009</th>\n",
       "      <td>Cd de México</td>\n",
       "      <td>MX</td>\n",
       "      <td>26</td>\n",
       "      <td>11000</td>\n",
       "      <td>Acueducto Río Hondo</td>\n",
       "      <td>NaN</td>\n",
       "      <td>NaN</td>\n",
       "      <td>hospital</td>\n",
       "      <td>NaN</td>\n",
       "      <td>NaN</td>\n",
       "      <td>...</td>\n",
       "      <td>NaN</td>\n",
       "      <td>NaN</td>\n",
       "      <td>NaN</td>\n",
       "      <td>NaN</td>\n",
       "      <td>NaN</td>\n",
       "      <td>NaN</td>\n",
       "      <td>NaN</td>\n",
       "      <td>NaN</td>\n",
       "      <td>NaN</td>\n",
       "      <td>NaN</td>\n",
       "    </tr>\n",
       "    <tr>\n",
       "      <th>364459687</th>\n",
       "      <td>NaN</td>\n",
       "      <td>NaN</td>\n",
       "      <td>NaN</td>\n",
       "      <td>NaN</td>\n",
       "      <td>NaN</td>\n",
       "      <td>NaN</td>\n",
       "      <td>NaN</td>\n",
       "      <td>hospital</td>\n",
       "      <td>NaN</td>\n",
       "      <td>NaN</td>\n",
       "      <td>...</td>\n",
       "      <td>NaN</td>\n",
       "      <td>NaN</td>\n",
       "      <td>NaN</td>\n",
       "      <td>NaN</td>\n",
       "      <td>NaN</td>\n",
       "      <td>NaN</td>\n",
       "      <td>NaN</td>\n",
       "      <td>NaN</td>\n",
       "      <td>NaN</td>\n",
       "      <td>NaN</td>\n",
       "    </tr>\n",
       "    <tr>\n",
       "      <th>471092318</th>\n",
       "      <td>NaN</td>\n",
       "      <td>NaN</td>\n",
       "      <td>NaN</td>\n",
       "      <td>NaN</td>\n",
       "      <td>NaN</td>\n",
       "      <td>NaN</td>\n",
       "      <td>NaN</td>\n",
       "      <td>hospital</td>\n",
       "      <td>NaN</td>\n",
       "      <td>NaN</td>\n",
       "      <td>...</td>\n",
       "      <td>NaN</td>\n",
       "      <td>NaN</td>\n",
       "      <td>NaN</td>\n",
       "      <td>NaN</td>\n",
       "      <td>NaN</td>\n",
       "      <td>NaN</td>\n",
       "      <td>NaN</td>\n",
       "      <td>NaN</td>\n",
       "      <td>NaN</td>\n",
       "      <td>NaN</td>\n",
       "    </tr>\n",
       "    <tr>\n",
       "      <th>473053018</th>\n",
       "      <td>NaN</td>\n",
       "      <td>NaN</td>\n",
       "      <td>NaN</td>\n",
       "      <td>NaN</td>\n",
       "      <td>NaN</td>\n",
       "      <td>NaN</td>\n",
       "      <td>NaN</td>\n",
       "      <td>hospital</td>\n",
       "      <td>NaN</td>\n",
       "      <td>NaN</td>\n",
       "      <td>...</td>\n",
       "      <td>NaN</td>\n",
       "      <td>NaN</td>\n",
       "      <td>NaN</td>\n",
       "      <td>NaN</td>\n",
       "      <td>NaN</td>\n",
       "      <td>NaN</td>\n",
       "      <td>NaN</td>\n",
       "      <td>NaN</td>\n",
       "      <td>NaN</td>\n",
       "      <td>NaN</td>\n",
       "    </tr>\n",
       "  </tbody>\n",
       "</table>\n",
       "<p>5 rows × 30 columns</p>\n",
       "</div>"
      ],
      "text/plain": [
       "              addr:city addr:country addr:housenumber addr:postcode  \\\n",
       "id                                                                    \n",
       "319436637           NaN          NaN              NaN           NaN   \n",
       "331600009  Cd de México           MX               26         11000   \n",
       "364459687           NaN          NaN              NaN           NaN   \n",
       "471092318           NaN          NaN              NaN           NaN   \n",
       "473053018           NaN          NaN              NaN           NaN   \n",
       "\n",
       "                   addr:street addr:unit alt_name   amenity designation email  \\\n",
       "id                                                                              \n",
       "319436637                  NaN       NaN      NaN  hospital         NaN   NaN   \n",
       "331600009  Acueducto Río Hondo       NaN      NaN  hospital         NaN   NaN   \n",
       "364459687                  NaN       NaN      NaN  hospital         NaN   NaN   \n",
       "471092318                  NaN       NaN      NaN  hospital         NaN   NaN   \n",
       "473053018                  NaN       NaN      NaN  hospital         NaN   NaN   \n",
       "\n",
       "           ... note old_name opening_hours operator  phone  \\\n",
       "id         ...                                               \n",
       "319436637  ...  NaN      NaN           NaN      NaN    NaN   \n",
       "331600009  ...  NaN      NaN           NaN      NaN    NaN   \n",
       "364459687  ...  NaN      NaN           NaN      NaN    NaN   \n",
       "471092318  ...  NaN      NaN           NaN      NaN    NaN   \n",
       "473053018  ...  NaN      NaN           NaN      NaN    NaN   \n",
       "\n",
       "           toilets:wheelchair website wheelchair wikidata wikipedia:es  \n",
       "id                                                                      \n",
       "319436637                 NaN     NaN        NaN      NaN          NaN  \n",
       "331600009                 NaN     NaN        NaN      NaN          NaN  \n",
       "364459687                 NaN     NaN        NaN      NaN          NaN  \n",
       "471092318                 NaN     NaN        NaN      NaN          NaN  \n",
       "473053018                 NaN     NaN        NaN      NaN          NaN  \n",
       "\n",
       "[5 rows x 30 columns]"
      ]
     },
     "execution_count": 115,
     "metadata": {},
     "output_type": "execute_result"
    }
   ],
   "source": [
    "print(\"Found {} hospitals in AOI.\".format(len(pois)))\n",
    "pois.head()"
   ]
  },
  {
   "cell_type": "markdown",
   "metadata": {},
   "source": [
    "#### Additional step - merge locations with admin districts\n",
    "Geopandas lets you merge two sets of features based on their spatial relationship with each other (eg. Shape A contains Shape B, Shape A intersects Shape B)."
   ]
  },
  {
   "cell_type": "code",
   "execution_count": null,
   "metadata": {},
   "outputs": [],
   "source": [
    "!wget https://github.com/worldbank/Python-for-Data-Science/raw/master/Spring%202019%208-week%20course/week%207/data/cdmx_shp/df_municipio.dbf\n",
    "!wget https://github.com/worldbank/Python-for-Data-Science/raw/master/Spring%202019%208-week%20course/week%207/data/cdmx_shp/df_municipio.shp\n",
    "!wget https://github.com/worldbank/Python-for-Data-Science/raw/master/Spring%202019%208-week%20course/week%207/data/cdmx_shp/df_municipio.shx\n",
    "!wget https://github.com/worldbank/Python-for-Data-Science/raw/master/Spring%202019%208-week%20course/week%207/data/cdmx_shp/df_municipio.prj"
   ]
  },
  {
   "cell_type": "code",
   "execution_count": 34,
   "metadata": {},
   "outputs": [],
   "source": [
    "CDMX_districts = gpd.read_file('df_municipio.shp')\n",
    "CDMX_districts = CDMX_districts[['NOMGEO','geometry']]"
   ]
  },
  {
   "cell_type": "code",
   "execution_count": null,
   "metadata": {},
   "outputs": [],
   "source": [
    "CDMX_districts.head()"
   ]
  },
  {
   "cell_type": "code",
   "execution_count": 36,
   "metadata": {},
   "outputs": [
    {
     "data": {
      "image/png": "[encoded data removed]",
      "text/plain": [
       "<Figure size 432x432 with 1 Axes>"
      ]
     },
     "metadata": {
      "needs_background": "light"
     },
     "output_type": "display_data"
    }
   ],
   "source": [
    "ax = CDMX_districts.plot(figsize = [6,6])\n",
    "pois.plot(color = 'r', alpha = 0.5, ax = ax)\n",
    "plt.title('Hospitals and district boundaries');"
   ]
  },
  {
   "cell_type": "markdown",
   "metadata": {},
   "source": [
    "**--> we have some hospitals outside the boundaries.**\n",
    "* Use a spatial join to merge the two dataframes by location.\n",
    "* Append a new column to the POIs dataframe, with name of district that contains it."
   ]
  },
  {
   "cell_type": "code",
   "execution_count": 128,
   "metadata": {
    "scrolled": false
   },
   "outputs": [],
   "source": [
    "pois = gpd.sjoin(pois, CDMX_districts)\n",
    "print(\"After spatial join, we have {} hospitals.\".format(len(pois)))\n",
    "pois.head()"
   ]
  },
  {
   "cell_type": "code",
   "execution_count": 38,
   "metadata": {
    "scrolled": true
   },
   "outputs": [
    {
     "data": {
      "image/png": "[encoded data removed]",
      "text/plain": [
       "<Figure size 432x288 with 1 Axes>"
      ]
     },
     "metadata": {
      "needs_background": "light"
     },
     "output_type": "display_data"
    }
   ],
   "source": [
    "pois.NOMGEO.value_counts().sort_values(ascending = True).plot(kind = 'barh')\n",
    "plt.title(\"Mexico City: hospitals per district (according to OSM)\");"
   ]
  },
  {
   "cell_type": "markdown",
   "metadata": {},
   "source": [
    "Documentation:\n",
    "* [Spatial joins](http://wiki.gis.com/wiki/index.php/Spatial_Join) concept explained.\n",
    "* Geopandas [sjoin](http://geopandas.org/mergingdata.html) function."
   ]
  },
  {
   "cell_type": "markdown",
   "metadata": {},
   "source": [
    "# Part 2: Nigeria consumption survey\n",
    "\n",
    "The data below is from the Nigeria General Household Survey - Wave 3 (2015-2016). It's [available](http://microdata.worldbank.org/index.php/catalog/2936/datafile/F11) on the WB Microdata Library.\n",
    "\n",
    "**Objective: Calculate and visualize average food consumption across Nigeria's regions**"
   ]
  },
  {
   "cell_type": "code",
   "execution_count": 64,
   "metadata": {},
   "outputs": [
    {
     "data": {
      "image/png": "[encoded data removed]",
      "text/plain": [
       "<IPython.core.display.Image object>"
      ]
     },
     "execution_count": 64,
     "metadata": {
      "image/png": {
       "width": 250
      }
     },
     "output_type": "execute_result"
    }
   ],
   "source": [
    "from IPython.display import Image\n",
    "Image('https://github.com/worldbank/Python-for-Data-Science/raw/master/Spring%202019%208-week%20course/week%207/data/nigeria_table.png', width = 250)"
   ]
  },
  {
   "cell_type": "code",
   "execution_count": 65,
   "metadata": {},
   "outputs": [],
   "source": [
    "df2 = pd.read_csv('https://github.com/worldbank/Python-for-Data-Science/raw/master/Spring%202019%208-week%20course/week%207/data/food2_pc.csv')\n",
    "\n",
    "df2.rename(columns = {'hhweight':'household_weight','hhsize':'household_size','food_tot_pc':'food_consumption_pc',\n",
    "           'food_purch_pc':'food_purchased_pc','indweight':'individual_weight'}, inplace=True)\n",
    "\n",
    "df2.sector.replace({'1. URBAN': 'urban', '2. RURAL':'rural'}, inplace=True)\n",
    "df2.zone.replace({'4. SOUTH EAST':'south_east', '2. NORTH EAST':'north_east', '5. SOUTH SOUTH':'south_south',\n",
    "       '1. NORTH CENTRAL':'north_central', '6. SOUTH WEST':'south_west', '3. NORTH WEST':'north_west'}, inplace = True)"
   ]
  },
  {
   "cell_type": "code",
   "execution_count": 129,
   "metadata": {
    "scrolled": true
   },
   "outputs": [],
   "source": [
    "df2.head(2)"
   ]
  },
  {
   "cell_type": "markdown",
   "metadata": {},
   "source": [
    "#### 1. Inspect data and remove outliers"
   ]
  },
  {
   "cell_type": "code",
   "execution_count": 67,
   "metadata": {},
   "outputs": [
    {
     "data": {
      "text/plain": [
       "<matplotlib.axes._subplots.AxesSubplot at 0x12bf19cf8>"
      ]
     },
     "execution_count": 67,
     "metadata": {},
     "output_type": "execute_result"
    },
    {
     "data": {
      "image/png": "[encoded data removed]",
      "text/plain": [
       "<Figure size 432x288 with 1 Axes>"
      ]
     },
     "metadata": {
      "needs_background": "light"
     },
     "output_type": "display_data"
    }
   ],
   "source": [
    "df2.food_consumption_pc.hist()"
   ]
  },
  {
   "cell_type": "code",
   "execution_count": 68,
   "metadata": {},
   "outputs": [
    {
     "data": {
      "text/plain": [
       "<matplotlib.axes._subplots.AxesSubplot at 0x12bfe4828>"
      ]
     },
     "execution_count": 68,
     "metadata": {},
     "output_type": "execute_result"
    },
    {
     "data": {
      "image/png": "[encoded data removed]",
      "text/plain": [
       "<Figure size 288x288 with 1 Axes>"
      ]
     },
     "metadata": {
      "needs_background": "light"
     },
     "output_type": "display_data"
    }
   ],
   "source": [
    "df2[['food_purchased_pc', 'food_consumption_pc']].boxplot(figsize = [4,4])"
   ]
  },
  {
   "cell_type": "code",
   "execution_count": 69,
   "metadata": {
    "scrolled": true
   },
   "outputs": [
    {
     "name": "stderr",
     "output_type": "stream",
     "text": [
      "/Users/nicholasjones/anaconda3/envs/geospatial_Pandana/lib/python3.7/site-packages/ipykernel_launcher.py:4: SettingWithCopyWarning: \n",
      "A value is trying to be set on a copy of a slice from a DataFrame\n",
      "\n",
      "See the caveats in the documentation: http://pandas.pydata.org/pandas-docs/stable/indexing.html#indexing-view-versus-copy\n",
      "  after removing the cwd from sys.path.\n",
      "/Users/nicholasjones/anaconda3/envs/geospatial_Pandana/lib/python3.7/site-packages/ipykernel_launcher.py:6: SettingWithCopyWarning: \n",
      "A value is trying to be set on a copy of a slice from a DataFrame\n",
      "\n",
      "See the caveats in the documentation: http://pandas.pydata.org/pandas-docs/stable/indexing.html#indexing-view-versus-copy\n",
      "  \n"
     ]
    }
   ],
   "source": [
    "# Remove observations more than 3 standard deviations above the mean\n",
    "\n",
    "df2['food_purchased_pc'][df2['food_purchased_pc'] > (df2.food_purchased_pc.mean()\n",
    "                                                     + df2.food_purchased_pc.std() * 3)] = np.nan\n",
    "df2['food_consumption_pc'][df2['food_consumption_pc'] > (df2.food_consumption_pc.mean() \n",
    "                                                         + df2.food_consumption_pc.std() * 3)] = np.nan\n",
    "df2.dropna(inplace = True)"
   ]
  },
  {
   "cell_type": "code",
   "execution_count": 29,
   "metadata": {},
   "outputs": [
    {
     "data": {
      "text/plain": [
       "<matplotlib.axes._subplots.AxesSubplot at 0x12b06b438>"
      ]
     },
     "execution_count": 29,
     "metadata": {},
     "output_type": "execute_result"
    },
    {
     "data": {
      "image/png": "[encoded data removed]",
      "text/plain": [
       "<Figure size 288x288 with 1 Axes>"
      ]
     },
     "metadata": {
      "needs_background": "light"
     },
     "output_type": "display_data"
    }
   ],
   "source": [
    "df2[['food_purchased_pc', 'food_consumption_pc']].boxplot(figsize = [4,4])"
   ]
  },
  {
   "cell_type": "markdown",
   "metadata": {},
   "source": [
    "#### 2. Calculate mean food consumption by region, and by rural / urban.\n",
    "\n",
    "The Pandas groupby function makes this easy. It does three things:\n",
    "* Split the data into groups.\n",
    "* Apply a function to each group independently (eg. sum, mean, counts).\n",
    "* Combine the results into a data structure."
   ]
  },
  {
   "cell_type": "code",
   "execution_count": 130,
   "metadata": {},
   "outputs": [],
   "source": [
    "df2.groupby(['zone','sector'])['food_consumption_pc'].mean()"
   ]
  },
  {
   "cell_type": "markdown",
   "metadata": {},
   "source": [
    "--> We plotted mean food consumption among 5000 surveyed households; doesn't represent population as a whole!"
   ]
  },
  {
   "cell_type": "markdown",
   "metadata": {},
   "source": [
    "#### 3. Calculate mean food consumption for population\n",
    "\n",
    "Weighted mean:\n",
    "\n",
    "$$\\overline x = \\frac{\\sum wx}{\\sum w}$$\n",
    "\n",
    "ie. sum of values times weights / sum of weights"
   ]
  },
  {
   "cell_type": "code",
   "execution_count": 31,
   "metadata": {},
   "outputs": [
    {
     "data": {
      "text/plain": [
       "289663.4699519813"
      ]
     },
     "execution_count": 31,
     "metadata": {},
     "output_type": "execute_result"
    }
   ],
   "source": [
    "sum(df2.food_purchased_pc * df2.individual_weight) / df2.household_weight.sum()"
   ]
  },
  {
   "cell_type": "code",
   "execution_count": 32,
   "metadata": {},
   "outputs": [],
   "source": [
    "def weighted_mean(values, weights):\n",
    "    return sum(values * weights) / weights.sum()"
   ]
  },
  {
   "cell_type": "code",
   "execution_count": 33,
   "metadata": {},
   "outputs": [
    {
     "data": {
      "text/plain": [
       "73451.24198885933"
      ]
     },
     "execution_count": 33,
     "metadata": {},
     "output_type": "execute_result"
    }
   ],
   "source": [
    "weighted_mean(values = df2.food_purchased_pc[df2.zone == 'south_east'],\n",
    "             weights = df2.household_weight[df2.zone == 'south_east'])"
   ]
  },
  {
   "cell_type": "code",
   "execution_count": 34,
   "metadata": {},
   "outputs": [],
   "source": [
    "weighted_means_table = pd.Series({zone: weighted_mean(df2.food_consumption_pc[df2.zone == zone],\n",
    "                                  df2.household_weight[df2.zone == zone]) for zone in df2.zone.unique()},\n",
    "                                name = 'mean_food_consumption_pc')"
   ]
  },
  {
   "cell_type": "code",
   "execution_count": 35,
   "metadata": {},
   "outputs": [
    {
     "data": {
      "image/png": "[encoded data removed]",
      "text/plain": [
       "<Figure size 432x288 with 1 Axes>"
      ]
     },
     "metadata": {
      "needs_background": "light"
     },
     "output_type": "display_data"
    }
   ],
   "source": [
    "weighted_means_table.sort_values(ascending = True).plot(kind='barh')\n",
    "plt.title('Mean food consumption by region');"
   ]
  },
  {
   "cell_type": "markdown",
   "metadata": {},
   "source": [
    "#### 4. Visualize on a map of Nigeria\n",
    "* A good data source is GADM, which has admin boundaries for all countries at levels 0 through 3 (national boundaries through to ward level). https://gadm.org/\n",
    "\n",
    "\n",
    "* GADM1 gives us Nigeria's 36 states and capital territory. Our dataset uses the six [Geopolitical Zones](https://en.wikipedia.org/wiki/Geopolitical_zones_of_Nigeria) of Nigeria instead (these each comprise about 5-8 states). Create the required polygons by aggregating the state boundaries using Geopandas [dissolve](http://geopandas.org/aggregation_with_dissolve.html) function."
   ]
  },
  {
   "cell_type": "code",
   "execution_count": null,
   "metadata": {},
   "outputs": [],
   "source": [
    "!wget https://github.com/worldbank/Python-for-Data-Science/raw/master/Spring%202019%208-week%20course/week%207/data/nigeria/gadm36_NGA_1.shp?raw=true\n",
    "!wget https://github.com/worldbank/Python-for-Data-Science/raw/master/Spring%202019%208-week%20course/week%207/data/nigeria/gadm36_NGA_1.shx?raw=true\n",
    "!wget https://github.com/worldbank/Python-for-Data-Science/raw/master/Spring%202019%208-week%20course/week%207/data/nigeria/gadm36_NGA_1.cpg?raw=true\n",
    "!wget https://github.com/worldbank/Python-for-Data-Science/raw/master/Spring%202019%208-week%20course/week%207/data/nigeria/gadm36_NGA_1.prj?raw=true\n",
    "!wget https://github.com/worldbank/Python-for-Data-Science/raw/master/Spring%202019%208-week%20course/week%207/data/nigeria/gadm36_NGA_1.dbf?raw=true"
   ]
  },
  {
   "cell_type": "code",
   "execution_count": null,
   "metadata": {},
   "outputs": [],
   "source": [
    "nigeria_GADM = gpd.read_file('gadm36_NGA_1.shp')"
   ]
  },
  {
   "cell_type": "code",
   "execution_count": null,
   "metadata": {},
   "outputs": [],
   "source": [
    "nigeria_GADM.plot()"
   ]
  },
  {
   "cell_type": "code",
   "execution_count": 59,
   "metadata": {},
   "outputs": [],
   "source": [
    "north_central = ['Benue','Kogi','Kwara', 'Nassarawa', 'Niger','Plateau', 'Federal Capital Territory']\n",
    "north_east = ['Adamawa', 'Bauchi', 'Borno', 'Gombe', 'Taraba', 'Yobe']\n",
    "north_west = ['Jigawa', 'Kaduna', 'Kano', 'Katsina', 'Kebbi', 'Sokoto', 'Zamfara']\n",
    "south_east = ['Abia', 'Anambra', 'Ebonyi', 'Enugu', 'Imo']\n",
    "south_south = ['Akwa Ibom', 'Bayelsa', 'Cross River', 'Rivers', 'Delta', 'Edo']\n",
    "south_west = ['Ekiti', 'Lagos', 'Ogun', 'Ondo', 'Osun', 'Oyo']\n",
    "\n",
    "def remap_states(state):\n",
    "    if state in north_east:\n",
    "        return('north_east')\n",
    "    elif state in north_central:\n",
    "        return('north_central')\n",
    "    elif state in north_west:\n",
    "        return('north_west')\n",
    "    elif state in south_east:\n",
    "        return('south_east')\n",
    "    elif state in south_south:\n",
    "        return('south_south')\n",
    "    elif state in south_west:\n",
    "        return('south_west')\n",
    "    else:\n",
    "        return('error!')"
   ]
  },
  {
   "cell_type": "markdown",
   "metadata": {},
   "source": [
    "A quick way to transform the rows or columns of a DataFrame is df.apply(). This runs a function of your choice across all the rows (axis = 0, the default) or all the columns (axis = 1)."
   ]
  },
  {
   "cell_type": "code",
   "execution_count": null,
   "metadata": {},
   "outputs": [],
   "source": [
    "nigeria_GADM.head(2)"
   ]
  },
  {
   "cell_type": "code",
   "execution_count": 61,
   "metadata": {},
   "outputs": [],
   "source": [
    "nigeria_GADM['region'] = nigeria_GADM.NAME_1.apply(remap_states)"
   ]
  },
  {
   "cell_type": "code",
   "execution_count": 62,
   "metadata": {},
   "outputs": [],
   "source": [
    "# Create a new geodataframe comprising six merged polygons\n",
    "\n",
    "regions = nigeria_GADM.dissolve(by = 'region')"
   ]
  },
  {
   "cell_type": "code",
   "execution_count": null,
   "metadata": {},
   "outputs": [],
   "source": [
    "regions.head(2)"
   ]
  },
  {
   "cell_type": "code",
   "execution_count": null,
   "metadata": {},
   "outputs": [],
   "source": [
    "regions.plot()"
   ]
  },
  {
   "cell_type": "code",
   "execution_count": null,
   "metadata": {},
   "outputs": [],
   "source": [
    "# Check the two frames have the same length before merging\n",
    "\n",
    "regions.shape"
   ]
  },
  {
   "cell_type": "code",
   "execution_count": null,
   "metadata": {},
   "outputs": [],
   "source": [
    "weighted_means_table.shape"
   ]
  },
  {
   "cell_type": "code",
   "execution_count": 69,
   "metadata": {},
   "outputs": [],
   "source": [
    "regions_merged = pd.merge(regions, weighted_means_table, left_index=True, right_index=True)"
   ]
  },
  {
   "cell_type": "code",
   "execution_count": 70,
   "metadata": {},
   "outputs": [],
   "source": [
    "regions_merged = gpd.GeoDataFrame(regions_merged)"
   ]
  },
  {
   "cell_type": "code",
   "execution_count": null,
   "metadata": {},
   "outputs": [],
   "source": [
    "regions_merged.plot(column = 'mean_food_consumption_pc', legend = True, figsize = [12,8])\n",
    "plt.title('Mean food consumption per capita - regions of Nigeria');"
   ]
  },
  {
   "cell_type": "markdown",
   "metadata": {},
   "source": [
    "Documentation:\n",
    "* pandas [groupby](https://pandas.pydata.org/pandas-docs/stable/user_guide/groupby.html) function\n",
    "* pandas [apply](https://pandas.pydata.org/pandas-docs/stable/reference/api/pandas.DataFrame.apply.html) function. \n",
    "* [choropleth](http://geopandas.org/mapping.html) maps in Geopandas\n",
    "* [selecting and slicing data](https://pandas.pydata.org/pandas-docs/stable/user_guide/indexing.html#boolean-indexing) in Pandas"
   ]
  }
 ],
 "metadata": {
  "kernelspec": {
   "display_name": "geospatial_Pandana",
   "language": "python",
   "name": "geospatial_pandana"
  },
  "language_info": {
   "codemirror_mode": {
    "name": "ipython",
    "version": 3
   },
   "file_extension": ".py",
   "mimetype": "text/x-python",
   "name": "python",
   "nbconvert_exporter": "python",
   "pygments_lexer": "ipython3",
   "version": "3.7.3"
  }
 },
 "nbformat": 4,
 "nbformat_minor": 2
}
