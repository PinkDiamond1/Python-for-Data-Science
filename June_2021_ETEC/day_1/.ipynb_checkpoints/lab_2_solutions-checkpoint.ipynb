{
 "cells": [
  {
   "cell_type": "markdown",
   "metadata": {
    "colab_type": "text",
    "id": "dKyVHGgLNarm"
   },
   "source": [
    "# Lab 2\n",
    "\n",
    "Answer the exercises or complete the tasks outlined in bold, using the specific method described if applicable."
   ]
  },
  {
   "cell_type": "markdown",
   "metadata": {
    "colab_type": "text",
    "id": "rpuTHqFbNarp"
   },
   "source": [
    "#### EXERCISE 1: String drills\n",
    "*Objective: Consolidate string manipulation, converting between data types where needed, using .format(), and not crashing due to quote mark issues.*\n",
    "\n",
    "\n",
    "**1a: Combine these four variables into a single string and print it.**"
   ]
  },
  {
   "cell_type": "code",
   "execution_count": 0,
   "metadata": {
    "colab": {},
    "colab_type": "code",
    "id": "24sLKtptNarr"
   },
   "outputs": [],
   "source": [
    "a = 'Welcome to '\n",
    "b = 'Python class '\n",
    "c = 'lab '\n",
    "d = 2 "
   ]
  },
  {
   "cell_type": "code",
   "execution_count": 0,
   "metadata": {
    "colab": {
     "base_uri": "https://localhost:8080/",
     "height": 35
    },
    "colab_type": "code",
    "id": "2ZB-7FHwNary",
    "outputId": "bdb7550b-8963-45aa-c907-80dd2ed94031"
   },
   "outputs": [
    {
     "data": {
      "text/plain": [
       "'Welcome to Python class lab 2'"
      ]
     },
     "execution_count": 26,
     "metadata": {
      "tags": []
     },
     "output_type": "execute_result"
    }
   ],
   "source": [
    "# YOUR CODE HERE\n",
    "z=a+b+c+str(2)\n",
    "z"
   ]
  },
  {
   "cell_type": "markdown",
   "metadata": {
    "colab_type": "text",
    "id": "-8S35LchNar8"
   },
   "source": [
    "**1b: Print `pi` to seven decimal places.**"
   ]
  },
  {
   "cell_type": "code",
   "execution_count": 0,
   "metadata": {
    "colab": {
     "base_uri": "https://localhost:8080/",
     "height": 35
    },
    "colab_type": "code",
    "id": "IfJclV6nNar-",
    "outputId": "ec6a2adf-e2a9-4ee4-efcd-43e244a71e14"
   },
   "outputs": [
    {
     "name": "stdout",
     "output_type": "stream",
     "text": [
      "3.1415929\n"
     ]
    }
   ],
   "source": [
    "# YOUR CODE HERE:\n",
    "\n",
    "pi_approx = 355/113\n",
    "\n",
    "print(\"{:.7f}\".format(pi_approx))"
   ]
  },
  {
   "cell_type": "markdown",
   "metadata": {
    "colab_type": "text",
    "id": "FbLpitOINasG"
   },
   "source": [
    "**1c: Print both of the following:**\n",
    "\n",
    "    Nick says \"hello\"\n",
    "    This is Dharana's sandwich"
   ]
  },
  {
   "cell_type": "code",
   "execution_count": 0,
   "metadata": {
    "colab": {
     "base_uri": "https://localhost:8080/",
     "height": 70
    },
    "colab_type": "code",
    "id": "moHOeW2XNasI",
    "outputId": "b4bcc8c2-9a22-4312-e705-e70a718eb615",
    "scrolled": true
   },
   "outputs": [
    {
     "name": "stdout",
     "output_type": "stream",
     "text": [
      "Nick says \"hello\"\n",
      "This is Dharana's sandwich\n",
      "\"But what if we wanted to print strings like these,\" she said. \"Wouldn't that break the code?\"\n"
     ]
    }
   ],
   "source": [
    "# YOUR CODE HERE: \n",
    "print('Nick says \"hello\"')\n",
    "print (\"This is Dharana's sandwich\")\n",
    "\n",
    "# TIP: When both ' and \" are part of the string we can also use '''   ''' \n",
    "print ('''\"But what if we wanted to print strings like these,\" she said. \"Wouldn't that break the code?\"''')"
   ]
  },
  {
   "cell_type": "markdown",
   "metadata": {
    "colab_type": "text",
    "id": "0tXSeBZtNasN"
   },
   "source": [
    "#### EXERCISE 2: Tourist agency\n",
    "*Objective: Iterate through lists, use string formatting.*\n",
    "\n",
    "Write a program to print \"Welcome to beautiful {country}!\" for each country in the list."
   ]
  },
  {
   "cell_type": "code",
   "execution_count": 0,
   "metadata": {
    "colab": {},
    "colab_type": "code",
    "id": "8Y3pwnriNasO"
   },
   "outputs": [],
   "source": [
    "country_list = ['Kazakhstan','Kenya', 'Kiribati', \"Korea (DPRK)\", 'Korea (ROC)', 'Kosovo', 'Kuwait', 'Kyrgyzstan']"
   ]
  },
  {
   "cell_type": "code",
   "execution_count": 0,
   "metadata": {
    "colab": {
     "base_uri": "https://localhost:8080/",
     "height": 159
    },
    "colab_type": "code",
    "id": "X_ZOHo0FNasT",
    "outputId": "8d96915d-7e58-4a91-ac16-65ac02d0a5fe"
   },
   "outputs": [
    {
     "name": "stdout",
     "output_type": "stream",
     "text": [
      "Welcome to beautiful Kazakhstan !\n",
      "Welcome to beautiful Kenya !\n",
      "Welcome to beautiful Kiribati !\n",
      "Welcome to beautiful Korea (DPRK) !\n",
      "Welcome to beautiful Korea (ROC) !\n",
      "Welcome to beautiful Kosovo !\n",
      "Welcome to beautiful Kuwait !\n",
      "Welcome to beautiful Kyrgyzstan !\n"
     ]
    }
   ],
   "source": [
    "# YOUR CODE HERE:\n",
    "for country in country_list:\n",
    "  print (\"Welcome to beautiful\", country, \"!\")"
   ]
  },
  {
   "cell_type": "markdown",
   "metadata": {
    "colab_type": "text",
    "id": "iWjoouyUNasa"
   },
   "source": [
    "#### EXERCISE 3: Quick brown fox\n",
    "**Split the string below into a list of words, then:**\n",
    "* print only the second to fifth items in the list\n",
    "* count the items in the list\n",
    "* replace \"dog\" with \"dinosaur\""
   ]
  },
  {
   "cell_type": "code",
   "execution_count": 0,
   "metadata": {
    "colab": {
     "base_uri": "https://localhost:8080/",
     "height": 35
    },
    "colab_type": "code",
    "id": "_0UGkwp7Nasb",
    "outputId": "a3115ac1-3b94-4de7-85f5-c5b8e535e21e"
   },
   "outputs": [
    {
     "data": {
      "text/plain": [
       "['The', 'quick', 'brown', 'fox', 'jumps', 'over', 'the', 'lazy', 'dog']"
      ]
     },
     "execution_count": 12,
     "metadata": {
      "tags": []
     },
     "output_type": "execute_result"
    }
   ],
   "source": [
    "rhyme = \"The quick brown fox jumps over the lazy dog\"\n",
    "\n",
    "# YOUR CODE HERE:\n",
    "rhyme_list=rhyme.split()\n",
    "rhyme_list"
   ]
  },
  {
   "cell_type": "code",
   "execution_count": 0,
   "metadata": {
    "colab": {
     "base_uri": "https://localhost:8080/",
     "height": 35
    },
    "colab_type": "code",
    "id": "9J1kmXfJNask",
    "outputId": "008d04c9-beaa-4d36-ef44-e85699ba3402"
   },
   "outputs": [
    {
     "data": {
      "text/plain": [
       "['quick', 'brown', 'fox']"
      ]
     },
     "execution_count": 13,
     "metadata": {
      "tags": []
     },
     "output_type": "execute_result"
    }
   ],
   "source": [
    "rhyme_list[1:4]"
   ]
  },
  {
   "cell_type": "code",
   "execution_count": 0,
   "metadata": {
    "colab": {
     "base_uri": "https://localhost:8080/",
     "height": 35
    },
    "colab_type": "code",
    "id": "IYZ2U2VQNass",
    "outputId": "ed5d2fdb-11c1-41c8-e23e-8533b9b9f69f"
   },
   "outputs": [
    {
     "data": {
      "text/plain": [
       "9"
      ]
     },
     "execution_count": 14,
     "metadata": {
      "tags": []
     },
     "output_type": "execute_result"
    }
   ],
   "source": [
    "len(rhyme_list)"
   ]
  },
  {
   "cell_type": "code",
   "execution_count": 0,
   "metadata": {
    "colab": {
     "base_uri": "https://localhost:8080/",
     "height": 35
    },
    "colab_type": "code",
    "id": "IDSDJwEiNas0",
    "outputId": "75efca91-e3be-47c3-8f02-4744893c9e44"
   },
   "outputs": [
    {
     "data": {
      "text/plain": [
       "['The', 'quick', 'brown', 'fox', 'jumps', 'over', 'the', 'lazy', 'dinosaur']"
      ]
     },
     "execution_count": 15,
     "metadata": {
      "tags": []
     },
     "output_type": "execute_result"
    }
   ],
   "source": [
    "rhyme_list[8]=\"dinosaur\"\n",
    "rhyme_list"
   ]
  },
  {
   "cell_type": "markdown",
   "metadata": {
    "colab_type": "text",
    "id": "GEmp2NulNas-"
   },
   "source": [
    "#### EXERCISE 4: Tangled lists\n",
    "\n",
    "*Objective: Navigate a set of lists nested inside lists, use square bracket indexing, use list comprehensions.*\n",
    "\n",
    "Given this nested list, grab the word dragon:"
   ]
  },
  {
   "cell_type": "code",
   "execution_count": 0,
   "metadata": {
    "colab": {},
    "colab_type": "code",
    "id": "aQB8QKcINatB"
   },
   "outputs": [],
   "source": [
    "my_list = [0,4,[4,3,2],[420, 250, [1,2,3,'dragon']],365,23,6]"
   ]
  },
  {
   "cell_type": "code",
   "execution_count": 0,
   "metadata": {
    "colab": {
     "base_uri": "https://localhost:8080/",
     "height": 35
    },
    "colab_type": "code",
    "id": "fW8EcJ6RNatI",
    "outputId": "9201ffad-1444-4727-c56e-3fe12efc71a6"
   },
   "outputs": [
    {
     "data": {
      "text/plain": [
       "'dragon'"
      ]
     },
     "execution_count": 18,
     "metadata": {
      "tags": []
     },
     "output_type": "execute_result"
    }
   ],
   "source": [
    "my_list[3][2][3]"
   ]
  },
  {
   "cell_type": "markdown",
   "metadata": {
    "colab_type": "text",
    "id": "O7hleNpiNatf"
   },
   "source": [
    "Convert the following list from strings to integers:"
   ]
  },
  {
   "cell_type": "code",
   "execution_count": 0,
   "metadata": {
    "colab": {
     "base_uri": "https://localhost:8080/",
     "height": 35
    },
    "colab_type": "code",
    "id": "OQaqJAziNatj",
    "outputId": "1bdc6760-22f8-4608-ea65-ec7a4b175beb"
   },
   "outputs": [
    {
     "data": {
      "text/plain": [
       "[10009, 20009, 20022, 20034, 90210]"
      ]
     },
     "execution_count": 23,
     "metadata": {
      "tags": []
     },
     "output_type": "execute_result"
    }
   ],
   "source": [
    "# YOUR CODE HERE:\n",
    "\n",
    "ZIP_list = ['10009','20009','20022','20034','90210']\n",
    "zip_list = [int(i) for i in ZIP_list]\n",
    "zip_list"
   ]
  },
  {
   "cell_type": "markdown",
   "metadata": {
    "colab_type": "text",
    "id": "Tnl09PuNNat8"
   },
   "source": [
    "#### EXERCISE 5: Prime numbers\n",
    "*Objective: Combine loops, logic conditions and math operations.*"
   ]
  },
  {
   "cell_type": "markdown",
   "metadata": {
    "colab_type": "text",
    "id": "ArwoCXjGNauN"
   },
   "source": [
    "Write a program to loop from 1 to 100 and print all the prime numbers"
   ]
  },
  {
   "cell_type": "code",
   "execution_count": 1,
   "metadata": {
    "colab": {
     "base_uri": "https://localhost:8080/",
     "height": 461
    },
    "colab_type": "code",
    "id": "vZeDy4IjNauW",
    "outputId": "73afd23f-2ff8-43bb-c9cf-4880a7fe5be3"
   },
   "outputs": [
    {
     "name": "stdout",
     "output_type": "stream",
     "text": [
      "[2, 3, 5, 7, 11, 13, 17, 19, 23, 29, 31, 37, 41, 43, 47, 53, 59, 61, 67, 71, 73, 79, 83, 89, 97]\n"
     ]
    }
   ],
   "source": [
    "# YOUR CODE HERE:\n",
    "\n",
    "primes=[]\n",
    "\n",
    "for value in range(1,101):         \n",
    "   if value > 1: \n",
    "       for n in range(2, value): \n",
    "           if (value % n) == 0: \n",
    "               break\n",
    "       else: \n",
    "           primes.append(value)\n",
    "          \n",
    "print(primes)"
   ]
  },
  {
   "cell_type": "markdown",
   "metadata": {
    "colab_type": "text",
    "id": "sbwPMw9JNau6"
   },
   "source": [
    "#### EXERCISE 6: List comprehensions\n",
    "Use list comprehensions to do the following:\n",
    "* 6a. List all numbers from 1 to 1000 that are divisible by 12.\n",
    "* 6b. List all the holiday destinations that are less than 7 characters long."
   ]
  },
  {
   "cell_type": "code",
   "execution_count": 0,
   "metadata": {
    "colab": {
     "base_uri": "https://localhost:8080/",
     "height": 35
    },
    "colab_type": "code",
    "id": "5zo-dsbFNau9",
    "outputId": "cae80de5-4ce8-43ed-de86-8def47c30b26"
   },
   "outputs": [
    {
     "data": {
      "text/plain": [
       "['maine', 'ibiza', 'bali']"
      ]
     },
     "execution_count": 33,
     "metadata": {
      "tags": []
     },
     "output_type": "execute_result"
    }
   ],
   "source": [
    "# YOUR CODE HERE\n",
    "\n",
    "holiday_destinations = ['maine','cornwall','ibiza','florida','bali','bognor regis']\n",
    "\n",
    "hol_dest=[dest for dest in holiday_destinations if len(dest)<7]\n",
    "hol_dest"
   ]
  },
  {
   "cell_type": "markdown",
   "metadata": {
    "colab_type": "text",
    "id": "A1xO6DXGNavM"
   },
   "source": [
    "#### EXERCISE 7: Phone directory\n",
    "*Objective: Use a list comprehension and list methods.*\n",
    "\n",
    "Take a list of names, and get them in phone directory order (\"first name, last name\", in alphabetical order):"
   ]
  },
  {
   "cell_type": "code",
   "execution_count": 0,
   "metadata": {
    "colab": {
     "base_uri": "https://localhost:8080/",
     "height": 35
    },
    "colab_type": "code",
    "id": "mUdakvhINavP",
    "outputId": "6eb2c47c-79fb-4c12-bd0c-6caea70b006e"
   },
   "outputs": [
    {
     "data": {
      "text/plain": [
       "['Bergman,Ingrid', 'Gorbachev,Mikhail', 'Lennon,John', 'Williams,Serena']"
      ]
     },
     "execution_count": 37,
     "metadata": {
      "tags": []
     },
     "output_type": "execute_result"
    }
   ],
   "source": [
    "names = ['John Lennon', 'Serena Williams', 'Ingrid Bergman', 'Mikhail Gorbachev']\n",
    "\n",
    "directory=[name.split()[1]+','+name.split()[0] for name in names]\n",
    "directory.sort()\n",
    "directory"
   ]
  }
 ],
 "metadata": {
  "colab": {
   "name": "Copy of lab_2.ipynb",
   "provenance": [],
   "version": "0.3.2"
  },
  "kernelspec": {
   "display_name": "Python 3",
   "language": "python",
   "name": "python3"
  },
  "language_info": {
   "codemirror_mode": {
    "name": "ipython",
    "version": 3
   },
   "file_extension": ".py",
   "mimetype": "text/x-python",
   "name": "python",
   "nbconvert_exporter": "python",
   "pygments_lexer": "ipython3",
   "version": "3.7.3"
  }
 },
 "nbformat": 4,
 "nbformat_minor": 1
}
