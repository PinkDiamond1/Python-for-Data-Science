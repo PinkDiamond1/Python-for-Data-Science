{
 "cells": [
  {
   "cell_type": "markdown",
   "metadata": {},
   "source": [
    "# Python for Data Science - session 0"
   ]
  },
  {
   "cell_type": "markdown",
   "metadata": {},
   "source": [
    "#### Two ways to write Python code\n",
    "* __Scripts ('.py').__ Python programs can be saved in the form of a scipt: a text file that contains a series of commands.\n",
    "\n",
    "* __Jupyter notebooks ('.ipynb').__ This format, popular in data science, contains both code and rich-text elements like paragraphs, equations and charts.\n",
    "\n",
    "Why have Jupyter notebooks become so popular in data science? They are an easy-to-use coding environment. And your annotated notebook is easy for colleagues to understand, since intermediate outputs (eg. charts) are displayed alongside the code that generated them.\n"
   ]
  },
  {
   "cell_type": "markdown",
   "metadata": {},
   "source": [
    "#### The Notebook environment\n",
    "To edit notebooks, use Jupyter Notebooks (part of the Anaconda distribution of Python) or Colab (a free online platform from Google). They both work in your web browser and can edit .ipynb files.\n",
    "\n",
    "Notebooks comprise two types of cells:\n",
    "* _Code cells._ These contain executable commands in Python.\n",
    "* _Text cells._ These include plain text, or you can use [markdown](https://commonmark.org/help/) to add formatting.\n",
    "\n",
    "#### Becoming efficient in the notebook environment####\n",
    "To work efficiently with Jupyter Notebooks or Colab, you must learn to:\n",
    "* Create new code cells\n",
    "* Run code cells\n",
    "* Cut and paste them\n",
    "* Insert text cells\n",
    "* Add headings, bold text and bullet points into text cells\n",
    "* Switch cells from code to text and vice versa.\n",
    "\n",
    "These require (a) practice; and (b) use of keyboard shortcuts (memorize them!).\n"
   ]
  },
  {
   "cell_type": "markdown",
   "metadata": {},
   "source": [
    "#### Keyboard shortcuts"
   ]
  },
  {
   "cell_type": "markdown",
   "metadata": {},
   "source": [
    "Action | Colab Shortcut\n",
    "---|---\n",
    "Execute current cell | `<CTRL-ENTER>`\n",
    "Execute current cell and moves to next cell | `<SHIFT-ENTER>`\n",
    "Insert cell above | `<CTRL-M> <A>`\n",
    "Append cell below | `<CTRL-M> <B>`\n",
    "Convert cell to code | `<CTRL-M> <Y>`\n",
    "Convert cell to Markdown | `<CTRL-M> <M>`\n",
    "Delete cell | `<CTRL-M> <D>`\n",
    "Autocomplete | `<TAB>`\n",
    "Goes from edit to \"command\" mode | `<ESC>`\n",
    "Goes from \"command\" to edit mode | `<ENTER>`\n",
    "<p align=\"center\"><b>Note:</b> On OS X use `<COMMAND>` instead of `<CTRL>`</p>"
   ]
  },
  {
   "cell_type": "markdown",
   "metadata": {},
   "source": [
    "#### EXERCISE: Enter and modify your first program\n"
   ]
  },
  {
   "cell_type": "markdown",
   "metadata": {},
   "source": [
    "_Objectives: Practice working in Colab; get familiar with Python's syntax including indentation, quote marks and whitespace._\n",
    "Instructions:\n",
    "1. Take the Session 1 handout which contains a Python program\n",
    "2. Type it into Colab and run it.  (Split the code into multiple cells if you wish.)\n",
    "3. Change the program by altering any of the variables.\n",
    "    "
   ]
  },
  {
   "cell_type": "code",
   "execution_count": 12,
   "metadata": {},
   "outputs": [],
   "source": [
    "# YOUR CODE HERE:\n"
   ]
  },
  {
   "cell_type": "code",
   "execution_count": 2,
   "metadata": {},
   "outputs": [
    {
     "name": "stdout",
     "output_type": "stream",
     "text": [
      "Hello world!\n",
      "Plan for  Monday\n",
      "Write Python code\n",
      "Walk the  dog\n",
      "\n",
      "Plan for  Tuesday\n",
      "Write Python code\n",
      "Walk the  dog\n",
      "\n",
      "Plan for  Wednesday\n",
      "Write Python code\n",
      "Walk the  dog\n",
      "\n"
     ]
    }
   ],
   "source": [
    "print(\"Hello world!\")\n",
    "\n",
    "name = \"Alex\"\n",
    "days = ['Monday','Tuesday','Wednesday']\n",
    "pet = \"dog\"\n",
    "\n",
    "for day in days:\n",
    "    print(\"Plan for \", day)\n",
    "    print(\"Write Python code\")\n",
    "    print(\"Walk the \", pet)\n",
    "    print(\"\")"
   ]
  },
  {
   "cell_type": "code",
   "execution_count": null,
   "metadata": {},
   "outputs": [],
   "source": []
  }
 ],
 "metadata": {
  "kernelspec": {
   "display_name": "Python 3",
   "language": "python",
   "name": "python3"
  },
  "language_info": {
   "codemirror_mode": {
    "name": "ipython",
    "version": 3
   },
   "file_extension": ".py",
   "mimetype": "text/x-python",
   "name": "python",
   "nbconvert_exporter": "python",
   "pygments_lexer": "ipython3",
   "version": "3.7.3"
  }
 },
 "nbformat": 4,
 "nbformat_minor": 2
}
