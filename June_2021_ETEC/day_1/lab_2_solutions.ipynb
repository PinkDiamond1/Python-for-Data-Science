{
  "nbformat": 4,
  "nbformat_minor": 0,
  "metadata": {
    "kernelspec": {
      "display_name": "Python 3",
      "language": "python",
      "name": "python3"
    },
    "language_info": {
      "codemirror_mode": {
        "name": "ipython",
        "version": 3
      },
      "file_extension": ".py",
      "mimetype": "text/x-python",
      "name": "python",
      "nbconvert_exporter": "python",
      "pygments_lexer": "ipython3",
      "version": "3.7.3"
    },
    "colab": {
      "name": "Copy of lab_2.ipynb",
      "provenance": []
    }
  },
  "cells": [
    {
      "cell_type": "markdown",
      "metadata": {
        "id": "PPG__BUS6Yvd"
      },
      "source": [
        "# Lab 2\n",
        "\n",
        "Answer the exercises or complete the tasks outlined in bold, using the specific method described if applicable."
      ]
    },
    {
      "cell_type": "markdown",
      "metadata": {
        "id": "zVe8dcQ46Yvh"
      },
      "source": [
        "#### EXERCISE 1: String drills\n",
        "*Objective: Consolidate string manipulation, converting between data types where needed, using .format(), and not crashing due to quote mark issues.*\n",
        "\n",
        "\n",
        "**1a: Combine these four variables into a single string and print it.**"
      ]
    },
    {
      "cell_type": "code",
      "metadata": {
        "id": "P6yU-qiB6Yvh"
      },
      "source": [
        "a = 'Welcome to '\n",
        "b = 'Python class '\n",
        "c = 'lab '\n",
        "d = 2"
      ],
      "execution_count": 1,
      "outputs": []
    },
    {
      "cell_type": "code",
      "metadata": {
        "id": "_0cCvHhq6Yvi",
        "colab": {
          "base_uri": "https://localhost:8080/",
          "height": 35
        },
        "outputId": "e50b1110-e35b-43ca-ed90-6652dcbb9a5d"
      },
      "source": [
        "# YOUR CODE HERE\n",
        "\n",
        "z = a + b + c + str(2)\n",
        "z"
      ],
      "execution_count": 2,
      "outputs": [
        {
          "output_type": "execute_result",
          "data": {
            "application/vnd.google.colaboratory.intrinsic+json": {
              "type": "string"
            },
            "text/plain": [
              "'Welcome to Python class lab 2'"
            ]
          },
          "metadata": {
            "tags": []
          },
          "execution_count": 2
        }
      ]
    },
    {
      "cell_type": "markdown",
      "metadata": {
        "id": "iyPBo2aW6Yvj"
      },
      "source": [
        "**1b: Print `pi` to seven decimal places.**\n",
        "\n",
        "Hint: `.format` helps format strings neatly (see Lecture 2 section 2)."
      ]
    },
    {
      "cell_type": "code",
      "metadata": {
        "id": "PKNpPALz6Yvk",
        "colab": {
          "base_uri": "https://localhost:8080/"
        },
        "outputId": "c38fde8e-6026-454e-bce5-38852a4a5df9"
      },
      "source": [
        "# YOUR CODE HERE:\n",
        "\n",
        "pi_approx = 355/113\n",
        "\n",
        "print(\"{:.7f}\".format(pi_approx))"
      ],
      "execution_count": 3,
      "outputs": [
        {
          "output_type": "stream",
          "text": [
            "3.1415929\n"
          ],
          "name": "stdout"
        }
      ]
    },
    {
      "cell_type": "markdown",
      "metadata": {
        "id": "QDrCFnZ36Yvk"
      },
      "source": [
        "**1c: Print both of the following:**\n",
        "\n",
        "    Nick says \"hello\"\n",
        "    This is Dharana's sandwich"
      ]
    },
    {
      "cell_type": "code",
      "metadata": {
        "scrolled": true,
        "id": "JdF-gqHD6Yvl",
        "colab": {
          "base_uri": "https://localhost:8080/"
        },
        "outputId": "7da5dc18-afd3-4507-c76d-5878f49ae2c3"
      },
      "source": [
        "# YOUR CODE HERE: \n",
        "\n",
        "print('Nick says \"hello\"')\n",
        "print (\"This is Dharana's sandwich\")\n",
        "\n",
        "# TIP: When both ' and \" are part of the string we can also use '''   ''' \n",
        "print ('''\"But what if we wanted to print strings like these,\" she said. \"Wouldn't that break the code?\"''')"
      ],
      "execution_count": 4,
      "outputs": [
        {
          "output_type": "stream",
          "text": [
            "Nick says \"hello\"\n",
            "This is Dharana's sandwich\n",
            "\"But what if we wanted to print strings like these,\" she said. \"Wouldn't that break the code?\"\n"
          ],
          "name": "stdout"
        }
      ]
    },
    {
      "cell_type": "markdown",
      "metadata": {
        "id": "tuOO5PHn6Yvp"
      },
      "source": [
        "#### EXERCISE 2: Tourist agency\n",
        "*Objective: Iterate through lists, use string formatting.*\n",
        "\n",
        "Write a program to print \"Welcome to beautiful {country}!\" for each country in the list."
      ]
    },
    {
      "cell_type": "code",
      "metadata": {
        "id": "4LnQZ6aB6Yvq"
      },
      "source": [
        "country_list = ['Kazakhstan','Kenya', 'Kiribati', \"Korea (DPRK)\", 'Korea (ROC)', 'Kosovo', 'Kuwait', 'Kyrgyzstan']"
      ],
      "execution_count": 5,
      "outputs": []
    },
    {
      "cell_type": "code",
      "metadata": {
        "id": "kT9KLjRo6Yvr",
        "colab": {
          "base_uri": "https://localhost:8080/"
        },
        "outputId": "1991687a-99e3-403c-cda9-74e7f22cf95b"
      },
      "source": [
        "# YOUR CODE HERE:\n",
        "\n",
        "for country in country_list:\n",
        "  print (\"Welcome to beautiful\", country, \"!\")"
      ],
      "execution_count": 6,
      "outputs": [
        {
          "output_type": "stream",
          "text": [
            "Welcome to beautiful Kazakhstan !\n",
            "Welcome to beautiful Kenya !\n",
            "Welcome to beautiful Kiribati !\n",
            "Welcome to beautiful Korea (DPRK) !\n",
            "Welcome to beautiful Korea (ROC) !\n",
            "Welcome to beautiful Kosovo !\n",
            "Welcome to beautiful Kuwait !\n",
            "Welcome to beautiful Kyrgyzstan !\n"
          ],
          "name": "stdout"
        }
      ]
    },
    {
      "cell_type": "markdown",
      "metadata": {
        "id": "jk7Up_ae6Yvr"
      },
      "source": [
        "#### EXERCISE 3: Quick brown fox\n",
        "**Split the string below into a list of words, then:**\n",
        "* print only the second to fifth items in the list\n",
        "* count the items in the list\n",
        "* replace \"dog\" with \"dinosaur\""
      ]
    },
    {
      "cell_type": "code",
      "metadata": {
        "id": "UVMQ6Tq16Yvs",
        "colab": {
          "base_uri": "https://localhost:8080/"
        },
        "outputId": "41ef32d3-db4e-4c92-a48c-ad22967009dc"
      },
      "source": [
        "rhyme = \"The quick brown fox jumps over the lazy dog\"\n",
        "\n",
        "# YOUR CODE HERE:\n",
        "rhyme_list = rhyme.split()\n",
        "rhyme_list"
      ],
      "execution_count": 7,
      "outputs": [
        {
          "output_type": "execute_result",
          "data": {
            "text/plain": [
              "['The', 'quick', 'brown', 'fox', 'jumps', 'over', 'the', 'lazy', 'dog']"
            ]
          },
          "metadata": {
            "tags": []
          },
          "execution_count": 7
        }
      ]
    },
    {
      "cell_type": "code",
      "metadata": {
        "id": "bTT8Epal6Yvu",
        "colab": {
          "base_uri": "https://localhost:8080/"
        },
        "outputId": "7f7f9953-a624-485c-c8d8-9213972ddc85"
      },
      "source": [
        "rhyme_list[1:4]"
      ],
      "execution_count": 8,
      "outputs": [
        {
          "output_type": "execute_result",
          "data": {
            "text/plain": [
              "['quick', 'brown', 'fox']"
            ]
          },
          "metadata": {
            "tags": []
          },
          "execution_count": 8
        }
      ]
    },
    {
      "cell_type": "code",
      "metadata": {
        "id": "u1ZaTSQN6Yvu",
        "colab": {
          "base_uri": "https://localhost:8080/"
        },
        "outputId": "66f7a2df-938b-4c73-fbf6-6cff1bf9da45"
      },
      "source": [
        "len(rhyme_list)"
      ],
      "execution_count": 9,
      "outputs": [
        {
          "output_type": "execute_result",
          "data": {
            "text/plain": [
              "9"
            ]
          },
          "metadata": {
            "tags": []
          },
          "execution_count": 9
        }
      ]
    },
    {
      "cell_type": "code",
      "metadata": {
        "id": "4p9_E0em6Yvv",
        "colab": {
          "base_uri": "https://localhost:8080/"
        },
        "outputId": "795c1e82-1c2b-419c-c685-bf6cde5c767e"
      },
      "source": [
        "rhyme_list[8] = \"dinosaur\"\n",
        "rhyme_list"
      ],
      "execution_count": 10,
      "outputs": [
        {
          "output_type": "execute_result",
          "data": {
            "text/plain": [
              "['The', 'quick', 'brown', 'fox', 'jumps', 'over', 'the', 'lazy', 'dinosaur']"
            ]
          },
          "metadata": {
            "tags": []
          },
          "execution_count": 10
        }
      ]
    },
    {
      "cell_type": "markdown",
      "metadata": {
        "id": "xR1aDH6E6Yvw"
      },
      "source": [
        "#### EXERCISE 4: Name formatter\n",
        "**Reformat each name to match the following**: \n",
        "* LAST NAME, First name.\n",
        "\n",
        "Note the capitalization and comma. Hint: use `.split()` and `.upper()`."
      ]
    },
    {
      "cell_type": "code",
      "metadata": {
        "id": "eJzRTknl6Yvw",
        "colab": {
          "base_uri": "https://localhost:8080/"
        },
        "outputId": "9bfe3d5f-51aa-437d-ea76-c1f8b9dd9b18"
      },
      "source": [
        "instructor1 = 'Gaurav Bhardwaj'\n",
        "instructor2 = 'Mahmoud Elsayed'\n",
        "\n",
        "# YOUR CODE HERE:\n",
        "for instructor in [instructor1, instructor2]:    \n",
        "    flipped = \"{}, {}\".format(instructor.split(\" \")[1].upper(), instructor.split(\" \")[0])\n",
        "    print(flipped)"
      ],
      "execution_count": 11,
      "outputs": [
        {
          "output_type": "stream",
          "text": [
            "BHARDWAJ, Gaurav\n",
            "ELSAYED, Mahmoud\n"
          ],
          "name": "stdout"
        }
      ]
    },
    {
      "cell_type": "markdown",
      "metadata": {
        "id": "hBgYAo686Yvw"
      },
      "source": [
        "#### EXERCISE 5: Dog's dinner\n",
        "*Objective: Practice string manipulation*\n",
        "\n",
        "1. Define two strings, a and b.\n",
        "2. Your program should return a single string with a and b separated by a space, except swap the first 2 chars of each string.\n",
        "* eg. 'dog', 'dinner' -> 'dig donner'\n"
      ]
    },
    {
      "cell_type": "code",
      "metadata": {
        "id": "r6JrJGzk6Yvx",
        "colab": {
          "base_uri": "https://localhost:8080/"
        },
        "outputId": "9a97ab77-7275-4141-ae95-7daabdcaf845"
      },
      "source": [
        "# YOUR CODE HERE:\n",
        "\n",
        "a = 'dog'\n",
        "b = 'dinner'\n",
        "\n",
        "new_first_word = b[:2] + a[2:]\n",
        "new_second_word = a[:2] + b[2:]\n",
        "\n",
        "print(new_first_word + ' ' + new_second_word)"
      ],
      "execution_count": 12,
      "outputs": [
        {
          "output_type": "stream",
          "text": [
            "dig donner\n"
          ],
          "name": "stdout"
        }
      ]
    },
    {
      "cell_type": "markdown",
      "metadata": {
        "id": "yYilxcHW6Yvx"
      },
      "source": [
        "Hint: when using Python's square-bracket indexing to access items from strings or lists, remember that indexing starts at zero. Here is why [computers count from zero](https://superuser.com/questions/578292/why-do-computers-count-from-zero).\n"
      ]
    },
    {
      "cell_type": "markdown",
      "metadata": {
        "id": "xzSvZSHl6Yvx"
      },
      "source": [
        "#### EXERCISE 6: Tangled lists\n",
        "\n",
        "*Objective: Navigate a set of lists nested inside lists, use square bracket indexing, use list comprehensions.*\n",
        "\n",
        "Given this nested list, grab the word dragon:"
      ]
    },
    {
      "cell_type": "code",
      "metadata": {
        "id": "tGJfnwn26Yvx"
      },
      "source": [
        "my_list = [0,4,[4,3,2],[420, 250, [1,2,3,'dragon']],365,23,6]"
      ],
      "execution_count": 13,
      "outputs": []
    },
    {
      "cell_type": "code",
      "metadata": {
        "id": "IDQRQ8Y_6Yvy",
        "colab": {
          "base_uri": "https://localhost:8080/",
          "height": 35
        },
        "outputId": "67ae8191-f873-42b3-c6a7-a57f3d03b4b0"
      },
      "source": [
        "my_list[3][2][3]"
      ],
      "execution_count": 14,
      "outputs": [
        {
          "output_type": "execute_result",
          "data": {
            "application/vnd.google.colaboratory.intrinsic+json": {
              "type": "string"
            },
            "text/plain": [
              "'dragon'"
            ]
          },
          "metadata": {
            "tags": []
          },
          "execution_count": 14
        }
      ]
    },
    {
      "cell_type": "markdown",
      "metadata": {
        "id": "JEHqRa1X6Yvy"
      },
      "source": [
        "Convert the following list from strings to integers:"
      ]
    },
    {
      "cell_type": "code",
      "metadata": {
        "id": "fXCjWlcP6Yvy",
        "colab": {
          "base_uri": "https://localhost:8080/"
        },
        "outputId": "c45c5bc3-e91a-40cc-bf63-4d2e2f92c41c"
      },
      "source": [
        "# YOUR CODE HERE:\n",
        "\n",
        "ZIP_list = ['10009','20009','20022','20034','90210']\n",
        "zip_list = [int(i) for i in ZIP_list]\n",
        "zip_list"
      ],
      "execution_count": 15,
      "outputs": [
        {
          "output_type": "execute_result",
          "data": {
            "text/plain": [
              "[10009, 20009, 20022, 20034, 90210]"
            ]
          },
          "metadata": {
            "tags": []
          },
          "execution_count": 15
        }
      ]
    },
    {
      "cell_type": "markdown",
      "metadata": {
        "id": "N8jfYXUj6Yvy"
      },
      "source": [
        "#### EXERCISE 7: Prime numbers\n",
        "*Objective: Combine loops, logic conditions and math operations.*"
      ]
    },
    {
      "cell_type": "markdown",
      "metadata": {
        "id": "9Fjursdk6Yvz"
      },
      "source": [
        "Write a program to loop from 1 to 100 and print all the prime numbers"
      ]
    },
    {
      "cell_type": "code",
      "metadata": {
        "id": "u3hzuz_96Yvz",
        "colab": {
          "base_uri": "https://localhost:8080/"
        },
        "outputId": "c43eb542-1fab-484b-9d1d-e8e187d49240"
      },
      "source": [
        "# YOUR CODE HERE:\n",
        "primes=[]\n",
        "\n",
        "for value in range(1,101):         \n",
        "   if value > 1: \n",
        "       for n in range(2, value): \n",
        "           if (value % n) == 0: \n",
        "               break\n",
        "       else: \n",
        "           primes.append(value)\n",
        "          \n",
        "print(primes)"
      ],
      "execution_count": 16,
      "outputs": [
        {
          "output_type": "stream",
          "text": [
            "[2, 3, 5, 7, 11, 13, 17, 19, 23, 29, 31, 37, 41, 43, 47, 53, 59, 61, 67, 71, 73, 79, 83, 89, 97]\n"
          ],
          "name": "stdout"
        }
      ]
    },
    {
      "cell_type": "markdown",
      "metadata": {
        "id": "sciOJ8AU6Yvz"
      },
      "source": [
        "#### EXERCISE 8: List comprehensions\n",
        "Use list comprehensions to do the following:\n",
        "* 6a. List all numbers from 1 to 1000 that are divisible by 12.\n",
        "* 6b. List all the holiday destinations that are less than 7 characters long."
      ]
    },
    {
      "cell_type": "code",
      "metadata": {
        "id": "JvDB5qwG8OwY",
        "colab": {
          "base_uri": "https://localhost:8080/"
        },
        "outputId": "922258b0-9b1b-4815-f1a2-e83597fba911"
      },
      "source": [
        "# YOUR CODE HERE\n",
        "\n",
        "divisible_by_12 = [i for i in range(1,1001) if i%12==0 ]\n",
        "\n",
        "print(divisible_by_12)"
      ],
      "execution_count": 17,
      "outputs": [
        {
          "output_type": "stream",
          "text": [
            "[12, 24, 36, 48, 60, 72, 84, 96, 108, 120, 132, 144, 156, 168, 180, 192, 204, 216, 228, 240, 252, 264, 276, 288, 300, 312, 324, 336, 348, 360, 372, 384, 396, 408, 420, 432, 444, 456, 468, 480, 492, 504, 516, 528, 540, 552, 564, 576, 588, 600, 612, 624, 636, 648, 660, 672, 684, 696, 708, 720, 732, 744, 756, 768, 780, 792, 804, 816, 828, 840, 852, 864, 876, 888, 900, 912, 924, 936, 948, 960, 972, 984, 996]\n"
          ],
          "name": "stdout"
        }
      ]
    },
    {
      "cell_type": "code",
      "metadata": {
        "id": "tj_7NFOz6Yvz",
        "colab": {
          "base_uri": "https://localhost:8080/"
        },
        "outputId": "cf9a7585-2717-40d8-a248-d9c0b58417d0"
      },
      "source": [
        "# YOUR CODE HERE\n",
        "\n",
        "holiday_destinations = ['maine','cornwall','ibiza','florida','bali','bognor regis']\n",
        "\n",
        "hol_dest=[dest for dest in holiday_destinations if len(dest)<7]\n",
        "hol_dest"
      ],
      "execution_count": 18,
      "outputs": [
        {
          "output_type": "execute_result",
          "data": {
            "text/plain": [
              "['maine', 'ibiza', 'bali']"
            ]
          },
          "metadata": {
            "tags": []
          },
          "execution_count": 18
        }
      ]
    }
  ]
}