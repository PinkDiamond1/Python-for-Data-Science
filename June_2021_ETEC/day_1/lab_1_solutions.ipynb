{
  "nbformat": 4,
  "nbformat_minor": 0,
  "metadata": {
    "kernelspec": {
      "display_name": "Python 3",
      "language": "python",
      "name": "python3"
    },
    "language_info": {
      "codemirror_mode": {
        "name": "ipython",
        "version": 3
      },
      "file_extension": ".py",
      "mimetype": "text/x-python",
      "name": "python",
      "nbconvert_exporter": "python",
      "pygments_lexer": "ipython3",
      "version": "3.7.3"
    },
    "colab": {
      "name": "Copy of lab_1.ipynb",
      "provenance": []
    }
  },
  "cells": [
    {
      "cell_type": "markdown",
      "metadata": {
        "id": "vV-sDDZB0EMo"
      },
      "source": [
        "# Python for Data Science - Lab 1\n",
        "Work through the following exercises. Get through as many as you can in the time allotted.\n",
        "The box lists additional Python functionality that may help you.\n",
        "\n",
        "| Task | Python function |\n",
        "|----|----|\n",
        "| Import the code library 'random' | import random |\n",
        "| Generate random numbers | random.randint() |\n",
        "| Prompt the user for some text | my_variable = input() |\n"
      ]
    },
    {
      "cell_type": "markdown",
      "metadata": {
        "id": "78b71NfY0EMu"
      },
      "source": [
        "#### EXERCISE 1: Number and string drills\n",
        "_Objective: manipulate integers, floats and strings_\n",
        "\n",
        "(a) Convert the temperature forecast from Centigrade to Fahrenheit\n",
        "\n",
        "CONVERSION FORMULA (C to F): First divide by 0.556, then add 32. \n"
      ]
    },
    {
      "cell_type": "code",
      "metadata": {
        "colab": {
          "base_uri": "https://localhost:8080/"
        },
        "id": "ksN8NUZp0EMx",
        "outputId": "59ed41fb-7b47-4e4f-800a-8ab0ef127e43"
      },
      "source": [
        "# YOUR CODE HERE:\n",
        "\n",
        "temp_forecast_C = 38\n",
        "\n",
        "temp_forecast_F = (temp_forecast_C / 0.556) + 32\n",
        "\n",
        "print(temp_forecast_F)"
      ],
      "execution_count": 1,
      "outputs": [
        {
          "output_type": "stream",
          "text": [
            "100.34532374100719\n"
          ],
          "name": "stdout"
        }
      ]
    },
    {
      "cell_type": "markdown",
      "metadata": {
        "id": "-2RsS5fe0EM1"
      },
      "source": [
        "(b) Calculate the mean test score. Print \"Your score was: \" then the mean score as an integer."
      ]
    },
    {
      "cell_type": "code",
      "metadata": {
        "colab": {
          "base_uri": "https://localhost:8080/"
        },
        "id": "_O8mrGcQ0EM1",
        "outputId": "f5e501f2-b55e-49fd-b5c8-34fadf3d1714"
      },
      "source": [
        "# YOUR CODE HERE:\n",
        "\n",
        "score1 = 65\n",
        "score2 = 58\n",
        "score3 = 66\n",
        "score4 = 72\n",
        "\n",
        "mean_score = (score1 + score2 + score3 + score4) / 4 \n",
        "\n",
        "print(\"Compare this output:\")\n",
        "print(\"Your score was:\" , mean_score, \"<=float\")\n",
        "print(\"\")\n",
        "print(\"And this output:\")\n",
        "print(\"Your score was:\" , int(mean_score), \"<=integer\")"
      ],
      "execution_count": 2,
      "outputs": [
        {
          "output_type": "stream",
          "text": [
            "Compare this output:\n",
            "Your score was: 65.25 <=float\n",
            "\n",
            "And this output:\n",
            "Your score was: 65 <=integer\n"
          ],
          "name": "stdout"
        }
      ]
    },
    {
      "cell_type": "code",
      "metadata": {
        "colab": {
          "base_uri": "https://localhost:8080/"
        },
        "id": "O2wYu5dFHnXh",
        "outputId": "8d9a35ab-d67a-47c2-d983-d9fe6a10d7c1"
      },
      "source": [
        "# Alternately:\n",
        "\n",
        "import numpy as np\n",
        "\n",
        "list_of_scores = [score1, score2, score3 , score4]\n",
        "\n",
        "print(\"Your score was:\", int(np.mean(list_of_scores))) # look up np.mean()\n"
      ],
      "execution_count": 3,
      "outputs": [
        {
          "output_type": "stream",
          "text": [
            "Your score was: 65\n"
          ],
          "name": "stdout"
        }
      ]
    },
    {
      "cell_type": "markdown",
      "metadata": {
        "id": "sDhJ3qFR0EM3"
      },
      "source": [
        "(c) The weather forecast is not great. Use `.replace()` to change it to something better."
      ]
    },
    {
      "cell_type": "code",
      "metadata": {
        "scrolled": true,
        "colab": {
          "base_uri": "https://localhost:8080/"
        },
        "id": "Mf5jwZkc0EM4",
        "outputId": "3307ec1b-de54-4ff0-d1f0-ab96458deba4"
      },
      "source": [
        "# YOUR CODE HERE:\n",
        "\n",
        "weather_forecast = \"cold and rainy\"\n",
        "\n",
        "new_weather_forecast = weather_forecast.replace(\"cold\", \"warm\")\n",
        "new_weather_forecast = new_weather_forecast.replace(\"rainy\", \"sunny\")\n",
        "\n",
        "print(new_weather_forecast)\n",
        "\n",
        "# NOTE: we can also look up documentation like so:\n",
        "weather_forecast.replace?\n"
      ],
      "execution_count": 14,
      "outputs": [
        {
          "output_type": "stream",
          "text": [
            "warm and sunny\n"
          ],
          "name": "stdout"
        }
      ]
    },
    {
      "cell_type": "markdown",
      "metadata": {
        "id": "f1DiOfNX0EM5"
      },
      "source": [
        "(d) Combine the four variables into a single string and print it"
      ]
    },
    {
      "cell_type": "code",
      "metadata": {
        "scrolled": true,
        "colab": {
          "base_uri": "https://localhost:8080/"
        },
        "id": "k2J3mQwl0EM6",
        "outputId": "673c2a9c-3e6e-4cde-c303-1dd4978b31da"
      },
      "source": [
        "a = 'Welcome '\n",
        "b = 'to '\n",
        "c = 'lab session '\n",
        "d = 1\n",
        "\n",
        "# YOUR CODE HERE\n",
        "\n",
        "print(a + b + c + str(d))\n"
      ],
      "execution_count": 5,
      "outputs": [
        {
          "output_type": "stream",
          "text": [
            "Welcome to lab session 1\n"
          ],
          "name": "stdout"
        }
      ]
    },
    {
      "cell_type": "markdown",
      "metadata": {
        "id": "C0j8WU3B0EM7"
      },
      "source": [
        "#### EXERCISE 2: Too many donuts?\n",
        "*Objective: handle strings and integers, test conditions*\n",
        "\n",
        "Write a program that will:\n",
        "1. Define a variable 'donuts_eaten'.\n",
        "2. Print a string of the form 'Donuts consumed: `<count>`'. However if 10 or more donuts were eaten, then use the word 'many' instead of the actual count."
      ]
    },
    {
      "cell_type": "code",
      "metadata": {
        "colab": {
          "base_uri": "https://localhost:8080/"
        },
        "id": "khiaQAY50EM8",
        "outputId": "14e0ed3e-869c-4e87-af36-7b8d4d3a8da4"
      },
      "source": [
        "# YOUR CODE HERE:\n",
        "\n",
        "donuts_eaten = 8\n",
        "\n",
        "response = donuts_eaten\n",
        "\n",
        "if donuts_eaten >= 10:\n",
        "    response = 'many'\n",
        "\n",
        "print('Donuts consumed: ', response)"
      ],
      "execution_count": 6,
      "outputs": [
        {
          "output_type": "stream",
          "text": [
            "Donuts consumed:  8\n"
          ],
          "name": "stdout"
        }
      ]
    },
    {
      "cell_type": "markdown",
      "metadata": {
        "id": "u1W8_8wt0EM9"
      },
      "source": [
        "#### EXERCISE 3a: Age calculator\n",
        "*Objective: Define variables, do basic math, convert data types*\n",
        "    \n",
        "Write a program that will:\n",
        "1. Define a variable 'birth_year'\n",
        "2. Define a variable 'current_year'\n",
        "3. Calculate the person's age from these two\n",
        "4. Print the output in format (\"You are x years old.\")"
      ]
    },
    {
      "cell_type": "code",
      "metadata": {
        "colab": {
          "base_uri": "https://localhost:8080/"
        },
        "id": "PUUE7X-m0EM-",
        "outputId": "9f48b8aa-9dde-4bca-9372-b85f5d1d3c16"
      },
      "source": [
        "# YOUR CODE HERE:\n",
        "\n",
        "birth_year = 1990\n",
        "current_year = 2021\n",
        "\n",
        "age = current_year - birth_year\n",
        "\n",
        "print(\"You are {} years old.\".format(age))"
      ],
      "execution_count": 8,
      "outputs": [
        {
          "output_type": "stream",
          "text": [
            "You are 31 years old.\n"
          ],
          "name": "stdout"
        }
      ]
    },
    {
      "cell_type": "markdown",
      "metadata": {
        "id": "mWtCGnQc0EM-"
      },
      "source": [
        "#### EXERCISE 3b: Premier League salaries\n",
        "*Objective: Define variables, do math, use conditional logic.*\n",
        "\n",
        "1. Define two variables, `player_name` (a string), and `annual_salary` (an integer).\n",
        "2. Print the player's name and their earnings per game (NB: they play 38 games per year).\n",
        "3. Now define a Boolean variable `championship_winners`. Set it to `True` or `False`.\n",
        "4. Test whether `championship_winners` is `True`. If so, print the player's earnings again giving them a 50% raise."
      ]
    },
    {
      "cell_type": "code",
      "metadata": {
        "colab": {
          "base_uri": "https://localhost:8080/"
        },
        "id": "cIZMEmZT0EM_",
        "outputId": "3b1842b9-ec1a-4692-e010-47c60e351554"
      },
      "source": [
        "# YOUR CODE HERE:\n",
        "\n",
        "player_name = 'Ronaldo'\n",
        "annual_salary = 137000000\n",
        "days_in_season = 38\n",
        "\n",
        "print('{} earns ${} per month and ${} per day of the season.'.format(player_name,\n",
        "    annual_salary / 12, annual_salary / days_in_season))\n",
        "\n"
      ],
      "execution_count": 10,
      "outputs": [
        {
          "output_type": "stream",
          "text": [
            "Ronaldo earns $11416666.666666666 per month and $3605263.1578947366 per day of the season.\n"
          ],
          "name": "stdout"
        }
      ]
    },
    {
      "cell_type": "markdown",
      "metadata": {
        "id": "LK4taTDk0ENE"
      },
      "source": [
        "#### EXERCISE 4: Higher or lower?\n",
        "*Objective: Test conditions, use a counter.*\n",
        "\n",
        "Write a program to:\n",
        "1. Generate a random number (kept secret from the user).\n",
        "2. Prompt the user \"Guess a number\" and record their input.\n",
        "3. Tell them if they were correct, too high, or too low.\n",
        "\n",
        "BONUS POINTS: limit the number of guesses to 5."
      ]
    },
    {
      "cell_type": "code",
      "metadata": {
        "colab": {
          "base_uri": "https://localhost:8080/"
        },
        "id": "QgKX5Lj-0ENF",
        "outputId": "872d931a-07ea-44da-dcf6-3ece9bdc37d2"
      },
      "source": [
        "# YOUR CODE HERE:\n",
        "\n",
        "import random\n",
        "random_number = random.randint(0,10)\n",
        "\n",
        "user_guess = int(input('Guess a number: '))\n",
        "if user_guess > random_number:\n",
        "    print(\"Too high\")\n",
        "elif user_guess < random_number:\n",
        "    print(\"Too low\")\n",
        "else:\n",
        "    print(\"Correct\")\n",
        "    "
      ],
      "execution_count": 11,
      "outputs": [
        {
          "output_type": "stream",
          "text": [
            "Guess a number: 8\n",
            "Too low\n"
          ],
          "name": "stdout"
        }
      ]
    },
    {
      "cell_type": "markdown",
      "metadata": {
        "id": "Tm7g_qzd0ENG"
      },
      "source": [
        "#### EXERCISE 6: FizzBuzz\n",
        "*Objective: Get a job at Amazon! (they use it in software engineer interviews)*\n",
        "\n",
        "Write a script to:\n",
        "\n",
        "* Print out the numbers from 1 to 20 but replacing numbers with 'Fizz' if divisible by 3, 'Buzz' if divisible by '5', and 'FizzBuzz' if divisible by 3 and 5.\n",
        "\n",
        "Hint: the 'mod' operator, denoted %, is used to check divisibility. Example: 10 % 2 == 0."
      ]
    },
    {
      "cell_type": "code",
      "metadata": {
        "colab": {
          "base_uri": "https://localhost:8080/"
        },
        "id": "2R7GQa840ENH",
        "outputId": "83d1e851-9549-4a01-a98a-7d3a02af8178"
      },
      "source": [
        "# YOUR CODE HERE:\n",
        "\n",
        "\n",
        "for n in range(1,21):\n",
        "    if n % 3 == 0 and n % 5 == 0:\n",
        "        print('FizzBuzz')\n",
        "    elif n % 3 == 0:\n",
        "        print('Fizz')\n",
        "    elif n % 5 == 0:\n",
        "        print('Buzz')\n",
        "    else:\n",
        "        print(n)"
      ],
      "execution_count": 12,
      "outputs": [
        {
          "output_type": "stream",
          "text": [
            "1\n",
            "2\n",
            "Fizz\n",
            "4\n",
            "Buzz\n",
            "Fizz\n",
            "7\n",
            "8\n",
            "Fizz\n",
            "Buzz\n",
            "11\n",
            "Fizz\n",
            "13\n",
            "14\n",
            "FizzBuzz\n",
            "16\n",
            "17\n",
            "Fizz\n",
            "19\n",
            "Buzz\n"
          ],
          "name": "stdout"
        }
      ]
    },
    {
      "cell_type": "markdown",
      "metadata": {
        "id": "mNblVOpy0ENH"
      },
      "source": [
        "#### EXERCISE 4: Dog's dinner\n",
        "*Objective: Practice string manipulation*\n",
        "\n",
        "1. Define two strings, a and b.\n",
        "2. Your program should return a single string with a and b separated by a space, except swap the first 2 chars of each string.\n",
        "* eg. 'dog', 'dinner' -> 'dig donner'\n"
      ]
    },
    {
      "cell_type": "code",
      "metadata": {
        "colab": {
          "base_uri": "https://localhost:8080/"
        },
        "id": "oKUxjwiW0ENI",
        "outputId": "ecc16d17-1156-4887-b3d4-434cd72b3786"
      },
      "source": [
        "# YOUR CODE HERE:\n",
        "\n",
        "a = 'dog'\n",
        "b = 'dinner'\n",
        "\n",
        "new_first_word = b[:2] + a[2:]\n",
        "new_second_word = a[:2] + b[2:]\n",
        "\n",
        "print(new_first_word + ' ' + new_second_word)"
      ],
      "execution_count": 13,
      "outputs": [
        {
          "output_type": "stream",
          "text": [
            "dig donner\n"
          ],
          "name": "stdout"
        }
      ]
    },
    {
      "cell_type": "code",
      "metadata": {
        "id": "vhRA162hIwyv"
      },
      "source": [
        ""
      ],
      "execution_count": null,
      "outputs": []
    }
  ]
}