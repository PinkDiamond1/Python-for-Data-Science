{
 "cells": [
  {
   "cell_type": "markdown",
   "metadata": {},
   "source": [
    "# Python for Data Science - Lab 1\n",
    "Work through the following exercises. Get through as many as you can in the time allotted.\n",
    "The box lists additional Python functionality that may help you.\n",
    "\n",
    "| Task | Python function |\n",
    "|----|----|\n",
    "| Import the code library 'random' | import random |\n",
    "| Generate random numbers | random.randint() |\n",
    "| Prompt the user for some text | my_variable = input() |\n"
   ]
  },
  {
   "cell_type": "markdown",
   "metadata": {},
   "source": [
    "#### EXERCISE 1: Number and string drills\n",
    "_Objective: manipulate integers, floats and strings_\n",
    "\n",
    "(a) Convert the temperature forecast from Centigrade to Fahrenheit\n",
    "\n",
    "CONVERSION FORMULA (C to F): First divide by 0.556, then add 32. \n"
   ]
  },
  {
   "cell_type": "code",
   "execution_count": 8,
   "metadata": {},
   "outputs": [
    {
     "data": {
      "text/plain": [
       "100.39452843772499"
      ]
     },
     "execution_count": 8,
     "metadata": {},
     "output_type": "execute_result"
    }
   ],
   "source": [
    "# YOUR CODE HERE:\n",
    "\n",
    "temp_forecast_C = 38\n"
   ]
  },
  {
   "cell_type": "markdown",
   "metadata": {},
   "source": [
    "(b) Calculate the mean test score. Print \"Your score was: \" then the mean score as an integer."
   ]
  },
  {
   "cell_type": "code",
   "execution_count": 17,
   "metadata": {},
   "outputs": [
    {
     "name": "stdout",
     "output_type": "stream",
     "text": [
      "Your score was: 207\n"
     ]
    }
   ],
   "source": [
    "# YOUR CODE HERE:\n",
    "\n",
    "score1 = 65\n",
    "score2 = 58\n",
    "score3 = 66\n",
    "score4 = 72"
   ]
  },
  {
   "cell_type": "markdown",
   "metadata": {},
   "source": [
    "(c) The weather forecast is not great. Use `.replace()` to change it to something better."
   ]
  },
  {
   "cell_type": "code",
   "execution_count": 10,
   "metadata": {
    "scrolled": true
   },
   "outputs": [
    {
     "name": "stdout",
     "output_type": "stream",
     "text": [
      "warm and sunny\n"
     ]
    }
   ],
   "source": [
    "# YOUR CODE HERE:\n",
    "\n",
    "weather_forecast = \"cold and rainy\""
   ]
  },
  {
   "cell_type": "markdown",
   "metadata": {},
   "source": [
    "(d) Combine the four variables into a single string and print it"
   ]
  },
  {
   "cell_type": "code",
   "execution_count": 20,
   "metadata": {
    "scrolled": true
   },
   "outputs": [
    {
     "name": "stdout",
     "output_type": "stream",
     "text": [
      "Welcome to lab session 1\n"
     ]
    }
   ],
   "source": [
    "a = 'Welcome '\n",
    "b = 'to '\n",
    "c = 'lab session '\n",
    "d = 1\n",
    "\n",
    "# YOUR CODE HERE\n"
   ]
  },
  {
   "cell_type": "markdown",
   "metadata": {},
   "source": [
    "#### EXERCISE 2: Too many donuts?\n",
    "*Objective: handle strings and integers, test conditions*\n",
    "\n",
    "Write a program that will:\n",
    "1. Define a variable 'donuts_eaten'.\n",
    "2. Print a string of the form 'Donuts consumed: `<count>`'. However if 10 or more donuts were eaten, then use the word 'many' instead of the actual count."
   ]
  },
  {
   "cell_type": "code",
   "execution_count": null,
   "metadata": {},
   "outputs": [],
   "source": [
    "# YOUR CODE HERE:\n",
    "\n",
    "donuts_eaten = "
   ]
  },
  {
   "cell_type": "markdown",
   "metadata": {},
   "source": [
    "#### EXERCISE 3a: Age calculator\n",
    "*Objective: Define variables, do basic math, convert data types*\n",
    "    \n",
    "Write a program that will:\n",
    "1. Define a variable 'birth_year'\n",
    "2. Define a variable 'current_year'\n",
    "3. Calculate the person's age from these two\n",
    "4. Print the output in format (\"You are x years old.\")"
   ]
  },
  {
   "cell_type": "code",
   "execution_count": 3,
   "metadata": {},
   "outputs": [],
   "source": [
    "# YOUR CODE HERE:\n",
    "\n",
    "birth_year = \n",
    "current_year = "
   ]
  },
  {
   "cell_type": "markdown",
   "metadata": {},
   "source": [
    "#### EXERCISE 3b: Premier League salaries\n",
    "*Objective: Define variables, do math, use conditional logic.*\n",
    "\n",
    "1. Define two variables, `player_name` (a string), and `annual_salary` (an integer).\n",
    "2. Print the player's name and their earnings per game (NB: they play 38 games per year).\n",
    "3. Now define a Boolean variable `championship_winners`. Set it to `True` or `False`.\n",
    "4. Test whether `championship_winners` is `True`. If so, print the player's earnings again giving them a 50% raise."
   ]
  },
  {
   "cell_type": "code",
   "execution_count": 22,
   "metadata": {},
   "outputs": [
    {
     "name": "stdout",
     "output_type": "stream",
     "text": [
      "Ronaldo's earnings per match:  3605263\n"
     ]
    }
   ],
   "source": [
    "player_name = 'Ronaldo'\n",
    "annual_salary = 137000000\n",
    "days_in_season = 38\n",
    "\n",
    "# YOUR CODE HERE:\n"
   ]
  },
  {
   "cell_type": "markdown",
   "metadata": {},
   "source": [
    "#### EXERCISE 4: Higher or lower?\n",
    "*Objective: Test conditions, use a counter.*\n",
    "\n",
    "Write a program to:\n",
    "1. Generate a random number (kept secret from the user).\n",
    "2. Prompt the user \"Guess a number\" and record their input.\n",
    "3. Tell them if they were correct, too high, or too low.\n",
    "\n",
    "BONUS POINTS: limit the number of guesses to 5."
   ]
  },
  {
   "cell_type": "code",
   "execution_count": 5,
   "metadata": {},
   "outputs": [],
   "source": [
    "# YOUR CODE HERE:"
   ]
  },
  {
   "cell_type": "markdown",
   "metadata": {},
   "source": [
    "#### EXERCISE 6: FizzBuzz\n",
    "*Objective: Get a job at Amazon! (they use it in software engineer interviews)*\n",
    "\n",
    "Write a script to:\n",
    "\n",
    "* Print out the numbers from 1 to 20 but replacing numbers with 'Fizz' if divisible by 3, 'Buzz' if divisible by '5', and 'FizzBuzz' if divisible by 3 and 5.\n",
    "\n",
    "Hint: the 'mod' operator, denoted %, is used to check divisibility. Example: 10 % 2 == 0."
   ]
  },
  {
   "cell_type": "code",
   "execution_count": null,
   "metadata": {},
   "outputs": [],
   "source": [
    "# YOUR CODE HERE:"
   ]
  },
  {
   "cell_type": "markdown",
   "metadata": {},
   "source": [
    "#### EXERCISE 4: Dog's dinner\n",
    "*Objective: Practice string manipulation*\n",
    "\n",
    "1. Define two strings, a and b.\n",
    "2. Your program should return a single string with a and b separated by a space, except swap the first 2 chars of each string.\n",
    "* eg. 'dog', 'dinner' -> 'dig donner'\n"
   ]
  },
  {
   "cell_type": "code",
   "execution_count": null,
   "metadata": {},
   "outputs": [],
   "source": [
    "# YOUR CODE HERE:"
   ]
  }
 ],
 "metadata": {
  "kernelspec": {
   "display_name": "Python 3",
   "language": "python",
   "name": "python3"
  },
  "language_info": {
   "codemirror_mode": {
    "name": "ipython",
    "version": 3
   },
   "file_extension": ".py",
   "mimetype": "text/x-python",
   "name": "python",
   "nbconvert_exporter": "python",
   "pygments_lexer": "ipython3",
   "version": "3.7.3"
  }
 },
 "nbformat": 4,
 "nbformat_minor": 2
}
