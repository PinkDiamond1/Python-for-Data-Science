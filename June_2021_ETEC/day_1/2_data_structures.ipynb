{
 "cells": [
  {
   "cell_type": "markdown",
   "metadata": {},
   "source": [
    "### Session 2: Data structures and control flow - towards big data\n",
    "This session goes into more depth on strings, numerical data and compound data types like lists. Building your agility with these structures is crucial for what follows! We'll begin to handle data at scale through loops and list comprehensions. "
   ]
  },
  {
   "cell_type": "markdown",
   "metadata": {},
   "source": [
    "### 1: Strings and escape characters\n",
    "Strings can be defined several ways, such as with single quotes or double quotes. Why? Strings themselves may include quotes. The resulting ambiguity can break your code. All programming languages have tricks to get around this issue:"
   ]
  },
  {
   "cell_type": "code",
   "execution_count": 1,
   "metadata": {},
   "outputs": [
    {
     "name": "stdout",
     "output_type": "stream",
     "text": [
      "Yes, they said.\n",
      "Yes, they said.\n"
     ]
    }
   ],
   "source": [
    "# One string, two ways\n",
    "\n",
    "print('Yes, they said.')\n",
    "print(\"Yes, they said.\")"
   ]
  },
  {
   "cell_type": "code",
   "execution_count": 2,
   "metadata": {},
   "outputs": [
    {
     "ename": "SyntaxError",
     "evalue": "invalid syntax (<ipython-input-2-4ab7d24cf427>, line 3)",
     "output_type": "error",
     "traceback": [
      "\u001b[0;36m  File \u001b[0;32m\"<ipython-input-2-4ab7d24cf427>\"\u001b[0;36m, line \u001b[0;32m3\u001b[0m\n\u001b[0;31m    print(''Yes', they said.')\u001b[0m\n\u001b[0m              ^\u001b[0m\n\u001b[0;31mSyntaxError\u001b[0m\u001b[0;31m:\u001b[0m invalid syntax\n"
     ]
    }
   ],
   "source": [
    "# An easy way to trip up\n",
    "\n",
    "print(''Yes', they said.')"
   ]
  },
  {
   "cell_type": "code",
   "execution_count": 3,
   "metadata": {},
   "outputs": [
    {
     "name": "stdout",
     "output_type": "stream",
     "text": [
      "'Yes', they said\n"
     ]
    }
   ],
   "source": [
    "# If your string contains one type of quote, define it with the other type\n",
    "\n",
    "print(\"'Yes', they said\")"
   ]
  },
  {
   "cell_type": "code",
   "execution_count": 5,
   "metadata": {},
   "outputs": [
    {
     "ename": "SyntaxError",
     "evalue": "(unicode error) 'unicodeescape' codec can't decode bytes in position 2-3: truncated \\UXXXXXXXX escape (<ipython-input-5-476b78c05dfe>, line 3)",
     "output_type": "error",
     "traceback": [
      "\u001b[0;36m  File \u001b[0;32m\"<ipython-input-5-476b78c05dfe>\"\u001b[0;36m, line \u001b[0;32m3\u001b[0m\n\u001b[0;31m    string_will_fail = 'C:\\Users\\charl\\Documents\\CE\\RAM\\OneDrive_1_3-6-2019\\QXN\\RN'\u001b[0m\n\u001b[0m                      ^\u001b[0m\n\u001b[0;31mSyntaxError\u001b[0m\u001b[0;31m:\u001b[0m (unicode error) 'unicodeescape' codec can't decode bytes in position 2-3: truncated \\UXXXXXXXX escape\n"
     ]
    }
   ],
   "source": [
    "# careful with unintended escape characters in filenames!\n",
    "\n",
    "string_will_fail = 'C:\\Users\\charl\\Documents\\CE\\RAM\\OneDrive_1_3-6-2019\\QXN\\RN'"
   ]
  },
  {
   "cell_type": "code",
   "execution_count": 6,
   "metadata": {},
   "outputs": [],
   "source": [
    "# adding r denotes 'raw string'\n",
    "\n",
    "string_will_work = r'C:\\Users\\charl\\Documents\\CE\\RAM\\OneDrive_1_3-6-2019\\QXN\\RN'"
   ]
  },
  {
   "cell_type": "markdown",
   "metadata": {},
   "source": [
    "### 2. Control the `print` statement\n",
    "`print()` is a built-in function that echos objects to the console. When printing strings, use the .format() method. Putting this at the end of a string let's you:\n",
    "* substitute variables into the string;\n",
    "* control how they're formatted (eg. decimal places)."
   ]
  },
  {
   "cell_type": "code",
   "execution_count": 7,
   "metadata": {},
   "outputs": [
    {
     "name": "stdout",
     "output_type": "stream",
     "text": [
      "A string: that was easy\n"
     ]
    }
   ],
   "source": [
    "print(\"A string: that was easy\")"
   ]
  },
  {
   "cell_type": "code",
   "execution_count": 8,
   "metadata": {},
   "outputs": [
    {
     "name": "stdout",
     "output_type": "stream",
     "text": [
      "42 that was also easy\n"
     ]
    }
   ],
   "source": [
    "print(42, \"that was also easy\")"
   ]
  },
  {
   "cell_type": "code",
   "execution_count": 9,
   "metadata": {},
   "outputs": [
    {
     "name": "stdout",
     "output_type": "stream",
     "text": [
      "54.794520547945204 that's not ideal\n"
     ]
    }
   ],
   "source": [
    "print(20000/365, \"that's not ideal\")"
   ]
  },
  {
   "cell_type": "code",
   "execution_count": 10,
   "metadata": {},
   "outputs": [
    {
     "name": "stdout",
     "output_type": "stream",
     "text": [
      "Here's a number: 42. It's less than 50\n"
     ]
    }
   ],
   "source": [
    "# include variables inside strings with {}, then (after the string), .format()\n",
    "x = 42\n",
    "\n",
    "print(\"Here's a number: {}. It's less than 50\".format(x))"
   ]
  },
  {
   "cell_type": "code",
   "execution_count": 11,
   "metadata": {},
   "outputs": [
    {
     "name": "stdout",
     "output_type": "stream",
     "text": [
      "Is 42 really less than 50? Answer: True.\n"
     ]
    }
   ],
   "source": [
    "# you can include multiple substitutions, and they don't have to be variables (operations are fine)\n",
    "\n",
    "print(\"Is {} really less than 50? Answer: {}.\".format(x, x<50))"
   ]
  },
  {
   "cell_type": "markdown",
   "metadata": {},
   "source": [
    "Note: `.format()` actually has a mini-language associated with it, check the documentation [here](https://pyformat.info/)."
   ]
  },
  {
   "cell_type": "code",
   "execution_count": 12,
   "metadata": {},
   "outputs": [
    {
     "name": "stdout",
     "output_type": "stream",
     "text": [
      "Daily salary is approximately 54.79 (two decimal places)\n"
     ]
    }
   ],
   "source": [
    "# just memorize this one for now:\n",
    "\n",
    "print(\"Daily salary is approximately {:.2f} (two decimal places)\".format(20000/365))"
   ]
  },
  {
   "cell_type": "markdown",
   "metadata": {},
   "source": [
    "### 3. Indexing and slicing\n",
    "Several data types are defined as 'sequences.' They share a common approach to selecting their elements using square bracket notation. This powerful notation works across strings, lists, arrays and DataFrames:"
   ]
  },
  {
   "cell_type": "code",
   "execution_count": 13,
   "metadata": {},
   "outputs": [
    {
     "data": {
      "text/plain": [
       "'P'"
      ]
     },
     "execution_count": 13,
     "metadata": {},
     "output_type": "execute_result"
    }
   ],
   "source": [
    "# to get one character from a string, put the index number in square brackets directly after the variable name\n",
    "language = 'Python'\n",
    "language[0] "
   ]
  },
  {
   "cell_type": "code",
   "execution_count": 14,
   "metadata": {},
   "outputs": [
    {
     "data": {
      "text/plain": [
       "'n'"
      ]
     },
     "execution_count": 14,
     "metadata": {},
     "output_type": "execute_result"
    }
   ],
   "source": [
    "# index values can be negative.\n",
    "language[-1]"
   ]
  },
  {
   "cell_type": "markdown",
   "metadata": {},
   "source": [
    "Index values point between characters. The left edge of the first character is 0. Python has six characters, so the right edge of the last character is index 6."
   ]
  },
  {
   "cell_type": "code",
   "execution_count": 15,
   "metadata": {},
   "outputs": [],
   "source": [
    "#       +---+---+---+---+---+---+\n",
    "#       | P | y | t | h | o | n |\n",
    "#       +---+---+---+---+---+---+\n",
    "#       0   1   2   3   4   5   6\n",
    "#      -6  -5  -4  -3  -2  -1\n",
    "\n",
    "# credit: www.python.org/3/tutorial"
   ]
  },
  {
   "cell_type": "markdown",
   "metadata": {},
   "source": [
    "You can 'slice' strings and other sequences, using the start and end index"
   ]
  },
  {
   "cell_type": "code",
   "execution_count": 16,
   "metadata": {},
   "outputs": [
    {
     "data": {
      "text/plain": [
       "'Pyth'"
      ]
     },
     "execution_count": 16,
     "metadata": {},
     "output_type": "execute_result"
    }
   ],
   "source": [
    "# slices give you all elements from the start index, up to (but not including) the end index\n",
    "\n",
    "language[0:4]"
   ]
  },
  {
   "cell_type": "markdown",
   "metadata": {},
   "source": [
    "What happens if you leave out the start or end index while slicing? Python will use default values instead. Take a sequence of length `n`. For start position, it will default to 0. For end position, it will default to `n`."
   ]
  },
  {
   "cell_type": "code",
   "execution_count": 17,
   "metadata": {},
   "outputs": [
    {
     "data": {
      "text/plain": [
       "'Pyth'"
      ]
     },
     "execution_count": 17,
     "metadata": {},
     "output_type": "execute_result"
    }
   ],
   "source": [
    "# everything up to fourth index\n",
    "language[:4]"
   ]
  },
  {
   "cell_type": "code",
   "execution_count": 18,
   "metadata": {},
   "outputs": [
    {
     "data": {
      "text/plain": [
       "'on'"
      ]
     },
     "execution_count": 18,
     "metadata": {},
     "output_type": "execute_result"
    }
   ],
   "source": [
    "# fourth position onwards\n",
    "language[4:]"
   ]
  },
  {
   "cell_type": "code",
   "execution_count": 19,
   "metadata": {},
   "outputs": [
    {
     "data": {
      "text/plain": [
       "'thon'"
      ]
     },
     "execution_count": 19,
     "metadata": {},
     "output_type": "execute_result"
    }
   ],
   "source": [
    "# fourth from last, up to end of string\n",
    "language[-4:]"
   ]
  },
  {
   "cell_type": "markdown",
   "metadata": {},
   "source": [
    "Sneak preview: You can use the same index notation with higher dimensional datastructures, eg. a 3D array (eg. a stack of rasters: latitude, longitude, time, temperature)."
   ]
  },
  {
   "cell_type": "markdown",
   "metadata": {},
   "source": [
    "### 3. An aside: extracting data from messy strings"
   ]
  },
  {
   "cell_type": "code",
   "execution_count": 20,
   "metadata": {},
   "outputs": [],
   "source": [
    "# say you get a large column of ZIP codes, but in a messy format like this\n",
    "zip_code1 = \"Fred: ZIP 20022-0049\"\n",
    "zip_code2 = \"Margaret: ZIP 20009-0132\""
   ]
  },
  {
   "cell_type": "code",
   "execution_count": 21,
   "metadata": {},
   "outputs": [
    {
     "data": {
      "text/plain": [
       "'20022'"
      ]
     },
     "execution_count": 21,
     "metadata": {},
     "output_type": "execute_result"
    }
   ],
   "source": [
    "# we're interested in this part:\n",
    "zip_code1[10:15]"
   ]
  },
  {
   "cell_type": "code",
   "execution_count": 22,
   "metadata": {
    "scrolled": true
   },
   "outputs": [],
   "source": [
    "# how could we systematicaly pull out the key 5 digits, to create a clean list of zips?"
   ]
  },
  {
   "cell_type": "markdown",
   "metadata": {},
   "source": [
    "To crack a problem like this, you could:\n",
    "* Use tab completion to list available string methods\n",
    "* Ask StackOverflow\n",
    "* Check the [documentation](https://docs.python.org/2/library/stdtypes.html#string-methods)"
   ]
  },
  {
   "cell_type": "code",
   "execution_count": 23,
   "metadata": {},
   "outputs": [],
   "source": [
    "# Get help on the .split() method\n",
    "\n",
    "zip_code1.split?"
   ]
  },
  {
   "cell_type": "code",
   "execution_count": 24,
   "metadata": {},
   "outputs": [],
   "source": [
    "# a quick solution: split each string twice (using a different separator):\n",
    "\n",
    "answer = zip_code1.split()[2].split('-')[0]"
   ]
  },
  {
   "cell_type": "code",
   "execution_count": 25,
   "metadata": {},
   "outputs": [
    {
     "data": {
      "text/plain": [
       "20022"
      ]
     },
     "execution_count": 25,
     "metadata": {},
     "output_type": "execute_result"
    }
   ],
   "source": [
    "# then make it an integer:\n",
    "\n",
    "int(answer)"
   ]
  },
  {
   "cell_type": "markdown",
   "metadata": {},
   "source": [
    "Operating on data at scale requires more firepower: eg. list comprehensions and functions."
   ]
  },
  {
   "cell_type": "markdown",
   "metadata": {},
   "source": [
    "### 4: Test conditions with Boolean logic\n",
    "To build up operations on larger datasets, more control flow tricks are helpful: including Boolean logic.\n",
    "\n",
    "The statement `a == b` asks Python to evaluate whether variable a equals variable b; the interpreter will return True or False.\n",
    "\n",
    "Similar statements would be `a > b`, `a >= b`, or `a != b`. "
   ]
  },
  {
   "cell_type": "code",
   "execution_count": 27,
   "metadata": {},
   "outputs": [
    {
     "name": "stdout",
     "output_type": "stream",
     "text": [
      "Dear Python, please evaluate the statement 'a > b' for me.\n",
      "ANSWER: True\n"
     ]
    }
   ],
   "source": [
    "a = 6\n",
    "b = 4\n",
    "\n",
    "print(\"Dear Python, please evaluate the statement 'a > b' for me.\")\n",
    "\n",
    "print(\"ANSWER:\", a > b)"
   ]
  },
  {
   "cell_type": "markdown",
   "metadata": {},
   "source": [
    "The `and`, `or` and `not` operators check whether combinations of statements are true at the same time."
   ]
  },
  {
   "cell_type": "code",
   "execution_count": 28,
   "metadata": {},
   "outputs": [],
   "source": [
    "month = 'July'\n",
    "hour = 14"
   ]
  },
  {
   "cell_type": "code",
   "execution_count": 29,
   "metadata": {},
   "outputs": [
    {
     "data": {
      "text/plain": [
       "False"
      ]
     },
     "execution_count": 29,
     "metadata": {},
     "output_type": "execute_result"
    }
   ],
   "source": [
    "(month == 'July') and (hour < 12)         # is it a morning in July?"
   ]
  },
  {
   "cell_type": "code",
   "execution_count": 30,
   "metadata": {},
   "outputs": [
    {
     "data": {
      "text/plain": [
       "True"
      ]
     },
     "execution_count": 30,
     "metadata": {},
     "output_type": "execute_result"
    }
   ],
   "source": [
    "(month == 'July') or (hour < 12)          # is it either a morning, or in July?"
   ]
  },
  {
   "cell_type": "code",
   "execution_count": 31,
   "metadata": {},
   "outputs": [
    {
     "data": {
      "text/plain": [
       "True"
      ]
     },
     "execution_count": 31,
     "metadata": {},
     "output_type": "execute_result"
    }
   ],
   "source": [
    "not(hour < 12) and (month == 'July')     # is it not a morning, and in July?"
   ]
  },
  {
   "cell_type": "markdown",
   "metadata": {},
   "source": [
    "You can apply Boolean logic to lists. This is the idea of Boolean masking (we'll return to this later - useful to filter datasets based on conditions, or when handling raster data)."
   ]
  },
  {
   "cell_type": "code",
   "execution_count": 32,
   "metadata": {},
   "outputs": [],
   "source": [
    "some_values = [3, 5, 6, 8, 9, 11, 14, 16]       # Let's get only even numbers"
   ]
  },
  {
   "cell_type": "code",
   "execution_count": 33,
   "metadata": {},
   "outputs": [],
   "source": [
    "mask = []\n",
    "\n",
    "for value in some_values:\n",
    "    mask.append(value % 2 == 0)                 # is the number divisible by two?"
   ]
  },
  {
   "cell_type": "code",
   "execution_count": 34,
   "metadata": {},
   "outputs": [
    {
     "data": {
      "text/plain": [
       "[False, False, True, True, False, False, True, True]"
      ]
     },
     "execution_count": 34,
     "metadata": {},
     "output_type": "execute_result"
    }
   ],
   "source": [
    "mask"
   ]
  },
  {
   "cell_type": "code",
   "execution_count": 35,
   "metadata": {},
   "outputs": [
    {
     "name": "stdout",
     "output_type": "stream",
     "text": [
      "6\n",
      "8\n",
      "14\n",
      "16\n"
     ]
    }
   ],
   "source": [
    "for i in range(len(some_values)):\n",
    "    if mask[i]:\n",
    "        print(some_values[i])"
   ]
  },
  {
   "cell_type": "markdown",
   "metadata": {},
   "source": [
    "### 5. Building programs with `if`, `elif` and `else`\n",
    "\n",
    "We already met `if` constructions. Get the indentation right, and build more sophisticated rules that test multiple conditions."
   ]
  },
  {
   "cell_type": "code",
   "execution_count": 36,
   "metadata": {},
   "outputs": [
    {
     "name": "stdout",
     "output_type": "stream",
     "text": [
      "Number is greater than 10\n"
     ]
    }
   ],
   "source": [
    "# an if statement executes the indented code only if some condition is true\n",
    "\n",
    "my_value = 11\n",
    "\n",
    "if my_value > 10:\n",
    "    print(\"Number is greater than 10\")"
   ]
  },
  {
   "cell_type": "code",
   "execution_count": 37,
   "metadata": {},
   "outputs": [
    {
     "name": "stdout",
     "output_type": "stream",
     "text": [
      "Number is between 10 and 15\n"
     ]
    }
   ],
   "source": [
    "# use Boolean operators to test multiple conditions\n",
    "\n",
    "if (my_value > 10) and (my_value < 15):\n",
    "    print(\"Number is between 10 and 15\")"
   ]
  },
  {
   "cell_type": "code",
   "execution_count": 38,
   "metadata": {},
   "outputs": [
    {
     "name": "stdout",
     "output_type": "stream",
     "text": [
      "Number is greater than 10\n"
     ]
    }
   ],
   "source": [
    "# if the first if statement evaluates to false, elif executes a code block if its condition is true\n",
    "# else executes a code block if no preceding if or elif evaluated to true\n",
    "\n",
    "if (my_value > 0) and (my_value < 10):\n",
    "    print(\"Number is positive and less than 10\")\n",
    "    \n",
    "elif my_value > 10:\n",
    "    print(\"Number is greater than 10\")\n",
    "        \n",
    "else:\n",
    "    print(\"Must be negative or not a number.\")"
   ]
  },
  {
   "cell_type": "markdown",
   "metadata": {},
   "source": [
    "### 6. Iterables and range()"
   ]
  },
  {
   "cell_type": "code",
   "execution_count": 41,
   "metadata": {},
   "outputs": [
    {
     "name": "stdout",
     "output_type": "stream",
     "text": [
      "Breakfast has 9 letters\n",
      "Snack has 5 letters\n",
      "Dinner has 6 letters\n"
     ]
    }
   ],
   "source": [
    "# strings and lists are examples of iterables: they can return their members one-by-one.\n",
    "\n",
    "for meal in ['Breakfast', 'Snack', 'Dinner']:\n",
    "    print(\"{} has {} letters\".format(meal, len(meal)))"
   ]
  },
  {
   "cell_type": "code",
   "execution_count": 42,
   "metadata": {},
   "outputs": [
    {
     "name": "stdout",
     "output_type": "stream",
     "text": [
      "NUMBERS AND THEIR CUBES\n",
      "0 0\n",
      "1 1\n",
      "2 8\n",
      "3 27\n",
      "4 64\n"
     ]
    }
   ],
   "source": [
    "# range() is another way to generate iterables; it returns an arithmetic series\n",
    "\n",
    "print(\"NUMBERS AND THEIR CUBES\")\n",
    "for i in range(5):\n",
    "    print(i, i**3)"
   ]
  },
  {
   "cell_type": "code",
   "execution_count": 43,
   "metadata": {},
   "outputs": [
    {
     "name": "stdout",
     "output_type": "stream",
     "text": [
      "NUMBERS AND THEIR CUBES\n",
      "-5 -125\n",
      "-4 -64\n",
      "-3 -27\n",
      "-2 -8\n",
      "-1 -1\n",
      "0 0\n",
      "1 1\n",
      "2 8\n",
      "3 27\n",
      "4 64\n"
     ]
    }
   ],
   "source": [
    "# as usual, you get all numbers from start point (included) to end point (not included)\n",
    "\n",
    "print(\"NUMBERS AND THEIR CUBES\")\n",
    "for i in range(-5, 5):\n",
    "    print(i, i**3)"
   ]
  },
  {
   "cell_type": "code",
   "execution_count": 44,
   "metadata": {
    "scrolled": true
   },
   "outputs": [
    {
     "name": "stdout",
     "output_type": "stream",
     "text": [
      "Give me numbers up to n, where n = 3\n",
      "0\n",
      "1\n",
      "2\n",
      "3\n"
     ]
    }
   ],
   "source": [
    "# using range(n+1) often makes sense\n",
    "\n",
    "print('Give me numbers up to n, where n = 3')\n",
    "\n",
    "n = 3\n",
    "for i in range(n+1):\n",
    "    print(i)"
   ]
  },
  {
   "cell_type": "code",
   "execution_count": 45,
   "metadata": {},
   "outputs": [
    {
     "data": {
      "text/plain": [
       "range(0, 5)"
      ]
     },
     "execution_count": 45,
     "metadata": {},
     "output_type": "execute_result"
    }
   ],
   "source": [
    "# what happens when you print a range() item?\n",
    "range(5)"
   ]
  },
  {
   "cell_type": "code",
   "execution_count": 46,
   "metadata": {},
   "outputs": [
    {
     "data": {
      "text/plain": [
       "[0, 1, 2, 3, 4]"
      ]
     },
     "execution_count": 46,
     "metadata": {},
     "output_type": "execute_result"
    }
   ],
   "source": [
    "# the list() function turns any iterable into a list.   (not ideal if you're counting to 1 million!)\n",
    "list(range(5))"
   ]
  },
  {
   "cell_type": "code",
   "execution_count": 47,
   "metadata": {},
   "outputs": [
    {
     "name": "stdout",
     "output_type": "stream",
     "text": [
      "Meal 1 today: Breakfast\n",
      "Meal 2 today: Post-Breakfast Snack\n",
      "Meal 3 today: Elevenses\n",
      "Meal 4 today: Lunch\n",
      "Meal 5 today: Tea\n",
      "Meal 6 today: Dinner\n",
      "Meal 7 today: Bedtime snack\n"
     ]
    }
   ],
   "source": [
    "# enumerate() lets you loop through an iterable,  keeping track of where you are\n",
    "\n",
    "meals = ['Breakfast', 'Post-Breakfast Snack','Elevenses', 'Lunch','Tea','Dinner','Bedtime snack']\n",
    "\n",
    "for n, meal in enumerate(meals):\n",
    "    print(\"Meal {} today: {}\".format(n + 1, meal))"
   ]
  },
  {
   "cell_type": "markdown",
   "metadata": {},
   "source": [
    "### 9. List comprehensions\n",
    "Return to our zip code example. We have seen many ways to operate on strings or numbers. But how to scale these operations across several hundred (or thousand) examples?\n",
    "\n",
    "List comprehensions are a concise way to build lists using rules. They apply an operation to a series of items, and package the result in a list."
   ]
  },
  {
   "cell_type": "code",
   "execution_count": 48,
   "metadata": {},
   "outputs": [
    {
     "data": {
      "text/plain": [
       "[0, 1, 4, 9, 16, 25, 36, 49, 64, 81]"
      ]
     },
     "execution_count": 48,
     "metadata": {},
     "output_type": "execute_result"
    }
   ],
   "source": [
    "# first a squares example\n",
    "[x**2 for x in range(10)]"
   ]
  },
  {
   "cell_type": "markdown",
   "metadata": {},
   "source": [
    "Steps:\n",
    "* First write the expression to evaluate.\n",
    "* Then add a `for` statement\n",
    "* And the sequence to perform the operation on."
   ]
  },
  {
   "cell_type": "code",
   "execution_count": 49,
   "metadata": {},
   "outputs": [],
   "source": [
    "# re-write the following as a list comprehension\n",
    "\n",
    "absolute_cubes = []\n",
    "for n in range(-100, 101):\n",
    "    absolute_cubes.append((n**3))"
   ]
  },
  {
   "cell_type": "code",
   "execution_count": 50,
   "metadata": {},
   "outputs": [],
   "source": [
    "# code here:\n"
   ]
  },
  {
   "cell_type": "markdown",
   "metadata": {},
   "source": [
    "__Data wrangling example__"
   ]
  },
  {
   "cell_type": "code",
   "execution_count": 51,
   "metadata": {},
   "outputs": [],
   "source": [
    "# here's our messy input data\n",
    "input_data = [\"Alex: ZIP 20022-0049\", \"Margaret: ZIP 20009-0132\", \"Hermione: ZIP 10009-3214\"]"
   ]
  },
  {
   "cell_type": "code",
   "execution_count": 52,
   "metadata": {},
   "outputs": [],
   "source": [
    "# as a for loop\n",
    "\n",
    "clean_list = []\n",
    "for i in input_data:\n",
    "    clean_list.append(i.split()[2].split('-')[0])"
   ]
  },
  {
   "cell_type": "code",
   "execution_count": 53,
   "metadata": {},
   "outputs": [
    {
     "data": {
      "text/plain": [
       "['20022', '20009', '10009']"
      ]
     },
     "execution_count": 53,
     "metadata": {},
     "output_type": "execute_result"
    }
   ],
   "source": [
    "[x.split()[2].split('-')[0] for x in input_data]"
   ]
  },
  {
   "cell_type": "code",
   "execution_count": null,
   "metadata": {},
   "outputs": [],
   "source": []
  }
 ],
 "metadata": {
  "kernelspec": {
   "display_name": "APIs_geospatial",
   "language": "python",
   "name": "apis_geospatial"
  },
  "language_info": {
   "codemirror_mode": {
    "name": "ipython",
    "version": 3
   },
   "file_extension": ".py",
   "mimetype": "text/x-python",
   "name": "python",
   "nbconvert_exporter": "python",
   "pygments_lexer": "ipython3",
   "version": "3.7.3"
  }
 },
 "nbformat": 4,
 "nbformat_minor": 2
}
