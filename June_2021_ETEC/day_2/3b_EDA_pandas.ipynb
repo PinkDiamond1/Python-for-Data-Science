{
 "cells": [
  {
   "cell_type": "markdown",
   "metadata": {},
   "source": [
    "## Session 3: Pandas"
   ]
  },
  {
   "cell_type": "code",
   "execution_count": 330,
   "metadata": {},
   "outputs": [],
   "source": [
    "import numpy as np\n",
    "import pandas as pd"
   ]
  },
  {
   "cell_type": "code",
   "execution_count": 331,
   "metadata": {},
   "outputs": [],
   "source": [
    "# Set path\n",
    "\n",
    "path = r'https://raw.githubusercontent.com/worldbank/Python-for-Data-Science/master/June_2021_ETEC/day_2/data/data_edu.csv'"
   ]
  },
  {
   "cell_type": "code",
   "execution_count": 332,
   "metadata": {},
   "outputs": [],
   "source": [
    "# Read data from csv file into dataframe\n",
    "\n",
    "df = pd.read_csv(path, encoding = 'utf_8')"
   ]
  },
  {
   "cell_type": "markdown",
   "metadata": {},
   "source": [
    "### Data Exploration"
   ]
  },
  {
   "cell_type": "code",
   "execution_count": 104,
   "metadata": {},
   "outputs": [
    {
     "data": {
      "text/plain": [
       "(50397, 18)"
      ]
     },
     "execution_count": 104,
     "metadata": {},
     "output_type": "execute_result"
    }
   ],
   "source": [
    "# Check dataframe shape: (# of observations, # of columns)\n",
    "\n",
    "df.shape"
   ]
  },
  {
   "cell_type": "code",
   "execution_count": 333,
   "metadata": {},
   "outputs": [
    {
     "data": {
      "text/html": [
       "<div>\n",
       "<style scoped>\n",
       "    .dataframe tbody tr th:only-of-type {\n",
       "        vertical-align: middle;\n",
       "    }\n",
       "\n",
       "    .dataframe tbody tr th {\n",
       "        vertical-align: top;\n",
       "    }\n",
       "\n",
       "    .dataframe thead th {\n",
       "        text-align: right;\n",
       "    }\n",
       "</style>\n",
       "<table border=\"1\" class=\"dataframe\">\n",
       "  <thead>\n",
       "    <tr style=\"text-align: right;\">\n",
       "      <th></th>\n",
       "      <th>country_id</th>\n",
       "      <th>country</th>\n",
       "      <th>country_school_id</th>\n",
       "      <th>country_student_id</th>\n",
       "      <th>student_gender</th>\n",
       "      <th>computer_at_home</th>\n",
       "      <th>internet_at_home</th>\n",
       "      <th>immigration_status</th>\n",
       "      <th>early_education</th>\n",
       "      <th>repeated_grades</th>\n",
       "      <th>school_location</th>\n",
       "      <th>school_type</th>\n",
       "      <th>school_size</th>\n",
       "      <th>class_size</th>\n",
       "      <th>socioeconomic_index</th>\n",
       "      <th>math_score</th>\n",
       "      <th>reading_score</th>\n",
       "      <th>parent_education</th>\n",
       "    </tr>\n",
       "  </thead>\n",
       "  <tbody>\n",
       "    <tr>\n",
       "      <th>0</th>\n",
       "      <td>Argentina</td>\n",
       "      <td>Argentina</td>\n",
       "      <td>3200001</td>\n",
       "      <td>3213049</td>\n",
       "      <td>Female</td>\n",
       "      <td>No</td>\n",
       "      <td>Yes</td>\n",
       "      <td>First-Generation</td>\n",
       "      <td>Attended ECEC for at least two but less than t...</td>\n",
       "      <td>Repeated a  grade</td>\n",
       "      <td>A city (100 000 to about 1 000 000 people)</td>\n",
       "      <td>Public</td>\n",
       "      <td>570</td>\n",
       "      <td>31-35 students</td>\n",
       "      <td>-1.3730</td>\n",
       "      <td>314.25031</td>\n",
       "      <td>424.07239</td>\n",
       "      <td>Post secondary, non-tertiary</td>\n",
       "    </tr>\n",
       "    <tr>\n",
       "      <th>1</th>\n",
       "      <td>Argentina</td>\n",
       "      <td>Argentina</td>\n",
       "      <td>3200001</td>\n",
       "      <td>3203374</td>\n",
       "      <td>Female</td>\n",
       "      <td>Yes</td>\n",
       "      <td>Yes</td>\n",
       "      <td>Native</td>\n",
       "      <td>Attended ECEC for at least two but less than t...</td>\n",
       "      <td>Did not repeat a  grade</td>\n",
       "      <td>A city (100 000 to about 1 000 000 people)</td>\n",
       "      <td>Public</td>\n",
       "      <td>570</td>\n",
       "      <td>31-35 students</td>\n",
       "      <td>-1.1825</td>\n",
       "      <td>356.07629</td>\n",
       "      <td>380.26309</td>\n",
       "      <td>Post secondary, non-tertiary</td>\n",
       "    </tr>\n",
       "  </tbody>\n",
       "</table>\n",
       "</div>"
      ],
      "text/plain": [
       "  country_id    country  country_school_id  country_student_id student_gender  \\\n",
       "0  Argentina  Argentina            3200001             3213049         Female   \n",
       "1  Argentina  Argentina            3200001             3203374         Female   \n",
       "\n",
       "  computer_at_home internet_at_home immigration_status  \\\n",
       "0               No              Yes   First-Generation   \n",
       "1              Yes              Yes             Native   \n",
       "\n",
       "                                     early_education          repeated_grades  \\\n",
       "0  Attended ECEC for at least two but less than t...        Repeated a  grade   \n",
       "1  Attended ECEC for at least two but less than t...  Did not repeat a  grade   \n",
       "\n",
       "                              school_location school_type school_size  \\\n",
       "0  A city (100 000 to about 1 000 000 people)      Public         570   \n",
       "1  A city (100 000 to about 1 000 000 people)      Public         570   \n",
       "\n",
       "       class_size  socioeconomic_index  math_score  reading_score  \\\n",
       "0  31-35 students              -1.3730   314.25031      424.07239   \n",
       "1  31-35 students              -1.1825   356.07629      380.26309   \n",
       "\n",
       "               parent_education  \n",
       "0  Post secondary, non-tertiary  \n",
       "1  Post secondary, non-tertiary  "
      ]
     },
     "execution_count": 333,
     "metadata": {},
     "output_type": "execute_result"
    }
   ],
   "source": [
    "# Inspect the first two rows of dataframe\n",
    "\n",
    "df.head(2)"
   ]
  },
  {
   "cell_type": "code",
   "execution_count": 334,
   "metadata": {},
   "outputs": [
    {
     "data": {
      "text/plain": [
       "Index(['country_id', 'country', 'country_school_id', 'country_student_id',\n",
       "       'student_gender', 'computer_at_home', 'internet_at_home',\n",
       "       'immigration_status', 'early_education', 'repeated_grades',\n",
       "       'school_location', 'school_type', 'school_size', 'class_size',\n",
       "       'socioeconomic_index', 'math_score', 'reading_score',\n",
       "       'parent_education'],\n",
       "      dtype='object')"
      ]
     },
     "execution_count": 334,
     "metadata": {},
     "output_type": "execute_result"
    }
   ],
   "source": [
    "# Inspect dataframe columns\n",
    "\n",
    "df.columns"
   ]
  },
  {
   "cell_type": "code",
   "execution_count": 383,
   "metadata": {},
   "outputs": [
    {
     "data": {
      "text/html": [
       "<div>\n",
       "<style scoped>\n",
       "    .dataframe tbody tr th:only-of-type {\n",
       "        vertical-align: middle;\n",
       "    }\n",
       "\n",
       "    .dataframe tbody tr th {\n",
       "        vertical-align: top;\n",
       "    }\n",
       "\n",
       "    .dataframe thead th {\n",
       "        text-align: right;\n",
       "    }\n",
       "</style>\n",
       "<table border=\"1\" class=\"dataframe\">\n",
       "  <thead>\n",
       "    <tr style=\"text-align: right;\">\n",
       "      <th></th>\n",
       "      <th>country</th>\n",
       "      <th>school_type</th>\n",
       "      <th>reading_score</th>\n",
       "      <th>math_score</th>\n",
       "    </tr>\n",
       "  </thead>\n",
       "  <tbody>\n",
       "    <tr>\n",
       "      <th>0</th>\n",
       "      <td>Argentina</td>\n",
       "      <td>Public</td>\n",
       "      <td>424.07239</td>\n",
       "      <td>314.25031</td>\n",
       "    </tr>\n",
       "    <tr>\n",
       "      <th>1</th>\n",
       "      <td>Argentina</td>\n",
       "      <td>Public</td>\n",
       "      <td>380.26309</td>\n",
       "      <td>356.07629</td>\n",
       "    </tr>\n",
       "    <tr>\n",
       "      <th>2</th>\n",
       "      <td>Argentina</td>\n",
       "      <td>Public</td>\n",
       "      <td>384.89191</td>\n",
       "      <td>338.08029</td>\n",
       "    </tr>\n",
       "    <tr>\n",
       "      <th>3</th>\n",
       "      <td>Argentina</td>\n",
       "      <td>Public</td>\n",
       "      <td>392.88031</td>\n",
       "      <td>310.38690</td>\n",
       "    </tr>\n",
       "    <tr>\n",
       "      <th>4</th>\n",
       "      <td>Argentina</td>\n",
       "      <td>Public</td>\n",
       "      <td>452.03439</td>\n",
       "      <td>397.42441</td>\n",
       "    </tr>\n",
       "    <tr>\n",
       "      <th>...</th>\n",
       "      <td>...</td>\n",
       "      <td>...</td>\n",
       "      <td>...</td>\n",
       "      <td>...</td>\n",
       "    </tr>\n",
       "    <tr>\n",
       "      <th>50392</th>\n",
       "      <td>United States</td>\n",
       "      <td>Public</td>\n",
       "      <td>571.73859</td>\n",
       "      <td>543.91510</td>\n",
       "    </tr>\n",
       "    <tr>\n",
       "      <th>50393</th>\n",
       "      <td>United States</td>\n",
       "      <td>Public</td>\n",
       "      <td>632.34979</td>\n",
       "      <td>517.25360</td>\n",
       "    </tr>\n",
       "    <tr>\n",
       "      <th>50394</th>\n",
       "      <td>United States</td>\n",
       "      <td>Public</td>\n",
       "      <td>638.23328</td>\n",
       "      <td>579.05408</td>\n",
       "    </tr>\n",
       "    <tr>\n",
       "      <th>50395</th>\n",
       "      <td>United States</td>\n",
       "      <td>Public</td>\n",
       "      <td>339.23511</td>\n",
       "      <td>302.05261</td>\n",
       "    </tr>\n",
       "    <tr>\n",
       "      <th>50396</th>\n",
       "      <td>United States</td>\n",
       "      <td>Public</td>\n",
       "      <td>638.25922</td>\n",
       "      <td>525.31409</td>\n",
       "    </tr>\n",
       "  </tbody>\n",
       "</table>\n",
       "<p>50397 rows × 4 columns</p>\n",
       "</div>"
      ],
      "text/plain": [
       "             country school_type  reading_score  math_score\n",
       "0          Argentina      Public      424.07239   314.25031\n",
       "1          Argentina      Public      380.26309   356.07629\n",
       "2          Argentina      Public      384.89191   338.08029\n",
       "3          Argentina      Public      392.88031   310.38690\n",
       "4          Argentina      Public      452.03439   397.42441\n",
       "...              ...         ...            ...         ...\n",
       "50392  United States      Public      571.73859   543.91510\n",
       "50393  United States      Public      632.34979   517.25360\n",
       "50394  United States      Public      638.23328   579.05408\n",
       "50395  United States      Public      339.23511   302.05261\n",
       "50396  United States      Public      638.25922   525.31409\n",
       "\n",
       "[50397 rows x 4 columns]"
      ]
     },
     "execution_count": 383,
     "metadata": {},
     "output_type": "execute_result"
    }
   ],
   "source": [
    "# Can also subset dataframe by relevant columns\n",
    "\n",
    "list_of_relevant_columns = [\"country\", \"school_type\", \"reading_score\", \"math_score\"]\n",
    "\n",
    "df[list_of_relevant_columns]"
   ]
  },
  {
   "cell_type": "code",
   "execution_count": 105,
   "metadata": {},
   "outputs": [
    {
     "name": "stdout",
     "output_type": "stream",
     "text": [
      "<class 'pandas.core.frame.DataFrame'>\n",
      "RangeIndex: 50397 entries, 0 to 50396\n",
      "Data columns (total 18 columns):\n",
      " #   Column               Non-Null Count  Dtype  \n",
      "---  ------               --------------  -----  \n",
      " 0   country_id           50397 non-null  object \n",
      " 1   country              50397 non-null  object \n",
      " 2   country_school_id    50397 non-null  int64  \n",
      " 3   country_student_id   50397 non-null  int64  \n",
      " 4   student_gender       50397 non-null  object \n",
      " 5   computer_at_home     49965 non-null  object \n",
      " 6   internet_at_home     49965 non-null  object \n",
      " 7   immigration_status   50397 non-null  object \n",
      " 8   early_education      50397 non-null  object \n",
      " 9   repeated_grades      50397 non-null  object \n",
      " 10  school_location      49511 non-null  object \n",
      " 11  school_type          50397 non-null  object \n",
      " 12  school_size          50397 non-null  object \n",
      " 13  class_size           49395 non-null  object \n",
      " 14  socioeconomic_index  49564 non-null  float64\n",
      " 15  math_score           50397 non-null  float64\n",
      " 16  reading_score        50397 non-null  float64\n",
      " 17  parent_education     50397 non-null  object \n",
      "dtypes: float64(3), int64(2), object(13)\n",
      "memory usage: 6.9+ MB\n"
     ]
    }
   ],
   "source": [
    "# Get a quick overview of the dataframe (columns, missing values, data types)\n",
    "\n",
    "df.info()"
   ]
  },
  {
   "cell_type": "code",
   "execution_count": 348,
   "metadata": {},
   "outputs": [
    {
     "data": {
      "text/plain": [
       "50392    543.91510\n",
       "50393    517.25360\n",
       "50394    579.05408\n",
       "50395    302.05261\n",
       "50396    525.31409\n",
       "Name: math_score, dtype: float64"
      ]
     },
     "execution_count": 348,
     "metadata": {},
     "output_type": "execute_result"
    }
   ],
   "source": [
    "# Use square bracket notation to inspect a column \n",
    "\n",
    "df[\"math_score\"].tail()"
   ]
  },
  {
   "cell_type": "code",
   "execution_count": 349,
   "metadata": {},
   "outputs": [
    {
     "data": {
      "text/plain": [
       "50392    543.91510\n",
       "50393    517.25360\n",
       "50394    579.05408\n",
       "50395    302.05261\n",
       "50396    525.31409\n",
       "Name: math_score, dtype: float64"
      ]
     },
     "execution_count": 349,
     "metadata": {},
     "output_type": "execute_result"
    }
   ],
   "source": [
    "# Alternate method: using dot notation:\n",
    "\n",
    "df.math_score[-5:]"
   ]
  },
  {
   "cell_type": "code",
   "execution_count": 350,
   "metadata": {},
   "outputs": [
    {
     "data": {
      "text/plain": [
       "469.53370103240275"
      ]
     },
     "execution_count": 350,
     "metadata": {},
     "output_type": "execute_result"
    }
   ],
   "source": [
    "# # Summarize select columns: \n",
    "\n",
    "df.math_score.mean()"
   ]
  },
  {
   "cell_type": "code",
   "execution_count": 351,
   "metadata": {},
   "outputs": [
    {
     "data": {
      "text/plain": [
       "count    50397.000000\n",
       "mean       469.533701\n",
       "std         96.473981\n",
       "min        128.113910\n",
       "25%        399.351590\n",
       "50%        470.627810\n",
       "75%        540.987120\n",
       "max        797.783020\n",
       "Name: math_score, dtype: float64"
      ]
     },
     "execution_count": 351,
     "metadata": {},
     "output_type": "execute_result"
    }
   ],
   "source": [
    "# Alternately: \n",
    "\n",
    "df.math_score.describe()"
   ]
  },
  {
   "cell_type": "code",
   "execution_count": 358,
   "metadata": {},
   "outputs": [
    {
     "data": {
      "text/plain": [
       "(19692, 18)"
      ]
     },
     "execution_count": 358,
     "metadata": {},
     "output_type": "execute_result"
    }
   ],
   "source": [
    "# Select a subset of the dataframe: i.e. values where a conditional statement is True\n",
    "\n",
    "df[df.math_score>500].shape"
   ]
  },
  {
   "cell_type": "code",
   "execution_count": 360,
   "metadata": {},
   "outputs": [
    {
     "data": {
      "text/plain": [
       "(30705, 18)"
      ]
     },
     "execution_count": 360,
     "metadata": {},
     "output_type": "execute_result"
    }
   ],
   "source": [
    "# Similarly\n",
    "\n",
    "df[df.math_score<=500].shape"
   ]
  },
  {
   "cell_type": "code",
   "execution_count": 374,
   "metadata": {},
   "outputs": [
    {
     "data": {
      "text/plain": [
       "(50397, 18)"
      ]
     },
     "execution_count": 374,
     "metadata": {},
     "output_type": "execute_result"
    }
   ],
   "source": [
    "# Together, the two subsets above make up the original dataframe\n",
    "\n",
    "df.shape"
   ]
  },
  {
   "cell_type": "code",
   "execution_count": 356,
   "metadata": {},
   "outputs": [
    {
     "data": {
      "text/plain": [
       "8"
      ]
     },
     "execution_count": 356,
     "metadata": {},
     "output_type": "execute_result"
    }
   ],
   "source": [
    "# Check the unique number of values in a column (good for categorical data)\n",
    "\n",
    "df.country.nunique()"
   ]
  },
  {
   "cell_type": "code",
   "execution_count": 118,
   "metadata": {},
   "outputs": [
    {
     "data": {
      "text/plain": [
       "array(['Argentina', 'Finland', 'Japan', 'Netherlands', 'New Zealand',\n",
       "       'Norway', 'Romania', 'United States'], dtype=object)"
      ]
     },
     "execution_count": 118,
     "metadata": {},
     "output_type": "execute_result"
    }
   ],
   "source": [
    "# Check what those unique values are: \n",
    "\n",
    "df.country.unique()"
   ]
  },
  {
   "cell_type": "code",
   "execution_count": 119,
   "metadata": {},
   "outputs": [
    {
     "data": {
      "text/plain": [
       "array(['Public', 'Private Government-dependent', 'Private Independent',\n",
       "       'No Response', 'Invalid'], dtype=object)"
      ]
     },
     "execution_count": 119,
     "metadata": {},
     "output_type": "execute_result"
    }
   ],
   "source": [
    "df.school_type.unique()"
   ]
  },
  {
   "cell_type": "code",
   "execution_count": 123,
   "metadata": {},
   "outputs": [
    {
     "data": {
      "text/plain": [
       "Did not repeat a  grade    32399\n",
       "No Response                13513\n",
       "Repeated a  grade           4485\n",
       "Name: repeated_grades, dtype: int64"
      ]
     },
     "execution_count": 123,
     "metadata": {},
     "output_type": "execute_result"
    }
   ],
   "source": [
    "# For categorical variables, we can see how observations are distributed across different values: \n",
    "\n",
    "df.repeated_grades.value_counts()"
   ]
  },
  {
   "cell_type": "code",
   "execution_count": 357,
   "metadata": {},
   "outputs": [
    {
     "data": {
      "text/plain": [
       "Did not repeat a  grade    0.642876\n",
       "No Response                0.268131\n",
       "Repeated a  grade          0.088993\n",
       "Name: repeated_grades, dtype: float64"
      ]
     },
     "execution_count": 357,
     "metadata": {},
     "output_type": "execute_result"
    }
   ],
   "source": [
    "# Alternately, : \n",
    "\n",
    "df.repeated_grades.value_counts(normalize = True)"
   ]
  },
  {
   "cell_type": "code",
   "execution_count": 125,
   "metadata": {},
   "outputs": [
    {
     "data": {
      "text/plain": [
       "<AxesSubplot:ylabel='Frequency'>"
      ]
     },
     "execution_count": 125,
     "metadata": {},
     "output_type": "execute_result"
    },
    {
     "data": {
      "image/png": "[encoded data removed]",
      "text/plain": [
       "<Figure size 432x288 with 1 Axes>"
      ]
     },
     "metadata": {
      "needs_background": "light"
     },
     "output_type": "display_data"
    }
   ],
   "source": [
    "# Call matplotlib from pandas\n",
    "\n",
    "# Check how math scores are distributed\n",
    "\n",
    "df.math_score.plot(kind=\"hist\")"
   ]
  },
  {
   "cell_type": "code",
   "execution_count": 126,
   "metadata": {},
   "outputs": [
    {
     "data": {
      "text/plain": [
       "<AxesSubplot:>"
      ]
     },
     "execution_count": 126,
     "metadata": {},
     "output_type": "execute_result"
    },
    {
     "data": {
      "image/png": "[encoded data removed]",
      "text/plain": [
       "<Figure size 432x288 with 1 Axes>"
      ]
     },
     "metadata": {
      "needs_background": "light"
     },
     "output_type": "display_data"
    }
   ],
   "source": [
    "# Bar graph for levels of parent education\n",
    "\n",
    "df.parent_education.value_counts().plot(kind = 'bar')"
   ]
  },
  {
   "cell_type": "code",
   "execution_count": 375,
   "metadata": {},
   "outputs": [
    {
     "data": {
      "text/plain": [
       "(6109, 18)"
      ]
     },
     "execution_count": 375,
     "metadata": {},
     "output_type": "execute_result"
    }
   ],
   "source": [
    "# Create new dataframe (subset of df) based on condition\n",
    "\n",
    "df_japan = df[df.country==\"Japan\"]\n",
    "df_japan.shape"
   ]
  },
  {
   "cell_type": "code",
   "execution_count": 368,
   "metadata": {},
   "outputs": [
    {
     "data": {
      "text/plain": [
       "<AxesSubplot:ylabel='school_type'>"
      ]
     },
     "execution_count": 368,
     "metadata": {},
     "output_type": "execute_result"
    },
    {
     "data": {
      "image/png": "[encoded data removed]",
      "text/plain": [
       "<Figure size 432x288 with 1 Axes>"
      ]
     },
     "metadata": {},
     "output_type": "display_data"
    }
   ],
   "source": [
    "df_japan.school_type.value_counts().plot(kind = 'pie')"
   ]
  },
  {
   "cell_type": "code",
   "execution_count": 369,
   "metadata": {},
   "outputs": [
    {
     "data": {
      "image/png": "[encoded data removed]",
      "text/plain": [
       "<Figure size 432x288 with 1 Axes>"
      ]
     },
     "metadata": {
      "needs_background": "light"
     },
     "output_type": "display_data"
    }
   ],
   "source": [
    "df_japan.plot(x = 'math_score', y = 'reading_score', kind = 'scatter', title = 'Student Scores: Math and Reading');"
   ]
  },
  {
   "cell_type": "markdown",
   "metadata": {},
   "source": [
    "### Sample Lab"
   ]
  },
  {
   "cell_type": "code",
   "execution_count": 246,
   "metadata": {},
   "outputs": [
    {
     "name": "stdout",
     "output_type": "stream",
     "text": [
      "Maximum Math Score Globally: 797.78302 \n",
      "Minimum Math Score Globally: 128.11391\n"
     ]
    }
   ],
   "source": [
    "# 1. Find out the highest and lowest math_scores globally\n",
    "\n",
    "max_math_score = df.math_score.max()\n",
    "min_math_score = df.math_score.min()\n",
    "\n",
    "print(\"Maximum Math Score Globally:\", \n",
    "      max_math_score,\n",
    "      \"\\nMinimum Math Score Globally:\", \n",
    "      min_math_score)"
   ]
  },
  {
   "cell_type": "code",
   "execution_count": 247,
   "metadata": {},
   "outputs": [
    {
     "name": "stdout",
     "output_type": "stream",
     "text": [
      "Maximum Reading Score Globally: 810.48743 \n",
      "Minimum Reading Score Globally: 79.250099\n"
     ]
    }
   ],
   "source": [
    "# 2. Find out the highest and lowest reading_score Globally\n",
    "\n",
    "max_reading_score = df.reading_score.max()\n",
    "min_reading_score = df.reading_score.min()\n",
    "\n",
    "print(\"Maximum Reading Score Globally:\", \n",
    "      max_reading_score,\n",
    "      \"\\nMinimum Reading Score Globally:\", \n",
    "      min_reading_score)"
   ]
  },
  {
   "cell_type": "code",
   "execution_count": 251,
   "metadata": {},
   "outputs": [
    {
     "name": "stdout",
     "output_type": "stream",
     "text": [
      "Maximum Math Score in Japan: 768.0210000000001 \n",
      "Minimum Math Score in Japan: 248.82249\n"
     ]
    }
   ],
   "source": [
    "# 3. Find out the highest and lowest math_score for students in Japan\n",
    "max_math_score_japan = df[df.country==\"Japan\"].math_score.max()\n",
    "min_math_score_japan = df[df.country==\"Japan\"].math_score.min()\n",
    "\n",
    "print(\"Maximum Math Score in Japan:\", \n",
    "      max_math_score_japan,\n",
    "      \"\\nMinimum Math Score in Japan:\", \n",
    "      min_math_score_japan)"
   ]
  },
  {
   "cell_type": "code",
   "execution_count": 259,
   "metadata": {},
   "outputs": [
    {
     "data": {
      "text/plain": [
       "country_id                                           New Zealand\n",
       "country                                              New Zealand\n",
       "country_school_id                                       55400085\n",
       "country_student_id                                      55403875\n",
       "student_gender                                            Female\n",
       "computer_at_home                                            True\n",
       "internet_at_home                                            True\n",
       "immigration_status                             Second-Generation\n",
       "early_education                                      No Response\n",
       "repeated_grades                          Did not repeat a  grade\n",
       "school_location        A large city (with over 1 000 000 people)\n",
       "school_type                                  Private Independent\n",
       "school_size                                                  NaN\n",
       "class_size                                        21-25 students\n",
       "socioeconomic_index                                       1.7182\n",
       "math_score                                               736.818\n",
       "reading_score                                            730.991\n",
       "parent_education                        Post secondary, tertiary\n",
       "is_female                                                   True\n",
       "Name: 31262, dtype: object"
      ]
     },
     "execution_count": 259,
     "metadata": {},
     "output_type": "execute_result"
    }
   ],
   "source": [
    "# 4. Which student (unique observation) has the highest math score among female student? Which country is this student from?\n",
    "\n",
    "df[df.student_gender==\"Female\"].loc[df[df.student_gender==\"Female\"].math_score.idxmax(),:]"
   ]
  },
  {
   "cell_type": "code",
   "execution_count": 283,
   "metadata": {},
   "outputs": [
    {
     "name": "stdout",
     "output_type": "stream",
     "text": [
      "Mean reading score in the United States = 500.5676861967755 \n",
      "Standard deviation of reading scores in the United States = 104.97531391496908\n"
     ]
    }
   ],
   "source": [
    "# 5. What is the mean and standard deviation of reading score for students in the United States\n",
    "\n",
    "\n",
    "print(\"Mean reading score in the United States =\", \n",
    "      df[df.country==\"United States\"].reading_score.mean(),\n",
    "      \"\\nStandard deviation of reading scores in the United States =\",\n",
    "      df[df.country==\"United States\"].reading_score.std())"
   ]
  },
  {
   "cell_type": "code",
   "execution_count": 276,
   "metadata": {},
   "outputs": [
    {
     "data": {
      "text/plain": [
       "0.4978"
      ]
     },
     "execution_count": 276,
     "metadata": {},
     "output_type": "execute_result"
    }
   ],
   "source": [
    "# 6. What percentage of students are male? Round the answer to four decimal places.\n",
    "\n",
    "df.student_gender.value_counts(normalize=True)[1].round(4)"
   ]
  },
  {
   "cell_type": "code",
   "execution_count": 290,
   "metadata": {},
   "outputs": [
    {
     "name": "stdout",
     "output_type": "stream",
     "text": [
      "Share of Finnish students who scored higher than or equal to 500 in math =  0.5593910426624181\n"
     ]
    }
   ],
   "source": [
    "# 7. Among students in Finland, what is the share of students who scored higher than or equal to 500 in maths?\n",
    "\n",
    "fin_above_500 = df[(df.country==\"Finland\")&(df.math_score>=500)].shape[0]\n",
    "\n",
    "print(\"Share of Finnish students who scored higher than or equal to 500 in math = \", fin_above_500 / df[df.country==\"Finland\"].shape[0])\n"
   ]
  },
  {
   "cell_type": "code",
   "execution_count": 293,
   "metadata": {},
   "outputs": [
    {
     "data": {
      "text/plain": [
       "477.10250999999994"
      ]
     },
     "execution_count": 293,
     "metadata": {},
     "output_type": "execute_result"
    }
   ],
   "source": [
    "# 7. Is it true that median reading scores are higher after omitting students whose socioeconomic_index is listed as null? \n",
    "# Hint: Calculate median reading_score with and without omitting null values for socioeconomic status \n",
    "\n",
    "df.reading_score.median()"
   ]
  },
  {
   "cell_type": "code",
   "execution_count": 294,
   "metadata": {},
   "outputs": [
    {
     "data": {
      "text/plain": [
       "478.122205"
      ]
     },
     "execution_count": 294,
     "metadata": {},
     "output_type": "execute_result"
    }
   ],
   "source": [
    "df[df.socioeconomic_index.notna()].reading_score.median()"
   ]
  },
  {
   "cell_type": "code",
   "execution_count": 298,
   "metadata": {},
   "outputs": [
    {
     "data": {
      "text/plain": [
       "Public                          34218\n",
       "Private Government-dependent     6000\n",
       "Invalid                          5813\n",
       "Private Independent              3359\n",
       "No Response                      1007\n",
       "Name: school_type, dtype: int64"
      ]
     },
     "execution_count": 298,
     "metadata": {},
     "output_type": "execute_result"
    }
   ],
   "source": [
    "# 8. What school_type do a majority of students belong to? \n",
    "\n",
    "df.school_type.value_counts()"
   ]
  },
  {
   "cell_type": "code",
   "execution_count": 302,
   "metadata": {},
   "outputs": [
    {
     "data": {
      "text/plain": [
       "True"
      ]
     },
     "execution_count": 302,
     "metadata": {},
     "output_type": "execute_result"
    }
   ],
   "source": [
    "# 9. Which variable can be used as a unique student identifier? How do we know? \n",
    "\n",
    "df.country_student_id.nunique()==df.shape[0]"
   ]
  },
  {
   "cell_type": "code",
   "execution_count": 303,
   "metadata": {},
   "outputs": [
    {
     "name": "stdout",
     "output_type": "stream",
     "text": [
      "Column country_id has 8 unique values\n",
      "Column country has 8 unique values\n",
      "Column country_school_id has 1785 unique values\n",
      "Column country_student_id has 50397 unique values\n",
      "Column student_gender has 2 unique values\n",
      "Column computer_at_home has 2 unique values\n",
      "Column internet_at_home has 2 unique values\n",
      "Column immigration_status has 5 unique values\n",
      "Column early_education has 10 unique values\n",
      "Column repeated_grades has 3 unique values\n",
      "Column school_location has 7 unique values\n",
      "Column school_type has 5 unique values\n",
      "Column school_size has 861 unique values\n",
      "Column class_size has 11 unique values\n",
      "Column socioeconomic_index has 27933 unique values\n",
      "Column math_score has 50037 unique values\n",
      "Column reading_score has 50082 unique values\n",
      "Column parent_education has 7 unique values\n",
      "Column is_female has 2 unique values\n"
     ]
    }
   ],
   "source": [
    "for column in df.columns:\n",
    "    print(\"Column\", column, \"has\", df[column].nunique(), \"unique values\")"
   ]
  },
  {
   "cell_type": "code",
   "execution_count": 308,
   "metadata": {},
   "outputs": [
    {
     "data": {
      "text/plain": [
       "14"
      ]
     },
     "execution_count": 308,
     "metadata": {},
     "output_type": "execute_result"
    }
   ],
   "source": [
    "# 10. How many schools only have one student represented? How many have less than 10? \n",
    "\n",
    "df.country_school_id.value_counts()[df.country_school_id.value_counts()==1].shape[0]"
   ]
  },
  {
   "cell_type": "code",
   "execution_count": 309,
   "metadata": {},
   "outputs": [
    {
     "data": {
      "text/plain": [
       "1771"
      ]
     },
     "execution_count": 309,
     "metadata": {},
     "output_type": "execute_result"
    }
   ],
   "source": [
    "df.country_school_id.value_counts()[df.country_school_id.value_counts()>1].shape[0]"
   ]
  },
  {
   "cell_type": "code",
   "execution_count": 311,
   "metadata": {},
   "outputs": [
    {
     "data": {
      "text/plain": [
       "96"
      ]
     },
     "execution_count": 311,
     "metadata": {},
     "output_type": "execute_result"
    }
   ],
   "source": [
    "df.country_school_id.value_counts()[df.country_school_id.value_counts()<10].shape[0]"
   ]
  },
  {
   "cell_type": "code",
   "execution_count": null,
   "metadata": {},
   "outputs": [],
   "source": [
    "# 11. How ould you omit observations if country_school_id has less than 10 students represented? "
   ]
  },
  {
   "cell_type": "code",
   "execution_count": 314,
   "metadata": {},
   "outputs": [
    {
     "data": {
      "text/plain": [
       "455"
      ]
     },
     "execution_count": 314,
     "metadata": {},
     "output_type": "execute_result"
    }
   ],
   "source": [
    "# 12. How many unique schools are represented from Argentina? From Japan? \n",
    "\n",
    "df[df.country==\"Argentina\"].country_school_id.nunique()"
   ]
  },
  {
   "cell_type": "code",
   "execution_count": 315,
   "metadata": {},
   "outputs": [
    {
     "data": {
      "text/plain": [
       "183"
      ]
     },
     "execution_count": 315,
     "metadata": {},
     "output_type": "execute_result"
    }
   ],
   "source": [
    "\n",
    "df[df.country==\"Japan\"].country_school_id.nunique()"
   ]
  },
  {
   "cell_type": "code",
   "execution_count": 385,
   "metadata": {},
   "outputs": [],
   "source": [
    "### Visualization questions for lab"
   ]
  },
  {
   "cell_type": "code",
   "execution_count": null,
   "metadata": {},
   "outputs": [],
   "source": []
  },
  {
   "cell_type": "markdown",
   "metadata": {},
   "source": [
    "### Further Exploration and Data Wrangling + Seaborn"
   ]
  },
  {
   "cell_type": "code",
   "execution_count": 341,
   "metadata": {},
   "outputs": [
    {
     "data": {
      "text/html": [
       "<div>\n",
       "<style scoped>\n",
       "    .dataframe tbody tr th:only-of-type {\n",
       "        vertical-align: middle;\n",
       "    }\n",
       "\n",
       "    .dataframe tbody tr th {\n",
       "        vertical-align: top;\n",
       "    }\n",
       "\n",
       "    .dataframe thead th {\n",
       "        text-align: right;\n",
       "    }\n",
       "</style>\n",
       "<table border=\"1\" class=\"dataframe\">\n",
       "  <thead>\n",
       "    <tr style=\"text-align: right;\">\n",
       "      <th>student_gender</th>\n",
       "      <th>Female</th>\n",
       "      <th>Male</th>\n",
       "    </tr>\n",
       "    <tr>\n",
       "      <th>country</th>\n",
       "      <th></th>\n",
       "      <th></th>\n",
       "    </tr>\n",
       "  </thead>\n",
       "  <tbody>\n",
       "    <tr>\n",
       "      <th>Argentina</th>\n",
       "      <td>6232</td>\n",
       "      <td>5743</td>\n",
       "    </tr>\n",
       "    <tr>\n",
       "      <th>Finland</th>\n",
       "      <td>2772</td>\n",
       "      <td>2877</td>\n",
       "    </tr>\n",
       "    <tr>\n",
       "      <th>Japan</th>\n",
       "      <td>3120</td>\n",
       "      <td>2989</td>\n",
       "    </tr>\n",
       "    <tr>\n",
       "      <th>Netherlands</th>\n",
       "      <td>2330</td>\n",
       "      <td>2435</td>\n",
       "    </tr>\n",
       "    <tr>\n",
       "      <th>New Zealand</th>\n",
       "      <td>3154</td>\n",
       "      <td>3019</td>\n",
       "    </tr>\n",
       "    <tr>\n",
       "      <th>Norway</th>\n",
       "      <td>2880</td>\n",
       "      <td>2933</td>\n",
       "    </tr>\n",
       "    <tr>\n",
       "      <th>Romania</th>\n",
       "      <td>2444</td>\n",
       "      <td>2631</td>\n",
       "    </tr>\n",
       "    <tr>\n",
       "      <th>United States</th>\n",
       "      <td>2376</td>\n",
       "      <td>2462</td>\n",
       "    </tr>\n",
       "  </tbody>\n",
       "</table>\n",
       "</div>"
      ],
      "text/plain": [
       "student_gender  Female  Male\n",
       "country                     \n",
       "Argentina         6232  5743\n",
       "Finland           2772  2877\n",
       "Japan             3120  2989\n",
       "Netherlands       2330  2435\n",
       "New Zealand       3154  3019\n",
       "Norway            2880  2933\n",
       "Romania           2444  2631\n",
       "United States     2376  2462"
      ]
     },
     "execution_count": 341,
     "metadata": {},
     "output_type": "execute_result"
    }
   ],
   "source": [
    "# How are observations are distributed across country and student_gender?\n",
    "\n",
    "pd.crosstab(df.country, df.student_gender)"
   ]
  },
  {
   "cell_type": "code",
   "execution_count": 338,
   "metadata": {},
   "outputs": [
    {
     "data": {
      "text/html": [
       "<div>\n",
       "<style scoped>\n",
       "    .dataframe tbody tr th:only-of-type {\n",
       "        vertical-align: middle;\n",
       "    }\n",
       "\n",
       "    .dataframe tbody tr th {\n",
       "        vertical-align: top;\n",
       "    }\n",
       "\n",
       "    .dataframe thead th {\n",
       "        text-align: right;\n",
       "    }\n",
       "</style>\n",
       "<table border=\"1\" class=\"dataframe\">\n",
       "  <thead>\n",
       "    <tr style=\"text-align: right;\">\n",
       "      <th>parent_education</th>\n",
       "      <th>Lower secondary</th>\n",
       "      <th>Non response</th>\n",
       "      <th>None</th>\n",
       "      <th>Post secondary, non-tertiary</th>\n",
       "      <th>Post secondary, tertiary</th>\n",
       "      <th>Primary</th>\n",
       "      <th>Upper secondary</th>\n",
       "      <th>All</th>\n",
       "    </tr>\n",
       "    <tr>\n",
       "      <th>country</th>\n",
       "      <th></th>\n",
       "      <th></th>\n",
       "      <th></th>\n",
       "      <th></th>\n",
       "      <th></th>\n",
       "      <th></th>\n",
       "      <th></th>\n",
       "      <th></th>\n",
       "    </tr>\n",
       "  </thead>\n",
       "  <tbody>\n",
       "    <tr>\n",
       "      <th>Argentina</th>\n",
       "      <td>1798</td>\n",
       "      <td>526</td>\n",
       "      <td>226</td>\n",
       "      <td>2380</td>\n",
       "      <td>5731</td>\n",
       "      <td>1314</td>\n",
       "      <td>0</td>\n",
       "      <td>11975</td>\n",
       "    </tr>\n",
       "    <tr>\n",
       "      <th>Finland</th>\n",
       "      <td>72</td>\n",
       "      <td>130</td>\n",
       "      <td>21</td>\n",
       "      <td>1006</td>\n",
       "      <td>4397</td>\n",
       "      <td>23</td>\n",
       "      <td>0</td>\n",
       "      <td>5649</td>\n",
       "    </tr>\n",
       "    <tr>\n",
       "      <th>Japan</th>\n",
       "      <td>84</td>\n",
       "      <td>101</td>\n",
       "      <td>0</td>\n",
       "      <td>1765</td>\n",
       "      <td>4016</td>\n",
       "      <td>0</td>\n",
       "      <td>143</td>\n",
       "      <td>6109</td>\n",
       "    </tr>\n",
       "    <tr>\n",
       "      <th>Netherlands</th>\n",
       "      <td>161</td>\n",
       "      <td>149</td>\n",
       "      <td>56</td>\n",
       "      <td>1282</td>\n",
       "      <td>3050</td>\n",
       "      <td>67</td>\n",
       "      <td>0</td>\n",
       "      <td>4765</td>\n",
       "    </tr>\n",
       "    <tr>\n",
       "      <th>New Zealand</th>\n",
       "      <td>1104</td>\n",
       "      <td>399</td>\n",
       "      <td>27</td>\n",
       "      <td>1137</td>\n",
       "      <td>3449</td>\n",
       "      <td>57</td>\n",
       "      <td>0</td>\n",
       "      <td>6173</td>\n",
       "    </tr>\n",
       "    <tr>\n",
       "      <th>Norway</th>\n",
       "      <td>107</td>\n",
       "      <td>306</td>\n",
       "      <td>27</td>\n",
       "      <td>1054</td>\n",
       "      <td>4130</td>\n",
       "      <td>22</td>\n",
       "      <td>167</td>\n",
       "      <td>5813</td>\n",
       "    </tr>\n",
       "    <tr>\n",
       "      <th>Romania</th>\n",
       "      <td>221</td>\n",
       "      <td>44</td>\n",
       "      <td>16</td>\n",
       "      <td>2026</td>\n",
       "      <td>2514</td>\n",
       "      <td>129</td>\n",
       "      <td>125</td>\n",
       "      <td>5075</td>\n",
       "    </tr>\n",
       "    <tr>\n",
       "      <th>United States</th>\n",
       "      <td>278</td>\n",
       "      <td>80</td>\n",
       "      <td>40</td>\n",
       "      <td>1275</td>\n",
       "      <td>3090</td>\n",
       "      <td>75</td>\n",
       "      <td>0</td>\n",
       "      <td>4838</td>\n",
       "    </tr>\n",
       "    <tr>\n",
       "      <th>All</th>\n",
       "      <td>3825</td>\n",
       "      <td>1735</td>\n",
       "      <td>413</td>\n",
       "      <td>11925</td>\n",
       "      <td>30377</td>\n",
       "      <td>1687</td>\n",
       "      <td>435</td>\n",
       "      <td>50397</td>\n",
       "    </tr>\n",
       "  </tbody>\n",
       "</table>\n",
       "</div>"
      ],
      "text/plain": [
       "parent_education  Lower secondary  Non response  None  \\\n",
       "country                                                 \n",
       "Argentina                    1798           526   226   \n",
       "Finland                        72           130    21   \n",
       "Japan                          84           101     0   \n",
       "Netherlands                   161           149    56   \n",
       "New Zealand                  1104           399    27   \n",
       "Norway                        107           306    27   \n",
       "Romania                       221            44    16   \n",
       "United States                 278            80    40   \n",
       "All                          3825          1735   413   \n",
       "\n",
       "parent_education  Post secondary, non-tertiary  Post secondary, tertiary  \\\n",
       "country                                                                    \n",
       "Argentina                                 2380                      5731   \n",
       "Finland                                   1006                      4397   \n",
       "Japan                                     1765                      4016   \n",
       "Netherlands                               1282                      3050   \n",
       "New Zealand                               1137                      3449   \n",
       "Norway                                    1054                      4130   \n",
       "Romania                                   2026                      2514   \n",
       "United States                             1275                      3090   \n",
       "All                                      11925                     30377   \n",
       "\n",
       "parent_education  Primary  Upper secondary    All  \n",
       "country                                            \n",
       "Argentina            1314                0  11975  \n",
       "Finland                23                0   5649  \n",
       "Japan                   0              143   6109  \n",
       "Netherlands            67                0   4765  \n",
       "New Zealand            57                0   6173  \n",
       "Norway                 22              167   5813  \n",
       "Romania               129              125   5075  \n",
       "United States          75                0   4838  \n",
       "All                  1687              435  50397  "
      ]
     },
     "execution_count": 338,
     "metadata": {},
     "output_type": "execute_result"
    }
   ],
   "source": [
    "# Explore how observations are distributed across country and parent_education levels\n",
    "# Show category totals under \"All\"\n",
    "\n",
    "pd.crosstab(df.country, df.parent_education, margins = True)"
   ]
  },
  {
   "cell_type": "code",
   "execution_count": 339,
   "metadata": {},
   "outputs": [
    {
     "data": {
      "text/html": [
       "<div>\n",
       "<style scoped>\n",
       "    .dataframe tbody tr th:only-of-type {\n",
       "        vertical-align: middle;\n",
       "    }\n",
       "\n",
       "    .dataframe tbody tr th {\n",
       "        vertical-align: top;\n",
       "    }\n",
       "\n",
       "    .dataframe thead th {\n",
       "        text-align: right;\n",
       "    }\n",
       "</style>\n",
       "<table border=\"1\" class=\"dataframe\">\n",
       "  <thead>\n",
       "    <tr style=\"text-align: right;\">\n",
       "      <th>parent_education</th>\n",
       "      <th>Lower secondary</th>\n",
       "      <th>Non response</th>\n",
       "      <th>None</th>\n",
       "      <th>Post secondary, non-tertiary</th>\n",
       "      <th>Post secondary, tertiary</th>\n",
       "      <th>Primary</th>\n",
       "      <th>Upper secondary</th>\n",
       "      <th>All</th>\n",
       "    </tr>\n",
       "    <tr>\n",
       "      <th>country</th>\n",
       "      <th></th>\n",
       "      <th></th>\n",
       "      <th></th>\n",
       "      <th></th>\n",
       "      <th></th>\n",
       "      <th></th>\n",
       "      <th></th>\n",
       "      <th></th>\n",
       "    </tr>\n",
       "  </thead>\n",
       "  <tbody>\n",
       "    <tr>\n",
       "      <th>Argentina</th>\n",
       "      <td>0.035677</td>\n",
       "      <td>0.010437</td>\n",
       "      <td>0.004484</td>\n",
       "      <td>0.047225</td>\n",
       "      <td>0.113717</td>\n",
       "      <td>0.026073</td>\n",
       "      <td>0.000000</td>\n",
       "      <td>0.237613</td>\n",
       "    </tr>\n",
       "    <tr>\n",
       "      <th>Finland</th>\n",
       "      <td>0.001429</td>\n",
       "      <td>0.002580</td>\n",
       "      <td>0.000417</td>\n",
       "      <td>0.019962</td>\n",
       "      <td>0.087247</td>\n",
       "      <td>0.000456</td>\n",
       "      <td>0.000000</td>\n",
       "      <td>0.112090</td>\n",
       "    </tr>\n",
       "    <tr>\n",
       "      <th>Japan</th>\n",
       "      <td>0.001667</td>\n",
       "      <td>0.002004</td>\n",
       "      <td>0.000000</td>\n",
       "      <td>0.035022</td>\n",
       "      <td>0.079687</td>\n",
       "      <td>0.000000</td>\n",
       "      <td>0.002837</td>\n",
       "      <td>0.121218</td>\n",
       "    </tr>\n",
       "    <tr>\n",
       "      <th>Netherlands</th>\n",
       "      <td>0.003195</td>\n",
       "      <td>0.002957</td>\n",
       "      <td>0.001111</td>\n",
       "      <td>0.025438</td>\n",
       "      <td>0.060519</td>\n",
       "      <td>0.001329</td>\n",
       "      <td>0.000000</td>\n",
       "      <td>0.094549</td>\n",
       "    </tr>\n",
       "    <tr>\n",
       "      <th>New Zealand</th>\n",
       "      <td>0.021906</td>\n",
       "      <td>0.007917</td>\n",
       "      <td>0.000536</td>\n",
       "      <td>0.022561</td>\n",
       "      <td>0.068437</td>\n",
       "      <td>0.001131</td>\n",
       "      <td>0.000000</td>\n",
       "      <td>0.122487</td>\n",
       "    </tr>\n",
       "    <tr>\n",
       "      <th>Norway</th>\n",
       "      <td>0.002123</td>\n",
       "      <td>0.006072</td>\n",
       "      <td>0.000536</td>\n",
       "      <td>0.020914</td>\n",
       "      <td>0.081949</td>\n",
       "      <td>0.000437</td>\n",
       "      <td>0.003314</td>\n",
       "      <td>0.115344</td>\n",
       "    </tr>\n",
       "    <tr>\n",
       "      <th>Romania</th>\n",
       "      <td>0.004385</td>\n",
       "      <td>0.000873</td>\n",
       "      <td>0.000317</td>\n",
       "      <td>0.040201</td>\n",
       "      <td>0.049884</td>\n",
       "      <td>0.002560</td>\n",
       "      <td>0.002480</td>\n",
       "      <td>0.100700</td>\n",
       "    </tr>\n",
       "    <tr>\n",
       "      <th>United States</th>\n",
       "      <td>0.005516</td>\n",
       "      <td>0.001587</td>\n",
       "      <td>0.000794</td>\n",
       "      <td>0.025299</td>\n",
       "      <td>0.061313</td>\n",
       "      <td>0.001488</td>\n",
       "      <td>0.000000</td>\n",
       "      <td>0.095998</td>\n",
       "    </tr>\n",
       "    <tr>\n",
       "      <th>All</th>\n",
       "      <td>0.075897</td>\n",
       "      <td>0.034427</td>\n",
       "      <td>0.008195</td>\n",
       "      <td>0.236621</td>\n",
       "      <td>0.602754</td>\n",
       "      <td>0.033474</td>\n",
       "      <td>0.008631</td>\n",
       "      <td>1.000000</td>\n",
       "    </tr>\n",
       "  </tbody>\n",
       "</table>\n",
       "</div>"
      ],
      "text/plain": [
       "parent_education  Lower secondary  Non response      None  \\\n",
       "country                                                     \n",
       "Argentina                0.035677      0.010437  0.004484   \n",
       "Finland                  0.001429      0.002580  0.000417   \n",
       "Japan                    0.001667      0.002004  0.000000   \n",
       "Netherlands              0.003195      0.002957  0.001111   \n",
       "New Zealand              0.021906      0.007917  0.000536   \n",
       "Norway                   0.002123      0.006072  0.000536   \n",
       "Romania                  0.004385      0.000873  0.000317   \n",
       "United States            0.005516      0.001587  0.000794   \n",
       "All                      0.075897      0.034427  0.008195   \n",
       "\n",
       "parent_education  Post secondary, non-tertiary  Post secondary, tertiary  \\\n",
       "country                                                                    \n",
       "Argentina                             0.047225                  0.113717   \n",
       "Finland                               0.019962                  0.087247   \n",
       "Japan                                 0.035022                  0.079687   \n",
       "Netherlands                           0.025438                  0.060519   \n",
       "New Zealand                           0.022561                  0.068437   \n",
       "Norway                                0.020914                  0.081949   \n",
       "Romania                               0.040201                  0.049884   \n",
       "United States                         0.025299                  0.061313   \n",
       "All                                   0.236621                  0.602754   \n",
       "\n",
       "parent_education   Primary  Upper secondary       All  \n",
       "country                                                \n",
       "Argentina         0.026073         0.000000  0.237613  \n",
       "Finland           0.000456         0.000000  0.112090  \n",
       "Japan             0.000000         0.002837  0.121218  \n",
       "Netherlands       0.001329         0.000000  0.094549  \n",
       "New Zealand       0.001131         0.000000  0.122487  \n",
       "Norway            0.000437         0.003314  0.115344  \n",
       "Romania           0.002560         0.002480  0.100700  \n",
       "United States     0.001488         0.000000  0.095998  \n",
       "All               0.033474         0.008631  1.000000  "
      ]
     },
     "execution_count": 339,
     "metadata": {},
     "output_type": "execute_result"
    }
   ],
   "source": [
    "# Explore how observations are distributed across country and parent_education levels: \n",
    "# In Percentages\n",
    "\n",
    "pd.crosstab(df.country, df.parent_education, normalize= True, margins=True)"
   ]
  },
  {
   "cell_type": "code",
   "execution_count": 110,
   "metadata": {},
   "outputs": [],
   "source": [
    "# Creating a new variable\n",
    "\n",
    "df[\"is_female\"] = df.student_gender.apply(lambda x: True if x==\"Female\" else False)"
   ]
  },
  {
   "cell_type": "code",
   "execution_count": 111,
   "metadata": {},
   "outputs": [],
   "source": [
    "# Change school_size to integer if value isn't \"No Response\" or \"Invalid\", else assign None\n",
    "\n",
    "df[\"school_size\"] = df[\"school_size\"].apply(lambda x: int(x) if x!=\"No Response\" and x!=\"Invalid\" else None)"
   ]
  },
  {
   "cell_type": "code",
   "execution_count": 131,
   "metadata": {},
   "outputs": [],
   "source": [
    "df[\"computer_at_home\"] = df.computer_at_home.apply(lambda x: True if x==\"Yes\" else False)\n",
    "df[\"internet_at_home\"] = df.internet_at_home.apply(lambda x: True if x==\"Yes\" else False)"
   ]
  },
  {
   "cell_type": "code",
   "execution_count": null,
   "metadata": {},
   "outputs": [],
   "source": [
    "import numpy as np\n",
    "import pandas as pd\n",
    "import seaborn as sns\n",
    "import matplotlib.pyplot as plt"
   ]
  },
  {
   "cell_type": "code",
   "execution_count": 132,
   "metadata": {},
   "outputs": [
    {
     "data": {
      "text/plain": [
       "<AxesSubplot:xlabel='country', ylabel='math_score'>"
      ]
     },
     "execution_count": 132,
     "metadata": {},
     "output_type": "execute_result"
    },
    {
     "data": {
      "image/png": "[encoded data removed]",
      "text/plain": [
       "<Figure size 1008x432 with 1 Axes>"
      ]
     },
     "metadata": {
      "needs_background": "light"
     },
     "output_type": "display_data"
    }
   ],
   "source": [
    "# violinplot\n",
    "f, ax = plt.subplots(figsize=(14, 6))\n",
    "\n",
    "sns.violinplot(x=\"country\", \n",
    "               y=\"math_score\", \n",
    "               hue = 'computer_at_home',\n",
    "               data = df, \n",
    "               palette = \"Reds\",\n",
    "               split = True,\n",
    "               inner = None) # or, None, or \"box\", or \"quartile\"\n"
   ]
  },
  {
   "cell_type": "code",
   "execution_count": 133,
   "metadata": {},
   "outputs": [
    {
     "data": {
      "text/plain": [
       "<AxesSubplot:xlabel='immigration_status', ylabel='reading_score'>"
      ]
     },
     "execution_count": 133,
     "metadata": {},
     "output_type": "execute_result"
    },
    {
     "data": {
      "image/png": "[encoded data removed]",
      "text/plain": [
       "<Figure size 1008x432 with 1 Axes>"
      ]
     },
     "metadata": {
      "needs_background": "light"
     },
     "output_type": "display_data"
    }
   ],
   "source": [
    "# violinplot\n",
    "f, ax = plt.subplots(figsize=(14, 6))\n",
    "\n",
    "sns.violinplot(x=\"immigration_status\", \n",
    "               y=\"reading_score\", \n",
    "               hue = 'computer_at_home',\n",
    "               data = df, \n",
    "               palette = \"Reds\",\n",
    "               split = True,\n",
    "               inner = None) # or, None, or \"box\", or \"quartile\"\n"
   ]
  },
  {
   "cell_type": "code",
   "execution_count": 79,
   "metadata": {},
   "outputs": [
    {
     "data": {
      "text/plain": [
       "<AxesSubplot:xlabel='socioeconomic_index', ylabel='math_score'>"
      ]
     },
     "execution_count": 79,
     "metadata": {},
     "output_type": "execute_result"
    },
    {
     "data": {
      "image/png": "[encoded data removed]",
      "text/plain": [
       "<Figure size 1008x468 with 2 Axes>"
      ]
     },
     "metadata": {},
     "output_type": "display_data"
    }
   ],
   "source": [
    "# scatterplot\n",
    "\n",
    "sns.set(style=\"whitegrid\")\n",
    "\n",
    "f, (ax1, ax2) = plt.subplots(1,2,figsize=(14, 6.5),sharey=True)\n",
    "\n",
    "sns.scatterplot(x=\"reading_score\", \n",
    "                y=\"math_score\",\n",
    "                palette=\"Blues\",\n",
    "                linewidth=0,\n",
    "                data=df, \n",
    "                ax=ax1)\n",
    "\n",
    "sns.scatterplot(x=\"socioeconomic_index\", #x ='school_size' \n",
    "                y=\"math_score\",\n",
    "                palette=\"Blues\",\n",
    "                linewidth=0,\n",
    "                data=df, \n",
    "                ax=ax2)"
   ]
  },
  {
   "cell_type": "markdown",
   "metadata": {},
   "source": [
    "### Merging dataframes + API access"
   ]
  },
  {
   "cell_type": "code",
   "execution_count": 184,
   "metadata": {},
   "outputs": [],
   "source": [
    "import requests\n",
    "import json\n",
    "import wbgapi as wbg"
   ]
  },
  {
   "cell_type": "code",
   "execution_count": null,
   "metadata": {},
   "outputs": [],
   "source": []
  },
  {
   "cell_type": "code",
   "execution_count": 185,
   "metadata": {},
   "outputs": [],
   "source": [
    "# !pip install wbgapi"
   ]
  },
  {
   "cell_type": "code",
   "execution_count": 197,
   "metadata": {},
   "outputs": [],
   "source": [
    "# Get data on GDP per capita from the World Development Indicators API:\n",
    "\n",
    "df_gdp_pc = wbg.data.DataFrame(series=['NY.GDP.PCAP.CD'], mrv=2)\n",
    "\n",
    "df_gdp_pc = df_gdp_pc.reset_index()\n",
    "\n",
    "# Also, for total population by country: df_pop = wbg.data.DataFrame(series=['SP.POP.TOTL'], mrv=3)"
   ]
  },
  {
   "cell_type": "code",
   "execution_count": 198,
   "metadata": {},
   "outputs": [
    {
     "data": {
      "text/html": [
       "<div>\n",
       "<style scoped>\n",
       "    .dataframe tbody tr th:only-of-type {\n",
       "        vertical-align: middle;\n",
       "    }\n",
       "\n",
       "    .dataframe tbody tr th {\n",
       "        vertical-align: top;\n",
       "    }\n",
       "\n",
       "    .dataframe thead th {\n",
       "        text-align: right;\n",
       "    }\n",
       "</style>\n",
       "<table border=\"1\" class=\"dataframe\">\n",
       "  <thead>\n",
       "    <tr style=\"text-align: right;\">\n",
       "      <th></th>\n",
       "      <th>economy</th>\n",
       "      <th>YR2018</th>\n",
       "      <th>YR2019</th>\n",
       "    </tr>\n",
       "  </thead>\n",
       "  <tbody>\n",
       "    <tr>\n",
       "      <th>0</th>\n",
       "      <td>ABW</td>\n",
       "      <td>NaN</td>\n",
       "      <td>NaN</td>\n",
       "    </tr>\n",
       "    <tr>\n",
       "      <th>1</th>\n",
       "      <td>AFG</td>\n",
       "      <td>493.750418</td>\n",
       "      <td>507.103432</td>\n",
       "    </tr>\n",
       "    <tr>\n",
       "      <th>2</th>\n",
       "      <td>AGO</td>\n",
       "      <td>3289.646664</td>\n",
       "      <td>2790.726615</td>\n",
       "    </tr>\n",
       "    <tr>\n",
       "      <th>3</th>\n",
       "      <td>ALB</td>\n",
       "      <td>5284.380184</td>\n",
       "      <td>5353.244856</td>\n",
       "    </tr>\n",
       "    <tr>\n",
       "      <th>4</th>\n",
       "      <td>AND</td>\n",
       "      <td>41793.055258</td>\n",
       "      <td>40886.391165</td>\n",
       "    </tr>\n",
       "  </tbody>\n",
       "</table>\n",
       "</div>"
      ],
      "text/plain": [
       "  economy        YR2018        YR2019\n",
       "0     ABW           NaN           NaN\n",
       "1     AFG    493.750418    507.103432\n",
       "2     AGO   3289.646664   2790.726615\n",
       "3     ALB   5284.380184   5353.244856\n",
       "4     AND  41793.055258  40886.391165"
      ]
     },
     "execution_count": 198,
     "metadata": {},
     "output_type": "execute_result"
    }
   ],
   "source": [
    "# Examine the first five observations\n",
    "\n",
    "df_gdp_pc.head()"
   ]
  },
  {
   "cell_type": "code",
   "execution_count": null,
   "metadata": {},
   "outputs": [],
   "source": []
  },
  {
   "cell_type": "code",
   "execution_count": 199,
   "metadata": {},
   "outputs": [],
   "source": [
    "# Get dataset to link iso3 codes to country names from World Bank's API\n",
    "\n",
    "iso_codes = requests.get(\"http://api.worldbank.org/v2/country/?per_page=300\", params ={\"format\":\"json\"})"
   ]
  },
  {
   "cell_type": "code",
   "execution_count": 200,
   "metadata": {},
   "outputs": [
    {
     "data": {
      "text/html": [
       "<div>\n",
       "<style scoped>\n",
       "    .dataframe tbody tr th:only-of-type {\n",
       "        vertical-align: middle;\n",
       "    }\n",
       "\n",
       "    .dataframe tbody tr th {\n",
       "        vertical-align: top;\n",
       "    }\n",
       "\n",
       "    .dataframe thead th {\n",
       "        text-align: right;\n",
       "    }\n",
       "</style>\n",
       "<table border=\"1\" class=\"dataframe\">\n",
       "  <thead>\n",
       "    <tr style=\"text-align: right;\">\n",
       "      <th></th>\n",
       "      <th>id</th>\n",
       "      <th>iso2Code</th>\n",
       "      <th>name</th>\n",
       "      <th>region</th>\n",
       "      <th>adminregion</th>\n",
       "      <th>incomeLevel</th>\n",
       "      <th>lendingType</th>\n",
       "      <th>capitalCity</th>\n",
       "      <th>longitude</th>\n",
       "      <th>latitude</th>\n",
       "    </tr>\n",
       "  </thead>\n",
       "  <tbody>\n",
       "    <tr>\n",
       "      <th>0</th>\n",
       "      <td>ABW</td>\n",
       "      <td>AW</td>\n",
       "      <td>Aruba</td>\n",
       "      <td>{'id': 'LCN', 'iso2code': 'ZJ', 'value': 'Lati...</td>\n",
       "      <td>{'id': '', 'iso2code': '', 'value': ''}</td>\n",
       "      <td>{'id': 'HIC', 'iso2code': 'XD', 'value': 'High...</td>\n",
       "      <td>{'id': 'LNX', 'iso2code': 'XX', 'value': 'Not ...</td>\n",
       "      <td>Oranjestad</td>\n",
       "      <td>-70.0167</td>\n",
       "      <td>12.5167</td>\n",
       "    </tr>\n",
       "    <tr>\n",
       "      <th>1</th>\n",
       "      <td>AFG</td>\n",
       "      <td>AF</td>\n",
       "      <td>Afghanistan</td>\n",
       "      <td>{'id': 'SAS', 'iso2code': '8S', 'value': 'Sout...</td>\n",
       "      <td>{'id': 'SAS', 'iso2code': '8S', 'value': 'Sout...</td>\n",
       "      <td>{'id': 'LIC', 'iso2code': 'XM', 'value': 'Low ...</td>\n",
       "      <td>{'id': 'IDX', 'iso2code': 'XI', 'value': 'IDA'}</td>\n",
       "      <td>Kabul</td>\n",
       "      <td>69.1761</td>\n",
       "      <td>34.5228</td>\n",
       "    </tr>\n",
       "    <tr>\n",
       "      <th>2</th>\n",
       "      <td>AFR</td>\n",
       "      <td>A9</td>\n",
       "      <td>Africa</td>\n",
       "      <td>{'id': 'NA', 'iso2code': 'NA', 'value': 'Aggre...</td>\n",
       "      <td>{'id': '', 'iso2code': '', 'value': ''}</td>\n",
       "      <td>{'id': 'NA', 'iso2code': 'NA', 'value': 'Aggre...</td>\n",
       "      <td>{'id': '', 'iso2code': '', 'value': 'Aggregates'}</td>\n",
       "      <td></td>\n",
       "      <td></td>\n",
       "      <td></td>\n",
       "    </tr>\n",
       "    <tr>\n",
       "      <th>3</th>\n",
       "      <td>AGO</td>\n",
       "      <td>AO</td>\n",
       "      <td>Angola</td>\n",
       "      <td>{'id': 'SSF', 'iso2code': 'ZG', 'value': 'Sub-...</td>\n",
       "      <td>{'id': 'SSA', 'iso2code': 'ZF', 'value': 'Sub-...</td>\n",
       "      <td>{'id': 'LMC', 'iso2code': 'XN', 'value': 'Lowe...</td>\n",
       "      <td>{'id': 'IBD', 'iso2code': 'XF', 'value': 'IBRD'}</td>\n",
       "      <td>Luanda</td>\n",
       "      <td>13.242</td>\n",
       "      <td>-8.81155</td>\n",
       "    </tr>\n",
       "    <tr>\n",
       "      <th>4</th>\n",
       "      <td>ALB</td>\n",
       "      <td>AL</td>\n",
       "      <td>Albania</td>\n",
       "      <td>{'id': 'ECS', 'iso2code': 'Z7', 'value': 'Euro...</td>\n",
       "      <td>{'id': 'ECA', 'iso2code': '7E', 'value': 'Euro...</td>\n",
       "      <td>{'id': 'UMC', 'iso2code': 'XT', 'value': 'Uppe...</td>\n",
       "      <td>{'id': 'IBD', 'iso2code': 'XF', 'value': 'IBRD'}</td>\n",
       "      <td>Tirane</td>\n",
       "      <td>19.8172</td>\n",
       "      <td>41.3317</td>\n",
       "    </tr>\n",
       "  </tbody>\n",
       "</table>\n",
       "</div>"
      ],
      "text/plain": [
       "    id iso2Code         name  \\\n",
       "0  ABW       AW        Aruba   \n",
       "1  AFG       AF  Afghanistan   \n",
       "2  AFR       A9       Africa   \n",
       "3  AGO       AO       Angola   \n",
       "4  ALB       AL      Albania   \n",
       "\n",
       "                                              region  \\\n",
       "0  {'id': 'LCN', 'iso2code': 'ZJ', 'value': 'Lati...   \n",
       "1  {'id': 'SAS', 'iso2code': '8S', 'value': 'Sout...   \n",
       "2  {'id': 'NA', 'iso2code': 'NA', 'value': 'Aggre...   \n",
       "3  {'id': 'SSF', 'iso2code': 'ZG', 'value': 'Sub-...   \n",
       "4  {'id': 'ECS', 'iso2code': 'Z7', 'value': 'Euro...   \n",
       "\n",
       "                                         adminregion  \\\n",
       "0            {'id': '', 'iso2code': '', 'value': ''}   \n",
       "1  {'id': 'SAS', 'iso2code': '8S', 'value': 'Sout...   \n",
       "2            {'id': '', 'iso2code': '', 'value': ''}   \n",
       "3  {'id': 'SSA', 'iso2code': 'ZF', 'value': 'Sub-...   \n",
       "4  {'id': 'ECA', 'iso2code': '7E', 'value': 'Euro...   \n",
       "\n",
       "                                         incomeLevel  \\\n",
       "0  {'id': 'HIC', 'iso2code': 'XD', 'value': 'High...   \n",
       "1  {'id': 'LIC', 'iso2code': 'XM', 'value': 'Low ...   \n",
       "2  {'id': 'NA', 'iso2code': 'NA', 'value': 'Aggre...   \n",
       "3  {'id': 'LMC', 'iso2code': 'XN', 'value': 'Lowe...   \n",
       "4  {'id': 'UMC', 'iso2code': 'XT', 'value': 'Uppe...   \n",
       "\n",
       "                                         lendingType capitalCity longitude  \\\n",
       "0  {'id': 'LNX', 'iso2code': 'XX', 'value': 'Not ...  Oranjestad  -70.0167   \n",
       "1    {'id': 'IDX', 'iso2code': 'XI', 'value': 'IDA'}       Kabul   69.1761   \n",
       "2  {'id': '', 'iso2code': '', 'value': 'Aggregates'}                         \n",
       "3   {'id': 'IBD', 'iso2code': 'XF', 'value': 'IBRD'}      Luanda    13.242   \n",
       "4   {'id': 'IBD', 'iso2code': 'XF', 'value': 'IBRD'}      Tirane   19.8172   \n",
       "\n",
       "   latitude  \n",
       "0   12.5167  \n",
       "1   34.5228  \n",
       "2            \n",
       "3  -8.81155  \n",
       "4   41.3317  "
      ]
     },
     "execution_count": 200,
     "metadata": {},
     "output_type": "execute_result"
    }
   ],
   "source": [
    "df_codes = pd.DataFrame(json.loads(iso_codes.text)[1])\n",
    "\n",
    "df_codes.head()"
   ]
  },
  {
   "cell_type": "code",
   "execution_count": 201,
   "metadata": {},
   "outputs": [],
   "source": [
    "\n",
    "\n",
    "# countries_list = df.country.unique().tolist()"
   ]
  },
  {
   "cell_type": "code",
   "execution_count": 202,
   "metadata": {},
   "outputs": [],
   "source": [
    "## Subset iso codes dataframe for only those countries we are interested in; and select relevant columns\n",
    "# df_codes2 = df_codes[df_codes.name.isin(countries_list)]"
   ]
  },
  {
   "cell_type": "code",
   "execution_count": 204,
   "metadata": {},
   "outputs": [],
   "source": [
    "df_codes2 = df_codes[[\"id\", \"iso2Code\", \"name\", \"capitalCity\",\"longitude\", \"latitude\"]]"
   ]
  },
  {
   "cell_type": "code",
   "execution_count": 205,
   "metadata": {},
   "outputs": [],
   "source": [
    "# Link GDP per capita to country names"
   ]
  },
  {
   "cell_type": "code",
   "execution_count": 207,
   "metadata": {},
   "outputs": [
    {
     "data": {
      "text/html": [
       "<div>\n",
       "<style scoped>\n",
       "    .dataframe tbody tr th:only-of-type {\n",
       "        vertical-align: middle;\n",
       "    }\n",
       "\n",
       "    .dataframe tbody tr th {\n",
       "        vertical-align: top;\n",
       "    }\n",
       "\n",
       "    .dataframe thead th {\n",
       "        text-align: right;\n",
       "    }\n",
       "</style>\n",
       "<table border=\"1\" class=\"dataframe\">\n",
       "  <thead>\n",
       "    <tr style=\"text-align: right;\">\n",
       "      <th></th>\n",
       "      <th>economy</th>\n",
       "      <th>iso2Code</th>\n",
       "      <th>name</th>\n",
       "      <th>capitalCity</th>\n",
       "      <th>longitude</th>\n",
       "      <th>latitude</th>\n",
       "    </tr>\n",
       "  </thead>\n",
       "  <tbody>\n",
       "    <tr>\n",
       "      <th>0</th>\n",
       "      <td>ABW</td>\n",
       "      <td>AW</td>\n",
       "      <td>Aruba</td>\n",
       "      <td>Oranjestad</td>\n",
       "      <td>-70.0167</td>\n",
       "      <td>12.5167</td>\n",
       "    </tr>\n",
       "    <tr>\n",
       "      <th>1</th>\n",
       "      <td>AFG</td>\n",
       "      <td>AF</td>\n",
       "      <td>Afghanistan</td>\n",
       "      <td>Kabul</td>\n",
       "      <td>69.1761</td>\n",
       "      <td>34.5228</td>\n",
       "    </tr>\n",
       "    <tr>\n",
       "      <th>2</th>\n",
       "      <td>AFR</td>\n",
       "      <td>A9</td>\n",
       "      <td>Africa</td>\n",
       "      <td></td>\n",
       "      <td></td>\n",
       "      <td></td>\n",
       "    </tr>\n",
       "    <tr>\n",
       "      <th>3</th>\n",
       "      <td>AGO</td>\n",
       "      <td>AO</td>\n",
       "      <td>Angola</td>\n",
       "      <td>Luanda</td>\n",
       "      <td>13.242</td>\n",
       "      <td>-8.81155</td>\n",
       "    </tr>\n",
       "    <tr>\n",
       "      <th>4</th>\n",
       "      <td>ALB</td>\n",
       "      <td>AL</td>\n",
       "      <td>Albania</td>\n",
       "      <td>Tirane</td>\n",
       "      <td>19.8172</td>\n",
       "      <td>41.3317</td>\n",
       "    </tr>\n",
       "    <tr>\n",
       "      <th>...</th>\n",
       "      <td>...</td>\n",
       "      <td>...</td>\n",
       "      <td>...</td>\n",
       "      <td>...</td>\n",
       "      <td>...</td>\n",
       "      <td>...</td>\n",
       "    </tr>\n",
       "    <tr>\n",
       "      <th>292</th>\n",
       "      <td>XZN</td>\n",
       "      <td>A5</td>\n",
       "      <td>Sub-Saharan Africa excluding South Africa and ...</td>\n",
       "      <td></td>\n",
       "      <td></td>\n",
       "      <td></td>\n",
       "    </tr>\n",
       "    <tr>\n",
       "      <th>293</th>\n",
       "      <td>YEM</td>\n",
       "      <td>YE</td>\n",
       "      <td>Yemen, Rep.</td>\n",
       "      <td>Sana'a</td>\n",
       "      <td>44.2075</td>\n",
       "      <td>15.352</td>\n",
       "    </tr>\n",
       "    <tr>\n",
       "      <th>294</th>\n",
       "      <td>ZAF</td>\n",
       "      <td>ZA</td>\n",
       "      <td>South Africa</td>\n",
       "      <td>Pretoria</td>\n",
       "      <td>28.1871</td>\n",
       "      <td>-25.746</td>\n",
       "    </tr>\n",
       "    <tr>\n",
       "      <th>295</th>\n",
       "      <td>ZMB</td>\n",
       "      <td>ZM</td>\n",
       "      <td>Zambia</td>\n",
       "      <td>Lusaka</td>\n",
       "      <td>28.2937</td>\n",
       "      <td>-15.3982</td>\n",
       "    </tr>\n",
       "    <tr>\n",
       "      <th>296</th>\n",
       "      <td>ZWE</td>\n",
       "      <td>ZW</td>\n",
       "      <td>Zimbabwe</td>\n",
       "      <td>Harare</td>\n",
       "      <td>31.0672</td>\n",
       "      <td>-17.8312</td>\n",
       "    </tr>\n",
       "  </tbody>\n",
       "</table>\n",
       "<p>297 rows × 6 columns</p>\n",
       "</div>"
      ],
      "text/plain": [
       "    economy iso2Code                                               name  \\\n",
       "0       ABW       AW                                              Aruba   \n",
       "1       AFG       AF                                        Afghanistan   \n",
       "2       AFR       A9                                             Africa   \n",
       "3       AGO       AO                                             Angola   \n",
       "4       ALB       AL                                            Albania   \n",
       "..      ...      ...                                                ...   \n",
       "292     XZN       A5  Sub-Saharan Africa excluding South Africa and ...   \n",
       "293     YEM       YE                                        Yemen, Rep.   \n",
       "294     ZAF       ZA                                       South Africa   \n",
       "295     ZMB       ZM                                             Zambia   \n",
       "296     ZWE       ZW                                           Zimbabwe   \n",
       "\n",
       "    capitalCity longitude  latitude  \n",
       "0    Oranjestad  -70.0167   12.5167  \n",
       "1         Kabul   69.1761   34.5228  \n",
       "2                                    \n",
       "3        Luanda    13.242  -8.81155  \n",
       "4        Tirane   19.8172   41.3317  \n",
       "..          ...       ...       ...  \n",
       "292                                  \n",
       "293      Sana'a   44.2075    15.352  \n",
       "294    Pretoria   28.1871   -25.746  \n",
       "295      Lusaka   28.2937  -15.3982  \n",
       "296      Harare   31.0672  -17.8312  \n",
       "\n",
       "[297 rows x 6 columns]"
      ]
     },
     "execution_count": 207,
     "metadata": {},
     "output_type": "execute_result"
    }
   ],
   "source": [
    "# Rename 'id' column to 'economy'\n",
    "df_codes2 = df_codes2.rename(columns={\"id\":\"economy\"})\n",
    "df_codes2"
   ]
  },
  {
   "cell_type": "code",
   "execution_count": 208,
   "metadata": {},
   "outputs": [
    {
     "data": {
      "text/html": [
       "<div>\n",
       "<style scoped>\n",
       "    .dataframe tbody tr th:only-of-type {\n",
       "        vertical-align: middle;\n",
       "    }\n",
       "\n",
       "    .dataframe tbody tr th {\n",
       "        vertical-align: top;\n",
       "    }\n",
       "\n",
       "    .dataframe thead th {\n",
       "        text-align: right;\n",
       "    }\n",
       "</style>\n",
       "<table border=\"1\" class=\"dataframe\">\n",
       "  <thead>\n",
       "    <tr style=\"text-align: right;\">\n",
       "      <th></th>\n",
       "      <th>economy</th>\n",
       "      <th>iso2Code</th>\n",
       "      <th>name</th>\n",
       "      <th>capitalCity</th>\n",
       "      <th>longitude</th>\n",
       "      <th>latitude</th>\n",
       "      <th>YR2018</th>\n",
       "      <th>YR2019</th>\n",
       "    </tr>\n",
       "  </thead>\n",
       "  <tbody>\n",
       "    <tr>\n",
       "      <th>0</th>\n",
       "      <td>ABW</td>\n",
       "      <td>AW</td>\n",
       "      <td>Aruba</td>\n",
       "      <td>Oranjestad</td>\n",
       "      <td>-70.0167</td>\n",
       "      <td>12.5167</td>\n",
       "      <td>NaN</td>\n",
       "      <td>NaN</td>\n",
       "    </tr>\n",
       "    <tr>\n",
       "      <th>1</th>\n",
       "      <td>AFG</td>\n",
       "      <td>AF</td>\n",
       "      <td>Afghanistan</td>\n",
       "      <td>Kabul</td>\n",
       "      <td>69.1761</td>\n",
       "      <td>34.5228</td>\n",
       "      <td>493.750418</td>\n",
       "      <td>507.103432</td>\n",
       "    </tr>\n",
       "    <tr>\n",
       "      <th>2</th>\n",
       "      <td>AFR</td>\n",
       "      <td>A9</td>\n",
       "      <td>Africa</td>\n",
       "      <td></td>\n",
       "      <td></td>\n",
       "      <td></td>\n",
       "      <td>NaN</td>\n",
       "      <td>NaN</td>\n",
       "    </tr>\n",
       "    <tr>\n",
       "      <th>3</th>\n",
       "      <td>AGO</td>\n",
       "      <td>AO</td>\n",
       "      <td>Angola</td>\n",
       "      <td>Luanda</td>\n",
       "      <td>13.242</td>\n",
       "      <td>-8.81155</td>\n",
       "      <td>3289.646664</td>\n",
       "      <td>2790.726615</td>\n",
       "    </tr>\n",
       "    <tr>\n",
       "      <th>4</th>\n",
       "      <td>ALB</td>\n",
       "      <td>AL</td>\n",
       "      <td>Albania</td>\n",
       "      <td>Tirane</td>\n",
       "      <td>19.8172</td>\n",
       "      <td>41.3317</td>\n",
       "      <td>5284.380184</td>\n",
       "      <td>5353.244856</td>\n",
       "    </tr>\n",
       "    <tr>\n",
       "      <th>...</th>\n",
       "      <td>...</td>\n",
       "      <td>...</td>\n",
       "      <td>...</td>\n",
       "      <td>...</td>\n",
       "      <td>...</td>\n",
       "      <td>...</td>\n",
       "      <td>...</td>\n",
       "      <td>...</td>\n",
       "    </tr>\n",
       "    <tr>\n",
       "      <th>292</th>\n",
       "      <td>XZN</td>\n",
       "      <td>A5</td>\n",
       "      <td>Sub-Saharan Africa excluding South Africa and ...</td>\n",
       "      <td></td>\n",
       "      <td></td>\n",
       "      <td></td>\n",
       "      <td>NaN</td>\n",
       "      <td>NaN</td>\n",
       "    </tr>\n",
       "    <tr>\n",
       "      <th>293</th>\n",
       "      <td>YEM</td>\n",
       "      <td>YE</td>\n",
       "      <td>Yemen, Rep.</td>\n",
       "      <td>Sana'a</td>\n",
       "      <td>44.2075</td>\n",
       "      <td>15.352</td>\n",
       "      <td>824.117629</td>\n",
       "      <td>774.334490</td>\n",
       "    </tr>\n",
       "    <tr>\n",
       "      <th>294</th>\n",
       "      <td>ZAF</td>\n",
       "      <td>ZA</td>\n",
       "      <td>South Africa</td>\n",
       "      <td>Pretoria</td>\n",
       "      <td>28.1871</td>\n",
       "      <td>-25.746</td>\n",
       "      <td>6372.605655</td>\n",
       "      <td>6001.401121</td>\n",
       "    </tr>\n",
       "    <tr>\n",
       "      <th>295</th>\n",
       "      <td>ZMB</td>\n",
       "      <td>ZM</td>\n",
       "      <td>Zambia</td>\n",
       "      <td>Lusaka</td>\n",
       "      <td>28.2937</td>\n",
       "      <td>-15.3982</td>\n",
       "      <td>1516.390661</td>\n",
       "      <td>1305.063254</td>\n",
       "    </tr>\n",
       "    <tr>\n",
       "      <th>296</th>\n",
       "      <td>ZWE</td>\n",
       "      <td>ZW</td>\n",
       "      <td>Zimbabwe</td>\n",
       "      <td>Harare</td>\n",
       "      <td>31.0672</td>\n",
       "      <td>-17.8312</td>\n",
       "      <td>1683.740577</td>\n",
       "      <td>1463.985910</td>\n",
       "    </tr>\n",
       "  </tbody>\n",
       "</table>\n",
       "<p>297 rows × 8 columns</p>\n",
       "</div>"
      ],
      "text/plain": [
       "    economy iso2Code                                               name  \\\n",
       "0       ABW       AW                                              Aruba   \n",
       "1       AFG       AF                                        Afghanistan   \n",
       "2       AFR       A9                                             Africa   \n",
       "3       AGO       AO                                             Angola   \n",
       "4       ALB       AL                                            Albania   \n",
       "..      ...      ...                                                ...   \n",
       "292     XZN       A5  Sub-Saharan Africa excluding South Africa and ...   \n",
       "293     YEM       YE                                        Yemen, Rep.   \n",
       "294     ZAF       ZA                                       South Africa   \n",
       "295     ZMB       ZM                                             Zambia   \n",
       "296     ZWE       ZW                                           Zimbabwe   \n",
       "\n",
       "    capitalCity longitude  latitude       YR2018       YR2019  \n",
       "0    Oranjestad  -70.0167   12.5167          NaN          NaN  \n",
       "1         Kabul   69.1761   34.5228   493.750418   507.103432  \n",
       "2                                            NaN          NaN  \n",
       "3        Luanda    13.242  -8.81155  3289.646664  2790.726615  \n",
       "4        Tirane   19.8172   41.3317  5284.380184  5353.244856  \n",
       "..          ...       ...       ...          ...          ...  \n",
       "292                                          NaN          NaN  \n",
       "293      Sana'a   44.2075    15.352   824.117629   774.334490  \n",
       "294    Pretoria   28.1871   -25.746  6372.605655  6001.401121  \n",
       "295      Lusaka   28.2937  -15.3982  1516.390661  1305.063254  \n",
       "296      Harare   31.0672  -17.8312  1683.740577  1463.985910  \n",
       "\n",
       "[297 rows x 8 columns]"
      ]
     },
     "execution_count": 208,
     "metadata": {},
     "output_type": "execute_result"
    }
   ],
   "source": [
    "df_gdp_pc2 = pd.merge(df_codes2, df_gdp_pc, on=\"economy\", how=\"left\")\n",
    "df_gdp_pc2"
   ]
  },
  {
   "cell_type": "code",
   "execution_count": 209,
   "metadata": {},
   "outputs": [
    {
     "data": {
      "text/html": [
       "<div>\n",
       "<style scoped>\n",
       "    .dataframe tbody tr th:only-of-type {\n",
       "        vertical-align: middle;\n",
       "    }\n",
       "\n",
       "    .dataframe tbody tr th {\n",
       "        vertical-align: top;\n",
       "    }\n",
       "\n",
       "    .dataframe thead th {\n",
       "        text-align: right;\n",
       "    }\n",
       "</style>\n",
       "<table border=\"1\" class=\"dataframe\">\n",
       "  <thead>\n",
       "    <tr style=\"text-align: right;\">\n",
       "      <th></th>\n",
       "      <th>iso3Code</th>\n",
       "      <th>iso2Code</th>\n",
       "      <th>country</th>\n",
       "      <th>capitalCity</th>\n",
       "      <th>longitude</th>\n",
       "      <th>latitude</th>\n",
       "      <th>gdp_pc_2018</th>\n",
       "      <th>gdp_pc_2019</th>\n",
       "    </tr>\n",
       "  </thead>\n",
       "  <tbody>\n",
       "    <tr>\n",
       "      <th>0</th>\n",
       "      <td>ABW</td>\n",
       "      <td>AW</td>\n",
       "      <td>Aruba</td>\n",
       "      <td>Oranjestad</td>\n",
       "      <td>-70.0167</td>\n",
       "      <td>12.5167</td>\n",
       "      <td>NaN</td>\n",
       "      <td>NaN</td>\n",
       "    </tr>\n",
       "    <tr>\n",
       "      <th>1</th>\n",
       "      <td>AFG</td>\n",
       "      <td>AF</td>\n",
       "      <td>Afghanistan</td>\n",
       "      <td>Kabul</td>\n",
       "      <td>69.1761</td>\n",
       "      <td>34.5228</td>\n",
       "      <td>493.750418</td>\n",
       "      <td>507.103432</td>\n",
       "    </tr>\n",
       "    <tr>\n",
       "      <th>2</th>\n",
       "      <td>AFR</td>\n",
       "      <td>A9</td>\n",
       "      <td>Africa</td>\n",
       "      <td></td>\n",
       "      <td></td>\n",
       "      <td></td>\n",
       "      <td>NaN</td>\n",
       "      <td>NaN</td>\n",
       "    </tr>\n",
       "    <tr>\n",
       "      <th>3</th>\n",
       "      <td>AGO</td>\n",
       "      <td>AO</td>\n",
       "      <td>Angola</td>\n",
       "      <td>Luanda</td>\n",
       "      <td>13.242</td>\n",
       "      <td>-8.81155</td>\n",
       "      <td>3289.646664</td>\n",
       "      <td>2790.726615</td>\n",
       "    </tr>\n",
       "    <tr>\n",
       "      <th>4</th>\n",
       "      <td>ALB</td>\n",
       "      <td>AL</td>\n",
       "      <td>Albania</td>\n",
       "      <td>Tirane</td>\n",
       "      <td>19.8172</td>\n",
       "      <td>41.3317</td>\n",
       "      <td>5284.380184</td>\n",
       "      <td>5353.244856</td>\n",
       "    </tr>\n",
       "    <tr>\n",
       "      <th>...</th>\n",
       "      <td>...</td>\n",
       "      <td>...</td>\n",
       "      <td>...</td>\n",
       "      <td>...</td>\n",
       "      <td>...</td>\n",
       "      <td>...</td>\n",
       "      <td>...</td>\n",
       "      <td>...</td>\n",
       "    </tr>\n",
       "    <tr>\n",
       "      <th>292</th>\n",
       "      <td>XZN</td>\n",
       "      <td>A5</td>\n",
       "      <td>Sub-Saharan Africa excluding South Africa and ...</td>\n",
       "      <td></td>\n",
       "      <td></td>\n",
       "      <td></td>\n",
       "      <td>NaN</td>\n",
       "      <td>NaN</td>\n",
       "    </tr>\n",
       "    <tr>\n",
       "      <th>293</th>\n",
       "      <td>YEM</td>\n",
       "      <td>YE</td>\n",
       "      <td>Yemen, Rep.</td>\n",
       "      <td>Sana'a</td>\n",
       "      <td>44.2075</td>\n",
       "      <td>15.352</td>\n",
       "      <td>824.117629</td>\n",
       "      <td>774.334490</td>\n",
       "    </tr>\n",
       "    <tr>\n",
       "      <th>294</th>\n",
       "      <td>ZAF</td>\n",
       "      <td>ZA</td>\n",
       "      <td>South Africa</td>\n",
       "      <td>Pretoria</td>\n",
       "      <td>28.1871</td>\n",
       "      <td>-25.746</td>\n",
       "      <td>6372.605655</td>\n",
       "      <td>6001.401121</td>\n",
       "    </tr>\n",
       "    <tr>\n",
       "      <th>295</th>\n",
       "      <td>ZMB</td>\n",
       "      <td>ZM</td>\n",
       "      <td>Zambia</td>\n",
       "      <td>Lusaka</td>\n",
       "      <td>28.2937</td>\n",
       "      <td>-15.3982</td>\n",
       "      <td>1516.390661</td>\n",
       "      <td>1305.063254</td>\n",
       "    </tr>\n",
       "    <tr>\n",
       "      <th>296</th>\n",
       "      <td>ZWE</td>\n",
       "      <td>ZW</td>\n",
       "      <td>Zimbabwe</td>\n",
       "      <td>Harare</td>\n",
       "      <td>31.0672</td>\n",
       "      <td>-17.8312</td>\n",
       "      <td>1683.740577</td>\n",
       "      <td>1463.985910</td>\n",
       "    </tr>\n",
       "  </tbody>\n",
       "</table>\n",
       "<p>297 rows × 8 columns</p>\n",
       "</div>"
      ],
      "text/plain": [
       "    iso3Code iso2Code                                            country  \\\n",
       "0        ABW       AW                                              Aruba   \n",
       "1        AFG       AF                                        Afghanistan   \n",
       "2        AFR       A9                                             Africa   \n",
       "3        AGO       AO                                             Angola   \n",
       "4        ALB       AL                                            Albania   \n",
       "..       ...      ...                                                ...   \n",
       "292      XZN       A5  Sub-Saharan Africa excluding South Africa and ...   \n",
       "293      YEM       YE                                        Yemen, Rep.   \n",
       "294      ZAF       ZA                                       South Africa   \n",
       "295      ZMB       ZM                                             Zambia   \n",
       "296      ZWE       ZW                                           Zimbabwe   \n",
       "\n",
       "    capitalCity longitude  latitude  gdp_pc_2018  gdp_pc_2019  \n",
       "0    Oranjestad  -70.0167   12.5167          NaN          NaN  \n",
       "1         Kabul   69.1761   34.5228   493.750418   507.103432  \n",
       "2                                            NaN          NaN  \n",
       "3        Luanda    13.242  -8.81155  3289.646664  2790.726615  \n",
       "4        Tirane   19.8172   41.3317  5284.380184  5353.244856  \n",
       "..          ...       ...       ...          ...          ...  \n",
       "292                                          NaN          NaN  \n",
       "293      Sana'a   44.2075    15.352   824.117629   774.334490  \n",
       "294    Pretoria   28.1871   -25.746  6372.605655  6001.401121  \n",
       "295      Lusaka   28.2937  -15.3982  1516.390661  1305.063254  \n",
       "296      Harare   31.0672  -17.8312  1683.740577  1463.985910  \n",
       "\n",
       "[297 rows x 8 columns]"
      ]
     },
     "execution_count": 209,
     "metadata": {},
     "output_type": "execute_result"
    }
   ],
   "source": [
    "# Rename columns in df_gdp_pc2 dataframe\n",
    "df_gdp_pc2.rename(columns={\"YR2018\":\"gdp_pc_2018\", \n",
    "                                      \"YR2019\":\"gdp_pc_2019\", \n",
    "                                      \"economy\":\"iso3Code\",\n",
    "                                       \"name\":\"country\"}, inplace=True)\n",
    "df_gdp_pc2"
   ]
  },
  {
   "cell_type": "code",
   "execution_count": 210,
   "metadata": {},
   "outputs": [],
   "source": [
    "df_country_m_f = df.groupby([\"country\", \"student_gender\"])[[\"math_score\",\"reading_score\"]].median().reset_index()"
   ]
  },
  {
   "cell_type": "code",
   "execution_count": 211,
   "metadata": {},
   "outputs": [
    {
     "data": {
      "text/html": [
       "<div>\n",
       "<style scoped>\n",
       "    .dataframe tbody tr th:only-of-type {\n",
       "        vertical-align: middle;\n",
       "    }\n",
       "\n",
       "    .dataframe tbody tr th {\n",
       "        vertical-align: top;\n",
       "    }\n",
       "\n",
       "    .dataframe thead th {\n",
       "        text-align: right;\n",
       "    }\n",
       "</style>\n",
       "<table border=\"1\" class=\"dataframe\">\n",
       "  <thead>\n",
       "    <tr style=\"text-align: right;\">\n",
       "      <th></th>\n",
       "      <th>country</th>\n",
       "      <th>student_gender</th>\n",
       "      <th>math_score</th>\n",
       "      <th>reading_score</th>\n",
       "    </tr>\n",
       "  </thead>\n",
       "  <tbody>\n",
       "    <tr>\n",
       "      <th>0</th>\n",
       "      <td>Argentina</td>\n",
       "      <td>Female</td>\n",
       "      <td>379.999605</td>\n",
       "      <td>423.397460</td>\n",
       "    </tr>\n",
       "    <tr>\n",
       "      <th>1</th>\n",
       "      <td>Argentina</td>\n",
       "      <td>Male</td>\n",
       "      <td>400.012300</td>\n",
       "      <td>409.711000</td>\n",
       "    </tr>\n",
       "    <tr>\n",
       "      <th>2</th>\n",
       "      <td>Finland</td>\n",
       "      <td>Female</td>\n",
       "      <td>515.323700</td>\n",
       "      <td>553.570130</td>\n",
       "    </tr>\n",
       "    <tr>\n",
       "      <th>3</th>\n",
       "      <td>Finland</td>\n",
       "      <td>Male</td>\n",
       "      <td>507.821010</td>\n",
       "      <td>500.784910</td>\n",
       "    </tr>\n",
       "    <tr>\n",
       "      <th>4</th>\n",
       "      <td>Japan</td>\n",
       "      <td>Female</td>\n",
       "      <td>525.601345</td>\n",
       "      <td>515.985595</td>\n",
       "    </tr>\n",
       "    <tr>\n",
       "      <th>5</th>\n",
       "      <td>Japan</td>\n",
       "      <td>Male</td>\n",
       "      <td>536.411990</td>\n",
       "      <td>499.877410</td>\n",
       "    </tr>\n",
       "    <tr>\n",
       "      <th>6</th>\n",
       "      <td>Netherlands</td>\n",
       "      <td>Female</td>\n",
       "      <td>518.592620</td>\n",
       "      <td>497.670090</td>\n",
       "    </tr>\n",
       "    <tr>\n",
       "      <th>7</th>\n",
       "      <td>Netherlands</td>\n",
       "      <td>Male</td>\n",
       "      <td>517.775330</td>\n",
       "      <td>464.479310</td>\n",
       "    </tr>\n",
       "    <tr>\n",
       "      <th>8</th>\n",
       "      <td>New Zealand</td>\n",
       "      <td>Female</td>\n",
       "      <td>492.636595</td>\n",
       "      <td>527.040530</td>\n",
       "    </tr>\n",
       "    <tr>\n",
       "      <th>9</th>\n",
       "      <td>New Zealand</td>\n",
       "      <td>Male</td>\n",
       "      <td>502.882290</td>\n",
       "      <td>499.501190</td>\n",
       "    </tr>\n",
       "    <tr>\n",
       "      <th>10</th>\n",
       "      <td>Norway</td>\n",
       "      <td>Female</td>\n",
       "      <td>505.222045</td>\n",
       "      <td>527.865600</td>\n",
       "    </tr>\n",
       "    <tr>\n",
       "      <th>11</th>\n",
       "      <td>Norway</td>\n",
       "      <td>Male</td>\n",
       "      <td>499.103000</td>\n",
       "      <td>479.519710</td>\n",
       "    </tr>\n",
       "    <tr>\n",
       "      <th>12</th>\n",
       "      <td>Romania</td>\n",
       "      <td>Female</td>\n",
       "      <td>423.975145</td>\n",
       "      <td>447.620910</td>\n",
       "    </tr>\n",
       "    <tr>\n",
       "      <th>13</th>\n",
       "      <td>Romania</td>\n",
       "      <td>Male</td>\n",
       "      <td>428.659000</td>\n",
       "      <td>412.466800</td>\n",
       "    </tr>\n",
       "    <tr>\n",
       "      <th>14</th>\n",
       "      <td>United States</td>\n",
       "      <td>Female</td>\n",
       "      <td>469.603745</td>\n",
       "      <td>516.498840</td>\n",
       "    </tr>\n",
       "    <tr>\n",
       "      <th>15</th>\n",
       "      <td>United States</td>\n",
       "      <td>Male</td>\n",
       "      <td>477.886795</td>\n",
       "      <td>492.516355</td>\n",
       "    </tr>\n",
       "  </tbody>\n",
       "</table>\n",
       "</div>"
      ],
      "text/plain": [
       "          country student_gender  math_score  reading_score\n",
       "0       Argentina         Female  379.999605     423.397460\n",
       "1       Argentina           Male  400.012300     409.711000\n",
       "2         Finland         Female  515.323700     553.570130\n",
       "3         Finland           Male  507.821010     500.784910\n",
       "4           Japan         Female  525.601345     515.985595\n",
       "5           Japan           Male  536.411990     499.877410\n",
       "6     Netherlands         Female  518.592620     497.670090\n",
       "7     Netherlands           Male  517.775330     464.479310\n",
       "8     New Zealand         Female  492.636595     527.040530\n",
       "9     New Zealand           Male  502.882290     499.501190\n",
       "10         Norway         Female  505.222045     527.865600\n",
       "11         Norway           Male  499.103000     479.519710\n",
       "12        Romania         Female  423.975145     447.620910\n",
       "13        Romania           Male  428.659000     412.466800\n",
       "14  United States         Female  469.603745     516.498840\n",
       "15  United States           Male  477.886795     492.516355"
      ]
     },
     "execution_count": 211,
     "metadata": {},
     "output_type": "execute_result"
    }
   ],
   "source": [
    "df_country_m_f"
   ]
  },
  {
   "cell_type": "code",
   "execution_count": 212,
   "metadata": {},
   "outputs": [],
   "source": [
    "df_combined = pd.merge(df_gdp_pc2, df_country_m_f, on=\"country\", how = \"right\" )"
   ]
  },
  {
   "cell_type": "code",
   "execution_count": 213,
   "metadata": {},
   "outputs": [
    {
     "data": {
      "text/html": [
       "<div>\n",
       "<style scoped>\n",
       "    .dataframe tbody tr th:only-of-type {\n",
       "        vertical-align: middle;\n",
       "    }\n",
       "\n",
       "    .dataframe tbody tr th {\n",
       "        vertical-align: top;\n",
       "    }\n",
       "\n",
       "    .dataframe thead th {\n",
       "        text-align: right;\n",
       "    }\n",
       "</style>\n",
       "<table border=\"1\" class=\"dataframe\">\n",
       "  <thead>\n",
       "    <tr style=\"text-align: right;\">\n",
       "      <th></th>\n",
       "      <th>iso3Code</th>\n",
       "      <th>iso2Code</th>\n",
       "      <th>country</th>\n",
       "      <th>capitalCity</th>\n",
       "      <th>longitude</th>\n",
       "      <th>latitude</th>\n",
       "      <th>gdp_pc_2018</th>\n",
       "      <th>gdp_pc_2019</th>\n",
       "      <th>student_gender</th>\n",
       "      <th>math_score</th>\n",
       "      <th>reading_score</th>\n",
       "    </tr>\n",
       "  </thead>\n",
       "  <tbody>\n",
       "    <tr>\n",
       "      <th>0</th>\n",
       "      <td>ARG</td>\n",
       "      <td>AR</td>\n",
       "      <td>Argentina</td>\n",
       "      <td>Buenos Aires</td>\n",
       "      <td>-58.4173</td>\n",
       "      <td>-34.6118</td>\n",
       "      <td>11633.498009</td>\n",
       "      <td>9912.281809</td>\n",
       "      <td>Female</td>\n",
       "      <td>379.999605</td>\n",
       "      <td>423.397460</td>\n",
       "    </tr>\n",
       "    <tr>\n",
       "      <th>1</th>\n",
       "      <td>ARG</td>\n",
       "      <td>AR</td>\n",
       "      <td>Argentina</td>\n",
       "      <td>Buenos Aires</td>\n",
       "      <td>-58.4173</td>\n",
       "      <td>-34.6118</td>\n",
       "      <td>11633.498009</td>\n",
       "      <td>9912.281809</td>\n",
       "      <td>Male</td>\n",
       "      <td>400.012300</td>\n",
       "      <td>409.711000</td>\n",
       "    </tr>\n",
       "    <tr>\n",
       "      <th>2</th>\n",
       "      <td>FIN</td>\n",
       "      <td>FI</td>\n",
       "      <td>Finland</td>\n",
       "      <td>Helsinki</td>\n",
       "      <td>24.9525</td>\n",
       "      <td>60.1608</td>\n",
       "      <td>50030.877311</td>\n",
       "      <td>48771.373796</td>\n",
       "      <td>Female</td>\n",
       "      <td>515.323700</td>\n",
       "      <td>553.570130</td>\n",
       "    </tr>\n",
       "    <tr>\n",
       "      <th>3</th>\n",
       "      <td>FIN</td>\n",
       "      <td>FI</td>\n",
       "      <td>Finland</td>\n",
       "      <td>Helsinki</td>\n",
       "      <td>24.9525</td>\n",
       "      <td>60.1608</td>\n",
       "      <td>50030.877311</td>\n",
       "      <td>48771.373796</td>\n",
       "      <td>Male</td>\n",
       "      <td>507.821010</td>\n",
       "      <td>500.784910</td>\n",
       "    </tr>\n",
       "    <tr>\n",
       "      <th>4</th>\n",
       "      <td>JPN</td>\n",
       "      <td>JP</td>\n",
       "      <td>Japan</td>\n",
       "      <td>Tokyo</td>\n",
       "      <td>139.77</td>\n",
       "      <td>35.67</td>\n",
       "      <td>39159.423563</td>\n",
       "      <td>40246.880128</td>\n",
       "      <td>Female</td>\n",
       "      <td>525.601345</td>\n",
       "      <td>515.985595</td>\n",
       "    </tr>\n",
       "    <tr>\n",
       "      <th>5</th>\n",
       "      <td>JPN</td>\n",
       "      <td>JP</td>\n",
       "      <td>Japan</td>\n",
       "      <td>Tokyo</td>\n",
       "      <td>139.77</td>\n",
       "      <td>35.67</td>\n",
       "      <td>39159.423563</td>\n",
       "      <td>40246.880128</td>\n",
       "      <td>Male</td>\n",
       "      <td>536.411990</td>\n",
       "      <td>499.877410</td>\n",
       "    </tr>\n",
       "    <tr>\n",
       "      <th>6</th>\n",
       "      <td>NLD</td>\n",
       "      <td>NL</td>\n",
       "      <td>Netherlands</td>\n",
       "      <td>Amsterdam</td>\n",
       "      <td>4.89095</td>\n",
       "      <td>52.3738</td>\n",
       "      <td>53044.532435</td>\n",
       "      <td>52295.039050</td>\n",
       "      <td>Female</td>\n",
       "      <td>518.592620</td>\n",
       "      <td>497.670090</td>\n",
       "    </tr>\n",
       "    <tr>\n",
       "      <th>7</th>\n",
       "      <td>NLD</td>\n",
       "      <td>NL</td>\n",
       "      <td>Netherlands</td>\n",
       "      <td>Amsterdam</td>\n",
       "      <td>4.89095</td>\n",
       "      <td>52.3738</td>\n",
       "      <td>53044.532435</td>\n",
       "      <td>52295.039050</td>\n",
       "      <td>Male</td>\n",
       "      <td>517.775330</td>\n",
       "      <td>464.479310</td>\n",
       "    </tr>\n",
       "    <tr>\n",
       "      <th>8</th>\n",
       "      <td>NZL</td>\n",
       "      <td>NZ</td>\n",
       "      <td>New Zealand</td>\n",
       "      <td>Wellington</td>\n",
       "      <td>174.776</td>\n",
       "      <td>-41.2865</td>\n",
       "      <td>42427.583145</td>\n",
       "      <td>41557.802411</td>\n",
       "      <td>Female</td>\n",
       "      <td>492.636595</td>\n",
       "      <td>527.040530</td>\n",
       "    </tr>\n",
       "    <tr>\n",
       "      <th>9</th>\n",
       "      <td>NZL</td>\n",
       "      <td>NZ</td>\n",
       "      <td>New Zealand</td>\n",
       "      <td>Wellington</td>\n",
       "      <td>174.776</td>\n",
       "      <td>-41.2865</td>\n",
       "      <td>42427.583145</td>\n",
       "      <td>41557.802411</td>\n",
       "      <td>Male</td>\n",
       "      <td>502.882290</td>\n",
       "      <td>499.501190</td>\n",
       "    </tr>\n",
       "    <tr>\n",
       "      <th>10</th>\n",
       "      <td>NOR</td>\n",
       "      <td>NO</td>\n",
       "      <td>Norway</td>\n",
       "      <td>Oslo</td>\n",
       "      <td>10.7387</td>\n",
       "      <td>59.9138</td>\n",
       "      <td>81734.465574</td>\n",
       "      <td>75419.634869</td>\n",
       "      <td>Female</td>\n",
       "      <td>505.222045</td>\n",
       "      <td>527.865600</td>\n",
       "    </tr>\n",
       "    <tr>\n",
       "      <th>11</th>\n",
       "      <td>NOR</td>\n",
       "      <td>NO</td>\n",
       "      <td>Norway</td>\n",
       "      <td>Oslo</td>\n",
       "      <td>10.7387</td>\n",
       "      <td>59.9138</td>\n",
       "      <td>81734.465574</td>\n",
       "      <td>75419.634869</td>\n",
       "      <td>Male</td>\n",
       "      <td>499.103000</td>\n",
       "      <td>479.519710</td>\n",
       "    </tr>\n",
       "    <tr>\n",
       "      <th>12</th>\n",
       "      <td>ROU</td>\n",
       "      <td>RO</td>\n",
       "      <td>Romania</td>\n",
       "      <td>Bucharest</td>\n",
       "      <td>26.0979</td>\n",
       "      <td>44.4479</td>\n",
       "      <td>12399.889336</td>\n",
       "      <td>12913.073956</td>\n",
       "      <td>Female</td>\n",
       "      <td>423.975145</td>\n",
       "      <td>447.620910</td>\n",
       "    </tr>\n",
       "    <tr>\n",
       "      <th>13</th>\n",
       "      <td>ROU</td>\n",
       "      <td>RO</td>\n",
       "      <td>Romania</td>\n",
       "      <td>Bucharest</td>\n",
       "      <td>26.0979</td>\n",
       "      <td>44.4479</td>\n",
       "      <td>12399.889336</td>\n",
       "      <td>12913.073956</td>\n",
       "      <td>Male</td>\n",
       "      <td>428.659000</td>\n",
       "      <td>412.466800</td>\n",
       "    </tr>\n",
       "    <tr>\n",
       "      <th>14</th>\n",
       "      <td>USA</td>\n",
       "      <td>US</td>\n",
       "      <td>United States</td>\n",
       "      <td>Washington D.C.</td>\n",
       "      <td>-77.032</td>\n",
       "      <td>38.8895</td>\n",
       "      <td>62996.471285</td>\n",
       "      <td>65297.517508</td>\n",
       "      <td>Female</td>\n",
       "      <td>469.603745</td>\n",
       "      <td>516.498840</td>\n",
       "    </tr>\n",
       "    <tr>\n",
       "      <th>15</th>\n",
       "      <td>USA</td>\n",
       "      <td>US</td>\n",
       "      <td>United States</td>\n",
       "      <td>Washington D.C.</td>\n",
       "      <td>-77.032</td>\n",
       "      <td>38.8895</td>\n",
       "      <td>62996.471285</td>\n",
       "      <td>65297.517508</td>\n",
       "      <td>Male</td>\n",
       "      <td>477.886795</td>\n",
       "      <td>492.516355</td>\n",
       "    </tr>\n",
       "  </tbody>\n",
       "</table>\n",
       "</div>"
      ],
      "text/plain": [
       "   iso3Code iso2Code        country      capitalCity longitude  latitude  \\\n",
       "0       ARG       AR      Argentina     Buenos Aires  -58.4173  -34.6118   \n",
       "1       ARG       AR      Argentina     Buenos Aires  -58.4173  -34.6118   \n",
       "2       FIN       FI        Finland         Helsinki   24.9525   60.1608   \n",
       "3       FIN       FI        Finland         Helsinki   24.9525   60.1608   \n",
       "4       JPN       JP          Japan            Tokyo    139.77     35.67   \n",
       "5       JPN       JP          Japan            Tokyo    139.77     35.67   \n",
       "6       NLD       NL    Netherlands        Amsterdam   4.89095   52.3738   \n",
       "7       NLD       NL    Netherlands        Amsterdam   4.89095   52.3738   \n",
       "8       NZL       NZ    New Zealand       Wellington   174.776  -41.2865   \n",
       "9       NZL       NZ    New Zealand       Wellington   174.776  -41.2865   \n",
       "10      NOR       NO         Norway             Oslo   10.7387   59.9138   \n",
       "11      NOR       NO         Norway             Oslo   10.7387   59.9138   \n",
       "12      ROU       RO        Romania        Bucharest   26.0979   44.4479   \n",
       "13      ROU       RO        Romania        Bucharest   26.0979   44.4479   \n",
       "14      USA       US  United States  Washington D.C.   -77.032   38.8895   \n",
       "15      USA       US  United States  Washington D.C.   -77.032   38.8895   \n",
       "\n",
       "     gdp_pc_2018   gdp_pc_2019 student_gender  math_score  reading_score  \n",
       "0   11633.498009   9912.281809         Female  379.999605     423.397460  \n",
       "1   11633.498009   9912.281809           Male  400.012300     409.711000  \n",
       "2   50030.877311  48771.373796         Female  515.323700     553.570130  \n",
       "3   50030.877311  48771.373796           Male  507.821010     500.784910  \n",
       "4   39159.423563  40246.880128         Female  525.601345     515.985595  \n",
       "5   39159.423563  40246.880128           Male  536.411990     499.877410  \n",
       "6   53044.532435  52295.039050         Female  518.592620     497.670090  \n",
       "7   53044.532435  52295.039050           Male  517.775330     464.479310  \n",
       "8   42427.583145  41557.802411         Female  492.636595     527.040530  \n",
       "9   42427.583145  41557.802411           Male  502.882290     499.501190  \n",
       "10  81734.465574  75419.634869         Female  505.222045     527.865600  \n",
       "11  81734.465574  75419.634869           Male  499.103000     479.519710  \n",
       "12  12399.889336  12913.073956         Female  423.975145     447.620910  \n",
       "13  12399.889336  12913.073956           Male  428.659000     412.466800  \n",
       "14  62996.471285  65297.517508         Female  469.603745     516.498840  \n",
       "15  62996.471285  65297.517508           Male  477.886795     492.516355  "
      ]
     },
     "execution_count": 213,
     "metadata": {},
     "output_type": "execute_result"
    }
   ],
   "source": [
    "df_combined"
   ]
  },
  {
   "cell_type": "code",
   "execution_count": 214,
   "metadata": {},
   "outputs": [
    {
     "data": {
      "text/plain": [
       "<AxesSubplot:xlabel='country', ylabel='math_score'>"
      ]
     },
     "execution_count": 214,
     "metadata": {},
     "output_type": "execute_result"
    },
    {
     "data": {
      "image/png": "[encoded data removed]",
      "text/plain": [
       "<Figure size 1008x432 with 1 Axes>"
      ]
     },
     "metadata": {
      "needs_background": "light"
     },
     "output_type": "display_data"
    }
   ],
   "source": [
    "# bar chart\n",
    "f, ax = plt.subplots(figsize=(14, 6))\n",
    "\n",
    "sns.barplot(x=\"country\", \n",
    "               y=\"math_score\", \n",
    "               hue = 'student_gender',\n",
    "               data = df_combined)"
   ]
  },
  {
   "cell_type": "code",
   "execution_count": 215,
   "metadata": {},
   "outputs": [
    {
     "data": {
      "text/plain": [
       "<AxesSubplot:xlabel='country', ylabel='reading_score'>"
      ]
     },
     "execution_count": 215,
     "metadata": {},
     "output_type": "execute_result"
    },
    {
     "data": {
      "image/png": "[encoded data removed]",
      "text/plain": [
       "<Figure size 1008x432 with 1 Axes>"
      ]
     },
     "metadata": {
      "needs_background": "light"
     },
     "output_type": "display_data"
    }
   ],
   "source": [
    "# bar chart\n",
    "f, ax = plt.subplots(figsize=(14, 6))\n",
    "\n",
    "sns.barplot(x=\"country\", \n",
    "               y=\"reading_score\", \n",
    "               hue = 'student_gender',\n",
    "               data = df_combined)"
   ]
  },
  {
   "cell_type": "code",
   "execution_count": 158,
   "metadata": {},
   "outputs": [
    {
     "data": {
      "text/plain": [
       "<seaborn.axisgrid.FacetGrid at 0x11ed01220>"
      ]
     },
     "execution_count": 158,
     "metadata": {},
     "output_type": "execute_result"
    },
    {
     "data": {
      "image/png": "[encoded data removed]",
      "text/plain": [
       "<Figure size 446.75x360 with 1 Axes>"
      ]
     },
     "metadata": {
      "needs_background": "light"
     },
     "output_type": "display_data"
    }
   ],
   "source": [
    "sns.lmplot(x=\"gdp_pc_2019\", y=\"reading_score\", data=df_combined, hue=\"student_gender\", ci=None)\n",
    "\n",
    "plt.savefig('scatter', dpi=400, bbox_inches='tight')"
   ]
  },
  {
   "cell_type": "code",
   "execution_count": 166,
   "metadata": {},
   "outputs": [
    {
     "name": "stdout",
     "output_type": "stream",
     "text": [
      "original shape:  (50397, 19)\n",
      "new shape:  (35768, 19)\n"
     ]
    }
   ],
   "source": [
    "df_alt = df.copy()\n",
    "\n",
    "print('original shape: ', df.shape)\n",
    "df_alt.dropna(inplace=True)\n",
    "print('new shape: ', df_alt.shape)"
   ]
  },
  {
   "cell_type": "code",
   "execution_count": 167,
   "metadata": {},
   "outputs": [
    {
     "data": {
      "text/plain": [
       "(50397, 19)"
      ]
     },
     "execution_count": 167,
     "metadata": {},
     "output_type": "execute_result"
    }
   ],
   "source": [
    "df.shape"
   ]
  },
  {
   "cell_type": "code",
   "execution_count": 174,
   "metadata": {},
   "outputs": [
    {
     "data": {
      "text/plain": [
       "True     50383\n",
       "False       14\n",
       "dtype: int64"
      ]
     },
     "execution_count": 174,
     "metadata": {},
     "output_type": "execute_result"
    }
   ],
   "source": [
    "df.duplicated(\"country_school_id\", keep=False).value_counts()"
   ]
  },
  {
   "cell_type": "code",
   "execution_count": 176,
   "metadata": {},
   "outputs": [
    {
     "data": {
      "text/plain": [
       "True     48612\n",
       "False     1785\n",
       "dtype: int64"
      ]
     },
     "execution_count": 176,
     "metadata": {},
     "output_type": "execute_result"
    }
   ],
   "source": [
    "df.duplicated(\"country_school_id\", keep=\"first\").value_counts()"
   ]
  },
  {
   "cell_type": "code",
   "execution_count": 181,
   "metadata": {},
   "outputs": [
    {
     "data": {
      "text/plain": [
       "55400029    71\n",
       "55400194    69\n",
       "55400069    65\n",
       "55400176    65\n",
       "55400105    65\n",
       "            ..\n",
       "84000006     1\n",
       "3200270      1\n",
       "3200412      1\n",
       "3200318      1\n",
       "24600098     1\n",
       "Name: country_school_id, Length: 1785, dtype: int64"
      ]
     },
     "execution_count": 181,
     "metadata": {},
     "output_type": "execute_result"
    }
   ],
   "source": [
    "df.country_school_id.value_counts()"
   ]
  },
  {
   "cell_type": "code",
   "execution_count": 182,
   "metadata": {},
   "outputs": [
    {
     "data": {
      "text/plain": [
       "1785"
      ]
     },
     "execution_count": 182,
     "metadata": {},
     "output_type": "execute_result"
    }
   ],
   "source": [
    "df.country_school_id.nunique()"
   ]
  },
  {
   "cell_type": "code",
   "execution_count": 171,
   "metadata": {},
   "outputs": [
    {
     "data": {
      "text/plain": [
       "Index(['country_id', 'country', 'country_school_id', 'country_student_id',\n",
       "       'student_gender', 'computer_at_home', 'internet_at_home',\n",
       "       'immigration_status', 'early_education', 'repeated_grades',\n",
       "       'school_location', 'school_type', 'school_size', 'class_size',\n",
       "       'socioeconomic_index', 'math_score', 'reading_score',\n",
       "       'parent_education', 'is_female'],\n",
       "      dtype='object')"
      ]
     },
     "execution_count": 171,
     "metadata": {},
     "output_type": "execute_result"
    }
   ],
   "source": [
    "df.columns"
   ]
  },
  {
   "cell_type": "code",
   "execution_count": null,
   "metadata": {},
   "outputs": [],
   "source": [
    "# To save: \n",
    "# df_combined.to_csv(\"pisa_with_wdi.csv\")"
   ]
  }
 ],
 "metadata": {
  "kernelspec": {
   "display_name": "flaring",
   "language": "python",
   "name": "flaring"
  },
  "language_info": {
   "codemirror_mode": {
    "name": "ipython",
    "version": 3
   },
   "file_extension": ".py",
   "mimetype": "text/x-python",
   "name": "python",
   "nbconvert_exporter": "python",
   "pygments_lexer": "ipython3",
   "version": "3.8.6"
  }
 },
 "nbformat": 4,
 "nbformat_minor": 4
}
