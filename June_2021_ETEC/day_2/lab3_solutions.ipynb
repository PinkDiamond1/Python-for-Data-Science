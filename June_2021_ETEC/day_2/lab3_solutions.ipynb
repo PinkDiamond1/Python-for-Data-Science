{
  "nbformat": 4,
  "nbformat_minor": 0,
  "metadata": {
    "kernelspec": {
      "display_name": "Python 3",
      "language": "python",
      "name": "python3"
    },
    "language_info": {
      "codemirror_mode": {
        "name": "ipython",
        "version": 3
      },
      "file_extension": ".py",
      "mimetype": "text/x-python",
      "name": "python",
      "nbconvert_exporter": "python",
      "pygments_lexer": "ipython3",
      "version": "3.7.3"
    },
    "colab": {
      "name": "Copy of lab_1_solutions.ipynb",
      "provenance": []
    }
  },
  "cells": [
    {
      "cell_type": "markdown",
      "metadata": {
        "id": "HAt7q9Elij7y"
      },
      "source": [
        "# Lab 3\n",
        "\n",
        "Answer the exercises or complete the tasks, using the specific method described if applicable."
      ]
    },
    {
      "cell_type": "markdown",
      "metadata": {
        "id": "Mf0yeKXGij71"
      },
      "source": [
        "#### EXERCISE 1: Album collection\n",
        "Sort these albums into alphabetical order"
      ]
    },
    {
      "cell_type": "code",
      "metadata": {
        "id": "wg9XZ78Kij71"
      },
      "source": [
        "albums = ['Piper At The Gates of Dawn',\n",
        "          'Ummagumma',\n",
        "          'Obscured By Clouds',\n",
        "          'Dark Side Of The Moon']"
      ],
      "execution_count": null,
      "outputs": []
    },
    {
      "cell_type": "code",
      "metadata": {
        "id": "2nK93sqPij72",
        "outputId": "82b30976-71e4-4fb2-deac-cb939a116d84"
      },
      "source": [
        "# YOUR CODE HERE:\n",
        "albums.sort()\n",
        "albums "
      ],
      "execution_count": null,
      "outputs": [
        {
          "output_type": "execute_result",
          "data": {
            "text/plain": [
              "['Dark Side Of The Moon',\n",
              " 'Obscured By Clouds',\n",
              " 'Piper At The Gates of Dawn',\n",
              " 'Ummagumma']"
            ]
          },
          "metadata": {
            "tags": []
          },
          "execution_count": 2
        }
      ]
    },
    {
      "cell_type": "markdown",
      "metadata": {
        "id": "NHx7ZWctij74"
      },
      "source": [
        "They were recorded in 1967, 1969, 1972 and 1973 respectively. Make a dictionary called album_dict where the key-value pairs are album name and date. Check it worked by retrieving the date of Ummagumma."
      ]
    },
    {
      "cell_type": "code",
      "metadata": {
        "scrolled": true,
        "id": "ArSCV94fij75",
        "outputId": "b188b0f5-0331-49f2-832f-70deb15e3832"
      },
      "source": [
        "# YOUR CODE HERE\n",
        "album_dict = {'Piper At The Gates of Dawn':'1967',\n",
        "          'Ummagumma':'1969',\n",
        "          'Obscured By Clouds':'1972',\n",
        "          'Dark Side Of The Moon':'1973'}\n",
        "album_dict[\"Ummagumma\"]"
      ],
      "execution_count": null,
      "outputs": [
        {
          "output_type": "execute_result",
          "data": {
            "text/plain": [
              "'1969'"
            ]
          },
          "metadata": {
            "tags": []
          },
          "execution_count": 3
        }
      ]
    },
    {
      "cell_type": "markdown",
      "metadata": {
        "id": "ibxaWgxHij76"
      },
      "source": [
        "#### EXERCISE 2: Shopping spree\n",
        "Write a program to iterate through `shopping_list` (a dictionary containing items and their price). As each item is added, print its name and the running total. If an item cost more than 15 dollars, print \"Warning: expensive!\""
      ]
    },
    {
      "cell_type": "code",
      "metadata": {
        "id": "Qd-dhEpaij76"
      },
      "source": [
        "shopping_list = {'green eggs': 3.09,\n",
        "                'ham': 5.99,\n",
        "                'christmas tree': 45.00,\n",
        "                'caviar': 299.99,\n",
        "                'newspaper': 3.50}"
      ],
      "execution_count": null,
      "outputs": []
    },
    {
      "cell_type": "code",
      "metadata": {
        "id": "LCeqEN37ij77",
        "outputId": "cdd3c5e4-c443-452e-baaa-0e8d65bcbf49"
      },
      "source": [
        "# YOUR CODE HERE:\n",
        "total = 0\n",
        "for item,price in shopping_list.items():\n",
        "    total += price\n",
        "    print(item)\n",
        "    print(\"total so far: \", total)\n",
        "    if price > 15:\n",
        "        print('---> Warning: expensive!')\n",
        "    print()"
      ],
      "execution_count": null,
      "outputs": [
        {
          "output_type": "stream",
          "text": [
            "green eggs\n",
            "total so far:  3.09\n",
            "\n",
            "ham\n",
            "total so far:  9.08\n",
            "\n",
            "christmas tree\n",
            "total so far:  54.08\n",
            "---> Warning: expensive!\n",
            "\n",
            "caviar\n",
            "total so far:  354.07\n",
            "---> Warning: expensive!\n",
            "\n",
            "newspaper\n",
            "total so far:  357.57\n",
            "\n"
          ],
          "name": "stdout"
        }
      ]
    },
    {
      "cell_type": "markdown",
      "metadata": {
        "id": "wbJ1Dmovij7_"
      },
      "source": [
        "#### EXERCISE 3: Functions"
      ]
    },
    {
      "cell_type": "markdown",
      "metadata": {
        "id": "qR8mFWbTij8D"
      },
      "source": [
        "**Create a function to replace 'not bad' with 'really good' in a string, and add exclamation marks. Your function takes one parameter: my_string \n",
        "\n",
        "Bonus: apply it to each of the three strings using a for loop, adding a random number of exclamation marks."
      ]
    },
    {
      "cell_type": "code",
      "metadata": {
        "id": "9Waw6O9xij8D"
      },
      "source": [
        "# YOUR FUNCTION HERE:\n",
        "\n",
        "def add_enthusiasm(my_string):\n",
        "    my_string = my_string.replace('not bad', 'really good') + \"!!\"\n",
        "    return(my_string)"
      ],
      "execution_count": null,
      "outputs": []
    },
    {
      "cell_type": "code",
      "metadata": {
        "id": "7_piXrksij8E"
      },
      "source": [
        "string1 = 'This chicken curry is not bad'\n",
        "string2 = \"Nick's ukulele playing is not bad\"\n",
        "string3 = 'Our Python instructors are not bad'"
      ],
      "execution_count": null,
      "outputs": []
    },
    {
      "cell_type": "code",
      "metadata": {
        "id": "5_1HVRQBij8E",
        "colab": {
          "base_uri": "https://localhost:8080/",
          "height": 35
        },
        "outputId": "27bf5994-a78e-46ba-a59e-ab94a58daa7b"
      },
      "source": [
        "add_enthusiasm(string1)"
      ],
      "execution_count": null,
      "outputs": [
        {
          "output_type": "execute_result",
          "data": {
            "application/vnd.google.colaboratory.intrinsic+json": {
              "type": "string"
            },
            "text/plain": [
              "'This chicken curry is really good!!'"
            ]
          },
          "metadata": {
            "tags": []
          },
          "execution_count": 4
        }
      ]
    },
    {
      "cell_type": "code",
      "metadata": {
        "id": "Cg6lLVuHij8E",
        "colab": {
          "base_uri": "https://localhost:8080/"
        },
        "outputId": "cb6ee7bd-4a91-4eef-e4ec-9c440d4d2717"
      },
      "source": [
        "# YOUR CODE HERE:\n",
        "import random\n",
        "for string in [string1, string2, string3]:\n",
        "    print(add_enthusiasm(string))\n",
        "    \n",
        "\n",
        "#print(\"This chicken curry is really good!!!!!!\")\n",
        "#print(\"Nick's ukulele playing is really good!!\")\n",
        "#print(\"Our Python instructors are really good!\")"
      ],
      "execution_count": null,
      "outputs": [
        {
          "output_type": "stream",
          "text": [
            "This chicken curry is really good!!\n",
            "Nick's ukulele playing is really good!!\n",
            "Our Python instructors are really good!!\n"
          ],
          "name": "stdout"
        }
      ]
    },
    {
      "cell_type": "markdown",
      "metadata": {
        "id": "gwSjOtgAij8K"
      },
      "source": [
        "#### EXERCISE 4: Count nines\n",
        "Write a function to count the instances of integer 9 in a list"
      ]
    },
    {
      "cell_type": "code",
      "metadata": {
        "id": "9fbLmGz7ij8K"
      },
      "source": [
        "# YOUR FUNCTION HERE:\n",
        "\n",
        "def count_nines(my_list):\n",
        "    nines = my_list.count(9)\n",
        "    return nines"
      ],
      "execution_count": null,
      "outputs": []
    },
    {
      "cell_type": "code",
      "metadata": {
        "id": "ZyRrQcYVij8L"
      },
      "source": [
        "my_list = [0,3,2,4,9,9,3]"
      ],
      "execution_count": null,
      "outputs": []
    },
    {
      "cell_type": "code",
      "metadata": {
        "id": "8KdBcJONij8L",
        "colab": {
          "base_uri": "https://localhost:8080/"
        },
        "outputId": "59aaaae3-fa3a-4981-e5b3-538db6070438"
      },
      "source": [
        "count_nines(my_list)"
      ],
      "execution_count": null,
      "outputs": [
        {
          "output_type": "execute_result",
          "data": {
            "text/plain": [
              "2"
            ]
          },
          "metadata": {
            "tags": []
          },
          "execution_count": 11
        }
      ]
    },
    {
      "cell_type": "code",
      "metadata": {
        "id": "1LI1TF8zjh5y"
      },
      "source": [
        ""
      ],
      "execution_count": null,
      "outputs": []
    }
  ]
}