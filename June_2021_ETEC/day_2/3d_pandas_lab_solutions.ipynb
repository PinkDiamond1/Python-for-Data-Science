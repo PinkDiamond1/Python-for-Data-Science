{
 "cells": [
  {
   "cell_type": "markdown",
   "metadata": {},
   "source": [
    "## Pandas Lab: Solutions\n",
    "\n",
    "_Objective_: clean and manipulate the education outcomes toy dataset"
   ]
  },
  {
   "cell_type": "code",
   "execution_count": 1,
   "metadata": {},
   "outputs": [],
   "source": [
    "import numpy as np\n",
    "import pandas as pd"
   ]
  },
  {
   "cell_type": "code",
   "execution_count": 2,
   "metadata": {},
   "outputs": [],
   "source": [
    "# Set path to toy education outcomes dataset\n",
    "\n",
    "path = r'https://raw.githubusercontent.com/worldbank/Python-for-Data-Science/master/June_2021_ETEC/day_2/data/data_edu.csv'"
   ]
  },
  {
   "cell_type": "code",
   "execution_count": 3,
   "metadata": {},
   "outputs": [],
   "source": [
    "# Read data from csv file into dataframe\n",
    "\n",
    "df = pd.read_csv(path, encoding = 'utf_8')"
   ]
  },
  {
   "cell_type": "markdown",
   "metadata": {},
   "source": [
    "#### Inspect and prepare the dataset"
   ]
  },
  {
   "cell_type": "code",
   "execution_count": 4,
   "metadata": {},
   "outputs": [
    {
     "data": {
      "text/html": [
       "<div>\n",
       "<style scoped>\n",
       "    .dataframe tbody tr th:only-of-type {\n",
       "        vertical-align: middle;\n",
       "    }\n",
       "\n",
       "    .dataframe tbody tr th {\n",
       "        vertical-align: top;\n",
       "    }\n",
       "\n",
       "    .dataframe thead th {\n",
       "        text-align: right;\n",
       "    }\n",
       "</style>\n",
       "<table border=\"1\" class=\"dataframe\">\n",
       "  <thead>\n",
       "    <tr style=\"text-align: right;\">\n",
       "      <th></th>\n",
       "      <th>country_id</th>\n",
       "      <th>country</th>\n",
       "      <th>country_school_id</th>\n",
       "      <th>country_student_id</th>\n",
       "      <th>student_gender</th>\n",
       "      <th>computer_at_home</th>\n",
       "      <th>internet_at_home</th>\n",
       "      <th>immigration_status</th>\n",
       "      <th>early_education</th>\n",
       "      <th>repeated_grades</th>\n",
       "      <th>school_location</th>\n",
       "      <th>school_type</th>\n",
       "      <th>school_size</th>\n",
       "      <th>class_size</th>\n",
       "      <th>socioeconomic_index</th>\n",
       "      <th>math_score</th>\n",
       "      <th>reading_score</th>\n",
       "      <th>parent_education</th>\n",
       "    </tr>\n",
       "  </thead>\n",
       "  <tbody>\n",
       "    <tr>\n",
       "      <th>0</th>\n",
       "      <td>Argentina</td>\n",
       "      <td>Argentina</td>\n",
       "      <td>3200001</td>\n",
       "      <td>3213049</td>\n",
       "      <td>Female</td>\n",
       "      <td>No</td>\n",
       "      <td>Yes</td>\n",
       "      <td>First-Generation</td>\n",
       "      <td>Attended ECEC for at least two but less than t...</td>\n",
       "      <td>Repeated a  grade</td>\n",
       "      <td>A city (100 000 to about 1 000 000 people)</td>\n",
       "      <td>Public</td>\n",
       "      <td>570</td>\n",
       "      <td>31-35 students</td>\n",
       "      <td>-1.3730</td>\n",
       "      <td>314.25031</td>\n",
       "      <td>424.07239</td>\n",
       "      <td>Post secondary, non-tertiary</td>\n",
       "    </tr>\n",
       "    <tr>\n",
       "      <th>1</th>\n",
       "      <td>Argentina</td>\n",
       "      <td>Argentina</td>\n",
       "      <td>3200001</td>\n",
       "      <td>3203374</td>\n",
       "      <td>Female</td>\n",
       "      <td>Yes</td>\n",
       "      <td>Yes</td>\n",
       "      <td>Native</td>\n",
       "      <td>Attended ECEC for at least two but less than t...</td>\n",
       "      <td>Did not repeat a  grade</td>\n",
       "      <td>A city (100 000 to about 1 000 000 people)</td>\n",
       "      <td>Public</td>\n",
       "      <td>570</td>\n",
       "      <td>31-35 students</td>\n",
       "      <td>-1.1825</td>\n",
       "      <td>356.07629</td>\n",
       "      <td>380.26309</td>\n",
       "      <td>Post secondary, non-tertiary</td>\n",
       "    </tr>\n",
       "    <tr>\n",
       "      <th>2</th>\n",
       "      <td>Argentina</td>\n",
       "      <td>Argentina</td>\n",
       "      <td>3200001</td>\n",
       "      <td>3204844</td>\n",
       "      <td>Male</td>\n",
       "      <td>No</td>\n",
       "      <td>No</td>\n",
       "      <td>First-Generation</td>\n",
       "      <td>Attended ECEC for at least one but less than t...</td>\n",
       "      <td>Did not repeat a  grade</td>\n",
       "      <td>A city (100 000 to about 1 000 000 people)</td>\n",
       "      <td>Public</td>\n",
       "      <td>570</td>\n",
       "      <td>31-35 students</td>\n",
       "      <td>-2.3486</td>\n",
       "      <td>338.08029</td>\n",
       "      <td>384.89191</td>\n",
       "      <td>Lower secondary</td>\n",
       "    </tr>\n",
       "    <tr>\n",
       "      <th>3</th>\n",
       "      <td>Argentina</td>\n",
       "      <td>Argentina</td>\n",
       "      <td>3200001</td>\n",
       "      <td>3211193</td>\n",
       "      <td>Female</td>\n",
       "      <td>Yes</td>\n",
       "      <td>Yes</td>\n",
       "      <td>Native</td>\n",
       "      <td>Attended ECEC for at least two but less than t...</td>\n",
       "      <td>Did not repeat a  grade</td>\n",
       "      <td>A city (100 000 to about 1 000 000 people)</td>\n",
       "      <td>Public</td>\n",
       "      <td>570</td>\n",
       "      <td>31-35 students</td>\n",
       "      <td>-0.9259</td>\n",
       "      <td>310.38690</td>\n",
       "      <td>392.88031</td>\n",
       "      <td>Post secondary, non-tertiary</td>\n",
       "    </tr>\n",
       "    <tr>\n",
       "      <th>4</th>\n",
       "      <td>Argentina</td>\n",
       "      <td>Argentina</td>\n",
       "      <td>3200001</td>\n",
       "      <td>3213736</td>\n",
       "      <td>Female</td>\n",
       "      <td>No</td>\n",
       "      <td>Yes</td>\n",
       "      <td>Native</td>\n",
       "      <td>Attended ECEC for at least three but less than...</td>\n",
       "      <td>Did not repeat a  grade</td>\n",
       "      <td>A city (100 000 to about 1 000 000 people)</td>\n",
       "      <td>Public</td>\n",
       "      <td>570</td>\n",
       "      <td>31-35 students</td>\n",
       "      <td>-0.9622</td>\n",
       "      <td>397.42441</td>\n",
       "      <td>452.03439</td>\n",
       "      <td>Post secondary, tertiary</td>\n",
       "    </tr>\n",
       "  </tbody>\n",
       "</table>\n",
       "</div>"
      ],
      "text/plain": [
       "  country_id    country  country_school_id  country_student_id student_gender  \\\n",
       "0  Argentina  Argentina            3200001             3213049         Female   \n",
       "1  Argentina  Argentina            3200001             3203374         Female   \n",
       "2  Argentina  Argentina            3200001             3204844           Male   \n",
       "3  Argentina  Argentina            3200001             3211193         Female   \n",
       "4  Argentina  Argentina            3200001             3213736         Female   \n",
       "\n",
       "  computer_at_home internet_at_home immigration_status  \\\n",
       "0               No              Yes   First-Generation   \n",
       "1              Yes              Yes             Native   \n",
       "2               No               No   First-Generation   \n",
       "3              Yes              Yes             Native   \n",
       "4               No              Yes             Native   \n",
       "\n",
       "                                     early_education          repeated_grades  \\\n",
       "0  Attended ECEC for at least two but less than t...        Repeated a  grade   \n",
       "1  Attended ECEC for at least two but less than t...  Did not repeat a  grade   \n",
       "2  Attended ECEC for at least one but less than t...  Did not repeat a  grade   \n",
       "3  Attended ECEC for at least two but less than t...  Did not repeat a  grade   \n",
       "4  Attended ECEC for at least three but less than...  Did not repeat a  grade   \n",
       "\n",
       "                              school_location school_type school_size  \\\n",
       "0  A city (100 000 to about 1 000 000 people)      Public         570   \n",
       "1  A city (100 000 to about 1 000 000 people)      Public         570   \n",
       "2  A city (100 000 to about 1 000 000 people)      Public         570   \n",
       "3  A city (100 000 to about 1 000 000 people)      Public         570   \n",
       "4  A city (100 000 to about 1 000 000 people)      Public         570   \n",
       "\n",
       "       class_size  socioeconomic_index  math_score  reading_score  \\\n",
       "0  31-35 students              -1.3730   314.25031      424.07239   \n",
       "1  31-35 students              -1.1825   356.07629      380.26309   \n",
       "2  31-35 students              -2.3486   338.08029      384.89191   \n",
       "3  31-35 students              -0.9259   310.38690      392.88031   \n",
       "4  31-35 students              -0.9622   397.42441      452.03439   \n",
       "\n",
       "               parent_education  \n",
       "0  Post secondary, non-tertiary  \n",
       "1  Post secondary, non-tertiary  \n",
       "2               Lower secondary  \n",
       "3  Post secondary, non-tertiary  \n",
       "4      Post secondary, tertiary  "
      ]
     },
     "execution_count": 4,
     "metadata": {},
     "output_type": "execute_result"
    }
   ],
   "source": [
    "df.head()"
   ]
  },
  {
   "cell_type": "code",
   "execution_count": 5,
   "metadata": {},
   "outputs": [
    {
     "data": {
      "text/html": [
       "<div>\n",
       "<style scoped>\n",
       "    .dataframe tbody tr th:only-of-type {\n",
       "        vertical-align: middle;\n",
       "    }\n",
       "\n",
       "    .dataframe tbody tr th {\n",
       "        vertical-align: top;\n",
       "    }\n",
       "\n",
       "    .dataframe thead th {\n",
       "        text-align: right;\n",
       "    }\n",
       "</style>\n",
       "<table border=\"1\" class=\"dataframe\">\n",
       "  <thead>\n",
       "    <tr style=\"text-align: right;\">\n",
       "      <th></th>\n",
       "      <th>country</th>\n",
       "      <th>country_school_id</th>\n",
       "      <th>country_student_id</th>\n",
       "      <th>student_gender</th>\n",
       "      <th>repeated_grades</th>\n",
       "      <th>school_type</th>\n",
       "      <th>school_size</th>\n",
       "      <th>class_size</th>\n",
       "      <th>socioeconomic_index</th>\n",
       "      <th>math_score</th>\n",
       "      <th>reading_score</th>\n",
       "      <th>parent_education</th>\n",
       "    </tr>\n",
       "  </thead>\n",
       "  <tbody>\n",
       "    <tr>\n",
       "      <th>0</th>\n",
       "      <td>Argentina</td>\n",
       "      <td>3200001</td>\n",
       "      <td>3213049</td>\n",
       "      <td>Female</td>\n",
       "      <td>Repeated a  grade</td>\n",
       "      <td>Public</td>\n",
       "      <td>570</td>\n",
       "      <td>31-35 students</td>\n",
       "      <td>-1.3730</td>\n",
       "      <td>314.25031</td>\n",
       "      <td>424.07239</td>\n",
       "      <td>Post secondary, non-tertiary</td>\n",
       "    </tr>\n",
       "    <tr>\n",
       "      <th>1</th>\n",
       "      <td>Argentina</td>\n",
       "      <td>3200001</td>\n",
       "      <td>3203374</td>\n",
       "      <td>Female</td>\n",
       "      <td>Did not repeat a  grade</td>\n",
       "      <td>Public</td>\n",
       "      <td>570</td>\n",
       "      <td>31-35 students</td>\n",
       "      <td>-1.1825</td>\n",
       "      <td>356.07629</td>\n",
       "      <td>380.26309</td>\n",
       "      <td>Post secondary, non-tertiary</td>\n",
       "    </tr>\n",
       "  </tbody>\n",
       "</table>\n",
       "</div>"
      ],
      "text/plain": [
       "     country  country_school_id  country_student_id student_gender  \\\n",
       "0  Argentina            3200001             3213049         Female   \n",
       "1  Argentina            3200001             3203374         Female   \n",
       "\n",
       "           repeated_grades school_type school_size      class_size  \\\n",
       "0        Repeated a  grade      Public         570  31-35 students   \n",
       "1  Did not repeat a  grade      Public         570  31-35 students   \n",
       "\n",
       "   socioeconomic_index  math_score  reading_score  \\\n",
       "0              -1.3730   314.25031      424.07239   \n",
       "1              -1.1825   356.07629      380.26309   \n",
       "\n",
       "               parent_education  \n",
       "0  Post secondary, non-tertiary  \n",
       "1  Post secondary, non-tertiary  "
      ]
     },
     "execution_count": 5,
     "metadata": {},
     "output_type": "execute_result"
    }
   ],
   "source": [
    "# Note how this syntax works. You could add extra columns that interest you.\n",
    "my_cols = [  'country',\n",
    "             'country_school_id',\n",
    "             'country_student_id',\n",
    "             'student_gender',\n",
    "             'repeated_grades',\n",
    "             'school_type',\n",
    "             'school_size',\n",
    "             'class_size',\n",
    "             'socioeconomic_index',\n",
    "             'math_score',\n",
    "             'reading_score',\n",
    "             'parent_education'\n",
    "          ]\n",
    "df = df[my_cols]\n",
    "df.head(2)"
   ]
  },
  {
   "cell_type": "code",
   "execution_count": 6,
   "metadata": {},
   "outputs": [
    {
     "data": {
      "text/plain": [
       "['country',\n",
       " 'country_school_id',\n",
       " 'country_student_id',\n",
       " 'student_gender',\n",
       " 'repeated_grades',\n",
       " 'school_type',\n",
       " 'school_size',\n",
       " 'class_size',\n",
       " 'socioeconomic_index',\n",
       " 'math_score',\n",
       " 'reading_score',\n",
       " 'parent_education']"
      ]
     },
     "execution_count": 6,
     "metadata": {},
     "output_type": "execute_result"
    }
   ],
   "source": [
    "df.columns.tolist()"
   ]
  },
  {
   "cell_type": "markdown",
   "metadata": {},
   "source": [
    "### Exercise 1. \n",
    "__Summarize data using mean, min/max(), describe() etc.__\n",
    "\n",
    "* a: Find out the maximum and minimum math score globally \n",
    "* b: Find out the mean and median reading score for students in Japan\n",
    "* c: BONUS: Can you identify the student who has the highest math score among female students? Which country is this student from? What is this student's reading_score? (HINT: look up how to use .idxmax())\n"
   ]
  },
  {
   "cell_type": "code",
   "execution_count": 7,
   "metadata": {},
   "outputs": [],
   "source": [
    "# 1a:"
   ]
  },
  {
   "cell_type": "code",
   "execution_count": 8,
   "metadata": {},
   "outputs": [
    {
     "name": "stdout",
     "output_type": "stream",
     "text": [
      "Maximum Math Score Globally: 797.78302 \n",
      "Minimum Math Score Globally: 128.11391\n"
     ]
    }
   ],
   "source": [
    "max_math_score = df.math_score.max()\n",
    "min_math_score = df.math_score.min()\n",
    "\n",
    "print(\"Maximum Math Score Globally:\", \n",
    "      max_math_score,\n",
    "      \"\\nMinimum Math Score Globally:\", \n",
    "      min_math_score)"
   ]
  },
  {
   "cell_type": "code",
   "execution_count": 9,
   "metadata": {},
   "outputs": [],
   "source": [
    "# 1b."
   ]
  },
  {
   "cell_type": "code",
   "execution_count": 10,
   "metadata": {},
   "outputs": [
    {
     "name": "stdout",
     "output_type": "stream",
     "text": [
      "Mean Reading Score in Japan: 503.47929140121136 \n",
      "Median Reading Score in Japan: 508.07000999999997\n"
     ]
    }
   ],
   "source": [
    "mean_reading_score_japan = df[df.country==\"Japan\"].reading_score.mean()\n",
    "median_reading_score_japan = df[df.country==\"Japan\"].reading_score.median()\n",
    "\n",
    "print(\"Mean Reading Score in Japan:\", \n",
    "      mean_reading_score_japan,\n",
    "      \"\\nMedian Reading Score in Japan:\", \n",
    "      median_reading_score_japan)"
   ]
  },
  {
   "cell_type": "code",
   "execution_count": 11,
   "metadata": {},
   "outputs": [],
   "source": [
    "# 1c BONUS: "
   ]
  },
  {
   "cell_type": "code",
   "execution_count": 12,
   "metadata": {},
   "outputs": [
    {
     "data": {
      "text/plain": [
       "country                             New Zealand\n",
       "country_school_id                      55400085\n",
       "country_student_id                     55403875\n",
       "student_gender                           Female\n",
       "repeated_grades         Did not repeat a  grade\n",
       "school_type                 Private Independent\n",
       "school_size                             Invalid\n",
       "class_size                       21-25 students\n",
       "socioeconomic_index                      1.7182\n",
       "math_score                              736.818\n",
       "reading_score                           730.991\n",
       "parent_education       Post secondary, tertiary\n",
       "Name: 31262, dtype: object"
      ]
     },
     "execution_count": 12,
     "metadata": {},
     "output_type": "execute_result"
    }
   ],
   "source": [
    "df_female = df[df.student_gender==\"Female\"]\n",
    "\n",
    "df_female.loc[df_female.math_score.idxmax(),:]"
   ]
  },
  {
   "cell_type": "markdown",
   "metadata": {},
   "source": [
    "### Exercise 2: \n",
    "\n",
    "__Selecting values with boolean criteria + dealing with null values__\n",
    "\n",
    "* a: Among students in Finland, what is the share of students who scored higher than or equal to 500 in maths?\n",
    "* b: Is it true that median reading scores are higher after omitting students whose socioeconomic_index is listed as null? (HINT: Compare the median reading_score with and without omitting null values for socioeconomic status)"
   ]
  },
  {
   "cell_type": "code",
   "execution_count": 13,
   "metadata": {},
   "outputs": [],
   "source": [
    "# 2a"
   ]
  },
  {
   "cell_type": "code",
   "execution_count": 14,
   "metadata": {},
   "outputs": [
    {
     "name": "stdout",
     "output_type": "stream",
     "text": [
      "Share of Finnish students who scored higher than or equal to 500 in math =  0.5593910426624181\n"
     ]
    }
   ],
   "source": [
    "fin_above_500 = df[(df.country==\"Finland\")&(df.math_score>=500)].shape[0]\n",
    "\n",
    "print(\"Share of Finnish students who scored higher than or equal to 500 in math = \", fin_above_500 / df[df.country==\"Finland\"].shape[0])"
   ]
  },
  {
   "cell_type": "code",
   "execution_count": 15,
   "metadata": {},
   "outputs": [],
   "source": [
    "# 2b. "
   ]
  },
  {
   "cell_type": "code",
   "execution_count": 16,
   "metadata": {},
   "outputs": [
    {
     "name": "stdout",
     "output_type": "stream",
     "text": [
      "Median reading score: 477.10250999999994\n",
      "Median reading score after omitting observations where socioeconomic index is null: 478.122205\n"
     ]
    }
   ],
   "source": [
    "med = df.reading_score.median()\n",
    "print(\"Median reading score:\", med)\n",
    "\n",
    "# Option 1: \n",
    "# med_after_omitting_null = df[df.socioeconomic_index.notna()].reading_score.median()\n",
    "\n",
    "# Option 2: \n",
    "new_df = df.dropna(subset=[\"socioeconomic_index\"])\n",
    "med_after_omitting_null = new_df.reading_score.median()\n",
    "print(\"Median reading score after omitting observations where socioeconomic index is null:\", med_after_omitting_null)"
   ]
  },
  {
   "cell_type": "markdown",
   "metadata": {},
   "source": [
    "### Exercise 3.\n",
    "Practice using pandas.Series.value_counts, pandas.Series.unique(), and pandas.Series.nunique()\n",
    "\n",
    "* a: What percentage of students are male? Can you round the answer to three decimal places? # Look up pandas.Series.value_counts() and the round() function\n",
    "* b: Find out the share of male students in public schools?\n",
    "* c: How many unique schools are represented from Argentina? # pandas.Series.unique()\n",
    "* d: BONUS: How many schools only have one student represented? How many have less than 10?\n"
   ]
  },
  {
   "cell_type": "code",
   "execution_count": 17,
   "metadata": {},
   "outputs": [],
   "source": [
    "# 3a"
   ]
  },
  {
   "cell_type": "code",
   "execution_count": 18,
   "metadata": {},
   "outputs": [
    {
     "data": {
      "text/plain": [
       "Female    25308\n",
       "Male      25089\n",
       "Name: student_gender, dtype: int64"
      ]
     },
     "execution_count": 18,
     "metadata": {},
     "output_type": "execute_result"
    }
   ],
   "source": [
    "# Using get the breakdown using value_counts\n",
    "\n",
    "df.student_gender.value_counts()"
   ]
  },
  {
   "cell_type": "code",
   "execution_count": 19,
   "metadata": {},
   "outputs": [
    {
     "data": {
      "text/plain": [
       "Female    0.502173\n",
       "Male      0.497827\n",
       "Name: student_gender, dtype: float64"
      ]
     },
     "execution_count": 19,
     "metadata": {},
     "output_type": "execute_result"
    }
   ],
   "source": [
    "# To get percentages\n",
    "\n",
    "df.student_gender.value_counts(normalize=True)"
   ]
  },
  {
   "cell_type": "code",
   "execution_count": 20,
   "metadata": {},
   "outputs": [
    {
     "name": "stdout",
     "output_type": "stream",
     "text": [
      "Male students make up 0.498 % of the observations.\n"
     ]
    }
   ],
   "source": [
    "print(\"Male students make up {} % of the observations.\".format(df.student_gender.value_counts(normalize=True)[1].round(3)))"
   ]
  },
  {
   "cell_type": "code",
   "execution_count": 21,
   "metadata": {},
   "outputs": [],
   "source": [
    "# 3b: "
   ]
  },
  {
   "cell_type": "code",
   "execution_count": 22,
   "metadata": {},
   "outputs": [
    {
     "data": {
      "text/plain": [
       "array(['Public', 'Private Government-dependent', 'Private Independent',\n",
       "       'No Response', 'Invalid'], dtype=object)"
      ]
     },
     "execution_count": 22,
     "metadata": {},
     "output_type": "execute_result"
    }
   ],
   "source": [
    "# What values does the school_type column take?\n",
    "\n",
    "df.school_type.unique()"
   ]
  },
  {
   "cell_type": "code",
   "execution_count": 23,
   "metadata": {},
   "outputs": [
    {
     "data": {
      "text/plain": [
       "Male      0.503069\n",
       "Female    0.496931\n",
       "Name: student_gender, dtype: float64"
      ]
     },
     "execution_count": 23,
     "metadata": {},
     "output_type": "execute_result"
    }
   ],
   "source": [
    "# Use condition school_type==\"Public\" to select public schools only:\n",
    "\n",
    "df[df.school_type==\"Public\"].student_gender.value_counts(normalize=True)"
   ]
  },
  {
   "cell_type": "code",
   "execution_count": 24,
   "metadata": {},
   "outputs": [],
   "source": [
    "# 3c."
   ]
  },
  {
   "cell_type": "code",
   "execution_count": 25,
   "metadata": {},
   "outputs": [
    {
     "name": "stdout",
     "output_type": "stream",
     "text": [
      "Number of unique schools from Argentina: 455\n"
     ]
    }
   ],
   "source": [
    "# Use pandas.Series.nunique()\n",
    "\n",
    "print(\"Number of unique schools from Argentina:\", df[df.country==\"Argentina\"].country_school_id.nunique())"
   ]
  },
  {
   "cell_type": "code",
   "execution_count": 26,
   "metadata": {},
   "outputs": [],
   "source": [
    "#3d BONUS:"
   ]
  },
  {
   "cell_type": "code",
   "execution_count": 27,
   "metadata": {},
   "outputs": [
    {
     "data": {
      "text/plain": [
       "3200174     2\n",
       "64200003    2\n",
       "57800145    2\n",
       "24600092    1\n",
       "3200004     1\n",
       "57800229    1\n",
       "3200108     1\n",
       "57800218    1\n",
       "24600184    1\n",
       "3200163     1\n",
       "57800128    1\n",
       "24600108    1\n",
       "84000006    1\n",
       "3200270     1\n",
       "3200412     1\n",
       "3200318     1\n",
       "24600098    1\n",
       "Name: country_school_id, dtype: int64"
      ]
     },
     "execution_count": 27,
     "metadata": {},
     "output_type": "execute_result"
    }
   ],
   "source": [
    "df.country_school_id.value_counts().tail(17)"
   ]
  },
  {
   "cell_type": "code",
   "execution_count": 28,
   "metadata": {},
   "outputs": [
    {
     "name": "stdout",
     "output_type": "stream",
     "text": [
      "Number of schools with only one student represented: 14\n"
     ]
    }
   ],
   "source": [
    "print(\"Number of schools with only one student represented:\", df.country_school_id.value_counts()[df.country_school_id.value_counts()==1].shape[0])"
   ]
  },
  {
   "cell_type": "code",
   "execution_count": 29,
   "metadata": {},
   "outputs": [
    {
     "name": "stdout",
     "output_type": "stream",
     "text": [
      "Number of schools with less than ten students represented: 96\n"
     ]
    }
   ],
   "source": [
    "print(\"Number of schools with less than ten students represented:\", df.country_school_id.value_counts()[df.country_school_id.value_counts()<10].shape[0])"
   ]
  },
  {
   "cell_type": "markdown",
   "metadata": {},
   "source": [
    "### Exercise 4:\n",
    "\n",
    "Look up the [pandas.Series.plot](https://pandas.pydata.org/pandas-docs/stable/reference/api/pandas.Series.plot.html) function, and some [examples of how to use it](https://pandas.pydata.org/pandas-docs/stable/user_guide/visualization.html).\n",
    "\n",
    "Explore any questions that interest you by plotting charts, for example:\n",
    "  \n",
    "* a: Does the breakdown students by school type? (pie chart)\n",
    "* b: What does the distribution of socioeconomic_index look like (histogram)\n",
    "* c: Do math scores differ between students who repeated a grade vs those who did not repeat a grade? (boxplot of math_score by repeated_grades) \n",
    "* d: BONUS: Can you re-create this boxplot omitting the \"No Response\" values?"
   ]
  },
  {
   "cell_type": "code",
   "execution_count": 30,
   "metadata": {},
   "outputs": [
    {
     "data": {
      "text/plain": [
       "<AxesSubplot:ylabel='school_type'>"
      ]
     },
     "execution_count": 30,
     "metadata": {},
     "output_type": "execute_result"
    },
    {
     "data": {
      "image/png": "[encoded data removed]",
      "text/plain": [
       "<Figure size 432x288 with 1 Axes>"
      ]
     },
     "metadata": {},
     "output_type": "display_data"
    }
   ],
   "source": [
    "# 4a. Pie Chart\n",
    "\n",
    "df.school_type.value_counts().plot(kind=\"pie\")"
   ]
  },
  {
   "cell_type": "code",
   "execution_count": 31,
   "metadata": {},
   "outputs": [],
   "source": [
    "# 4b. Histogram "
   ]
  },
  {
   "cell_type": "code",
   "execution_count": 32,
   "metadata": {},
   "outputs": [
    {
     "data": {
      "text/plain": [
       "<AxesSubplot:>"
      ]
     },
     "execution_count": 32,
     "metadata": {},
     "output_type": "execute_result"
    },
    {
     "data": {
      "image/png": "[encoded data removed]",
      "text/plain": [
       "<Figure size 432x288 with 1 Axes>"
      ]
     },
     "metadata": {
      "needs_background": "light"
     },
     "output_type": "display_data"
    }
   ],
   "source": [
    "df.socioeconomic_index.hist()"
   ]
  },
  {
   "cell_type": "code",
   "execution_count": 33,
   "metadata": {},
   "outputs": [],
   "source": [
    "# 4c: Boxplot"
   ]
  },
  {
   "cell_type": "code",
   "execution_count": 34,
   "metadata": {},
   "outputs": [
    {
     "data": {
      "text/plain": [
       "Did not repeat a  grade    32399\n",
       "No Response                13513\n",
       "Repeated a  grade           4485\n",
       "Name: repeated_grades, dtype: int64"
      ]
     },
     "execution_count": 34,
     "metadata": {},
     "output_type": "execute_result"
    }
   ],
   "source": [
    "# Inspect the repeated_grades column\n",
    "\n",
    "df.repeated_grades.value_counts()"
   ]
  },
  {
   "cell_type": "code",
   "execution_count": 35,
   "metadata": {},
   "outputs": [
    {
     "data": {
      "image/png": "[encoded data removed]",
      "text/plain": [
       "<Figure size 432x288 with 1 Axes>"
      ]
     },
     "metadata": {
      "needs_background": "light"
     },
     "output_type": "display_data"
    }
   ],
   "source": [
    "# NOTE: make sure you have matplotlib and/or seaborn imported!\n",
    "\n",
    "import matplotlib.pyplot as plt\n",
    "import seaborn as sns\n",
    "\n",
    "df.boxplot(column = \"math_score\", by=\"repeated_grades\")\n",
    "plt.show()"
   ]
  },
  {
   "cell_type": "code",
   "execution_count": 36,
   "metadata": {},
   "outputs": [],
   "source": [
    "# 4d BONUS: Boxplot"
   ]
  },
  {
   "cell_type": "code",
   "execution_count": 37,
   "metadata": {},
   "outputs": [
    {
     "data": {
      "text/plain": [
       "13513"
      ]
     },
     "execution_count": 37,
     "metadata": {},
     "output_type": "execute_result"
    }
   ],
   "source": [
    "# To remove \"No Response\" from the figure:\n",
    "# Tag \"No Response\" as a null value:\n",
    "\n",
    "df['repeated_grades'] = df['repeated_grades'].apply(lambda x: None if x==\"No Response\" else x)\n",
    "\n",
    "df.repeated_grades.isna().sum()"
   ]
  },
  {
   "cell_type": "code",
   "execution_count": 38,
   "metadata": {},
   "outputs": [
    {
     "data": {
      "image/png": "[encoded data removed]",
      "text/plain": [
       "<Figure size 432x288 with 1 Axes>"
      ]
     },
     "metadata": {
      "needs_background": "light"
     },
     "output_type": "display_data"
    }
   ],
   "source": [
    "# NOTE: make sure you have matplotlib and/or seaborn imported!\n",
    "\n",
    "import matplotlib.pyplot as plt\n",
    "import seaborn as sns\n",
    "\n",
    "df.boxplot(column = \"math_score\", by=\"repeated_grades\")\n",
    "plt.show()"
   ]
  },
  {
   "cell_type": "code",
   "execution_count": 39,
   "metadata": {},
   "outputs": [
    {
     "data": {
      "image/png": "[encoded data removed]",
      "text/plain": [
       "<Figure size 432x288 with 1 Axes>"
      ]
     },
     "metadata": {
      "needs_background": "light"
     },
     "output_type": "display_data"
    }
   ],
   "source": [
    "# Alternatively (using seaborn)\n",
    "\n",
    "sns.boxplot(x=\"repeated_grades\", \n",
    "            y=\"math_score\",\n",
    "            data=df)\n",
    "\n",
    "plt.show()"
   ]
  }
 ],
 "metadata": {
  "kernelspec": {
   "display_name": "flaring",
   "language": "python",
   "name": "flaring"
  },
  "language_info": {
   "codemirror_mode": {
    "name": "ipython",
    "version": 3
   },
   "file_extension": ".py",
   "mimetype": "text/x-python",
   "name": "python",
   "nbconvert_exporter": "python",
   "pygments_lexer": "ipython3",
   "version": "3.8.6"
  }
 },
 "nbformat": 4,
 "nbformat_minor": 4
}
