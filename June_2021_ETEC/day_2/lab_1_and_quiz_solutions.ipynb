{
  "nbformat": 4,
  "nbformat_minor": 0,
  "metadata": {
    "kernelspec": {
      "display_name": "Python 3",
      "language": "python",
      "name": "python3"
    },
    "language_info": {
      "codemirror_mode": {
        "name": "ipython",
        "version": 3
      },
      "file_extension": ".py",
      "mimetype": "text/x-python",
      "name": "python",
      "nbconvert_exporter": "python",
      "pygments_lexer": "ipython3",
      "version": "3.6.8"
    },
    "colab": {
      "name": "lab_1_and_quiz.ipynb",
      "provenance": []
    }
  },
  "cells": [
    {
      "cell_type": "markdown",
      "metadata": {
        "id": "2J4ZXeSBQigr"
      },
      "source": [
        "## Python for Data Science - Day 2"
      ]
    },
    {
      "cell_type": "markdown",
      "metadata": {
        "id": "SGSPnyJhQigu"
      },
      "source": [
        "### QUIZ\n",
        "Work through the questions below then check your answer with your instructor. Refer to yesterday's [Lecture Notebook](https://colab.research.google.com/github/worldbank/Python-for-Data-Science/blob/master/June_2021_ETEC/day_1/lab_1.ipynb) when you need help."
      ]
    },
    {
      "cell_type": "markdown",
      "metadata": {
        "id": "U96kAF_hQigv"
      },
      "source": [
        "#### 1. Variables and math"
      ]
    },
    {
      "cell_type": "code",
      "metadata": {
        "id": "yABdZ69HQigw"
      },
      "source": [
        "# Define a variable called x with value 5\n",
        "\n",
        "x = 5"
      ],
      "execution_count": 87,
      "outputs": []
    },
    {
      "cell_type": "code",
      "metadata": {
        "colab": {
          "base_uri": "https://localhost:8080/"
        },
        "id": "4q_wVJSyQigx",
        "outputId": "84659406-8132-4ed0-ef4c-b809d9367ac9"
      },
      "source": [
        "# What's the data type of x?\n",
        "\n",
        "type(x)"
      ],
      "execution_count": 88,
      "outputs": [
        {
          "output_type": "execute_result",
          "data": {
            "text/plain": [
              "int"
            ]
          },
          "metadata": {
            "tags": []
          },
          "execution_count": 88
        }
      ]
    },
    {
      "cell_type": "code",
      "metadata": {
        "colab": {
          "base_uri": "https://localhost:8080/"
        },
        "id": "YsAbzJ-SQigx",
        "outputId": "446271fe-ff0c-4dea-b255-8c7213c6b7b6"
      },
      "source": [
        "# Add 3 to x and print the result\n",
        "\n",
        "x + 3"
      ],
      "execution_count": 89,
      "outputs": [
        {
          "output_type": "execute_result",
          "data": {
            "text/plain": [
              "8"
            ]
          },
          "metadata": {
            "tags": []
          },
          "execution_count": 89
        }
      ]
    },
    {
      "cell_type": "code",
      "metadata": {
        "colab": {
          "base_uri": "https://localhost:8080/"
        },
        "id": "ME5xvEZ7Qigy",
        "outputId": "c86a1be6-b857-4d2b-b50c-6b95d9f3fb19"
      },
      "source": [
        "# Test whether x is equal to 8\n",
        "x == 8"
      ],
      "execution_count": 90,
      "outputs": [
        {
          "output_type": "execute_result",
          "data": {
            "text/plain": [
              "False"
            ]
          },
          "metadata": {
            "tags": []
          },
          "execution_count": 90
        }
      ]
    },
    {
      "cell_type": "markdown",
      "metadata": {
        "id": "M6C-6kqrQigy"
      },
      "source": [
        "#### 2. Strings"
      ]
    },
    {
      "cell_type": "code",
      "metadata": {
        "colab": {
          "base_uri": "https://localhost:8080/",
          "height": 35
        },
        "id": "vs_1Kmq1Qigz",
        "outputId": "f372bfe3-ea42-43e7-8e4e-230fd331caa1"
      },
      "source": [
        "# Change x to a string\n",
        "str(x)"
      ],
      "execution_count": 91,
      "outputs": [
        {
          "output_type": "execute_result",
          "data": {
            "application/vnd.google.colaboratory.intrinsic+json": {
              "type": "string"
            },
            "text/plain": [
              "'5'"
            ]
          },
          "metadata": {
            "tags": []
          },
          "execution_count": 91
        }
      ]
    },
    {
      "cell_type": "code",
      "metadata": {
        "id": "bE_duEG3Qigz"
      },
      "source": [
        "# What's the weather like outside your window? Change this string accordingly.\n",
        "\n",
        "weather_today = \"very cold and snowing heavily\"\n"
      ],
      "execution_count": 92,
      "outputs": []
    },
    {
      "cell_type": "code",
      "metadata": {
        "colab": {
          "base_uri": "https://localhost:8080/"
        },
        "id": "hNqf_8zVQig0",
        "outputId": "af4b9231-6cd7-4ce9-ed52-cb78ddbb790b"
      },
      "source": [
        "# How long is the string?\n",
        "len(weather_today)"
      ],
      "execution_count": 93,
      "outputs": [
        {
          "output_type": "execute_result",
          "data": {
            "text/plain": [
              "29"
            ]
          },
          "metadata": {
            "tags": []
          },
          "execution_count": 93
        }
      ]
    },
    {
      "cell_type": "code",
      "metadata": {
        "colab": {
          "base_uri": "https://localhost:8080/"
        },
        "id": "sqPbAYiVQig0",
        "outputId": "1143cd75-813f-4b43-9f1e-215ba1b8f2af"
      },
      "source": [
        "# How would I split the string based on spaces or full stops?\n",
        "weather_today.split(\" \") # .split(\".\") for full stops"
      ],
      "execution_count": 94,
      "outputs": [
        {
          "output_type": "execute_result",
          "data": {
            "text/plain": [
              "['very', 'cold', 'and', 'snowing', 'heavily']"
            ]
          },
          "metadata": {
            "tags": []
          },
          "execution_count": 94
        }
      ]
    },
    {
      "cell_type": "code",
      "metadata": {
        "colab": {
          "base_uri": "https://localhost:8080/",
          "height": 35
        },
        "id": "zQu6O_W7Qig0",
        "outputId": "950b61eb-3756-4f5a-8216-3ad7f21ffce2"
      },
      "source": [
        "# How would I improve the weather using the .replace() method?\n",
        "\n",
        "weather_today.replace(\"very cold and\", \"sunny but\")"
      ],
      "execution_count": 96,
      "outputs": [
        {
          "output_type": "execute_result",
          "data": {
            "application/vnd.google.colaboratory.intrinsic+json": {
              "type": "string"
            },
            "text/plain": [
              "'sunny but snowing heavily'"
            ]
          },
          "metadata": {
            "tags": []
          },
          "execution_count": 96
        }
      ]
    },
    {
      "cell_type": "markdown",
      "metadata": {
        "id": "sv6xSqLJQig0"
      },
      "source": [
        "#### 3. Lists"
      ]
    },
    {
      "cell_type": "code",
      "metadata": {
        "id": "E6wXZl-wQig1"
      },
      "source": [
        "# Make a list of weekdays\n",
        "\n",
        "mylist = [\"Monday\" , \"Tuesday\" , \"Wednesday\", \"Thursday\", \"Friday\"]"
      ],
      "execution_count": 107,
      "outputs": []
    },
    {
      "cell_type": "code",
      "metadata": {
        "colab": {
          "base_uri": "https://localhost:8080/",
          "height": 35
        },
        "id": "uT_eDgRVQig1",
        "outputId": "c2eec289-9641-4c72-d932-053b63e06f5c"
      },
      "source": [
        "# Access the third element in the list\n",
        "\n",
        "mylist[2] # note that indexing starts from 0, not 1! "
      ],
      "execution_count": 108,
      "outputs": [
        {
          "output_type": "execute_result",
          "data": {
            "application/vnd.google.colaboratory.intrinsic+json": {
              "type": "string"
            },
            "text/plain": [
              "'Wednesday'"
            ]
          },
          "metadata": {
            "tags": []
          },
          "execution_count": 108
        }
      ]
    },
    {
      "cell_type": "code",
      "metadata": {
        "colab": {
          "base_uri": "https://localhost:8080/"
        },
        "id": "jR6ic3lOQig2",
        "outputId": "506c1a7e-12f6-446e-a8bb-d3a853bff064"
      },
      "source": [
        "# Option 1: Add the weekend days\n",
        "mylist1 = mylist + [\"Saturday\", \"Sunday\"]\n",
        "mylist1"
      ],
      "execution_count": 109,
      "outputs": [
        {
          "output_type": "execute_result",
          "data": {
            "text/plain": [
              "['Monday', 'Tuesday', 'Wednesday', 'Thursday', 'Friday', 'Saturday', 'Sunday']"
            ]
          },
          "metadata": {
            "tags": []
          },
          "execution_count": 109
        }
      ]
    },
    {
      "cell_type": "code",
      "metadata": {
        "colab": {
          "base_uri": "https://localhost:8080/"
        },
        "id": "egzn82d5V5Cs",
        "outputId": "8b7f4832-c8be-4bae-f98a-5fbeea20939f"
      },
      "source": [
        "# Option2: Add the weekend days (using .append())\n",
        "\n",
        "mylist.append(\"Saturday\")\n",
        "mylist.append(\"Sunday\")\n",
        "mylist"
      ],
      "execution_count": 110,
      "outputs": [
        {
          "output_type": "execute_result",
          "data": {
            "text/plain": [
              "['Monday', 'Tuesday', 'Wednesday', 'Thursday', 'Friday', 'Saturday', 'Sunday']"
            ]
          },
          "metadata": {
            "tags": []
          },
          "execution_count": 110
        }
      ]
    },
    {
      "cell_type": "markdown",
      "metadata": {
        "id": "imzSH5Y2Qig2"
      },
      "source": [
        "#### 4. Loops"
      ]
    },
    {
      "cell_type": "code",
      "metadata": {
        "colab": {
          "base_uri": "https://localhost:8080/",
          "height": 35
        },
        "id": "NDkUORGPQig3",
        "outputId": "1f493586-131c-4ac4-b0c3-479148a7f4aa"
      },
      "source": [
        "# What's the definition of an iterable?\n",
        "\n",
        "'''python object capable of returning its members one at a time'''"
      ],
      "execution_count": 111,
      "outputs": [
        {
          "output_type": "execute_result",
          "data": {
            "application/vnd.google.colaboratory.intrinsic+json": {
              "type": "string"
            },
            "text/plain": [
              "'python object capable of returning its members one at a time'"
            ]
          },
          "metadata": {
            "tags": []
          },
          "execution_count": 111
        }
      ]
    },
    {
      "cell_type": "code",
      "metadata": {
        "colab": {
          "base_uri": "https://localhost:8080/"
        },
        "id": "9MJJq9H8Qig3",
        "outputId": "01845c90-2185-452e-ee73-7fbb89821db5"
      },
      "source": [
        "# Loop through the days and print them\n",
        "for i in mylist:\n",
        "  print(i)"
      ],
      "execution_count": 112,
      "outputs": [
        {
          "output_type": "stream",
          "text": [
            "Monday\n",
            "Tuesday\n",
            "Wednesday\n",
            "Thursday\n",
            "Friday\n",
            "Saturday\n",
            "Sunday\n"
          ],
          "name": "stdout"
        }
      ]
    },
    {
      "cell_type": "code",
      "metadata": {
        "colab": {
          "base_uri": "https://localhost:8080/"
        },
        "id": "2SOqkQY4Qig3",
        "outputId": "707fa5a4-e4a2-488b-9fd0-b87dc3a0e45e"
      },
      "source": [
        "# Create a string \"hello world\". Loop through and capitalize each letter.\n",
        "\n",
        "hello = \"hello world\"\n",
        "\n",
        "for i in hello:\n",
        "    print(i.upper())\n",
        "\n"
      ],
      "execution_count": 113,
      "outputs": [
        {
          "output_type": "stream",
          "text": [
            "H\n",
            "E\n",
            "L\n",
            "L\n",
            "O\n",
            " \n",
            "W\n",
            "O\n",
            "R\n",
            "L\n",
            "D\n"
          ],
          "name": "stdout"
        }
      ]
    },
    {
      "cell_type": "code",
      "metadata": {
        "colab": {
          "base_uri": "https://localhost:8080/",
          "height": 35
        },
        "id": "l6AQxcTDfFaq",
        "outputId": "6c25b04b-1475-4bc9-806e-7af7fa17a057"
      },
      "source": [
        "# Note how this is different from our exercise above ^ \n",
        "hello.upper()"
      ],
      "execution_count": 116,
      "outputs": [
        {
          "output_type": "execute_result",
          "data": {
            "application/vnd.google.colaboratory.intrinsic+json": {
              "type": "string"
            },
            "text/plain": [
              "'HELLO WORLD'"
            ]
          },
          "metadata": {
            "tags": []
          },
          "execution_count": 116
        }
      ]
    },
    {
      "cell_type": "markdown",
      "metadata": {
        "id": "NnR9mBVMQig4"
      },
      "source": [
        "#### 5. Logic operators"
      ]
    },
    {
      "cell_type": "code",
      "metadata": {
        "colab": {
          "base_uri": "https://localhost:8080/"
        },
        "id": "v8qIycVxQig4",
        "outputId": "7b67579d-7d99-4909-d9a4-6f1a9a629b48"
      },
      "source": [
        "# test whether A is greater than B?\n",
        "\n",
        "A = 6 * 7\n",
        "B = 5 * 8\n",
        "\n",
        "print(\"Is A greater than B?:\", A > B)"
      ],
      "execution_count": 47,
      "outputs": [
        {
          "output_type": "stream",
          "text": [
            "Is A greater than B?: True\n"
          ],
          "name": "stdout"
        }
      ]
    },
    {
      "cell_type": "markdown",
      "metadata": {
        "id": "8NVtFR3GQig4"
      },
      "source": [
        "#### 6. Testing conditions"
      ]
    },
    {
      "cell_type": "code",
      "metadata": {
        "colab": {
          "base_uri": "https://localhost:8080/"
        },
        "id": "ZQUU_hmGQig4",
        "outputId": "0ff33954-ab1f-46d5-da3d-118babd571fe"
      },
      "source": [
        "# the code below sets up a \"guess the number\" game\n",
        "# complete the program by testing whether guess is greater than random_number\n",
        "# print \"Too high\", \"Too low\", or \"CORRECT!\"\n",
        "\n",
        "from random import randint\n",
        "random_number = randint(1,10)\n",
        "guess = input(\"Enter a number from 1 to 10: \")\n",
        "\n",
        "# YOUR CODE HERE\n",
        "\n",
        "if int(guess) > random_number:\n",
        "    print(\"Too high\")\n",
        "elif int(guess) < random_number:\n",
        "    print(\"Too low\")\n",
        "elif int(guess) == random_number:\n",
        "    print(\"CORRECT!\")\n",
        "\n",
        "print(\"\\nThe random number was:\", random_number)\n",
        "\n",
        "print(\"\\nYou guessed:\", int(guess))\n"
      ],
      "execution_count": 120,
      "outputs": [
        {
          "output_type": "stream",
          "text": [
            "Enter a number from 1 to 10: 3\n",
            "Too low\n",
            "\n",
            "The random number was: 8\n",
            "\n",
            "You guessed: 3\n"
          ],
          "name": "stdout"
        }
      ]
    },
    {
      "cell_type": "markdown",
      "metadata": {
        "id": "PtDYZEkrQig5"
      },
      "source": [
        "### LAB 1\n"
      ]
    },
    {
      "cell_type": "markdown",
      "metadata": {
        "id": "bA-bTNJoQig6"
      },
      "source": [
        "#### 1. Drills with numbers and strings"
      ]
    },
    {
      "cell_type": "markdown",
      "metadata": {
        "id": "Zb860comQig7"
      },
      "source": [
        "Create one variable `days_per year` and a second variable `hours_per_day`. Assign the values 365 and 24."
      ]
    },
    {
      "cell_type": "code",
      "metadata": {
        "id": "JyVcpVtVQig7"
      },
      "source": [
        "# YOUR CODE HERE:\n",
        "\n",
        "days_per_year = 365\n",
        "\n",
        "hours_per_day = 24"
      ],
      "execution_count": 121,
      "outputs": []
    },
    {
      "cell_type": "markdown",
      "metadata": {
        "id": "l1znm8sBQig7"
      },
      "source": [
        "Now use them to calculate how many hours in a year."
      ]
    },
    {
      "cell_type": "code",
      "metadata": {
        "colab": {
          "base_uri": "https://localhost:8080/"
        },
        "id": "9XaHMiTHQig7",
        "outputId": "3f71b297-29e0-4471-b83f-9c8d0402717b"
      },
      "source": [
        "# YOUR CODE HERE:\n",
        "\n",
        "hours_per_year = days_per_year * hours_per_day\n",
        "hours_per_year"
      ],
      "execution_count": 122,
      "outputs": [
        {
          "output_type": "execute_result",
          "data": {
            "text/plain": [
              "8760"
            ]
          },
          "metadata": {
            "tags": []
          },
          "execution_count": 122
        }
      ]
    },
    {
      "cell_type": "markdown",
      "metadata": {
        "id": "dRN6H9LTQig8"
      },
      "source": [
        "Combine the following into one string and print it:"
      ]
    },
    {
      "cell_type": "code",
      "metadata": {
        "colab": {
          "base_uri": "https://localhost:8080/"
        },
        "id": "px5aMH5VQig8",
        "outputId": "4a4a83d6-48c6-4ead-aa23-55097885ed0a"
      },
      "source": [
        "a = \"Python \"\n",
        "b = \"day \"\n",
        "c = 2\n",
        "d = \" hooray!\"\n",
        "\n",
        "# YOUR CODE HERE:\n",
        "print( a + b + str(c) + d)\n"
      ],
      "execution_count": 123,
      "outputs": [
        {
          "output_type": "stream",
          "text": [
            "Python day 2 hooray!\n"
          ],
          "name": "stdout"
        }
      ]
    },
    {
      "cell_type": "code",
      "metadata": {
        "colab": {
          "base_uri": "https://localhost:8080/"
        },
        "id": "ansdbOu6cimv",
        "outputId": "d1f77511-36bd-47bc-90ff-a0ba14eeebff"
      },
      "source": [
        "# Alternatively:\n",
        "print(a, b, c, d)"
      ],
      "execution_count": 124,
      "outputs": [
        {
          "output_type": "stream",
          "text": [
            "Python  day  2  hooray!\n"
          ],
          "name": "stdout"
        }
      ]
    },
    {
      "cell_type": "markdown",
      "metadata": {
        "id": "aJdkwjHxQig8"
      },
      "source": [
        "Check the length of this string:"
      ]
    },
    {
      "cell_type": "code",
      "metadata": {
        "colab": {
          "base_uri": "https://localhost:8080/"
        },
        "id": "vskxONQFQig8",
        "outputId": "d74c55bb-6b35-47a4-d42a-d937bdf3d543"
      },
      "source": [
        "long_string = \"This string has many words and many characters (how many? - let's find out).\"\n",
        "\n",
        "# YOUR CODE HERE:\n",
        "len(long_string)"
      ],
      "execution_count": 125,
      "outputs": [
        {
          "output_type": "execute_result",
          "data": {
            "text/plain": [
              "76"
            ]
          },
          "metadata": {
            "tags": []
          },
          "execution_count": 125
        }
      ]
    },
    {
      "cell_type": "markdown",
      "metadata": {
        "id": "XECXVAkOQig9"
      },
      "source": [
        "Split `long_string` into its individual words."
      ]
    },
    {
      "cell_type": "code",
      "metadata": {
        "colab": {
          "base_uri": "https://localhost:8080/"
        },
        "id": "Gc3dZnfLQig9",
        "outputId": "5fe15aec-f3b2-4b80-9c20-5e78a2bdfc5c"
      },
      "source": [
        "# YOUR CODE HERE:\n",
        "\n",
        "long_string.split(\" \") # Note how this returns a list made up of strings"
      ],
      "execution_count": 128,
      "outputs": [
        {
          "output_type": "execute_result",
          "data": {
            "text/plain": [
              "['This',\n",
              " 'string',\n",
              " 'has',\n",
              " 'many',\n",
              " 'words',\n",
              " 'and',\n",
              " 'many',\n",
              " 'characters',\n",
              " '(how',\n",
              " 'many?',\n",
              " '-',\n",
              " \"let's\",\n",
              " 'find',\n",
              " 'out).']"
            ]
          },
          "metadata": {
            "tags": []
          },
          "execution_count": 128
        }
      ]
    },
    {
      "cell_type": "markdown",
      "metadata": {
        "id": "4vf6-q27Qig9"
      },
      "source": [
        "#### 2. Drills with lists and loops"
      ]
    },
    {
      "cell_type": "markdown",
      "metadata": {
        "id": "ioq66ZerQig9"
      },
      "source": [
        "Create a list containing the strings \"red\", \"green\", \"blue\""
      ]
    },
    {
      "cell_type": "code",
      "metadata": {
        "id": "N0hLDEfzQig-"
      },
      "source": [
        "# YOUR CODE HERE:\n",
        "\n",
        "mylist1 = [\"red\", \"green\", \"blue\"]"
      ],
      "execution_count": 131,
      "outputs": []
    },
    {
      "cell_type": "markdown",
      "metadata": {
        "id": "bszm0qJ3Qig-"
      },
      "source": [
        "Use a `for` loop to print all the elements of `mylist1`."
      ]
    },
    {
      "cell_type": "code",
      "metadata": {
        "colab": {
          "base_uri": "https://localhost:8080/"
        },
        "id": "xPSlq0tCgGGQ",
        "outputId": "3fac3874-8761-47fb-a9e8-b72d0ba611e8"
      },
      "source": [
        "for color in mylist1:\n",
        "    print(color)"
      ],
      "execution_count": 132,
      "outputs": [
        {
          "output_type": "stream",
          "text": [
            "red\n",
            "green\n",
            "blue\n"
          ],
          "name": "stdout"
        }
      ]
    },
    {
      "cell_type": "markdown",
      "metadata": {
        "id": "MagAUXPnQig-"
      },
      "source": [
        "Now create a list containing the numbers 2,4,6,8"
      ]
    },
    {
      "cell_type": "code",
      "metadata": {
        "id": "IDDzCtFDQig_"
      },
      "source": [
        "# YOUR CODE HERE:\n",
        "\n",
        "mylist2 = [2, 4, 6, 8]"
      ],
      "execution_count": 133,
      "outputs": []
    },
    {
      "cell_type": "markdown",
      "metadata": {
        "id": "Zj_D6hTGQig_"
      },
      "source": [
        "Using a `for` loop, print out each of the numbers multiplied by 10. "
      ]
    },
    {
      "cell_type": "code",
      "metadata": {
        "colab": {
          "base_uri": "https://localhost:8080/"
        },
        "id": "4nZdW5xyQig_",
        "outputId": "844d14d7-b8ea-4b0a-d460-db2f71800ca6"
      },
      "source": [
        "# YOUR CODE HERE:\n",
        "for no in mylist2:\n",
        "    print(no * 10)"
      ],
      "execution_count": 134,
      "outputs": [
        {
          "output_type": "stream",
          "text": [
            "20\n",
            "40\n",
            "60\n",
            "80\n"
          ],
          "name": "stdout"
        }
      ]
    },
    {
      "cell_type": "markdown",
      "metadata": {
        "id": "WNrG6AEYQihA"
      },
      "source": [
        "#### 3. Guessing game\n",
        "**Complete the code below for a \"guess the number\" game.**\n",
        "\n",
        "The code provided does two things:\n",
        "* generate a random number between 1 and 10\n",
        "* prompt the user to guess the number.\n",
        "Add lines of code to compare the two numbers and print either \"too high\", \"too low\", or \"YOU WIN!\"\n",
        "\n",
        "NOTE: you may need to convert `user_guess` from string to integer!"
      ]
    },
    {
      "cell_type": "code",
      "metadata": {
        "colab": {
          "base_uri": "https://localhost:8080/"
        },
        "id": "aOhvJ4vyQihA",
        "outputId": "694ac5ae-3b00-49f7-bba5-8e751108020e"
      },
      "source": [
        "from random import randint\n",
        "\n",
        "RN = randint(1,10)\n",
        "user_guess = input(\"Guess a number from 1 to 10: \")\n",
        "\n",
        "# YOUR CODE HERE:\n",
        "\n",
        "# You can check what the random number generated was by printing it: \n",
        "# print(RN)\n",
        "\n",
        "if int(user_guess) > RN:\n",
        "    print(\"Too high\")\n",
        "elif int(user_guess) < RN:\n",
        "    print(\"Too low\")\n",
        "elif int(user_guess) == RN:\n",
        "    print(\"YOU WIN!\")\n",
        "\n"
      ],
      "execution_count": 135,
      "outputs": [
        {
          "output_type": "stream",
          "text": [
            "Guess a number from 1 to 10: 5\n",
            "Too high\n"
          ],
          "name": "stdout"
        }
      ]
    },
    {
      "cell_type": "markdown",
      "metadata": {
        "id": "Clb9YeB3QihA"
      },
      "source": [
        "**BONUS challenge:** rewrite the program to allow a maximum of 5 guesses."
      ]
    },
    {
      "cell_type": "code",
      "metadata": {
        "colab": {
          "base_uri": "https://localhost:8080/"
        },
        "id": "89lW-8EGQihB",
        "outputId": "503ceab5-c044-4d8e-e8a6-127dee89c61a"
      },
      "source": [
        "\n",
        "RN = randint(1,10)\n",
        "\n",
        "for i in range(1,6):\n",
        "    user_guess = input(\"Guess a number from 1 to 10: \")\n",
        "    if int(user_guess) > RN:\n",
        "      print(\"Too high\")\n",
        "    elif int(user_guess) < RN:\n",
        "      print(\"Too low\")\n",
        "    elif int(user_guess) == RN:\n",
        "      print(\"YOU WIN!\")\n",
        "      break\n",
        "\n",
        "print(\"The random number was:\", RN)\n",
        "print(\"Game Over!\")\n",
        "\n"
      ],
      "execution_count": 138,
      "outputs": [
        {
          "output_type": "stream",
          "text": [
            "Guess a number from 1 to 10: 6\n",
            "Too high\n",
            "Guess a number from 1 to 10: 3\n",
            "YOU WIN!\n",
            "The random number was: 3\n",
            "Game Over!\n"
          ],
          "name": "stdout"
        }
      ]
    },
    {
      "cell_type": "code",
      "metadata": {
        "id": "7fzV4SVQdjCq"
      },
      "source": [
        "2\n"
      ],
      "execution_count": null,
      "outputs": []
    }
  ]
}