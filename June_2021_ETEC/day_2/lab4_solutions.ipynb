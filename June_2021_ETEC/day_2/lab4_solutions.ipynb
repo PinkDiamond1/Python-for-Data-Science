{
  "nbformat": 4,
  "nbformat_minor": 0,
  "metadata": {
    "kernelspec": {
      "display_name": "Python 3",
      "language": "python",
      "name": "python3"
    },
    "language_info": {
      "codemirror_mode": {
        "name": "ipython",
        "version": 3
      },
      "file_extension": ".py",
      "mimetype": "text/x-python",
      "name": "python",
      "nbconvert_exporter": "python",
      "pygments_lexer": "ipython3",
      "version": "3.7.3"
    },
    "colab": {
      "name": "lab_2_solutions.ipynb",
      "provenance": []
    }
  },
  "cells": [
    {
      "cell_type": "code",
      "metadata": {
        "id": "y4N3GeGTikao"
      },
      "source": [
        "import os, sys\n",
        "import numpy as np\n",
        "import pandas as pd"
      ],
      "execution_count": 1,
      "outputs": []
    },
    {
      "cell_type": "markdown",
      "metadata": {
        "id": "pq_0xPumikat"
      },
      "source": [
        "# Lab 4\n",
        "These exercises focus on Pandas. Work through all exercises, searching for help when you need to (ie. frequently)."
      ]
    },
    {
      "cell_type": "code",
      "metadata": {
        "id": "kYS54HrAikau"
      },
      "source": [
        "import pandas as pd"
      ],
      "execution_count": 2,
      "outputs": []
    },
    {
      "cell_type": "markdown",
      "metadata": {
        "id": "XiQTNaLrikau"
      },
      "source": [
        "__EXERCISE 1: Pie shop__\n",
        "\n",
        "_Objective: Create and manipulate DataFrames_\n",
        "* Create a DataFrame with three columns: month, apple_pie_sales, blueberry_pie_sales\n",
        "* Summarize which products sold best\n",
        "* Create a new column to summarize revenues"
      ]
    },
    {
      "cell_type": "code",
      "metadata": {
        "id": "STq01Q4Zikav"
      },
      "source": [
        "# YOUR CODE HERE: create the df using the data supplied\n",
        "\n",
        "months = ['Jan','Feb', 'Mar', 'Apr']\n",
        "apple_pie_sales = [34, 19, 28, 45]\n",
        "blueberry_pie_sales= [18, 6, 15, 51]\n",
        "\n",
        "df = pd.DataFrame(list(zip(months, \n",
        "                           apple_pie_sales, \n",
        "                           blueberry_pie_sales)), \n",
        "                  columns= ['months', \n",
        "                            'apple_pie_sales', \n",
        "                            'blueberry_pie_sales'])"
      ],
      "execution_count": 3,
      "outputs": []
    },
    {
      "cell_type": "code",
      "metadata": {
        "colab": {
          "base_uri": "https://localhost:8080/",
          "height": 171
        },
        "id": "wPU0mdudikay",
        "outputId": "93744a81-d5f2-4d8f-f0fb-5b97f8372273"
      },
      "source": [
        "# Let's examine what this dataframe looks like:\n",
        "\n",
        "df"
      ],
      "execution_count": 4,
      "outputs": [
        {
          "output_type": "execute_result",
          "data": {
            "text/html": [
              "<div>\n",
              "<style scoped>\n",
              "    .dataframe tbody tr th:only-of-type {\n",
              "        vertical-align: middle;\n",
              "    }\n",
              "\n",
              "    .dataframe tbody tr th {\n",
              "        vertical-align: top;\n",
              "    }\n",
              "\n",
              "    .dataframe thead th {\n",
              "        text-align: right;\n",
              "    }\n",
              "</style>\n",
              "<table border=\"1\" class=\"dataframe\">\n",
              "  <thead>\n",
              "    <tr style=\"text-align: right;\">\n",
              "      <th></th>\n",
              "      <th>months</th>\n",
              "      <th>apple_pie_sales</th>\n",
              "      <th>blueberry_pie_sales</th>\n",
              "    </tr>\n",
              "  </thead>\n",
              "  <tbody>\n",
              "    <tr>\n",
              "      <th>0</th>\n",
              "      <td>Jan</td>\n",
              "      <td>34</td>\n",
              "      <td>18</td>\n",
              "    </tr>\n",
              "    <tr>\n",
              "      <th>1</th>\n",
              "      <td>Feb</td>\n",
              "      <td>19</td>\n",
              "      <td>6</td>\n",
              "    </tr>\n",
              "    <tr>\n",
              "      <th>2</th>\n",
              "      <td>Mar</td>\n",
              "      <td>28</td>\n",
              "      <td>15</td>\n",
              "    </tr>\n",
              "    <tr>\n",
              "      <th>3</th>\n",
              "      <td>Apr</td>\n",
              "      <td>45</td>\n",
              "      <td>51</td>\n",
              "    </tr>\n",
              "  </tbody>\n",
              "</table>\n",
              "</div>"
            ],
            "text/plain": [
              "  months  apple_pie_sales  blueberry_pie_sales\n",
              "0    Jan               34                   18\n",
              "1    Feb               19                    6\n",
              "2    Mar               28                   15\n",
              "3    Apr               45                   51"
            ]
          },
          "metadata": {
            "tags": []
          },
          "execution_count": 4
        }
      ]
    },
    {
      "cell_type": "code",
      "metadata": {
        "colab": {
          "base_uri": "https://localhost:8080/",
          "height": 171
        },
        "id": "hOSEDmGJika1",
        "outputId": "997eac40-0636-48f9-e38c-fc345b6679e8"
      },
      "source": [
        "# YOUR CODE HERE: calculate total sales of apple pies and total sales of blueberry pies\n",
        "\n",
        "apple_pie_sales=df.apple_pie_sales.sum()\n",
        "\n",
        "blueberry_pie_sales= df.blueberry_pie_sales.sum()\n",
        "\n",
        "df"
      ],
      "execution_count": 5,
      "outputs": [
        {
          "output_type": "execute_result",
          "data": {
            "text/html": [
              "<div>\n",
              "<style scoped>\n",
              "    .dataframe tbody tr th:only-of-type {\n",
              "        vertical-align: middle;\n",
              "    }\n",
              "\n",
              "    .dataframe tbody tr th {\n",
              "        vertical-align: top;\n",
              "    }\n",
              "\n",
              "    .dataframe thead th {\n",
              "        text-align: right;\n",
              "    }\n",
              "</style>\n",
              "<table border=\"1\" class=\"dataframe\">\n",
              "  <thead>\n",
              "    <tr style=\"text-align: right;\">\n",
              "      <th></th>\n",
              "      <th>months</th>\n",
              "      <th>apple_pie_sales</th>\n",
              "      <th>blueberry_pie_sales</th>\n",
              "    </tr>\n",
              "  </thead>\n",
              "  <tbody>\n",
              "    <tr>\n",
              "      <th>0</th>\n",
              "      <td>Jan</td>\n",
              "      <td>34</td>\n",
              "      <td>18</td>\n",
              "    </tr>\n",
              "    <tr>\n",
              "      <th>1</th>\n",
              "      <td>Feb</td>\n",
              "      <td>19</td>\n",
              "      <td>6</td>\n",
              "    </tr>\n",
              "    <tr>\n",
              "      <th>2</th>\n",
              "      <td>Mar</td>\n",
              "      <td>28</td>\n",
              "      <td>15</td>\n",
              "    </tr>\n",
              "    <tr>\n",
              "      <th>3</th>\n",
              "      <td>Apr</td>\n",
              "      <td>45</td>\n",
              "      <td>51</td>\n",
              "    </tr>\n",
              "  </tbody>\n",
              "</table>\n",
              "</div>"
            ],
            "text/plain": [
              "  months  apple_pie_sales  blueberry_pie_sales\n",
              "0    Jan               34                   18\n",
              "1    Feb               19                    6\n",
              "2    Mar               28                   15\n",
              "3    Apr               45                   51"
            ]
          },
          "metadata": {
            "tags": []
          },
          "execution_count": 5
        }
      ]
    },
    {
      "cell_type": "code",
      "metadata": {
        "colab": {
          "base_uri": "https://localhost:8080/"
        },
        "id": "0y-7AYbDk9hN",
        "outputId": "8c07aee6-830d-4c95-ee20-b23f1b366313"
      },
      "source": [
        "\n",
        "if apple_pie_sales>blueberry_pie_sales:\n",
        "    print(\"apple pies sold best: {} units\".format(apple_pie_sales))\n",
        "elif apple_pie_sales<blueberry_pie_sales:\n",
        "    print(\"blueberry pies sold best: {} units\".format(blueberry_pie_sales))\n",
        "elif apple_pie_sales==blueberry_pie_sales:\n",
        "    print (\"both pies were equally popular: {} units\".format (apple_pie_sales))"
      ],
      "execution_count": 6,
      "outputs": [
        {
          "output_type": "stream",
          "text": [
            "apple pies sold best: 126 units\n"
          ],
          "name": "stdout"
        }
      ]
    },
    {
      "cell_type": "code",
      "metadata": {
        "colab": {
          "base_uri": "https://localhost:8080/",
          "height": 191
        },
        "id": "tZ8_MnlVika2",
        "outputId": "864a69ea-e395-459e-e2ca-65b29bb8aaf4"
      },
      "source": [
        "# YOUR CODE HERE: create a new columns entitled apple_pie_revenue and blueberry_pie_revenue\n",
        "\n",
        "# Hint: revenue = units sold * price. Use the prices below.\n",
        "\n",
        "apple_pie_price = 12\n",
        "blueberry_pie_price = 15\n",
        "\n",
        "df['apple_pie_revenue']=df['apple_pie_sales']*apple_pie_price\n",
        "df['blueberry_pie_revenue']=df['blueberry_pie_sales']*blueberry_pie_price\n",
        "df"
      ],
      "execution_count": 7,
      "outputs": [
        {
          "output_type": "execute_result",
          "data": {
            "text/html": [
              "<div>\n",
              "<style scoped>\n",
              "    .dataframe tbody tr th:only-of-type {\n",
              "        vertical-align: middle;\n",
              "    }\n",
              "\n",
              "    .dataframe tbody tr th {\n",
              "        vertical-align: top;\n",
              "    }\n",
              "\n",
              "    .dataframe thead th {\n",
              "        text-align: right;\n",
              "    }\n",
              "</style>\n",
              "<table border=\"1\" class=\"dataframe\">\n",
              "  <thead>\n",
              "    <tr style=\"text-align: right;\">\n",
              "      <th></th>\n",
              "      <th>months</th>\n",
              "      <th>apple_pie_sales</th>\n",
              "      <th>blueberry_pie_sales</th>\n",
              "      <th>apple_pie_revenue</th>\n",
              "      <th>blueberry_pie_revenue</th>\n",
              "    </tr>\n",
              "  </thead>\n",
              "  <tbody>\n",
              "    <tr>\n",
              "      <th>0</th>\n",
              "      <td>Jan</td>\n",
              "      <td>34</td>\n",
              "      <td>18</td>\n",
              "      <td>408</td>\n",
              "      <td>270</td>\n",
              "    </tr>\n",
              "    <tr>\n",
              "      <th>1</th>\n",
              "      <td>Feb</td>\n",
              "      <td>19</td>\n",
              "      <td>6</td>\n",
              "      <td>228</td>\n",
              "      <td>90</td>\n",
              "    </tr>\n",
              "    <tr>\n",
              "      <th>2</th>\n",
              "      <td>Mar</td>\n",
              "      <td>28</td>\n",
              "      <td>15</td>\n",
              "      <td>336</td>\n",
              "      <td>225</td>\n",
              "    </tr>\n",
              "    <tr>\n",
              "      <th>3</th>\n",
              "      <td>Apr</td>\n",
              "      <td>45</td>\n",
              "      <td>51</td>\n",
              "      <td>540</td>\n",
              "      <td>765</td>\n",
              "    </tr>\n",
              "  </tbody>\n",
              "</table>\n",
              "</div>"
            ],
            "text/plain": [
              "  months  apple_pie_sales  ...  apple_pie_revenue  blueberry_pie_revenue\n",
              "0    Jan               34  ...                408                    270\n",
              "1    Feb               19  ...                228                     90\n",
              "2    Mar               28  ...                336                    225\n",
              "3    Apr               45  ...                540                    765\n",
              "\n",
              "[4 rows x 5 columns]"
            ]
          },
          "metadata": {
            "tags": []
          },
          "execution_count": 7
        }
      ]
    },
    {
      "cell_type": "code",
      "metadata": {
        "colab": {
          "base_uri": "https://localhost:8080/",
          "height": 287
        },
        "id": "PpEHQ-68ika3",
        "outputId": "e8aacf6a-19d4-49ad-db64-7513ad553f28"
      },
      "source": [
        "# BONUS: find a way to plot bar charts and pie charts (ha) of the shop's sales\n",
        "import matplotlib.pyplot as plt\n",
        "df[['months','apple_pie_sales','blueberry_pie_sales']].plot(x='months',kind=\"bar\")\n",
        "plt.ylabel(\"units sold\")\n",
        "plt.show()"
      ],
      "execution_count": 8,
      "outputs": [
        {
          "output_type": "display_data",
          "data": {
            "image/png": "[encoded data removed]",
            "text/plain": [
              "<Figure size 432x288 with 1 Axes>"
            ]
          },
          "metadata": {
            "tags": [],
            "needs_background": "light"
          }
        }
      ]
    },
    {
      "cell_type": "code",
      "metadata": {
        "id": "HifBfdYUika3",
        "outputId": "4ad975a1-e6fd-453a-a2d4-328d5e8ca708"
      },
      "source": [
        "df.plot(kind=\"pie\", y='apple_pie_sales', labels=months, legend=False)\n",
        "plt.show()"
      ],
      "execution_count": null,
      "outputs": [
        {
          "output_type": "display_data",
          "data": {
            "image/png": "[encoded data removed]",
            "text/plain": [
              "<Figure size 432x288 with 1 Axes>"
            ]
          },
          "metadata": {
            "tags": []
          }
        }
      ]
    },
    {
      "cell_type": "markdown",
      "metadata": {
        "id": "Z28ZZgnUika4"
      },
      "source": [
        "__EXERCISE 2: NYC housing__\n",
        "\n",
        "_Objective: clean and manipulate a real-world dataset_\n",
        "\n",
        "We are using the PLUTO (Primary Land Use Tax Lot Output) database, which lists every building in New York City.\n",
        "Source is [NYC Open Data Portal](https://www1.nyc.gov/site/planning/data-maps/open-data/dwn-pluto-mappluto.page). Check the [data dictionary](https://www1.nyc.gov/assets/planning/download/pdf/data-maps/open-data/pluto_datadictionary.pdf?r=18v2beta)."
      ]
    },
    {
      "cell_type": "code",
      "metadata": {
        "id": "OKbyzU6cika4",
        "outputId": "886c3857-b2fe-4463-c0e9-d6d8b1bc4abf"
      },
      "source": [
        "url = 'https://github.com/worldbank/Python-for-Data-Science/raw/master/Spring%202019%208-week%20course/week%203/pluto_shorter.csv'\n",
        "df = pd.read_csv(url)"
      ],
      "execution_count": null,
      "outputs": [
        {
          "output_type": "stream",
          "text": [
            "C:\\WBG\\Anaconda\\lib\\site-packages\\IPython\\core\\interactiveshell.py:3049: DtypeWarning: Columns (18,19,21,23,78) have mixed types. Specify dtype option on import or set low_memory=False.\n",
            "  interactivity=interactivity, compiler=compiler, result=result)\n"
          ],
          "name": "stderr"
        }
      ]
    },
    {
      "cell_type": "markdown",
      "metadata": {
        "id": "2j9HlYPZika6"
      },
      "source": [
        "__Step 1: Inspect and prepare the dataset__"
      ]
    },
    {
      "cell_type": "code",
      "metadata": {
        "id": "PbSX0j5vika6",
        "outputId": "af2acb09-db64-4478-bb30-4e5969d59fd3"
      },
      "source": [
        "# Use df.head() to see the first five rows. A bit messy, no?\n",
        "df.head()"
      ],
      "execution_count": null,
      "outputs": [
        {
          "output_type": "execute_result",
          "data": {
            "text/html": [
              "<div>\n",
              "<style scoped>\n",
              "    .dataframe tbody tr th:only-of-type {\n",
              "        vertical-align: middle;\n",
              "    }\n",
              "\n",
              "    .dataframe tbody tr th {\n",
              "        vertical-align: top;\n",
              "    }\n",
              "\n",
              "    .dataframe thead th {\n",
              "        text-align: right;\n",
              "    }\n",
              "</style>\n",
              "<table border=\"1\" class=\"dataframe\">\n",
              "  <thead>\n",
              "    <tr style=\"text-align: right;\">\n",
              "      <th></th>\n",
              "      <th>Unnamed: 0</th>\n",
              "      <th>borough</th>\n",
              "      <th>block</th>\n",
              "      <th>lot</th>\n",
              "      <th>cd</th>\n",
              "      <th>ct2010</th>\n",
              "      <th>cb2010</th>\n",
              "      <th>schooldist</th>\n",
              "      <th>council</th>\n",
              "      <th>zipcode</th>\n",
              "      <th>...</th>\n",
              "      <th>firm07_flag</th>\n",
              "      <th>pfirm15_flag</th>\n",
              "      <th>rpaddate</th>\n",
              "      <th>dcasdate</th>\n",
              "      <th>zoningdate</th>\n",
              "      <th>landmkdate</th>\n",
              "      <th>basempdate</th>\n",
              "      <th>masdate</th>\n",
              "      <th>polidate</th>\n",
              "      <th>edesigdate</th>\n",
              "    </tr>\n",
              "  </thead>\n",
              "  <tbody>\n",
              "    <tr>\n",
              "      <th>0</th>\n",
              "      <td>0</td>\n",
              "      <td>BX</td>\n",
              "      <td>5641.0</td>\n",
              "      <td>670.0</td>\n",
              "      <td>210.0</td>\n",
              "      <td>516.00</td>\n",
              "      <td>2.0</td>\n",
              "      <td>NaN</td>\n",
              "      <td>13.0</td>\n",
              "      <td>NaN</td>\n",
              "      <td>...</td>\n",
              "      <td>1.0</td>\n",
              "      <td>1.0</td>\n",
              "      <td>12/6/2018</td>\n",
              "      <td>12/20/2018</td>\n",
              "      <td>12/21/2018</td>\n",
              "      <td>12/20/2018</td>\n",
              "      <td>12/21/2018</td>\n",
              "      <td>NaN</td>\n",
              "      <td>NaN</td>\n",
              "      <td>12/20/2018</td>\n",
              "    </tr>\n",
              "    <tr>\n",
              "      <th>1</th>\n",
              "      <td>20</td>\n",
              "      <td>QN</td>\n",
              "      <td>4671.0</td>\n",
              "      <td>39.0</td>\n",
              "      <td>407.0</td>\n",
              "      <td>1039.00</td>\n",
              "      <td>2011.0</td>\n",
              "      <td>25.0</td>\n",
              "      <td>19.0</td>\n",
              "      <td>11357.0</td>\n",
              "      <td>...</td>\n",
              "      <td>NaN</td>\n",
              "      <td>NaN</td>\n",
              "      <td>12/6/2018</td>\n",
              "      <td>12/20/2018</td>\n",
              "      <td>12/21/2018</td>\n",
              "      <td>12/20/2018</td>\n",
              "      <td>12/21/2018</td>\n",
              "      <td>NaN</td>\n",
              "      <td>NaN</td>\n",
              "      <td>12/20/2018</td>\n",
              "    </tr>\n",
              "    <tr>\n",
              "      <th>2</th>\n",
              "      <td>40</td>\n",
              "      <td>BK</td>\n",
              "      <td>3925.0</td>\n",
              "      <td>32.0</td>\n",
              "      <td>305.0</td>\n",
              "      <td>1172.02</td>\n",
              "      <td>2004.0</td>\n",
              "      <td>19.0</td>\n",
              "      <td>37.0</td>\n",
              "      <td>11208.0</td>\n",
              "      <td>...</td>\n",
              "      <td>NaN</td>\n",
              "      <td>NaN</td>\n",
              "      <td>12/6/2018</td>\n",
              "      <td>12/20/2018</td>\n",
              "      <td>12/21/2018</td>\n",
              "      <td>12/20/2018</td>\n",
              "      <td>12/21/2018</td>\n",
              "      <td>NaN</td>\n",
              "      <td>NaN</td>\n",
              "      <td>12/20/2018</td>\n",
              "    </tr>\n",
              "    <tr>\n",
              "      <th>3</th>\n",
              "      <td>60</td>\n",
              "      <td>MN</td>\n",
              "      <td>1836.0</td>\n",
              "      <td>19.0</td>\n",
              "      <td>107.0</td>\n",
              "      <td>189.00</td>\n",
              "      <td>2002.0</td>\n",
              "      <td>3.0</td>\n",
              "      <td>7.0</td>\n",
              "      <td>10025.0</td>\n",
              "      <td>...</td>\n",
              "      <td>NaN</td>\n",
              "      <td>NaN</td>\n",
              "      <td>12/6/2018</td>\n",
              "      <td>12/20/2018</td>\n",
              "      <td>12/21/2018</td>\n",
              "      <td>12/20/2018</td>\n",
              "      <td>12/21/2018</td>\n",
              "      <td>NaN</td>\n",
              "      <td>NaN</td>\n",
              "      <td>12/20/2018</td>\n",
              "    </tr>\n",
              "    <tr>\n",
              "      <th>4</th>\n",
              "      <td>80</td>\n",
              "      <td>QN</td>\n",
              "      <td>8898.0</td>\n",
              "      <td>16.0</td>\n",
              "      <td>409.0</td>\n",
              "      <td>4.00</td>\n",
              "      <td>2001.0</td>\n",
              "      <td>27.0</td>\n",
              "      <td>30.0</td>\n",
              "      <td>11421.0</td>\n",
              "      <td>...</td>\n",
              "      <td>NaN</td>\n",
              "      <td>NaN</td>\n",
              "      <td>12/6/2018</td>\n",
              "      <td>12/20/2018</td>\n",
              "      <td>12/21/2018</td>\n",
              "      <td>12/20/2018</td>\n",
              "      <td>12/21/2018</td>\n",
              "      <td>NaN</td>\n",
              "      <td>NaN</td>\n",
              "      <td>12/20/2018</td>\n",
              "    </tr>\n",
              "  </tbody>\n",
              "</table>\n",
              "<p>5 rows × 97 columns</p>\n",
              "</div>"
            ],
            "text/plain": [
              "   Unnamed: 0 borough   block    lot     cd   ct2010  cb2010  schooldist  \\\n",
              "0           0      BX  5641.0  670.0  210.0   516.00     2.0         NaN   \n",
              "1          20      QN  4671.0   39.0  407.0  1039.00  2011.0        25.0   \n",
              "2          40      BK  3925.0   32.0  305.0  1172.02  2004.0        19.0   \n",
              "3          60      MN  1836.0   19.0  107.0   189.00  2002.0         3.0   \n",
              "4          80      QN  8898.0   16.0  409.0     4.00  2001.0        27.0   \n",
              "\n",
              "   council  zipcode  ... firm07_flag  pfirm15_flag   rpaddate    dcasdate  \\\n",
              "0     13.0      NaN  ...         1.0           1.0  12/6/2018  12/20/2018   \n",
              "1     19.0  11357.0  ...         NaN           NaN  12/6/2018  12/20/2018   \n",
              "2     37.0  11208.0  ...         NaN           NaN  12/6/2018  12/20/2018   \n",
              "3      7.0  10025.0  ...         NaN           NaN  12/6/2018  12/20/2018   \n",
              "4     30.0  11421.0  ...         NaN           NaN  12/6/2018  12/20/2018   \n",
              "\n",
              "   zoningdate  landmkdate  basempdate masdate polidate  edesigdate  \n",
              "0  12/21/2018  12/20/2018  12/21/2018     NaN      NaN  12/20/2018  \n",
              "1  12/21/2018  12/20/2018  12/21/2018     NaN      NaN  12/20/2018  \n",
              "2  12/21/2018  12/20/2018  12/21/2018     NaN      NaN  12/20/2018  \n",
              "3  12/21/2018  12/20/2018  12/21/2018     NaN      NaN  12/20/2018  \n",
              "4  12/21/2018  12/20/2018  12/21/2018     NaN      NaN  12/20/2018  \n",
              "\n",
              "[5 rows x 97 columns]"
            ]
          },
          "metadata": {
            "tags": []
          },
          "execution_count": 5
        }
      ]
    },
    {
      "cell_type": "code",
      "metadata": {
        "id": "xCJNJUPZika7",
        "outputId": "ca54c842-0679-480f-8d61-db3723ab8b38"
      },
      "source": [
        "# We'll select some columns to keep\n",
        "df.columns"
      ],
      "execution_count": null,
      "outputs": [
        {
          "output_type": "execute_result",
          "data": {
            "text/plain": [
              "Index(['Unnamed: 0', 'borough', 'block', 'lot', 'cd', 'ct2010', 'cb2010',\n",
              "       'schooldist', 'council', 'zipcode', 'firecomp', 'policeprct',\n",
              "       'healtharea', 'sanitboro', 'sanitsub', 'address', 'zonedist1',\n",
              "       'zonedist2', 'zonedist3', 'zonedist4', 'overlay1', 'overlay2',\n",
              "       'spdist1', 'spdist2', 'spdist3', 'ltdheight', 'splitzone', 'bldgclass',\n",
              "       'landuse', 'easements', 'ownertype', 'ownername', 'lotarea', 'bldgarea',\n",
              "       'comarea', 'resarea', 'officearea', 'retailarea', 'garagearea',\n",
              "       'strgearea', 'factryarea', 'otherarea', 'areasource', 'numbldgs',\n",
              "       'numfloors', 'unitsres', 'unitstotal', 'lotfront', 'lotdepth',\n",
              "       'bldgfront', 'bldgdepth', 'ext', 'proxcode', 'irrlotcode', 'lottype',\n",
              "       'bsmtcode', 'assessland', 'assesstot', 'exemptland', 'exempttot',\n",
              "       'yearbuilt', 'yearalter1', 'yearalter2', 'histdist', 'landmark',\n",
              "       'builtfar', 'residfar', 'commfar', 'facilfar', 'borocode', 'bbl',\n",
              "       'condono', 'tract2010', 'xcoord', 'ycoord', 'zonemap', 'zmcode',\n",
              "       'sanborn', 'taxmap', 'edesignum', 'appbbl', 'appdate', 'mappluto_f',\n",
              "       'plutomapid', 'version', 'sanitdistrict', 'healthcenterdistrict',\n",
              "       'firm07_flag', 'pfirm15_flag', 'rpaddate', 'dcasdate', 'zoningdate',\n",
              "       'landmkdate', 'basempdate', 'masdate', 'polidate', 'edesigdate'],\n",
              "      dtype='object')"
            ]
          },
          "metadata": {
            "tags": []
          },
          "execution_count": 6
        }
      ]
    },
    {
      "cell_type": "code",
      "metadata": {
        "id": "veaCP4Ghika7"
      },
      "source": [
        "# Note how this syntax works. You could add extra columns that interest you.\n",
        "my_cols = ['borough','numfloors','yearbuilt', 'landuse', 'zipcode', 'assesstot', 'xcoord','ycoord']\n",
        "df = df[my_cols]"
      ],
      "execution_count": null,
      "outputs": []
    },
    {
      "cell_type": "code",
      "metadata": {
        "id": "WUvuXixOika8",
        "outputId": "7e2b4af7-0c91-4abf-b17e-ccf6683460e6"
      },
      "source": [
        "# Cleaner now, right?\n",
        "df.head()"
      ],
      "execution_count": null,
      "outputs": [
        {
          "output_type": "execute_result",
          "data": {
            "text/html": [
              "<div>\n",
              "<style scoped>\n",
              "    .dataframe tbody tr th:only-of-type {\n",
              "        vertical-align: middle;\n",
              "    }\n",
              "\n",
              "    .dataframe tbody tr th {\n",
              "        vertical-align: top;\n",
              "    }\n",
              "\n",
              "    .dataframe thead th {\n",
              "        text-align: right;\n",
              "    }\n",
              "</style>\n",
              "<table border=\"1\" class=\"dataframe\">\n",
              "  <thead>\n",
              "    <tr style=\"text-align: right;\">\n",
              "      <th></th>\n",
              "      <th>borough</th>\n",
              "      <th>numfloors</th>\n",
              "      <th>yearbuilt</th>\n",
              "      <th>landuse</th>\n",
              "      <th>zipcode</th>\n",
              "      <th>assesstot</th>\n",
              "      <th>xcoord</th>\n",
              "      <th>ycoord</th>\n",
              "    </tr>\n",
              "  </thead>\n",
              "  <tbody>\n",
              "    <tr>\n",
              "      <th>0</th>\n",
              "      <td>BX</td>\n",
              "      <td>0.00</td>\n",
              "      <td>0.0</td>\n",
              "      <td>7.0</td>\n",
              "      <td>NaN</td>\n",
              "      <td>59400.0</td>\n",
              "      <td>1044510.0</td>\n",
              "      <td>246734.0</td>\n",
              "    </tr>\n",
              "    <tr>\n",
              "      <th>1</th>\n",
              "      <td>QN</td>\n",
              "      <td>2.50</td>\n",
              "      <td>1925.0</td>\n",
              "      <td>1.0</td>\n",
              "      <td>11357.0</td>\n",
              "      <td>29738.0</td>\n",
              "      <td>1035479.0</td>\n",
              "      <td>223657.0</td>\n",
              "    </tr>\n",
              "    <tr>\n",
              "      <th>2</th>\n",
              "      <td>BK</td>\n",
              "      <td>2.75</td>\n",
              "      <td>1920.0</td>\n",
              "      <td>1.0</td>\n",
              "      <td>11208.0</td>\n",
              "      <td>27370.0</td>\n",
              "      <td>1015989.0</td>\n",
              "      <td>187871.0</td>\n",
              "    </tr>\n",
              "    <tr>\n",
              "      <th>3</th>\n",
              "      <td>MN</td>\n",
              "      <td>6.00</td>\n",
              "      <td>1900.0</td>\n",
              "      <td>2.0</td>\n",
              "      <td>10025.0</td>\n",
              "      <td>510300.0</td>\n",
              "      <td>994273.0</td>\n",
              "      <td>228915.0</td>\n",
              "    </tr>\n",
              "    <tr>\n",
              "      <th>4</th>\n",
              "      <td>QN</td>\n",
              "      <td>2.00</td>\n",
              "      <td>1901.0</td>\n",
              "      <td>1.0</td>\n",
              "      <td>11421.0</td>\n",
              "      <td>29020.0</td>\n",
              "      <td>1021269.0</td>\n",
              "      <td>190793.0</td>\n",
              "    </tr>\n",
              "  </tbody>\n",
              "</table>\n",
              "</div>"
            ],
            "text/plain": [
              "  borough  numfloors  yearbuilt  landuse  zipcode  assesstot     xcoord  \\\n",
              "0      BX       0.00        0.0      7.0      NaN    59400.0  1044510.0   \n",
              "1      QN       2.50     1925.0      1.0  11357.0    29738.0  1035479.0   \n",
              "2      BK       2.75     1920.0      1.0  11208.0    27370.0  1015989.0   \n",
              "3      MN       6.00     1900.0      2.0  10025.0   510300.0   994273.0   \n",
              "4      QN       2.00     1901.0      1.0  11421.0    29020.0  1021269.0   \n",
              "\n",
              "     ycoord  \n",
              "0  246734.0  \n",
              "1  223657.0  \n",
              "2  187871.0  \n",
              "3  228915.0  \n",
              "4  190793.0  "
            ]
          },
          "metadata": {
            "tags": []
          },
          "execution_count": 8
        }
      ]
    },
    {
      "cell_type": "code",
      "metadata": {
        "id": "rzRFrIcFika8"
      },
      "source": [
        "# Here is the key that translates NYC's land use codes into plain English (p. 17 of the data dictionary)\n",
        "# We'll use the df.map() method to replace the numbers with text we can understand\n",
        "\n",
        "# BONUS POINTS: repeat this step to substitute the short borough names (eg. MN) with the actual\n",
        "# full borough names (eg. MN becomes Manhattan).\n",
        "\n",
        "land_use_dict = {1: 'One & Two Family Buildings',\n",
        "                2: 'Multi-Family Walk-Up Buildings',\n",
        "                3: 'Multi-Family Elevator Buildings',\n",
        "                4: 'Mixed Residential & Commercial Buildings',\n",
        "                5: 'Commercial & Office Buildings',\n",
        "                6: 'Industrial & Manufacturing',\n",
        "                7: 'Transportation & Utility',\n",
        "                8: 'Public Facilities & Institutions',\n",
        "                9: 'Open Space & Outdoor Recreation',\n",
        "                10: 'Parking Facilities',\n",
        "                11: 'Vacant Land'}\n",
        "\n",
        "df['landuse'] = df['landuse'].map(land_use_dict)"
      ],
      "execution_count": null,
      "outputs": []
    },
    {
      "cell_type": "code",
      "metadata": {
        "id": "rNASyr_Dika9",
        "outputId": "50d986e9-e02f-4b75-9752-58a916f1cba6"
      },
      "source": [
        "# Cleaner now, right? Add any more data cleaning steps of your choice.\n",
        "\n",
        "df.head()"
      ],
      "execution_count": null,
      "outputs": [
        {
          "output_type": "execute_result",
          "data": {
            "text/html": [
              "<div>\n",
              "<style scoped>\n",
              "    .dataframe tbody tr th:only-of-type {\n",
              "        vertical-align: middle;\n",
              "    }\n",
              "\n",
              "    .dataframe tbody tr th {\n",
              "        vertical-align: top;\n",
              "    }\n",
              "\n",
              "    .dataframe thead th {\n",
              "        text-align: right;\n",
              "    }\n",
              "</style>\n",
              "<table border=\"1\" class=\"dataframe\">\n",
              "  <thead>\n",
              "    <tr style=\"text-align: right;\">\n",
              "      <th></th>\n",
              "      <th>borough</th>\n",
              "      <th>numfloors</th>\n",
              "      <th>yearbuilt</th>\n",
              "      <th>landuse</th>\n",
              "      <th>zipcode</th>\n",
              "      <th>assesstot</th>\n",
              "      <th>xcoord</th>\n",
              "      <th>ycoord</th>\n",
              "    </tr>\n",
              "  </thead>\n",
              "  <tbody>\n",
              "    <tr>\n",
              "      <th>0</th>\n",
              "      <td>BX</td>\n",
              "      <td>0.00</td>\n",
              "      <td>0.0</td>\n",
              "      <td>Transportation &amp; Utility</td>\n",
              "      <td>NaN</td>\n",
              "      <td>59400.0</td>\n",
              "      <td>1044510.0</td>\n",
              "      <td>246734.0</td>\n",
              "    </tr>\n",
              "    <tr>\n",
              "      <th>1</th>\n",
              "      <td>QN</td>\n",
              "      <td>2.50</td>\n",
              "      <td>1925.0</td>\n",
              "      <td>One &amp; Two Family Buildings</td>\n",
              "      <td>11357.0</td>\n",
              "      <td>29738.0</td>\n",
              "      <td>1035479.0</td>\n",
              "      <td>223657.0</td>\n",
              "    </tr>\n",
              "    <tr>\n",
              "      <th>2</th>\n",
              "      <td>BK</td>\n",
              "      <td>2.75</td>\n",
              "      <td>1920.0</td>\n",
              "      <td>One &amp; Two Family Buildings</td>\n",
              "      <td>11208.0</td>\n",
              "      <td>27370.0</td>\n",
              "      <td>1015989.0</td>\n",
              "      <td>187871.0</td>\n",
              "    </tr>\n",
              "    <tr>\n",
              "      <th>3</th>\n",
              "      <td>MN</td>\n",
              "      <td>6.00</td>\n",
              "      <td>1900.0</td>\n",
              "      <td>Multi-Family Walk-Up Buildings</td>\n",
              "      <td>10025.0</td>\n",
              "      <td>510300.0</td>\n",
              "      <td>994273.0</td>\n",
              "      <td>228915.0</td>\n",
              "    </tr>\n",
              "    <tr>\n",
              "      <th>4</th>\n",
              "      <td>QN</td>\n",
              "      <td>2.00</td>\n",
              "      <td>1901.0</td>\n",
              "      <td>One &amp; Two Family Buildings</td>\n",
              "      <td>11421.0</td>\n",
              "      <td>29020.0</td>\n",
              "      <td>1021269.0</td>\n",
              "      <td>190793.0</td>\n",
              "    </tr>\n",
              "  </tbody>\n",
              "</table>\n",
              "</div>"
            ],
            "text/plain": [
              "  borough  numfloors  yearbuilt                         landuse  zipcode  \\\n",
              "0      BX       0.00        0.0        Transportation & Utility      NaN   \n",
              "1      QN       2.50     1925.0      One & Two Family Buildings  11357.0   \n",
              "2      BK       2.75     1920.0      One & Two Family Buildings  11208.0   \n",
              "3      MN       6.00     1900.0  Multi-Family Walk-Up Buildings  10025.0   \n",
              "4      QN       2.00     1901.0      One & Two Family Buildings  11421.0   \n",
              "\n",
              "   assesstot     xcoord    ycoord  \n",
              "0    59400.0  1044510.0  246734.0  \n",
              "1    29738.0  1035479.0  223657.0  \n",
              "2    27370.0  1015989.0  187871.0  \n",
              "3   510300.0   994273.0  228915.0  \n",
              "4    29020.0  1021269.0  190793.0  "
            ]
          },
          "metadata": {
            "tags": []
          },
          "execution_count": 10
        }
      ]
    },
    {
      "cell_type": "markdown",
      "metadata": {
        "id": "Y7yQt4nuika9"
      },
      "source": [
        "__Step 2: Summarize data using mean(), min/max(), describe() etc.__\n",
        "* Find out the average price of a building in Manhattan (MN) compared with Queens (QN)\n",
        "* What was the most expensive building built in the year you were born?\n",
        "* Compare average building\n",
        "\n",
        "BONUS: find the average price for buildings in Brooklyn with 5-10 floors built between 2000-2010. Do the same for buildings in Manhattan and Queens with those characteristics."
      ]
    },
    {
      "cell_type": "code",
      "metadata": {
        "id": "e3YC96deika-",
        "outputId": "766ffceb-5579-45ef-9f6b-79daee848411"
      },
      "source": [
        "# YOUR CODE HERE:\n",
        "\n",
        "print(\"average price in brooklyn:\", df[(df.borough==\"BK\")&(df.numfloors>=5)&\\\n",
        "    (df.numfloors<=10)&(df.yearbuilt>=2000)&(df.yearbuilt<=2010)]\\\n",
        "     ['assesstot'].mean())\n",
        "\n",
        "print(\"average price in manhattan:\", df[(df.borough==\"MN\")&(df.numfloors>=5)&\\\n",
        "    (df.numfloors<=10)&(df.yearbuilt>=2000)&(df.yearbuilt<=2010)]\\\n",
        "     ['assesstot'].mean())\n",
        "\n",
        "print(\"average price in queens:\", df[(df.borough==\"QN\")&(df.numfloors>=5)&\\\n",
        "    (df.numfloors<=10)&(df.yearbuilt>=2000)&(df.yearbuilt<=2010)]\\\n",
        "     ['assesstot'].mean())\n"
      ],
      "execution_count": null,
      "outputs": [
        {
          "output_type": "stream",
          "text": [
            "average price in brooklyn: 2225754.603448276\n",
            "average price in manhattan: 4267863.0869565215\n",
            "average price in queens: 2035399.652173913\n"
          ],
          "name": "stdout"
        }
      ]
    },
    {
      "cell_type": "markdown",
      "metadata": {
        "id": "TvTxZyIAika_"
      },
      "source": [
        "__Step 3: Exploratory visualization using Pandas plotting__"
      ]
    },
    {
      "cell_type": "code",
      "metadata": {
        "id": "bdZ3Cb50ika_",
        "outputId": "553452ab-d7f2-492d-eda5-49eeb1a3409b"
      },
      "source": [
        "# Try using the function pandas.Series.value_counts\n",
        "# It returns the unique count of values in a column\n",
        "# BONUS: Could you produce this output only for Brooklyn?\n",
        "\n",
        "df.landuse.value_counts()"
      ],
      "execution_count": null,
      "outputs": [
        {
          "output_type": "execute_result",
          "data": {
            "text/plain": [
              "One & Two Family Buildings                  28259\n",
              "Multi-Family Walk-Up Buildings               6408\n",
              "Mixed Residential & Commercial Buildings     2813\n",
              "Vacant Land                                  1358\n",
              "Commercial & Office Buildings                1060\n",
              "Multi-Family Elevator Buildings               639\n",
              "Public Facilities & Institutions              633\n",
              "Industrial & Manufacturing                    544\n",
              "Parking Facilities                            520\n",
              "Transportation & Utility                      351\n",
              "Open Space & Outdoor Recreation               231\n",
              "Name: landuse, dtype: int64"
            ]
          },
          "metadata": {
            "tags": []
          },
          "execution_count": 12
        }
      ]
    },
    {
      "cell_type": "code",
      "metadata": {
        "id": "nt22XTCNikbB",
        "outputId": "403df0aa-d029-4132-d6a4-9b517fff4be8"
      },
      "source": [
        "df[df.borough==\"BK\"].landuse.value_counts()"
      ],
      "execution_count": null,
      "outputs": [
        {
          "output_type": "execute_result",
          "data": {
            "text/plain": [
              "One & Two Family Buildings                  7899\n",
              "Multi-Family Walk-Up Buildings              3192\n",
              "Mixed Residential & Commercial Buildings    1270\n",
              "Vacant Land                                  292\n",
              "Commercial & Office Buildings                277\n",
              "Industrial & Manufacturing                   216\n",
              "Public Facilities & Institutions             202\n",
              "Multi-Family Elevator Buildings              176\n",
              "Parking Facilities                           175\n",
              "Transportation & Utility                      93\n",
              "Open Space & Outdoor Recreation               40\n",
              "Name: landuse, dtype: int64"
            ]
          },
          "metadata": {
            "tags": []
          },
          "execution_count": 13
        }
      ]
    },
    {
      "cell_type": "markdown",
      "metadata": {
        "id": "NYt6ZZq4ikbC"
      },
      "source": [
        "__YOUR ACTION__: Look up the [pandas.Series.plot](https://pandas.pydata.org/pandas-docs/stable/reference/api/pandas.Series.plot.html) function, and some [examples of how to use it](https://pandas.pydata.org/pandas-docs/stable/user_guide/visualization.html).\n",
        "\n",
        "Explore any questions that interest you about New York City's buildings by plotting charts, for example:\n",
        "* How does price vary with age? (scatter of age vs. price)\n",
        "* Does the breakdown of building types differ between boroughs? (pie chart of landuse)\n",
        "* Which zip codes have most and fewest buildings?\n",
        "* Where are the buildings located? (hint: try a scatter plot of xcoord and ycoord)\n"
      ]
    },
    {
      "cell_type": "markdown",
      "metadata": {
        "id": "WUpuFbVHikbC"
      },
      "source": [
        "**How does price vary with age? (scatter of age vs. price)**"
      ]
    },
    {
      "cell_type": "code",
      "metadata": {
        "id": "joAF0C1iikbC",
        "outputId": "00b485e7-0263-49de-fb21-2319a73e2e69"
      },
      "source": [
        "# YOUR CODE HERE:\n",
        "import matplotlib.pyplot as plt\n",
        "df[['yearbuilt','assesstot']].plot(kind=\"scatter\", x=\"yearbuilt\", y=\"assesstot\")"
      ],
      "execution_count": null,
      "outputs": [
        {
          "output_type": "execute_result",
          "data": {
            "text/plain": [
              "<matplotlib.axes._subplots.AxesSubplot at 0x18f943d47f0>"
            ]
          },
          "metadata": {
            "tags": []
          },
          "execution_count": 14
        }
      ]
    },
    {
      "cell_type": "code",
      "metadata": {
        "id": "8a7AjafEikbD",
        "outputId": "d8746660-4027-416e-a273-7e9daa26f589"
      },
      "source": [
        "# Remove outliers\n",
        "df_new = df[df.yearbuilt>1700]\n",
        "df_new[['yearbuilt','assesstot']].plot(kind=\"scatter\", x=\"yearbuilt\", y=\"assesstot\")\n"
      ],
      "execution_count": null,
      "outputs": [
        {
          "output_type": "execute_result",
          "data": {
            "text/plain": [
              "<matplotlib.axes._subplots.AxesSubplot at 0x18f947049b0>"
            ]
          },
          "metadata": {
            "tags": []
          },
          "execution_count": 15
        },
        {
          "output_type": "display_data",
          "data": {
            "image/png": "[encoded data removed]",
            "text/plain": [
              "<Figure size 432x288 with 1 Axes>"
            ]
          },
          "metadata": {
            "tags": [],
            "needs_background": "light"
          }
        }
      ]
    },
    {
      "cell_type": "markdown",
      "metadata": {
        "id": "KupozvrTikbE"
      },
      "source": [
        "**Does the breakdown of building types differ between boroughs? (pie chart of landuse)**"
      ]
    },
    {
      "cell_type": "code",
      "metadata": {
        "id": "ScMHQ6NcikbE",
        "outputId": "16d16652-0de8-4f97-f306-891ef23d3d55"
      },
      "source": [
        "plt.figure(0)\n",
        "df[df.borough==\"BK\"].landuse.value_counts().plot(kind=\"pie\")\n",
        "plt.figure(1)\n",
        "df[df.borough==\"MN\"].landuse.value_counts().plot(kind=\"pie\")\n",
        "plt.figure(2)\n",
        "df[df.borough==\"BX\"].landuse.value_counts().plot(kind=\"pie\")\n",
        "plt.figure(3)\n",
        "df[df.borough==\"QN\"].landuse.value_counts().plot(kind=\"pie\")\n",
        "plt.figure(4)\n",
        "df[df.borough==\"SI\"].landuse.value_counts().plot(kind=\"pie\")\n",
        "plt.show()"
      ],
      "execution_count": null,
      "outputs": [
        {
          "output_type": "display_data",
          "data": {
            "image/png": "[encoded data removed]",
            "text/plain": [
              "<Figure size 432x288 with 1 Axes>"
            ]
          },
          "metadata": {
            "tags": []
          }
        },
        {
          "output_type": "display_data",
          "data": {
            "image/png": "[encoded data removed]",
            "text/plain": [
              "<Figure size 432x288 with 1 Axes>"
            ]
          },
          "metadata": {
            "tags": []
          }
        },
        {
          "output_type": "display_data",
          "data": {
            "image/png": "[encoded data removed]",
            "text/plain": [
              "<Figure size 432x288 with 1 Axes>"
            ]
          },
          "metadata": {
            "tags": []
          }
        },
        {
          "output_type": "display_data",
          "data": {
            "image/png": "[encoded data removed]",
            "text/plain": [
              "<Figure size 432x288 with 1 Axes>"
            ]
          },
          "metadata": {
            "tags": []
          }
        },
        {
          "output_type": "display_data",
          "data": {
            "image/png": "[encoded data removed]",
            "text/plain": [
              "<Figure size 432x288 with 1 Axes>"
            ]
          },
          "metadata": {
            "tags": []
          }
        }
      ]
    },
    {
      "cell_type": "markdown",
      "metadata": {
        "id": "wqwRKuE2ikbE"
      },
      "source": [
        "**Which zip codes have most and fewest buildings?**"
      ]
    },
    {
      "cell_type": "code",
      "metadata": {
        "id": "xpVuNmcPikbF"
      },
      "source": [
        "df_zip=df.groupby('zipcode')['zipcode'].agg([\"count\"]).reset_index().sort_values(by=\"count\",ascending=False)"
      ],
      "execution_count": null,
      "outputs": []
    },
    {
      "cell_type": "code",
      "metadata": {
        "id": "me_3WZL6ikbF",
        "outputId": "ddad5075-406f-4779-957c-b9b246de2b2c"
      },
      "source": [
        "df_zip.loc[df_zip[\"count\"].idxmax()]"
      ],
      "execution_count": null,
      "outputs": [
        {
          "output_type": "execute_result",
          "data": {
            "text/plain": [
              "zipcode    10314.0\n",
              "count        973.0\n",
              "Name: 57, dtype: float64"
            ]
          },
          "metadata": {
            "tags": []
          },
          "execution_count": 34
        }
      ]
    },
    {
      "cell_type": "code",
      "metadata": {
        "id": "-jbeuoWBikbF",
        "outputId": "cd339cf8-0398-4fe4-bcfd-6628e9954cbb"
      },
      "source": [
        "df_zip.loc[df_zip[\"count\"].idxmin()]"
      ],
      "execution_count": null,
      "outputs": [
        {
          "output_type": "execute_result",
          "data": {
            "text/plain": [
              "zipcode    10069.0\n",
              "count          1.0\n",
              "Name: 39, dtype: float64"
            ]
          },
          "metadata": {
            "tags": []
          },
          "execution_count": 19
        }
      ]
    },
    {
      "cell_type": "code",
      "metadata": {
        "id": "CrwhBloXikbF"
      },
      "source": [
        "# alternately:\n",
        "df_zipped=df.zipcode.value_counts().reset_index().rename(columns={\"index\":\"zipcode\", \"zipcode\":\"count\"})"
      ],
      "execution_count": null,
      "outputs": []
    },
    {
      "cell_type": "code",
      "metadata": {
        "id": "fN-x_q4hikbG",
        "outputId": "badb62f1-73fd-4eea-90bc-b3f52c1494b9"
      },
      "source": [
        "df_zip.head(20).plot(x='zipcode', y='count', kind=\"bar\")\n",
        "plt.show()"
      ],
      "execution_count": null,
      "outputs": [
        {
          "output_type": "display_data",
          "data": {
            "image/png": "[encoded data removed]",
            "text/plain": [
              "<Figure size 432x288 with 1 Axes>"
            ]
          },
          "metadata": {
            "tags": [],
            "needs_background": "light"
          }
        }
      ]
    },
    {
      "cell_type": "code",
      "metadata": {
        "id": "52tvzxR9ikbI",
        "outputId": "79f92670-63fc-4f7a-a854-898933371860"
      },
      "source": [
        "df_zip.tail(20).plot(x='zipcode', y='count', kind=\"bar\")\n",
        "plt.show()"
      ],
      "execution_count": null,
      "outputs": [
        {
          "output_type": "display_data",
          "data": {
            "image/png": "[encoded data removed]",
            "text/plain": [
              "<Figure size 432x288 with 1 Axes>"
            ]
          },
          "metadata": {
            "tags": [],
            "needs_background": "light"
          }
        }
      ]
    },
    {
      "cell_type": "markdown",
      "metadata": {
        "id": "0jMeJilpikbJ"
      },
      "source": [
        "**Where are the buildings located? (hint: try a scatter plot of xcoord and ycoord)**"
      ]
    },
    {
      "cell_type": "code",
      "metadata": {
        "id": "eU3mvDuGikbK",
        "outputId": "32af2d08-4569-47af-a189-77716050b8cb"
      },
      "source": [
        "df.plot(kind=\"scatter\", x=\"xcoord\", y=\"ycoord\")\n",
        "plt.show()"
      ],
      "execution_count": null,
      "outputs": [
        {
          "output_type": "display_data",
          "data": {
            "image/png": "[encoded data removed]",
            "text/plain": [
              "<Figure size 432x288 with 1 Axes>"
            ]
          },
          "metadata": {
            "tags": [],
            "needs_background": "light"
          }
        }
      ]
    },
    {
      "cell_type": "markdown",
      "metadata": {
        "id": "ge5KVb7iikbK"
      },
      "source": [
        "#### BONUS ADVANCED QUESTION!\n",
        "Impute missing values for year_built using a custom strategy:\n",
        "* Replace all NaNs with the mean year_built for buildings of the same `landuse`.\n",
        "* More advanced version: replace all NaNs with mean `year_built` for buildings of the same `landuse` in the same borough. (eg. multi-family buildings in Brooklyn)"
      ]
    },
    {
      "cell_type": "code",
      "metadata": {
        "id": "Z637ve-_ikbK",
        "outputId": "eabb7cf7-b7fb-4cfa-c351-eba4b74ba55c"
      },
      "source": [
        "df.isnull().sum()"
      ],
      "execution_count": null,
      "outputs": [
        {
          "output_type": "execute_result",
          "data": {
            "text/plain": [
              "borough         0\n",
              "numfloors      30\n",
              "yearbuilt      20\n",
              "landuse       134\n",
              "zipcode      1050\n",
              "assesstot      20\n",
              "xcoord         52\n",
              "ycoord         52\n",
              "dtype: int64"
            ]
          },
          "metadata": {
            "tags": []
          },
          "execution_count": 303
        }
      ]
    }
  ]
}