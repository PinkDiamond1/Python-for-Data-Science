{
 "cells": [
  {
   "cell_type": "code",
   "execution_count": 1,
   "metadata": {},
   "outputs": [],
   "source": [
    "import numpy as np\n",
    "import pandas as pd"
   ]
  },
  {
   "cell_type": "code",
   "execution_count": 3,
   "metadata": {},
   "outputs": [],
   "source": [
    "path = r'https://raw.githubusercontent.com/worldbank/Python-for-Data-Science/master/June_2021_ETEC/day_2/data/data_edu.csv'"
   ]
  },
  {
   "cell_type": "code",
   "execution_count": 4,
   "metadata": {},
   "outputs": [],
   "source": [
    "# Read data from csv file into df\n",
    "\n",
    "df = pd.read_csv(path, encoding = 'utf_8')"
   ]
  },
  {
   "cell_type": "code",
   "execution_count": 11,
   "metadata": {},
   "outputs": [
    {
     "data": {
      "text/html": [
       "<div>\n",
       "<style scoped>\n",
       "    .dataframe tbody tr th:only-of-type {\n",
       "        vertical-align: middle;\n",
       "    }\n",
       "\n",
       "    .dataframe tbody tr th {\n",
       "        vertical-align: top;\n",
       "    }\n",
       "\n",
       "    .dataframe thead th {\n",
       "        text-align: right;\n",
       "    }\n",
       "</style>\n",
       "<table border=\"1\" class=\"dataframe\">\n",
       "  <thead>\n",
       "    <tr style=\"text-align: right;\">\n",
       "      <th></th>\n",
       "      <th>country_id</th>\n",
       "      <th>country</th>\n",
       "      <th>country_school_id</th>\n",
       "      <th>country_student_id</th>\n",
       "      <th>student_gender</th>\n",
       "      <th>computer_at_home</th>\n",
       "      <th>internet_at_home</th>\n",
       "      <th>immigration_status</th>\n",
       "      <th>early_education</th>\n",
       "      <th>repeated_grades</th>\n",
       "      <th>school_location</th>\n",
       "      <th>school_type</th>\n",
       "      <th>school_size</th>\n",
       "      <th>class_size</th>\n",
       "      <th>socioeconomic_index</th>\n",
       "      <th>math_score</th>\n",
       "      <th>reading_score</th>\n",
       "      <th>parent_education</th>\n",
       "    </tr>\n",
       "  </thead>\n",
       "  <tbody>\n",
       "    <tr>\n",
       "      <th>0</th>\n",
       "      <td>Argentina</td>\n",
       "      <td>Argentina</td>\n",
       "      <td>3200001</td>\n",
       "      <td>3213049</td>\n",
       "      <td>Female</td>\n",
       "      <td>No</td>\n",
       "      <td>Yes</td>\n",
       "      <td>First-Generation</td>\n",
       "      <td>Attended ECEC for at least two but less than t...</td>\n",
       "      <td>Repeated a  grade</td>\n",
       "      <td>A city (100 000 to about 1 000 000 people)</td>\n",
       "      <td>Public</td>\n",
       "      <td>570</td>\n",
       "      <td>31-35 students</td>\n",
       "      <td>-1.3730</td>\n",
       "      <td>314.25031</td>\n",
       "      <td>424.07239</td>\n",
       "      <td>Post secondary, non-tertiary</td>\n",
       "    </tr>\n",
       "    <tr>\n",
       "      <th>1</th>\n",
       "      <td>Argentina</td>\n",
       "      <td>Argentina</td>\n",
       "      <td>3200001</td>\n",
       "      <td>3203374</td>\n",
       "      <td>Female</td>\n",
       "      <td>Yes</td>\n",
       "      <td>Yes</td>\n",
       "      <td>Native</td>\n",
       "      <td>Attended ECEC for at least two but less than t...</td>\n",
       "      <td>Did not repeat a  grade</td>\n",
       "      <td>A city (100 000 to about 1 000 000 people)</td>\n",
       "      <td>Public</td>\n",
       "      <td>570</td>\n",
       "      <td>31-35 students</td>\n",
       "      <td>-1.1825</td>\n",
       "      <td>356.07629</td>\n",
       "      <td>380.26309</td>\n",
       "      <td>Post secondary, non-tertiary</td>\n",
       "    </tr>\n",
       "  </tbody>\n",
       "</table>\n",
       "</div>"
      ],
      "text/plain": [
       "  country_id    country  country_school_id  country_student_id student_gender  \\\n",
       "0  Argentina  Argentina            3200001             3213049         Female   \n",
       "1  Argentina  Argentina            3200001             3203374         Female   \n",
       "\n",
       "  computer_at_home internet_at_home immigration_status  \\\n",
       "0               No              Yes   First-Generation   \n",
       "1              Yes              Yes             Native   \n",
       "\n",
       "                                     early_education          repeated_grades  \\\n",
       "0  Attended ECEC for at least two but less than t...        Repeated a  grade   \n",
       "1  Attended ECEC for at least two but less than t...  Did not repeat a  grade   \n",
       "\n",
       "                              school_location school_type school_size  \\\n",
       "0  A city (100 000 to about 1 000 000 people)      Public         570   \n",
       "1  A city (100 000 to about 1 000 000 people)      Public         570   \n",
       "\n",
       "       class_size  socioeconomic_index  math_score  reading_score  \\\n",
       "0  31-35 students              -1.3730   314.25031      424.07239   \n",
       "1  31-35 students              -1.1825   356.07629      380.26309   \n",
       "\n",
       "               parent_education  \n",
       "0  Post secondary, non-tertiary  \n",
       "1  Post secondary, non-tertiary  "
      ]
     },
     "execution_count": 11,
     "metadata": {},
     "output_type": "execute_result"
    }
   ],
   "source": [
    "# Inspect the first two rows\n",
    "\n",
    "df.head(2)"
   ]
  },
  {
   "cell_type": "code",
   "execution_count": 13,
   "metadata": {},
   "outputs": [
    {
     "data": {
      "text/plain": [
       "(50397, 18)"
      ]
     },
     "execution_count": 13,
     "metadata": {},
     "output_type": "execute_result"
    }
   ],
   "source": [
    "# Check dataframe shape\n",
    "\n",
    "df.shape"
   ]
  },
  {
   "cell_type": "code",
   "execution_count": 49,
   "metadata": {},
   "outputs": [
    {
     "name": "stdout",
     "output_type": "stream",
     "text": [
      "<class 'pandas.core.frame.DataFrame'>\n",
      "RangeIndex: 50397 entries, 0 to 50396\n",
      "Data columns (total 18 columns):\n",
      " #   Column               Non-Null Count  Dtype  \n",
      "---  ------               --------------  -----  \n",
      " 0   country_id           50397 non-null  object \n",
      " 1   country              50397 non-null  object \n",
      " 2   country_school_id    50397 non-null  int64  \n",
      " 3   country_student_id   50397 non-null  int64  \n",
      " 4   student_gender       50397 non-null  object \n",
      " 5   computer_at_home     49965 non-null  object \n",
      " 6   internet_at_home     49965 non-null  object \n",
      " 7   immigration_status   50397 non-null  object \n",
      " 8   early_education      50397 non-null  object \n",
      " 9   repeated_grades      50397 non-null  object \n",
      " 10  school_location      49511 non-null  object \n",
      " 11  school_type          50397 non-null  object \n",
      " 12  school_size          50397 non-null  object \n",
      " 13  class_size           49395 non-null  object \n",
      " 14  socioeconomic_index  49564 non-null  float64\n",
      " 15  math_score           50397 non-null  float64\n",
      " 16  reading_score        50397 non-null  float64\n",
      " 17  parent_education     50397 non-null  object \n",
      "dtypes: float64(3), int64(2), object(13)\n",
      "memory usage: 6.9+ MB\n"
     ]
    }
   ],
   "source": [
    "# Get basic info on columns, missing values, and types: \n",
    "\n",
    "df.info()"
   ]
  },
  {
   "cell_type": "code",
   "execution_count": 33,
   "metadata": {},
   "outputs": [
    {
     "name": "stdout",
     "output_type": "stream",
     "text": [
      "Column country_id has 8 unique values\n",
      "Column country has 8 unique values\n",
      "Column country_school_id has 1785 unique values\n",
      "Column country_student_id has 50397 unique values\n",
      "Column student_gender has 2 unique values\n",
      "Column computer_at_home has 4 unique values\n",
      "Column internet_at_home has 4 unique values\n",
      "Column immigration_status has 5 unique values\n",
      "Column early_education has 10 unique values\n",
      "Column repeated_grades has 3 unique values\n",
      "Column school_location has 7 unique values\n",
      "Column school_type has 5 unique values\n",
      "Column school_size has 863 unique values\n",
      "Column class_size has 11 unique values\n",
      "Column socioeconomic_index has 27933 unique values\n",
      "Column math_score has 50037 unique values\n",
      "Column reading_score has 50082 unique values\n",
      "Column parent_education has 7 unique values\n"
     ]
    }
   ],
   "source": [
    "for column in df.columns:\n",
    "    print(\"Column\", column, \"has\", df[column].nunique(), \"unique values\")"
   ]
  },
  {
   "cell_type": "code",
   "execution_count": 34,
   "metadata": {},
   "outputs": [
    {
     "data": {
      "text/plain": [
       "array(['Argentina', 'Finland', 'Japan', 'Netherlands', 'New Zealand',\n",
       "       'Norway', 'Romania', 'United States'], dtype=object)"
      ]
     },
     "execution_count": 34,
     "metadata": {},
     "output_type": "execute_result"
    }
   ],
   "source": [
    "df.country.unique()"
   ]
  },
  {
   "cell_type": "code",
   "execution_count": 35,
   "metadata": {},
   "outputs": [
    {
     "data": {
      "text/plain": [
       "array(['Public', 'Private Government-dependent', 'Private Independent',\n",
       "       'No Response', 'Invalid'], dtype=object)"
      ]
     },
     "execution_count": 35,
     "metadata": {},
     "output_type": "execute_result"
    }
   ],
   "source": [
    "df.school_type.unique()"
   ]
  },
  {
   "cell_type": "code",
   "execution_count": 39,
   "metadata": {},
   "outputs": [
    {
     "data": {
      "text/plain": [
       "array(['Post secondary, non-tertiary', 'Lower secondary',\n",
       "       'Post secondary, tertiary', 'Primary', 'Non response', 'None',\n",
       "       'Upper secondary'], dtype=object)"
      ]
     },
     "execution_count": 39,
     "metadata": {},
     "output_type": "execute_result"
    }
   ],
   "source": [
    "df.parent_education.unique()\n",
    "# Example: Change Non response to None"
   ]
  },
  {
   "cell_type": "code",
   "execution_count": 50,
   "metadata": {},
   "outputs": [
    {
     "data": {
      "text/plain": [
       "469.53370103240275"
      ]
     },
     "execution_count": 50,
     "metadata": {},
     "output_type": "execute_result"
    }
   ],
   "source": [
    "# Summarize select columns\n",
    "df.math_score.mean()"
   ]
  },
  {
   "cell_type": "code",
   "execution_count": 52,
   "metadata": {},
   "outputs": [
    {
     "data": {
      "text/plain": [
       "470.62780999999995"
      ]
     },
     "execution_count": 52,
     "metadata": {},
     "output_type": "execute_result"
    }
   ],
   "source": [
    "df.math_score.median()"
   ]
  },
  {
   "cell_type": "code",
   "execution_count": 40,
   "metadata": {},
   "outputs": [
    {
     "data": {
      "text/plain": [
       "Did not repeat a  grade    32399\n",
       "No Response                13513\n",
       "Repeated a  grade           4485\n",
       "Name: repeated_grades, dtype: int64"
      ]
     },
     "execution_count": 40,
     "metadata": {},
     "output_type": "execute_result"
    }
   ],
   "source": [
    "df.repeated_grades.value_counts()"
   ]
  },
  {
   "cell_type": "code",
   "execution_count": 44,
   "metadata": {},
   "outputs": [
    {
     "data": {
      "text/html": [
       "<div>\n",
       "<style scoped>\n",
       "    .dataframe tbody tr th:only-of-type {\n",
       "        vertical-align: middle;\n",
       "    }\n",
       "\n",
       "    .dataframe tbody tr th {\n",
       "        vertical-align: top;\n",
       "    }\n",
       "\n",
       "    .dataframe thead th {\n",
       "        text-align: right;\n",
       "    }\n",
       "</style>\n",
       "<table border=\"1\" class=\"dataframe\">\n",
       "  <thead>\n",
       "    <tr style=\"text-align: right;\">\n",
       "      <th></th>\n",
       "      <th>country_id</th>\n",
       "      <th>country</th>\n",
       "      <th>country_school_id</th>\n",
       "      <th>country_student_id</th>\n",
       "      <th>student_gender</th>\n",
       "      <th>computer_at_home</th>\n",
       "      <th>internet_at_home</th>\n",
       "      <th>immigration_status</th>\n",
       "      <th>early_education</th>\n",
       "      <th>repeated_grades</th>\n",
       "      <th>school_location</th>\n",
       "      <th>school_type</th>\n",
       "      <th>school_size</th>\n",
       "      <th>class_size</th>\n",
       "      <th>socioeconomic_index</th>\n",
       "      <th>math_score</th>\n",
       "      <th>reading_score</th>\n",
       "      <th>parent_education</th>\n",
       "    </tr>\n",
       "  </thead>\n",
       "  <tbody>\n",
       "    <tr>\n",
       "      <th>39</th>\n",
       "      <td>Argentina</td>\n",
       "      <td>Argentina</td>\n",
       "      <td>3200002</td>\n",
       "      <td>3207854</td>\n",
       "      <td>Female</td>\n",
       "      <td>Yes</td>\n",
       "      <td>Yes</td>\n",
       "      <td>Native</td>\n",
       "      <td>Attended ECEC for at least two but less than t...</td>\n",
       "      <td>Did not repeat a  grade</td>\n",
       "      <td>A town (15 000 to about 100 000 people)</td>\n",
       "      <td>Public</td>\n",
       "      <td>622</td>\n",
       "      <td>More than 50 students</td>\n",
       "      <td>-0.0073</td>\n",
       "      <td>520.42340</td>\n",
       "      <td>566.09961</td>\n",
       "      <td>Post secondary, tertiary</td>\n",
       "    </tr>\n",
       "    <tr>\n",
       "      <th>67</th>\n",
       "      <td>Argentina</td>\n",
       "      <td>Argentina</td>\n",
       "      <td>3200005</td>\n",
       "      <td>3204505</td>\n",
       "      <td>Male</td>\n",
       "      <td>No</td>\n",
       "      <td>Yes</td>\n",
       "      <td>Native</td>\n",
       "      <td>Attended ECEC for at least four but less than ...</td>\n",
       "      <td>Did not repeat a  grade</td>\n",
       "      <td>A town (15 000 to about 100 000 people)</td>\n",
       "      <td>Private Government-dependent</td>\n",
       "      <td>322</td>\n",
       "      <td>26-30 students</td>\n",
       "      <td>-2.3732</td>\n",
       "      <td>533.31439</td>\n",
       "      <td>548.63977</td>\n",
       "      <td>Primary</td>\n",
       "    </tr>\n",
       "    <tr>\n",
       "      <th>70</th>\n",
       "      <td>Argentina</td>\n",
       "      <td>Argentina</td>\n",
       "      <td>3200005</td>\n",
       "      <td>3213334</td>\n",
       "      <td>Male</td>\n",
       "      <td>Yes</td>\n",
       "      <td>Yes</td>\n",
       "      <td>Native</td>\n",
       "      <td>No Response</td>\n",
       "      <td>Did not repeat a  grade</td>\n",
       "      <td>A town (15 000 to about 100 000 people)</td>\n",
       "      <td>Private Government-dependent</td>\n",
       "      <td>322</td>\n",
       "      <td>26-30 students</td>\n",
       "      <td>-0.5083</td>\n",
       "      <td>509.13971</td>\n",
       "      <td>527.64392</td>\n",
       "      <td>Post secondary, tertiary</td>\n",
       "    </tr>\n",
       "    <tr>\n",
       "      <th>85</th>\n",
       "      <td>Argentina</td>\n",
       "      <td>Argentina</td>\n",
       "      <td>3200005</td>\n",
       "      <td>3213245</td>\n",
       "      <td>Male</td>\n",
       "      <td>Yes</td>\n",
       "      <td>Yes</td>\n",
       "      <td>Native</td>\n",
       "      <td>Attended ECEC for at least two but less than t...</td>\n",
       "      <td>Did not repeat a  grade</td>\n",
       "      <td>A town (15 000 to about 100 000 people)</td>\n",
       "      <td>Private Government-dependent</td>\n",
       "      <td>322</td>\n",
       "      <td>26-30 students</td>\n",
       "      <td>-1.6981</td>\n",
       "      <td>529.44513</td>\n",
       "      <td>546.46552</td>\n",
       "      <td>Lower secondary</td>\n",
       "    </tr>\n",
       "    <tr>\n",
       "      <th>100</th>\n",
       "      <td>Argentina</td>\n",
       "      <td>Argentina</td>\n",
       "      <td>3200006</td>\n",
       "      <td>3207962</td>\n",
       "      <td>Male</td>\n",
       "      <td>Yes</td>\n",
       "      <td>Yes</td>\n",
       "      <td>No Response</td>\n",
       "      <td>Attended ECEC for at least three but less than...</td>\n",
       "      <td>Did not repeat a  grade</td>\n",
       "      <td>A city (100 000 to about 1 000 000 people)</td>\n",
       "      <td>Private Independent</td>\n",
       "      <td>350</td>\n",
       "      <td>41-45 students</td>\n",
       "      <td>2.3436</td>\n",
       "      <td>560.47290</td>\n",
       "      <td>557.24469</td>\n",
       "      <td>Post secondary, tertiary</td>\n",
       "    </tr>\n",
       "  </tbody>\n",
       "</table>\n",
       "</div>"
      ],
      "text/plain": [
       "    country_id    country  country_school_id  country_student_id  \\\n",
       "39   Argentina  Argentina            3200002             3207854   \n",
       "67   Argentina  Argentina            3200005             3204505   \n",
       "70   Argentina  Argentina            3200005             3213334   \n",
       "85   Argentina  Argentina            3200005             3213245   \n",
       "100  Argentina  Argentina            3200006             3207962   \n",
       "\n",
       "    student_gender computer_at_home internet_at_home immigration_status  \\\n",
       "39          Female              Yes              Yes             Native   \n",
       "67            Male               No              Yes             Native   \n",
       "70            Male              Yes              Yes             Native   \n",
       "85            Male              Yes              Yes             Native   \n",
       "100           Male              Yes              Yes        No Response   \n",
       "\n",
       "                                       early_education  \\\n",
       "39   Attended ECEC for at least two but less than t...   \n",
       "67   Attended ECEC for at least four but less than ...   \n",
       "70                                         No Response   \n",
       "85   Attended ECEC for at least two but less than t...   \n",
       "100  Attended ECEC for at least three but less than...   \n",
       "\n",
       "             repeated_grades                             school_location  \\\n",
       "39   Did not repeat a  grade     A town (15 000 to about 100 000 people)   \n",
       "67   Did not repeat a  grade     A town (15 000 to about 100 000 people)   \n",
       "70   Did not repeat a  grade     A town (15 000 to about 100 000 people)   \n",
       "85   Did not repeat a  grade     A town (15 000 to about 100 000 people)   \n",
       "100  Did not repeat a  grade  A city (100 000 to about 1 000 000 people)   \n",
       "\n",
       "                      school_type school_size             class_size  \\\n",
       "39                         Public         622  More than 50 students   \n",
       "67   Private Government-dependent         322         26-30 students   \n",
       "70   Private Government-dependent         322         26-30 students   \n",
       "85   Private Government-dependent         322         26-30 students   \n",
       "100           Private Independent         350         41-45 students   \n",
       "\n",
       "     socioeconomic_index  math_score  reading_score          parent_education  \n",
       "39               -0.0073   520.42340      566.09961  Post secondary, tertiary  \n",
       "67               -2.3732   533.31439      548.63977                   Primary  \n",
       "70               -0.5083   509.13971      527.64392  Post secondary, tertiary  \n",
       "85               -1.6981   529.44513      546.46552           Lower secondary  \n",
       "100               2.3436   560.47290      557.24469  Post secondary, tertiary  "
      ]
     },
     "execution_count": 44,
     "metadata": {},
     "output_type": "execute_result"
    }
   ],
   "source": [
    "# Select values where a conditional statement is True\n",
    "df[df.math_score>500][:5]"
   ]
  },
  {
   "cell_type": "code",
   "execution_count": 56,
   "metadata": {},
   "outputs": [
    {
     "data": {
      "text/plain": [
       "<AxesSubplot:ylabel='Frequency'>"
      ]
     },
     "execution_count": 56,
     "metadata": {},
     "output_type": "execute_result"
    },
    {
     "data": {
      "image/png": "[encoded data removed]",
      "text/plain": [
       "<Figure size 432x288 with 1 Axes>"
      ]
     },
     "metadata": {
      "needs_background": "light"
     },
     "output_type": "display_data"
    }
   ],
   "source": [
    "# Call matplotlib from pandas\n",
    "\n",
    "# Check how math scores are distributed\n",
    "\n",
    "df.math_score.plot(kind=\"hist\")"
   ]
  },
  {
   "cell_type": "code",
   "execution_count": 57,
   "metadata": {},
   "outputs": [
    {
     "data": {
      "text/plain": [
       "<AxesSubplot:>"
      ]
     },
     "execution_count": 57,
     "metadata": {},
     "output_type": "execute_result"
    },
    {
     "data": {
      "image/png": "[encoded data removed]",
      "text/plain": [
       "<Figure size 432x288 with 1 Axes>"
      ]
     },
     "metadata": {
      "needs_background": "light"
     },
     "output_type": "display_data"
    }
   ],
   "source": [
    "# Bar graph for levels of parent education\n",
    "\n",
    "df.parent_education.value_counts().plot(kind = 'bar')"
   ]
  },
  {
   "cell_type": "code",
   "execution_count": 53,
   "metadata": {},
   "outputs": [],
   "source": [
    "# Create new dataframe based on condition\n",
    "df_japan = df[df.country==\"Japan\"]"
   ]
  },
  {
   "cell_type": "code",
   "execution_count": 54,
   "metadata": {},
   "outputs": [
    {
     "data": {
      "text/plain": [
       "(6109, 18)"
      ]
     },
     "execution_count": 54,
     "metadata": {},
     "output_type": "execute_result"
    }
   ],
   "source": [
    "df_japan.shape"
   ]
  },
  {
   "cell_type": "code",
   "execution_count": 59,
   "metadata": {},
   "outputs": [
    {
     "data": {
      "text/plain": [
       "<AxesSubplot:ylabel='school_type'>"
      ]
     },
     "execution_count": 59,
     "metadata": {},
     "output_type": "execute_result"
    },
    {
     "data": {
      "image/png": "[encoded data removed]",
      "text/plain": [
       "<Figure size 432x288 with 1 Axes>"
      ]
     },
     "metadata": {},
     "output_type": "display_data"
    }
   ],
   "source": [
    "df_japan.school_type.value_counts().plot(kind = 'pie')"
   ]
  },
  {
   "cell_type": "code",
   "execution_count": null,
   "metadata": {},
   "outputs": [],
   "source": []
  }
 ],
 "metadata": {
  "kernelspec": {
   "display_name": "flaring",
   "language": "python",
   "name": "flaring"
  },
  "language_info": {
   "codemirror_mode": {
    "name": "ipython",
    "version": 3
   },
   "file_extension": ".py",
   "mimetype": "text/x-python",
   "name": "python",
   "nbconvert_exporter": "python",
   "pygments_lexer": "ipython3",
   "version": "3.8.6"
  }
 },
 "nbformat": 4,
 "nbformat_minor": 2
}
