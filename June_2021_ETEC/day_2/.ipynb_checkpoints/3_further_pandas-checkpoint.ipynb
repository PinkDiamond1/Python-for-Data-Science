{
 "cells": [
  {
   "cell_type": "markdown",
   "metadata": {},
   "source": [
    "## Further Pandas: Data Wrangling and Visualization\n",
    "Data Munging or Data Wrangling: i.e. cleaning and manipulating datasets so they are fit for analysis"
   ]
  },
  {
   "cell_type": "code",
   "execution_count": 1,
   "metadata": {},
   "outputs": [],
   "source": [
    "import numpy as np\n",
    "import pandas as pd\n",
    "import matplotlib.pyplot as plt\n",
    "%matplotlib inline\n",
    "import seaborn as sns"
   ]
  },
  {
   "cell_type": "code",
   "execution_count": 2,
   "metadata": {},
   "outputs": [],
   "source": [
    "# Set path to toy education outcomes dataset\n",
    "\n",
    "path = r'https://raw.githubusercontent.com/worldbank/Python-for-Data-Science/master/June_2021_ETEC/day_2/data/data_edu.csv'"
   ]
  },
  {
   "cell_type": "code",
   "execution_count": 3,
   "metadata": {},
   "outputs": [],
   "source": [
    "# Read data from csv file into dataframe\n",
    "\n",
    "df = pd.read_csv(path, encoding = 'utf_8')"
   ]
  },
  {
   "cell_type": "code",
   "execution_count": 4,
   "metadata": {},
   "outputs": [
    {
     "data": {
      "text/html": [
       "<div>\n",
       "<style scoped>\n",
       "    .dataframe tbody tr th:only-of-type {\n",
       "        vertical-align: middle;\n",
       "    }\n",
       "\n",
       "    .dataframe tbody tr th {\n",
       "        vertical-align: top;\n",
       "    }\n",
       "\n",
       "    .dataframe thead th {\n",
       "        text-align: right;\n",
       "    }\n",
       "</style>\n",
       "<table border=\"1\" class=\"dataframe\">\n",
       "  <thead>\n",
       "    <tr style=\"text-align: right;\">\n",
       "      <th></th>\n",
       "      <th>country_id</th>\n",
       "      <th>country</th>\n",
       "      <th>country_school_id</th>\n",
       "      <th>country_student_id</th>\n",
       "      <th>student_gender</th>\n",
       "      <th>computer_at_home</th>\n",
       "      <th>internet_at_home</th>\n",
       "      <th>immigration_status</th>\n",
       "      <th>early_education</th>\n",
       "      <th>repeated_grades</th>\n",
       "      <th>school_location</th>\n",
       "      <th>school_type</th>\n",
       "      <th>school_size</th>\n",
       "      <th>class_size</th>\n",
       "      <th>socioeconomic_index</th>\n",
       "      <th>math_score</th>\n",
       "      <th>reading_score</th>\n",
       "      <th>parent_education</th>\n",
       "    </tr>\n",
       "  </thead>\n",
       "  <tbody>\n",
       "    <tr>\n",
       "      <th>0</th>\n",
       "      <td>Argentina</td>\n",
       "      <td>Argentina</td>\n",
       "      <td>3200001</td>\n",
       "      <td>3213049</td>\n",
       "      <td>Female</td>\n",
       "      <td>No</td>\n",
       "      <td>Yes</td>\n",
       "      <td>First-Generation</td>\n",
       "      <td>Attended ECEC for at least two but less than t...</td>\n",
       "      <td>Repeated a  grade</td>\n",
       "      <td>A city (100 000 to about 1 000 000 people)</td>\n",
       "      <td>Public</td>\n",
       "      <td>570</td>\n",
       "      <td>31-35 students</td>\n",
       "      <td>-1.3730</td>\n",
       "      <td>314.25031</td>\n",
       "      <td>424.07239</td>\n",
       "      <td>Post secondary, non-tertiary</td>\n",
       "    </tr>\n",
       "    <tr>\n",
       "      <th>1</th>\n",
       "      <td>Argentina</td>\n",
       "      <td>Argentina</td>\n",
       "      <td>3200001</td>\n",
       "      <td>3203374</td>\n",
       "      <td>Female</td>\n",
       "      <td>Yes</td>\n",
       "      <td>Yes</td>\n",
       "      <td>Native</td>\n",
       "      <td>Attended ECEC for at least two but less than t...</td>\n",
       "      <td>Did not repeat a  grade</td>\n",
       "      <td>A city (100 000 to about 1 000 000 people)</td>\n",
       "      <td>Public</td>\n",
       "      <td>570</td>\n",
       "      <td>31-35 students</td>\n",
       "      <td>-1.1825</td>\n",
       "      <td>356.07629</td>\n",
       "      <td>380.26309</td>\n",
       "      <td>Post secondary, non-tertiary</td>\n",
       "    </tr>\n",
       "  </tbody>\n",
       "</table>\n",
       "</div>"
      ],
      "text/plain": [
       "  country_id    country  country_school_id  country_student_id student_gender  \\\n",
       "0  Argentina  Argentina            3200001             3213049         Female   \n",
       "1  Argentina  Argentina            3200001             3203374         Female   \n",
       "\n",
       "  computer_at_home internet_at_home immigration_status  \\\n",
       "0               No              Yes   First-Generation   \n",
       "1              Yes              Yes             Native   \n",
       "\n",
       "                                     early_education          repeated_grades  \\\n",
       "0  Attended ECEC for at least two but less than t...        Repeated a  grade   \n",
       "1  Attended ECEC for at least two but less than t...  Did not repeat a  grade   \n",
       "\n",
       "                              school_location school_type school_size  \\\n",
       "0  A city (100 000 to about 1 000 000 people)      Public         570   \n",
       "1  A city (100 000 to about 1 000 000 people)      Public         570   \n",
       "\n",
       "       class_size  socioeconomic_index  math_score  reading_score  \\\n",
       "0  31-35 students              -1.3730   314.25031      424.07239   \n",
       "1  31-35 students              -1.1825   356.07629      380.26309   \n",
       "\n",
       "               parent_education  \n",
       "0  Post secondary, non-tertiary  \n",
       "1  Post secondary, non-tertiary  "
      ]
     },
     "execution_count": 4,
     "metadata": {},
     "output_type": "execute_result"
    }
   ],
   "source": [
    "# Examine first two observations\n",
    "\n",
    "df.head(2)"
   ]
  },
  {
   "cell_type": "code",
   "execution_count": 5,
   "metadata": {},
   "outputs": [
    {
     "data": {
      "text/plain": [
       "Index(['country_id', 'country', 'country_school_id', 'country_student_id',\n",
       "       'student_gender', 'computer_at_home', 'internet_at_home',\n",
       "       'immigration_status', 'early_education', 'repeated_grades',\n",
       "       'school_location', 'school_type', 'school_size', 'class_size',\n",
       "       'socioeconomic_index', 'math_score', 'reading_score',\n",
       "       'parent_education'],\n",
       "      dtype='object')"
      ]
     },
     "execution_count": 5,
     "metadata": {},
     "output_type": "execute_result"
    }
   ],
   "source": [
    "# Examine dataframe columns\n",
    "\n",
    "df.columns"
   ]
  },
  {
   "cell_type": "markdown",
   "metadata": {},
   "source": [
    "#### 1. Rename columns "
   ]
  },
  {
   "cell_type": "code",
   "execution_count": 6,
   "metadata": {},
   "outputs": [],
   "source": [
    "new_column_names = {\"country_school_id\" : \"school_id\",\n",
    "                   \"country_student_id\" : \"student_id\"}\n",
    "\n",
    "df = df.rename(columns=new_column_names)"
   ]
  },
  {
   "cell_type": "code",
   "execution_count": 7,
   "metadata": {},
   "outputs": [
    {
     "data": {
      "text/plain": [
       "Index(['country_id', 'country', 'school_id', 'student_id', 'student_gender',\n",
       "       'computer_at_home', 'internet_at_home', 'immigration_status',\n",
       "       'early_education', 'repeated_grades', 'school_location', 'school_type',\n",
       "       'school_size', 'class_size', 'socioeconomic_index', 'math_score',\n",
       "       'reading_score', 'parent_education'],\n",
       "      dtype='object')"
      ]
     },
     "execution_count": 7,
     "metadata": {},
     "output_type": "execute_result"
    }
   ],
   "source": [
    "# Lets's check the column names again. Notice that we have successfully renamed the two columns above:\n",
    "\n",
    "df.columns"
   ]
  },
  {
   "cell_type": "markdown",
   "metadata": {},
   "source": [
    "#### 2. Drop columns"
   ]
  },
  {
   "cell_type": "code",
   "execution_count": 8,
   "metadata": {},
   "outputs": [],
   "source": [
    "# The country_id column seems redundant, so let's drop it:\n",
    "\n",
    "df.drop(columns=[\"country_id\"], inplace=True)"
   ]
  },
  {
   "cell_type": "code",
   "execution_count": 9,
   "metadata": {},
   "outputs": [
    {
     "data": {
      "text/plain": [
       "Index(['country', 'school_id', 'student_id', 'student_gender',\n",
       "       'computer_at_home', 'internet_at_home', 'immigration_status',\n",
       "       'early_education', 'repeated_grades', 'school_location', 'school_type',\n",
       "       'school_size', 'class_size', 'socioeconomic_index', 'math_score',\n",
       "       'reading_score', 'parent_education'],\n",
       "      dtype='object')"
      ]
     },
     "execution_count": 9,
     "metadata": {},
     "output_type": "execute_result"
    }
   ],
   "source": [
    "df.columns"
   ]
  },
  {
   "cell_type": "code",
   "execution_count": 10,
   "metadata": {},
   "outputs": [
    {
     "data": {
      "text/html": [
       "<div>\n",
       "<style scoped>\n",
       "    .dataframe tbody tr th:only-of-type {\n",
       "        vertical-align: middle;\n",
       "    }\n",
       "\n",
       "    .dataframe tbody tr th {\n",
       "        vertical-align: top;\n",
       "    }\n",
       "\n",
       "    .dataframe thead th {\n",
       "        text-align: right;\n",
       "    }\n",
       "</style>\n",
       "<table border=\"1\" class=\"dataframe\">\n",
       "  <thead>\n",
       "    <tr style=\"text-align: right;\">\n",
       "      <th></th>\n",
       "      <th>country</th>\n",
       "      <th>math_score</th>\n",
       "      <th>reading_score</th>\n",
       "    </tr>\n",
       "  </thead>\n",
       "  <tbody>\n",
       "    <tr>\n",
       "      <th>0</th>\n",
       "      <td>Argentina</td>\n",
       "      <td>314.25031</td>\n",
       "      <td>424.07239</td>\n",
       "    </tr>\n",
       "    <tr>\n",
       "      <th>1</th>\n",
       "      <td>Argentina</td>\n",
       "      <td>356.07629</td>\n",
       "      <td>380.26309</td>\n",
       "    </tr>\n",
       "    <tr>\n",
       "      <th>2</th>\n",
       "      <td>Argentina</td>\n",
       "      <td>338.08029</td>\n",
       "      <td>384.89191</td>\n",
       "    </tr>\n",
       "    <tr>\n",
       "      <th>3</th>\n",
       "      <td>Argentina</td>\n",
       "      <td>310.38690</td>\n",
       "      <td>392.88031</td>\n",
       "    </tr>\n",
       "    <tr>\n",
       "      <th>4</th>\n",
       "      <td>Argentina</td>\n",
       "      <td>397.42441</td>\n",
       "      <td>452.03439</td>\n",
       "    </tr>\n",
       "    <tr>\n",
       "      <th>5</th>\n",
       "      <td>Argentina</td>\n",
       "      <td>324.67340</td>\n",
       "      <td>359.64890</td>\n",
       "    </tr>\n",
       "    <tr>\n",
       "      <th>6</th>\n",
       "      <td>Argentina</td>\n",
       "      <td>384.48151</td>\n",
       "      <td>374.87259</td>\n",
       "    </tr>\n",
       "    <tr>\n",
       "      <th>7</th>\n",
       "      <td>Argentina</td>\n",
       "      <td>300.24149</td>\n",
       "      <td>342.33160</td>\n",
       "    </tr>\n",
       "    <tr>\n",
       "      <th>8</th>\n",
       "      <td>Argentina</td>\n",
       "      <td>456.25510</td>\n",
       "      <td>556.59320</td>\n",
       "    </tr>\n",
       "    <tr>\n",
       "      <th>9</th>\n",
       "      <td>Argentina</td>\n",
       "      <td>474.41980</td>\n",
       "      <td>524.93378</td>\n",
       "    </tr>\n",
       "    <tr>\n",
       "      <th>10</th>\n",
       "      <td>Argentina</td>\n",
       "      <td>361.27719</td>\n",
       "      <td>466.80789</td>\n",
       "    </tr>\n",
       "    <tr>\n",
       "      <th>11</th>\n",
       "      <td>Argentina</td>\n",
       "      <td>375.54031</td>\n",
       "      <td>383.98260</td>\n",
       "    </tr>\n",
       "    <tr>\n",
       "      <th>12</th>\n",
       "      <td>Argentina</td>\n",
       "      <td>381.17831</td>\n",
       "      <td>459.86380</td>\n",
       "    </tr>\n",
       "    <tr>\n",
       "      <th>13</th>\n",
       "      <td>Argentina</td>\n",
       "      <td>321.90219</td>\n",
       "      <td>433.66010</td>\n",
       "    </tr>\n",
       "    <tr>\n",
       "      <th>14</th>\n",
       "      <td>Argentina</td>\n",
       "      <td>387.97659</td>\n",
       "      <td>375.76840</td>\n",
       "    </tr>\n",
       "    <tr>\n",
       "      <th>15</th>\n",
       "      <td>Argentina</td>\n",
       "      <td>398.37769</td>\n",
       "      <td>433.76230</td>\n",
       "    </tr>\n",
       "    <tr>\n",
       "      <th>16</th>\n",
       "      <td>Argentina</td>\n",
       "      <td>343.32959</td>\n",
       "      <td>430.89349</td>\n",
       "    </tr>\n",
       "    <tr>\n",
       "      <th>17</th>\n",
       "      <td>Argentina</td>\n",
       "      <td>272.07709</td>\n",
       "      <td>293.54770</td>\n",
       "    </tr>\n",
       "    <tr>\n",
       "      <th>18</th>\n",
       "      <td>Argentina</td>\n",
       "      <td>328.69351</td>\n",
       "      <td>435.25201</td>\n",
       "    </tr>\n",
       "    <tr>\n",
       "      <th>19</th>\n",
       "      <td>Argentina</td>\n",
       "      <td>316.94980</td>\n",
       "      <td>323.96701</td>\n",
       "    </tr>\n",
       "    <tr>\n",
       "      <th>20</th>\n",
       "      <td>Argentina</td>\n",
       "      <td>286.68521</td>\n",
       "      <td>397.80881</td>\n",
       "    </tr>\n",
       "    <tr>\n",
       "      <th>21</th>\n",
       "      <td>Argentina</td>\n",
       "      <td>310.45099</td>\n",
       "      <td>281.88840</td>\n",
       "    </tr>\n",
       "    <tr>\n",
       "      <th>22</th>\n",
       "      <td>Argentina</td>\n",
       "      <td>310.76340</td>\n",
       "      <td>423.05151</td>\n",
       "    </tr>\n",
       "    <tr>\n",
       "      <th>23</th>\n",
       "      <td>Argentina</td>\n",
       "      <td>354.19891</td>\n",
       "      <td>510.95831</td>\n",
       "    </tr>\n",
       "    <tr>\n",
       "      <th>24</th>\n",
       "      <td>Argentina</td>\n",
       "      <td>366.29730</td>\n",
       "      <td>430.07440</td>\n",
       "    </tr>\n",
       "    <tr>\n",
       "      <th>25</th>\n",
       "      <td>Argentina</td>\n",
       "      <td>406.10770</td>\n",
       "      <td>373.70679</td>\n",
       "    </tr>\n",
       "    <tr>\n",
       "      <th>26</th>\n",
       "      <td>Argentina</td>\n",
       "      <td>472.45740</td>\n",
       "      <td>514.24463</td>\n",
       "    </tr>\n",
       "    <tr>\n",
       "      <th>27</th>\n",
       "      <td>Argentina</td>\n",
       "      <td>348.24719</td>\n",
       "      <td>468.85199</td>\n",
       "    </tr>\n",
       "    <tr>\n",
       "      <th>28</th>\n",
       "      <td>Argentina</td>\n",
       "      <td>268.83560</td>\n",
       "      <td>265.88651</td>\n",
       "    </tr>\n",
       "    <tr>\n",
       "      <th>29</th>\n",
       "      <td>Argentina</td>\n",
       "      <td>465.19440</td>\n",
       "      <td>477.61139</td>\n",
       "    </tr>\n",
       "    <tr>\n",
       "      <th>...</th>\n",
       "      <td>...</td>\n",
       "      <td>...</td>\n",
       "      <td>...</td>\n",
       "    </tr>\n",
       "    <tr>\n",
       "      <th>50367</th>\n",
       "      <td>United States</td>\n",
       "      <td>438.38300</td>\n",
       "      <td>485.62509</td>\n",
       "    </tr>\n",
       "    <tr>\n",
       "      <th>50368</th>\n",
       "      <td>United States</td>\n",
       "      <td>503.46970</td>\n",
       "      <td>493.20410</td>\n",
       "    </tr>\n",
       "    <tr>\n",
       "      <th>50369</th>\n",
       "      <td>United States</td>\n",
       "      <td>509.29239</td>\n",
       "      <td>487.22141</td>\n",
       "    </tr>\n",
       "    <tr>\n",
       "      <th>50370</th>\n",
       "      <td>United States</td>\n",
       "      <td>449.79169</td>\n",
       "      <td>514.52020</td>\n",
       "    </tr>\n",
       "    <tr>\n",
       "      <th>50371</th>\n",
       "      <td>United States</td>\n",
       "      <td>584.36981</td>\n",
       "      <td>586.37329</td>\n",
       "    </tr>\n",
       "    <tr>\n",
       "      <th>50372</th>\n",
       "      <td>United States</td>\n",
       "      <td>490.55399</td>\n",
       "      <td>536.78247</td>\n",
       "    </tr>\n",
       "    <tr>\n",
       "      <th>50373</th>\n",
       "      <td>United States</td>\n",
       "      <td>341.72171</td>\n",
       "      <td>322.63019</td>\n",
       "    </tr>\n",
       "    <tr>\n",
       "      <th>50374</th>\n",
       "      <td>United States</td>\n",
       "      <td>413.24680</td>\n",
       "      <td>499.86810</td>\n",
       "    </tr>\n",
       "    <tr>\n",
       "      <th>50375</th>\n",
       "      <td>United States</td>\n",
       "      <td>352.23511</td>\n",
       "      <td>392.28909</td>\n",
       "    </tr>\n",
       "    <tr>\n",
       "      <th>50376</th>\n",
       "      <td>United States</td>\n",
       "      <td>544.58722</td>\n",
       "      <td>555.74261</td>\n",
       "    </tr>\n",
       "    <tr>\n",
       "      <th>50377</th>\n",
       "      <td>United States</td>\n",
       "      <td>471.95889</td>\n",
       "      <td>475.54471</td>\n",
       "    </tr>\n",
       "    <tr>\n",
       "      <th>50378</th>\n",
       "      <td>United States</td>\n",
       "      <td>452.39700</td>\n",
       "      <td>441.82910</td>\n",
       "    </tr>\n",
       "    <tr>\n",
       "      <th>50379</th>\n",
       "      <td>United States</td>\n",
       "      <td>550.25427</td>\n",
       "      <td>588.63550</td>\n",
       "    </tr>\n",
       "    <tr>\n",
       "      <th>50380</th>\n",
       "      <td>United States</td>\n",
       "      <td>479.91040</td>\n",
       "      <td>481.79889</td>\n",
       "    </tr>\n",
       "    <tr>\n",
       "      <th>50381</th>\n",
       "      <td>United States</td>\n",
       "      <td>481.32681</td>\n",
       "      <td>563.55090</td>\n",
       "    </tr>\n",
       "    <tr>\n",
       "      <th>50382</th>\n",
       "      <td>United States</td>\n",
       "      <td>383.32932</td>\n",
       "      <td>423.19641</td>\n",
       "    </tr>\n",
       "    <tr>\n",
       "      <th>50383</th>\n",
       "      <td>United States</td>\n",
       "      <td>345.79840</td>\n",
       "      <td>311.15619</td>\n",
       "    </tr>\n",
       "    <tr>\n",
       "      <th>50384</th>\n",
       "      <td>United States</td>\n",
       "      <td>486.22351</td>\n",
       "      <td>435.41669</td>\n",
       "    </tr>\n",
       "    <tr>\n",
       "      <th>50385</th>\n",
       "      <td>United States</td>\n",
       "      <td>501.36301</td>\n",
       "      <td>528.69958</td>\n",
       "    </tr>\n",
       "    <tr>\n",
       "      <th>50386</th>\n",
       "      <td>United States</td>\n",
       "      <td>408.19629</td>\n",
       "      <td>421.60440</td>\n",
       "    </tr>\n",
       "    <tr>\n",
       "      <th>50387</th>\n",
       "      <td>United States</td>\n",
       "      <td>561.88080</td>\n",
       "      <td>501.71301</td>\n",
       "    </tr>\n",
       "    <tr>\n",
       "      <th>50388</th>\n",
       "      <td>United States</td>\n",
       "      <td>498.42599</td>\n",
       "      <td>497.64670</td>\n",
       "    </tr>\n",
       "    <tr>\n",
       "      <th>50389</th>\n",
       "      <td>United States</td>\n",
       "      <td>474.13000</td>\n",
       "      <td>516.16772</td>\n",
       "    </tr>\n",
       "    <tr>\n",
       "      <th>50390</th>\n",
       "      <td>United States</td>\n",
       "      <td>616.82019</td>\n",
       "      <td>640.44019</td>\n",
       "    </tr>\n",
       "    <tr>\n",
       "      <th>50391</th>\n",
       "      <td>United States</td>\n",
       "      <td>480.59460</td>\n",
       "      <td>500.09161</td>\n",
       "    </tr>\n",
       "    <tr>\n",
       "      <th>50392</th>\n",
       "      <td>United States</td>\n",
       "      <td>543.91510</td>\n",
       "      <td>571.73859</td>\n",
       "    </tr>\n",
       "    <tr>\n",
       "      <th>50393</th>\n",
       "      <td>United States</td>\n",
       "      <td>517.25360</td>\n",
       "      <td>632.34979</td>\n",
       "    </tr>\n",
       "    <tr>\n",
       "      <th>50394</th>\n",
       "      <td>United States</td>\n",
       "      <td>579.05408</td>\n",
       "      <td>638.23328</td>\n",
       "    </tr>\n",
       "    <tr>\n",
       "      <th>50395</th>\n",
       "      <td>United States</td>\n",
       "      <td>302.05261</td>\n",
       "      <td>339.23511</td>\n",
       "    </tr>\n",
       "    <tr>\n",
       "      <th>50396</th>\n",
       "      <td>United States</td>\n",
       "      <td>525.31409</td>\n",
       "      <td>638.25922</td>\n",
       "    </tr>\n",
       "  </tbody>\n",
       "</table>\n",
       "<p>50397 rows × 3 columns</p>\n",
       "</div>"
      ],
      "text/plain": [
       "             country  math_score  reading_score\n",
       "0          Argentina   314.25031      424.07239\n",
       "1          Argentina   356.07629      380.26309\n",
       "2          Argentina   338.08029      384.89191\n",
       "3          Argentina   310.38690      392.88031\n",
       "4          Argentina   397.42441      452.03439\n",
       "5          Argentina   324.67340      359.64890\n",
       "6          Argentina   384.48151      374.87259\n",
       "7          Argentina   300.24149      342.33160\n",
       "8          Argentina   456.25510      556.59320\n",
       "9          Argentina   474.41980      524.93378\n",
       "10         Argentina   361.27719      466.80789\n",
       "11         Argentina   375.54031      383.98260\n",
       "12         Argentina   381.17831      459.86380\n",
       "13         Argentina   321.90219      433.66010\n",
       "14         Argentina   387.97659      375.76840\n",
       "15         Argentina   398.37769      433.76230\n",
       "16         Argentina   343.32959      430.89349\n",
       "17         Argentina   272.07709      293.54770\n",
       "18         Argentina   328.69351      435.25201\n",
       "19         Argentina   316.94980      323.96701\n",
       "20         Argentina   286.68521      397.80881\n",
       "21         Argentina   310.45099      281.88840\n",
       "22         Argentina   310.76340      423.05151\n",
       "23         Argentina   354.19891      510.95831\n",
       "24         Argentina   366.29730      430.07440\n",
       "25         Argentina   406.10770      373.70679\n",
       "26         Argentina   472.45740      514.24463\n",
       "27         Argentina   348.24719      468.85199\n",
       "28         Argentina   268.83560      265.88651\n",
       "29         Argentina   465.19440      477.61139\n",
       "...              ...         ...            ...\n",
       "50367  United States   438.38300      485.62509\n",
       "50368  United States   503.46970      493.20410\n",
       "50369  United States   509.29239      487.22141\n",
       "50370  United States   449.79169      514.52020\n",
       "50371  United States   584.36981      586.37329\n",
       "50372  United States   490.55399      536.78247\n",
       "50373  United States   341.72171      322.63019\n",
       "50374  United States   413.24680      499.86810\n",
       "50375  United States   352.23511      392.28909\n",
       "50376  United States   544.58722      555.74261\n",
       "50377  United States   471.95889      475.54471\n",
       "50378  United States   452.39700      441.82910\n",
       "50379  United States   550.25427      588.63550\n",
       "50380  United States   479.91040      481.79889\n",
       "50381  United States   481.32681      563.55090\n",
       "50382  United States   383.32932      423.19641\n",
       "50383  United States   345.79840      311.15619\n",
       "50384  United States   486.22351      435.41669\n",
       "50385  United States   501.36301      528.69958\n",
       "50386  United States   408.19629      421.60440\n",
       "50387  United States   561.88080      501.71301\n",
       "50388  United States   498.42599      497.64670\n",
       "50389  United States   474.13000      516.16772\n",
       "50390  United States   616.82019      640.44019\n",
       "50391  United States   480.59460      500.09161\n",
       "50392  United States   543.91510      571.73859\n",
       "50393  United States   517.25360      632.34979\n",
       "50394  United States   579.05408      638.23328\n",
       "50395  United States   302.05261      339.23511\n",
       "50396  United States   525.31409      638.25922\n",
       "\n",
       "[50397 rows x 3 columns]"
      ]
     },
     "execution_count": 10,
     "metadata": {},
     "output_type": "execute_result"
    }
   ],
   "source": [
    "# Alternately, we can also select columns to keep: \n",
    "\n",
    "df[[\"country\", \"math_score\", \"reading_score\"]]"
   ]
  },
  {
   "cell_type": "markdown",
   "metadata": {},
   "source": [
    "#### 3. Handle missing values"
   ]
  },
  {
   "cell_type": "code",
   "execution_count": 11,
   "metadata": {},
   "outputs": [
    {
     "data": {
      "text/plain": [
       "country                   0\n",
       "school_id                 0\n",
       "student_id                0\n",
       "student_gender            0\n",
       "computer_at_home        432\n",
       "internet_at_home        432\n",
       "immigration_status        0\n",
       "early_education           0\n",
       "repeated_grades           0\n",
       "school_location         886\n",
       "school_type               0\n",
       "school_size               0\n",
       "class_size             1002\n",
       "socioeconomic_index     833\n",
       "math_score                0\n",
       "reading_score             0\n",
       "parent_education          0\n",
       "dtype: int64"
      ]
     },
     "execution_count": 11,
     "metadata": {},
     "output_type": "execute_result"
    }
   ],
   "source": [
    "# Missing values for each column\n",
    "\n",
    "df.isnull().sum()"
   ]
  },
  {
   "cell_type": "code",
   "execution_count": 12,
   "metadata": {},
   "outputs": [
    {
     "data": {
      "text/plain": [
       "Invalid        11986\n",
       "No Response     2222\n",
       "322              176\n",
       "392              170\n",
       "350              157\n",
       "640              151\n",
       "613              141\n",
       "652              136\n",
       "914              135\n",
       "409              131\n",
       "557              131\n",
       "529              129\n",
       "417              128\n",
       "360              128\n",
       "290              127\n",
       "457              122\n",
       "352              122\n",
       "431              120\n",
       "830              117\n",
       "221              117\n",
       "171              117\n",
       "550              110\n",
       "651              107\n",
       "700              107\n",
       "162              105\n",
       "815              105\n",
       "960              102\n",
       "957               99\n",
       "1210              99\n",
       "837               99\n",
       "               ...  \n",
       "1297               8\n",
       "74                 7\n",
       "45                 7\n",
       "78                 7\n",
       "130                7\n",
       "104                7\n",
       "177                7\n",
       "56                 6\n",
       "46                 6\n",
       "107                6\n",
       "661                6\n",
       "50                 6\n",
       "33                 5\n",
       "1630               5\n",
       "367                5\n",
       "19                 5\n",
       "4                  4\n",
       "289                4\n",
       "77                 4\n",
       "23                 4\n",
       "37                 4\n",
       "349                3\n",
       "21                 3\n",
       "191                3\n",
       "1145               3\n",
       "22                 2\n",
       "40                 2\n",
       "8                  2\n",
       "39                 1\n",
       "54                 1\n",
       "Name: school_size, Length: 863, dtype: int64"
      ]
     },
     "execution_count": 12,
     "metadata": {},
     "output_type": "execute_result"
    }
   ],
   "source": [
    "# But there are other values like \"No Response\" and \"Invalid\" that are not currently counted as None or Null: \n",
    "\n",
    "df.school_size.value_counts()"
   ]
  },
  {
   "cell_type": "code",
   "execution_count": 13,
   "metadata": {},
   "outputs": [],
   "source": [
    "# # One way of re-assigning these values as None:\n",
    "\n",
    "# df.school_size[(df.school_size == \"No Response\")|(df.school_size == \"Invalid\")] = None\n",
    "# df.school_size.isna().sum()"
   ]
  },
  {
   "cell_type": "code",
   "execution_count": 14,
   "metadata": {},
   "outputs": [],
   "source": [
    "# To assign all null equivalents as None:\n",
    "\n",
    "# List of all columns\n",
    "all_columns = df.columns.tolist()\n",
    "\n",
    "# List of values that we want to re-assign as None: \n",
    "list_of_null_equivalents = [\"No Response\", \"Invalid\", np.nan, \"None\", \"Non Response\"]\n",
    "\n",
    "# Treat all columns where null equivalents exist\n",
    "for col in all_columns:\n",
    "    df.loc[df[col].isin(list_of_null_equivalents),col] = None # Homework: Look up how you can select data with \".loc\" and \".iloc\""
   ]
  },
  {
   "cell_type": "code",
   "execution_count": 15,
   "metadata": {},
   "outputs": [
    {
     "data": {
      "text/plain": [
       "country                    0\n",
       "school_id                  0\n",
       "student_id                 0\n",
       "student_gender             0\n",
       "computer_at_home        1121\n",
       "internet_at_home        1051\n",
       "immigration_status      9032\n",
       "early_education        10733\n",
       "repeated_grades        13513\n",
       "school_location         6989\n",
       "school_type             6820\n",
       "school_size            14208\n",
       "class_size              1834\n",
       "socioeconomic_index      833\n",
       "math_score                 0\n",
       "reading_score              0\n",
       "parent_education         413\n",
       "dtype: int64"
      ]
     },
     "execution_count": 15,
     "metadata": {},
     "output_type": "execute_result"
    }
   ],
   "source": [
    "# Many more columns have null values\n",
    "\n",
    "df.isnull().sum()"
   ]
  },
  {
   "cell_type": "markdown",
   "metadata": {},
   "source": [
    "#### Decide what steps to take, eg:\n",
    "* deduce the missing values (eg. internet_at_home from socioeconomic index)\n",
    "* fill NaNs using mean, median or a custom strategy (Look up: df.fillna?)\n",
    "* drop rows with missing values (Look up: df.dropna?)"
   ]
  },
  {
   "cell_type": "code",
   "execution_count": 16,
   "metadata": {},
   "outputs": [],
   "source": [
    "# check how a method works and what parameters it needs\n",
    "\n",
    "df.fillna?"
   ]
  },
  {
   "cell_type": "code",
   "execution_count": 17,
   "metadata": {},
   "outputs": [
    {
     "name": "stdout",
     "output_type": "stream",
     "text": [
      "original shape:  (50397, 17)\n",
      "new shape:  (20358, 17)\n"
     ]
    }
   ],
   "source": [
    "# What happens if we drop all rows with Null values? \n",
    "\n",
    "print('original shape: ', df.shape)\n",
    "\n",
    "print('new shape: ', df.dropna().shape) # NOTE: here, inplace = False by default"
   ]
  },
  {
   "cell_type": "markdown",
   "metadata": {},
   "source": [
    "#### 4. Change Data Types"
   ]
  },
  {
   "cell_type": "code",
   "execution_count": 18,
   "metadata": {},
   "outputs": [
    {
     "ename": "TypeError",
     "evalue": "Empty 'DataFrame': no numeric data to plot",
     "output_type": "error",
     "traceback": [
      "\u001b[0;31m---------------------------------------------------------------------------\u001b[0m",
      "\u001b[0;31mTypeError\u001b[0m                                 Traceback (most recent call last)",
      "\u001b[0;32m<ipython-input-18-85889aa22c6d>\u001b[0m in \u001b[0;36m<module>\u001b[0;34m\u001b[0m\n\u001b[1;32m      1\u001b[0m \u001b[0;31m# Let's see if we can plot how school_size is distributed...\u001b[0m\u001b[0;34m\u001b[0m\u001b[0;34m\u001b[0m\u001b[0;34m\u001b[0m\u001b[0m\n\u001b[1;32m      2\u001b[0m \u001b[0;34m\u001b[0m\u001b[0m\n\u001b[0;32m----> 3\u001b[0;31m \u001b[0mdf\u001b[0m\u001b[0;34m.\u001b[0m\u001b[0mschool_size\u001b[0m\u001b[0;34m.\u001b[0m\u001b[0mplot\u001b[0m\u001b[0;34m(\u001b[0m\u001b[0mkind\u001b[0m\u001b[0;34m=\u001b[0m\u001b[0;34m'hist'\u001b[0m\u001b[0;34m)\u001b[0m \u001b[0;31m# Do we get an error? What does the error message say (all the way at the bottom)? Why are we getting this error?\u001b[0m\u001b[0;34m\u001b[0m\u001b[0;34m\u001b[0m\u001b[0m\n\u001b[0m",
      "\u001b[0;32m~/anaconda3/envs/APIs_geospatial/lib/python3.7/site-packages/pandas/plotting/_core.py\u001b[0m in \u001b[0;36m__call__\u001b[0;34m(self, kind, ax, figsize, use_index, title, grid, legend, style, logx, logy, loglog, xticks, yticks, xlim, ylim, rot, fontsize, colormap, table, yerr, xerr, label, secondary_y, **kwds)\u001b[0m\n\u001b[1;32m   2740\u001b[0m                            \u001b[0mcolormap\u001b[0m\u001b[0;34m=\u001b[0m\u001b[0mcolormap\u001b[0m\u001b[0;34m,\u001b[0m \u001b[0mtable\u001b[0m\u001b[0;34m=\u001b[0m\u001b[0mtable\u001b[0m\u001b[0;34m,\u001b[0m \u001b[0myerr\u001b[0m\u001b[0;34m=\u001b[0m\u001b[0myerr\u001b[0m\u001b[0;34m,\u001b[0m\u001b[0;34m\u001b[0m\u001b[0;34m\u001b[0m\u001b[0m\n\u001b[1;32m   2741\u001b[0m                            \u001b[0mxerr\u001b[0m\u001b[0;34m=\u001b[0m\u001b[0mxerr\u001b[0m\u001b[0;34m,\u001b[0m \u001b[0mlabel\u001b[0m\u001b[0;34m=\u001b[0m\u001b[0mlabel\u001b[0m\u001b[0;34m,\u001b[0m \u001b[0msecondary_y\u001b[0m\u001b[0;34m=\u001b[0m\u001b[0msecondary_y\u001b[0m\u001b[0;34m,\u001b[0m\u001b[0;34m\u001b[0m\u001b[0;34m\u001b[0m\u001b[0m\n\u001b[0;32m-> 2742\u001b[0;31m                            **kwds)\n\u001b[0m\u001b[1;32m   2743\u001b[0m     \u001b[0m__call__\u001b[0m\u001b[0;34m.\u001b[0m\u001b[0m__doc__\u001b[0m \u001b[0;34m=\u001b[0m \u001b[0mplot_series\u001b[0m\u001b[0;34m.\u001b[0m\u001b[0m__doc__\u001b[0m\u001b[0;34m\u001b[0m\u001b[0;34m\u001b[0m\u001b[0m\n\u001b[1;32m   2744\u001b[0m \u001b[0;34m\u001b[0m\u001b[0m\n",
      "\u001b[0;32m~/anaconda3/envs/APIs_geospatial/lib/python3.7/site-packages/pandas/plotting/_core.py\u001b[0m in \u001b[0;36mplot_series\u001b[0;34m(data, kind, ax, figsize, use_index, title, grid, legend, style, logx, logy, loglog, xticks, yticks, xlim, ylim, rot, fontsize, colormap, table, yerr, xerr, label, secondary_y, **kwds)\u001b[0m\n\u001b[1;32m   1996\u001b[0m                  \u001b[0myerr\u001b[0m\u001b[0;34m=\u001b[0m\u001b[0myerr\u001b[0m\u001b[0;34m,\u001b[0m \u001b[0mxerr\u001b[0m\u001b[0;34m=\u001b[0m\u001b[0mxerr\u001b[0m\u001b[0;34m,\u001b[0m\u001b[0;34m\u001b[0m\u001b[0;34m\u001b[0m\u001b[0m\n\u001b[1;32m   1997\u001b[0m                  \u001b[0mlabel\u001b[0m\u001b[0;34m=\u001b[0m\u001b[0mlabel\u001b[0m\u001b[0;34m,\u001b[0m \u001b[0msecondary_y\u001b[0m\u001b[0;34m=\u001b[0m\u001b[0msecondary_y\u001b[0m\u001b[0;34m,\u001b[0m\u001b[0;34m\u001b[0m\u001b[0;34m\u001b[0m\u001b[0m\n\u001b[0;32m-> 1998\u001b[0;31m                  **kwds)\n\u001b[0m\u001b[1;32m   1999\u001b[0m \u001b[0;34m\u001b[0m\u001b[0m\n\u001b[1;32m   2000\u001b[0m \u001b[0;34m\u001b[0m\u001b[0m\n",
      "\u001b[0;32m~/anaconda3/envs/APIs_geospatial/lib/python3.7/site-packages/pandas/plotting/_core.py\u001b[0m in \u001b[0;36m_plot\u001b[0;34m(data, x, y, subplots, ax, kind, **kwds)\u001b[0m\n\u001b[1;32m   1799\u001b[0m         \u001b[0mplot_obj\u001b[0m \u001b[0;34m=\u001b[0m \u001b[0mklass\u001b[0m\u001b[0;34m(\u001b[0m\u001b[0mdata\u001b[0m\u001b[0;34m,\u001b[0m \u001b[0msubplots\u001b[0m\u001b[0;34m=\u001b[0m\u001b[0msubplots\u001b[0m\u001b[0;34m,\u001b[0m \u001b[0max\u001b[0m\u001b[0;34m=\u001b[0m\u001b[0max\u001b[0m\u001b[0;34m,\u001b[0m \u001b[0mkind\u001b[0m\u001b[0;34m=\u001b[0m\u001b[0mkind\u001b[0m\u001b[0;34m,\u001b[0m \u001b[0;34m**\u001b[0m\u001b[0mkwds\u001b[0m\u001b[0;34m)\u001b[0m\u001b[0;34m\u001b[0m\u001b[0;34m\u001b[0m\u001b[0m\n\u001b[1;32m   1800\u001b[0m \u001b[0;34m\u001b[0m\u001b[0m\n\u001b[0;32m-> 1801\u001b[0;31m     \u001b[0mplot_obj\u001b[0m\u001b[0;34m.\u001b[0m\u001b[0mgenerate\u001b[0m\u001b[0;34m(\u001b[0m\u001b[0;34m)\u001b[0m\u001b[0;34m\u001b[0m\u001b[0;34m\u001b[0m\u001b[0m\n\u001b[0m\u001b[1;32m   1802\u001b[0m     \u001b[0mplot_obj\u001b[0m\u001b[0;34m.\u001b[0m\u001b[0mdraw\u001b[0m\u001b[0;34m(\u001b[0m\u001b[0;34m)\u001b[0m\u001b[0;34m\u001b[0m\u001b[0;34m\u001b[0m\u001b[0m\n\u001b[1;32m   1803\u001b[0m     \u001b[0;32mreturn\u001b[0m \u001b[0mplot_obj\u001b[0m\u001b[0;34m.\u001b[0m\u001b[0mresult\u001b[0m\u001b[0;34m\u001b[0m\u001b[0;34m\u001b[0m\u001b[0m\n",
      "\u001b[0;32m~/anaconda3/envs/APIs_geospatial/lib/python3.7/site-packages/pandas/plotting/_core.py\u001b[0m in \u001b[0;36mgenerate\u001b[0;34m(self)\u001b[0m\n\u001b[1;32m    247\u001b[0m     \u001b[0;32mdef\u001b[0m \u001b[0mgenerate\u001b[0m\u001b[0;34m(\u001b[0m\u001b[0mself\u001b[0m\u001b[0;34m)\u001b[0m\u001b[0;34m:\u001b[0m\u001b[0;34m\u001b[0m\u001b[0;34m\u001b[0m\u001b[0m\n\u001b[1;32m    248\u001b[0m         \u001b[0mself\u001b[0m\u001b[0;34m.\u001b[0m\u001b[0m_args_adjust\u001b[0m\u001b[0;34m(\u001b[0m\u001b[0;34m)\u001b[0m\u001b[0;34m\u001b[0m\u001b[0;34m\u001b[0m\u001b[0m\n\u001b[0;32m--> 249\u001b[0;31m         \u001b[0mself\u001b[0m\u001b[0;34m.\u001b[0m\u001b[0m_compute_plot_data\u001b[0m\u001b[0;34m(\u001b[0m\u001b[0;34m)\u001b[0m\u001b[0;34m\u001b[0m\u001b[0;34m\u001b[0m\u001b[0m\n\u001b[0m\u001b[1;32m    250\u001b[0m         \u001b[0mself\u001b[0m\u001b[0;34m.\u001b[0m\u001b[0m_setup_subplots\u001b[0m\u001b[0;34m(\u001b[0m\u001b[0;34m)\u001b[0m\u001b[0;34m\u001b[0m\u001b[0;34m\u001b[0m\u001b[0m\n\u001b[1;32m    251\u001b[0m         \u001b[0mself\u001b[0m\u001b[0;34m.\u001b[0m\u001b[0m_make_plot\u001b[0m\u001b[0;34m(\u001b[0m\u001b[0;34m)\u001b[0m\u001b[0;34m\u001b[0m\u001b[0;34m\u001b[0m\u001b[0m\n",
      "\u001b[0;32m~/anaconda3/envs/APIs_geospatial/lib/python3.7/site-packages/pandas/plotting/_core.py\u001b[0m in \u001b[0;36m_compute_plot_data\u001b[0;34m(self)\u001b[0m\n\u001b[1;32m    365\u001b[0m         \u001b[0;32mif\u001b[0m \u001b[0mis_empty\u001b[0m\u001b[0;34m:\u001b[0m\u001b[0;34m\u001b[0m\u001b[0;34m\u001b[0m\u001b[0m\n\u001b[1;32m    366\u001b[0m             raise TypeError('Empty {0!r}: no numeric data to '\n\u001b[0;32m--> 367\u001b[0;31m                             'plot'.format(numeric_data.__class__.__name__))\n\u001b[0m\u001b[1;32m    368\u001b[0m \u001b[0;34m\u001b[0m\u001b[0m\n\u001b[1;32m    369\u001b[0m         \u001b[0mself\u001b[0m\u001b[0;34m.\u001b[0m\u001b[0mdata\u001b[0m \u001b[0;34m=\u001b[0m \u001b[0mnumeric_data\u001b[0m\u001b[0;34m\u001b[0m\u001b[0;34m\u001b[0m\u001b[0m\n",
      "\u001b[0;31mTypeError\u001b[0m: Empty 'DataFrame': no numeric data to plot"
     ]
    }
   ],
   "source": [
    "# Let's see if we can plot how school_size is distributed...\n",
    "\n",
    "df.school_size.plot(kind='hist') # Do we get an error? What does the error message say (all the way at the bottom)? Why are we getting this error? "
   ]
  },
  {
   "cell_type": "code",
   "execution_count": 19,
   "metadata": {},
   "outputs": [
    {
     "data": {
      "text/plain": [
       "str"
      ]
     },
     "execution_count": 19,
     "metadata": {},
     "output_type": "execute_result"
    }
   ],
   "source": [
    "# Look up the first value in the series; it's a string!\n",
    "\n",
    "type(df.school_size[0])"
   ]
  },
  {
   "cell_type": "code",
   "execution_count": 20,
   "metadata": {},
   "outputs": [
    {
     "data": {
      "text/plain": [
       "'570'"
      ]
     },
     "execution_count": 20,
     "metadata": {},
     "output_type": "execute_result"
    }
   ],
   "source": [
    "# We will need to change this to an int or float for any numeric operations\n",
    "\n",
    "df[\"school_size\"][0]"
   ]
  },
  {
   "cell_type": "code",
   "execution_count": 21,
   "metadata": {},
   "outputs": [],
   "source": [
    "# Change column values from string to numeric:\n",
    "\n",
    "df[\"school_size\"] = pd.to_numeric(df[\"school_size\"])\n",
    "\n",
    "## Alternate option: (Homework: look up how to use lambda functions)\n",
    "\n",
    "# df[\"school_size\"] = df[\"school_size\"].apply(lambda x: float(x) if x!=None else None)"
   ]
  },
  {
   "cell_type": "code",
   "execution_count": 22,
   "metadata": {},
   "outputs": [
    {
     "data": {
      "text/plain": [
       "570.0"
      ]
     },
     "execution_count": 22,
     "metadata": {},
     "output_type": "execute_result"
    }
   ],
   "source": [
    "# Now we have a float object\n",
    "\n",
    "df[\"school_size\"][0]"
   ]
  },
  {
   "cell_type": "code",
   "execution_count": 23,
   "metadata": {},
   "outputs": [
    {
     "name": "stdout",
     "output_type": "stream",
     "text": [
      "Max school size: 4507.0\n",
      "Mean school size: 800.455552792285\n"
     ]
    }
   ],
   "source": [
    "# Get summary statistics\n",
    "\n",
    "print(\"Max school size:\", df.school_size.max())\n",
    "\n",
    "print(\"Mean school size:\", df.school_size.mean())\n"
   ]
  },
  {
   "cell_type": "code",
   "execution_count": 24,
   "metadata": {},
   "outputs": [
    {
     "data": {
      "image/png": "[encoded data removed]",
      "text/plain": [
       "<Figure size 432x288 with 1 Axes>"
      ]
     },
     "metadata": {
      "needs_background": "light"
     },
     "output_type": "display_data"
    }
   ],
   "source": [
    "# Plot and see how school_size is distributed:\n",
    "\n",
    "df.hist(column = 'school_size')\n",
    "plt.show()"
   ]
  },
  {
   "cell_type": "code",
   "execution_count": 25,
   "metadata": {},
   "outputs": [],
   "source": [
    "## Help: check how a method works and what parameters it needs\n",
    "# df.hist?"
   ]
  },
  {
   "cell_type": "markdown",
   "metadata": {},
   "source": [
    "#### 5. Editing column values"
   ]
  },
  {
   "cell_type": "code",
   "execution_count": 26,
   "metadata": {},
   "outputs": [
    {
     "data": {
      "text/plain": [
       "array(['A city (100 000 to about 1 000 000 people)',\n",
       "       'A town (15 000 to about 100 000 people)',\n",
       "       'A small town (3 000 to about 15 000 people)',\n",
       "       'A large city (with over 1 000 000 people)', None,\n",
       "       'A village, hamlet or rural area (fewer than 3 000 people)'],\n",
       "      dtype=object)"
      ]
     },
     "execution_count": 26,
     "metadata": {},
     "output_type": "execute_result"
    }
   ],
   "source": [
    "df.school_location.unique()"
   ]
  },
  {
   "cell_type": "code",
   "execution_count": 27,
   "metadata": {},
   "outputs": [
    {
     "data": {
      "text/plain": [
       "'school location type '"
      ]
     },
     "execution_count": 27,
     "metadata": {},
     "output_type": "execute_result"
    }
   ],
   "source": [
    "# See how this works:\n",
    "string_school_location = \"school location type (description)\"\n",
    "\n",
    "string_school_location.split('(')[0]"
   ]
  },
  {
   "cell_type": "code",
   "execution_count": 28,
   "metadata": {},
   "outputs": [
    {
     "data": {
      "text/plain": [
       "'school location type'"
      ]
     },
     "execution_count": 28,
     "metadata": {},
     "output_type": "execute_result"
    }
   ],
   "source": [
    "string_school_location.split('(')[0][:-1]"
   ]
  },
  {
   "cell_type": "code",
   "execution_count": 29,
   "metadata": {},
   "outputs": [
    {
     "data": {
      "text/plain": [
       "['A city', 'A city', 'A city', 'A city', 'A city']"
      ]
     },
     "execution_count": 29,
     "metadata": {},
     "output_type": "execute_result"
    }
   ],
   "source": [
    "# What is this code structure called? Practice it as homework.\n",
    "\n",
    "[string.split('(')[0][:-1] for string in df.school_location if string!= None][:5]"
   ]
  },
  {
   "cell_type": "code",
   "execution_count": 30,
   "metadata": {},
   "outputs": [],
   "source": [
    "# Reassign to new column: \n",
    "\n",
    "df[\"location\"] = [string.split('(')[0][:-1] if string!= None else None for string in df.school_location]"
   ]
  },
  {
   "cell_type": "code",
   "execution_count": 31,
   "metadata": {},
   "outputs": [
    {
     "data": {
      "text/html": [
       "<div>\n",
       "<style scoped>\n",
       "    .dataframe tbody tr th:only-of-type {\n",
       "        vertical-align: middle;\n",
       "    }\n",
       "\n",
       "    .dataframe tbody tr th {\n",
       "        vertical-align: top;\n",
       "    }\n",
       "\n",
       "    .dataframe thead th {\n",
       "        text-align: right;\n",
       "    }\n",
       "</style>\n",
       "<table border=\"1\" class=\"dataframe\">\n",
       "  <thead>\n",
       "    <tr style=\"text-align: right;\">\n",
       "      <th></th>\n",
       "      <th>school_location</th>\n",
       "      <th>location</th>\n",
       "    </tr>\n",
       "  </thead>\n",
       "  <tbody>\n",
       "    <tr>\n",
       "      <th>49937</th>\n",
       "      <td>A city (100 000 to about 1 000 000 people)</td>\n",
       "      <td>A city</td>\n",
       "    </tr>\n",
       "    <tr>\n",
       "      <th>19965</th>\n",
       "      <td>A town (15 000 to about 100 000 people)</td>\n",
       "      <td>A town</td>\n",
       "    </tr>\n",
       "    <tr>\n",
       "      <th>41970</th>\n",
       "      <td>A town (15 000 to about 100 000 people)</td>\n",
       "      <td>A town</td>\n",
       "    </tr>\n",
       "    <tr>\n",
       "      <th>13998</th>\n",
       "      <td>A town (15 000 to about 100 000 people)</td>\n",
       "      <td>A town</td>\n",
       "    </tr>\n",
       "    <tr>\n",
       "      <th>10374</th>\n",
       "      <td>A town (15 000 to about 100 000 people)</td>\n",
       "      <td>A town</td>\n",
       "    </tr>\n",
       "  </tbody>\n",
       "</table>\n",
       "</div>"
      ],
      "text/plain": [
       "                                  school_location location\n",
       "49937  A city (100 000 to about 1 000 000 people)   A city\n",
       "19965     A town (15 000 to about 100 000 people)   A town\n",
       "41970     A town (15 000 to about 100 000 people)   A town\n",
       "13998     A town (15 000 to about 100 000 people)   A town\n",
       "10374     A town (15 000 to about 100 000 people)   A town"
      ]
     },
     "execution_count": 31,
     "metadata": {},
     "output_type": "execute_result"
    }
   ],
   "source": [
    "# Check how it worked: \n",
    "\n",
    "df[[\"school_location\",\"location\"]].sample(5)"
   ]
  },
  {
   "cell_type": "markdown",
   "metadata": {},
   "source": [
    "#### 6. Mapping column values"
   ]
  },
  {
   "cell_type": "code",
   "execution_count": 32,
   "metadata": {},
   "outputs": [
    {
     "data": {
      "text/plain": [
       "Attended ECEC for at least two but less than three years      12395\n",
       "Attended ECEC for at least three but less than four years     11279\n",
       "Attended ECEC for at least four but less than five years       6811\n",
       "Attended ECEC for at least one but less than two years         5162\n",
       "Attended ECEC for at least five but less than six years        3113\n",
       "Attended ECEC for less than a year                              438\n",
       "Attended ECEC for at least six but less than seven years        429\n",
       "Attended ECEC for at least seven but less than eight years       26\n",
       "Attended ECEC for at least eight years                           11\n",
       "Name: early_education, dtype: int64"
      ]
     },
     "execution_count": 32,
     "metadata": {},
     "output_type": "execute_result"
    }
   ],
   "source": [
    "# .value_counts() return a Series containing unique values as its index and\n",
    "# frequencies as its values, in descending order.\n",
    "\n",
    "df[\"early_education\"].value_counts()"
   ]
  },
  {
   "cell_type": "code",
   "execution_count": 27,
   "metadata": {},
   "outputs": [],
   "source": [
    "# Mapping column values: \n",
    "\n",
    "early_ed = {'No Response': None,\n",
    "            'Attended ECEC for less than a year': 0,\n",
    "            'Attended ECEC for at least one but less than two years': 1,\n",
    "            'Attended ECEC for at least two but less than three years': 2,\n",
    "            'Attended ECEC for at least three but less than four years': 3,\n",
    "            'Attended ECEC for at least four but less than five years': 4,\n",
    "            'Attended ECEC for at least five but less than six years': 5,\n",
    "            'Attended ECEC for at least six but less than seven years': 6,\n",
    "            'Attended ECEC for at least seven but less than eight years': 7,\n",
    "            'Attended ECEC for at least eight years': 8}\n",
    "\n",
    "df[\"ECEC_limit\"] = df.early_education.map(early_ed)"
   ]
  },
  {
   "cell_type": "code",
   "execution_count": 28,
   "metadata": {},
   "outputs": [
    {
     "data": {
      "text/plain": [
       "2.0    12395\n",
       "3.0    11279\n",
       "4.0     6811\n",
       "1.0     5162\n",
       "5.0     3113\n",
       "0.0      438\n",
       "6.0      429\n",
       "7.0       26\n",
       "8.0       11\n",
       "Name: ECEC_limit, dtype: int64"
      ]
     },
     "execution_count": 28,
     "metadata": {},
     "output_type": "execute_result"
    }
   ],
   "source": [
    "# After mapping values to the new column:\n",
    "\n",
    "df[\"ECEC_limit\"].value_counts()"
   ]
  },
  {
   "cell_type": "markdown",
   "metadata": {},
   "source": [
    "#### 7. Summarize values with `groupby()`\n",
    "A `groupby()` operation carries out some combination of splitting the data, performing an operation, and combining the results:\n",
    "\n",
    "* state the Series you want to group by.\n",
    "* append the operation you want to perform such as .mean(), .sum() or .count()"
   ]
  },
  {
   "cell_type": "code",
   "execution_count": 29,
   "metadata": {},
   "outputs": [],
   "source": [
    "df_country_m_f = df.groupby([\"country\", \"student_gender\"])[[\"math_score\",\"reading_score\"]].median().reset_index()"
   ]
  },
  {
   "cell_type": "code",
   "execution_count": 30,
   "metadata": {},
   "outputs": [
    {
     "data": {
      "text/html": [
       "<div>\n",
       "<style scoped>\n",
       "    .dataframe tbody tr th:only-of-type {\n",
       "        vertical-align: middle;\n",
       "    }\n",
       "\n",
       "    .dataframe tbody tr th {\n",
       "        vertical-align: top;\n",
       "    }\n",
       "\n",
       "    .dataframe thead th {\n",
       "        text-align: right;\n",
       "    }\n",
       "</style>\n",
       "<table border=\"1\" class=\"dataframe\">\n",
       "  <thead>\n",
       "    <tr style=\"text-align: right;\">\n",
       "      <th></th>\n",
       "      <th>country</th>\n",
       "      <th>student_gender</th>\n",
       "      <th>math_score</th>\n",
       "      <th>reading_score</th>\n",
       "    </tr>\n",
       "  </thead>\n",
       "  <tbody>\n",
       "    <tr>\n",
       "      <th>0</th>\n",
       "      <td>Argentina</td>\n",
       "      <td>Female</td>\n",
       "      <td>379.999605</td>\n",
       "      <td>423.397460</td>\n",
       "    </tr>\n",
       "    <tr>\n",
       "      <th>1</th>\n",
       "      <td>Argentina</td>\n",
       "      <td>Male</td>\n",
       "      <td>400.012300</td>\n",
       "      <td>409.711000</td>\n",
       "    </tr>\n",
       "    <tr>\n",
       "      <th>2</th>\n",
       "      <td>Finland</td>\n",
       "      <td>Female</td>\n",
       "      <td>515.323700</td>\n",
       "      <td>553.570130</td>\n",
       "    </tr>\n",
       "    <tr>\n",
       "      <th>3</th>\n",
       "      <td>Finland</td>\n",
       "      <td>Male</td>\n",
       "      <td>507.821010</td>\n",
       "      <td>500.784910</td>\n",
       "    </tr>\n",
       "    <tr>\n",
       "      <th>4</th>\n",
       "      <td>Japan</td>\n",
       "      <td>Female</td>\n",
       "      <td>525.601345</td>\n",
       "      <td>515.985595</td>\n",
       "    </tr>\n",
       "    <tr>\n",
       "      <th>5</th>\n",
       "      <td>Japan</td>\n",
       "      <td>Male</td>\n",
       "      <td>536.411990</td>\n",
       "      <td>499.877410</td>\n",
       "    </tr>\n",
       "    <tr>\n",
       "      <th>6</th>\n",
       "      <td>Netherlands</td>\n",
       "      <td>Female</td>\n",
       "      <td>518.592620</td>\n",
       "      <td>497.670090</td>\n",
       "    </tr>\n",
       "    <tr>\n",
       "      <th>7</th>\n",
       "      <td>Netherlands</td>\n",
       "      <td>Male</td>\n",
       "      <td>517.775330</td>\n",
       "      <td>464.479310</td>\n",
       "    </tr>\n",
       "    <tr>\n",
       "      <th>8</th>\n",
       "      <td>New Zealand</td>\n",
       "      <td>Female</td>\n",
       "      <td>492.636595</td>\n",
       "      <td>527.040530</td>\n",
       "    </tr>\n",
       "    <tr>\n",
       "      <th>9</th>\n",
       "      <td>New Zealand</td>\n",
       "      <td>Male</td>\n",
       "      <td>502.882290</td>\n",
       "      <td>499.501190</td>\n",
       "    </tr>\n",
       "    <tr>\n",
       "      <th>10</th>\n",
       "      <td>Norway</td>\n",
       "      <td>Female</td>\n",
       "      <td>505.222045</td>\n",
       "      <td>527.865600</td>\n",
       "    </tr>\n",
       "    <tr>\n",
       "      <th>11</th>\n",
       "      <td>Norway</td>\n",
       "      <td>Male</td>\n",
       "      <td>499.103000</td>\n",
       "      <td>479.519710</td>\n",
       "    </tr>\n",
       "    <tr>\n",
       "      <th>12</th>\n",
       "      <td>Romania</td>\n",
       "      <td>Female</td>\n",
       "      <td>423.975145</td>\n",
       "      <td>447.620910</td>\n",
       "    </tr>\n",
       "    <tr>\n",
       "      <th>13</th>\n",
       "      <td>Romania</td>\n",
       "      <td>Male</td>\n",
       "      <td>428.659000</td>\n",
       "      <td>412.466800</td>\n",
       "    </tr>\n",
       "    <tr>\n",
       "      <th>14</th>\n",
       "      <td>United States</td>\n",
       "      <td>Female</td>\n",
       "      <td>469.603745</td>\n",
       "      <td>516.498840</td>\n",
       "    </tr>\n",
       "    <tr>\n",
       "      <th>15</th>\n",
       "      <td>United States</td>\n",
       "      <td>Male</td>\n",
       "      <td>477.886795</td>\n",
       "      <td>492.516355</td>\n",
       "    </tr>\n",
       "  </tbody>\n",
       "</table>\n",
       "</div>"
      ],
      "text/plain": [
       "          country student_gender  math_score  reading_score\n",
       "0       Argentina         Female  379.999605     423.397460\n",
       "1       Argentina           Male  400.012300     409.711000\n",
       "2         Finland         Female  515.323700     553.570130\n",
       "3         Finland           Male  507.821010     500.784910\n",
       "4           Japan         Female  525.601345     515.985595\n",
       "5           Japan           Male  536.411990     499.877410\n",
       "6     Netherlands         Female  518.592620     497.670090\n",
       "7     Netherlands           Male  517.775330     464.479310\n",
       "8     New Zealand         Female  492.636595     527.040530\n",
       "9     New Zealand           Male  502.882290     499.501190\n",
       "10         Norway         Female  505.222045     527.865600\n",
       "11         Norway           Male  499.103000     479.519710\n",
       "12        Romania         Female  423.975145     447.620910\n",
       "13        Romania           Male  428.659000     412.466800\n",
       "14  United States         Female  469.603745     516.498840\n",
       "15  United States           Male  477.886795     492.516355"
      ]
     },
     "execution_count": 30,
     "metadata": {},
     "output_type": "execute_result"
    }
   ],
   "source": [
    "df_country_m_f"
   ]
  },
  {
   "cell_type": "markdown",
   "metadata": {},
   "source": [
    "#### 8. Sort values"
   ]
  },
  {
   "cell_type": "code",
   "execution_count": 31,
   "metadata": {},
   "outputs": [
    {
     "data": {
      "text/html": [
       "<div>\n",
       "<style scoped>\n",
       "    .dataframe tbody tr th:only-of-type {\n",
       "        vertical-align: middle;\n",
       "    }\n",
       "\n",
       "    .dataframe tbody tr th {\n",
       "        vertical-align: top;\n",
       "    }\n",
       "\n",
       "    .dataframe thead th {\n",
       "        text-align: right;\n",
       "    }\n",
       "</style>\n",
       "<table border=\"1\" class=\"dataframe\">\n",
       "  <thead>\n",
       "    <tr style=\"text-align: right;\">\n",
       "      <th></th>\n",
       "      <th>country</th>\n",
       "      <th>student_gender</th>\n",
       "      <th>math_score</th>\n",
       "      <th>reading_score</th>\n",
       "    </tr>\n",
       "  </thead>\n",
       "  <tbody>\n",
       "    <tr>\n",
       "      <th>5</th>\n",
       "      <td>Japan</td>\n",
       "      <td>Male</td>\n",
       "      <td>536.411990</td>\n",
       "      <td>499.877410</td>\n",
       "    </tr>\n",
       "    <tr>\n",
       "      <th>4</th>\n",
       "      <td>Japan</td>\n",
       "      <td>Female</td>\n",
       "      <td>525.601345</td>\n",
       "      <td>515.985595</td>\n",
       "    </tr>\n",
       "    <tr>\n",
       "      <th>6</th>\n",
       "      <td>Netherlands</td>\n",
       "      <td>Female</td>\n",
       "      <td>518.592620</td>\n",
       "      <td>497.670090</td>\n",
       "    </tr>\n",
       "    <tr>\n",
       "      <th>7</th>\n",
       "      <td>Netherlands</td>\n",
       "      <td>Male</td>\n",
       "      <td>517.775330</td>\n",
       "      <td>464.479310</td>\n",
       "    </tr>\n",
       "    <tr>\n",
       "      <th>2</th>\n",
       "      <td>Finland</td>\n",
       "      <td>Female</td>\n",
       "      <td>515.323700</td>\n",
       "      <td>553.570130</td>\n",
       "    </tr>\n",
       "    <tr>\n",
       "      <th>3</th>\n",
       "      <td>Finland</td>\n",
       "      <td>Male</td>\n",
       "      <td>507.821010</td>\n",
       "      <td>500.784910</td>\n",
       "    </tr>\n",
       "    <tr>\n",
       "      <th>10</th>\n",
       "      <td>Norway</td>\n",
       "      <td>Female</td>\n",
       "      <td>505.222045</td>\n",
       "      <td>527.865600</td>\n",
       "    </tr>\n",
       "    <tr>\n",
       "      <th>9</th>\n",
       "      <td>New Zealand</td>\n",
       "      <td>Male</td>\n",
       "      <td>502.882290</td>\n",
       "      <td>499.501190</td>\n",
       "    </tr>\n",
       "    <tr>\n",
       "      <th>11</th>\n",
       "      <td>Norway</td>\n",
       "      <td>Male</td>\n",
       "      <td>499.103000</td>\n",
       "      <td>479.519710</td>\n",
       "    </tr>\n",
       "    <tr>\n",
       "      <th>8</th>\n",
       "      <td>New Zealand</td>\n",
       "      <td>Female</td>\n",
       "      <td>492.636595</td>\n",
       "      <td>527.040530</td>\n",
       "    </tr>\n",
       "    <tr>\n",
       "      <th>15</th>\n",
       "      <td>United States</td>\n",
       "      <td>Male</td>\n",
       "      <td>477.886795</td>\n",
       "      <td>492.516355</td>\n",
       "    </tr>\n",
       "    <tr>\n",
       "      <th>14</th>\n",
       "      <td>United States</td>\n",
       "      <td>Female</td>\n",
       "      <td>469.603745</td>\n",
       "      <td>516.498840</td>\n",
       "    </tr>\n",
       "    <tr>\n",
       "      <th>13</th>\n",
       "      <td>Romania</td>\n",
       "      <td>Male</td>\n",
       "      <td>428.659000</td>\n",
       "      <td>412.466800</td>\n",
       "    </tr>\n",
       "    <tr>\n",
       "      <th>12</th>\n",
       "      <td>Romania</td>\n",
       "      <td>Female</td>\n",
       "      <td>423.975145</td>\n",
       "      <td>447.620910</td>\n",
       "    </tr>\n",
       "    <tr>\n",
       "      <th>1</th>\n",
       "      <td>Argentina</td>\n",
       "      <td>Male</td>\n",
       "      <td>400.012300</td>\n",
       "      <td>409.711000</td>\n",
       "    </tr>\n",
       "    <tr>\n",
       "      <th>0</th>\n",
       "      <td>Argentina</td>\n",
       "      <td>Female</td>\n",
       "      <td>379.999605</td>\n",
       "      <td>423.397460</td>\n",
       "    </tr>\n",
       "  </tbody>\n",
       "</table>\n",
       "</div>"
      ],
      "text/plain": [
       "          country student_gender  math_score  reading_score\n",
       "5           Japan           Male  536.411990     499.877410\n",
       "4           Japan         Female  525.601345     515.985595\n",
       "6     Netherlands         Female  518.592620     497.670090\n",
       "7     Netherlands           Male  517.775330     464.479310\n",
       "2         Finland         Female  515.323700     553.570130\n",
       "3         Finland           Male  507.821010     500.784910\n",
       "10         Norway         Female  505.222045     527.865600\n",
       "9     New Zealand           Male  502.882290     499.501190\n",
       "11         Norway           Male  499.103000     479.519710\n",
       "8     New Zealand         Female  492.636595     527.040530\n",
       "15  United States           Male  477.886795     492.516355\n",
       "14  United States         Female  469.603745     516.498840\n",
       "13        Romania           Male  428.659000     412.466800\n",
       "12        Romania         Female  423.975145     447.620910\n",
       "1       Argentina           Male  400.012300     409.711000\n",
       "0       Argentina         Female  379.999605     423.397460"
      ]
     },
     "execution_count": 31,
     "metadata": {},
     "output_type": "execute_result"
    }
   ],
   "source": [
    "df_country_m_f.sort_values(by=\"math_score\", ascending=False)"
   ]
  },
  {
   "cell_type": "markdown",
   "metadata": {},
   "source": [
    "#### 9. Visualization using seaborn\n",
    "Seaborn is a Python data visualization library based on matplotlib. It provides a high-level interface for drawing attractive and informative statistical graphics. Learn more at: https://seaborn.pydata.org/"
   ]
  },
  {
   "cell_type": "code",
   "execution_count": 32,
   "metadata": {},
   "outputs": [
    {
     "data": {
      "image/png": "[encoded data removed]",
      "text/plain": [
       "<Figure size 1008x432 with 1 Axes>"
      ]
     },
     "metadata": {
      "needs_background": "light"
     },
     "output_type": "display_data"
    }
   ],
   "source": [
    "# Bar chart:\n",
    "\n",
    "f, ax = plt.subplots(figsize=(14, 6))\n",
    "\n",
    "sns.barplot(x=\"country\", \n",
    "           y=\"math_score\", \n",
    "           hue = 'student_gender',\n",
    "           data = df_country_m_f)\n",
    "plt.show()"
   ]
  },
  {
   "cell_type": "code",
   "execution_count": 33,
   "metadata": {},
   "outputs": [
    {
     "data": {
      "image/png": "[encoded data removed]",
      "text/plain": [
       "<Figure size 1008x432 with 1 Axes>"
      ]
     },
     "metadata": {
      "needs_background": "light"
     },
     "output_type": "display_data"
    }
   ],
   "source": [
    "# violinplot\n",
    "f, ax = plt.subplots(figsize=(14, 6))\n",
    "\n",
    "sns.violinplot(x=\"country\", \n",
    "               y=\"math_score\", \n",
    "               hue = 'computer_at_home',\n",
    "               data = df, \n",
    "               palette = \"Blues\",\n",
    "               split = True,\n",
    "               inner = None) # or, None, or \"box\", or \"quartile\"\n",
    "plt.show()"
   ]
  },
  {
   "cell_type": "code",
   "execution_count": null,
   "metadata": {},
   "outputs": [],
   "source": [
    "# Scatterplot\n",
    "\n",
    "sns.set(style=\"whitegrid\")\n",
    "\n",
    "f, ax = plt.subplots(figsize=(14, 6))\n",
    "\n",
    "sns.scatterplot(x=\"reading_score\", \n",
    "                y=\"math_score\",\n",
    "                palette=\"Reds\",\n",
    "                linewidth=0,\n",
    "                data=df_country_m_f,\n",
    "                hue = \"student_gender\",\n",
    "                ax=ax)\n",
    "plt.show()"
   ]
  },
  {
   "cell_type": "code",
   "execution_count": null,
   "metadata": {},
   "outputs": [],
   "source": [
    "# Fitting a line through the points\n",
    "\n",
    "sns.lmplot(x=\"reading_score\", \n",
    "           y=\"math_score\", \n",
    "           data=df_country_m_f, \n",
    "           hue=\"student_gender\", \n",
    "           ci=None)\n",
    "plt.show()\n",
    "\n",
    "# Saving the plot\n",
    "\n",
    "# plt.savefig('scatterplot.png', dpi=400, bbox_inches='tight')"
   ]
  },
  {
   "cell_type": "markdown",
   "metadata": {},
   "source": [
    "### Merging dataframes:"
   ]
  },
  {
   "cell_type": "code",
   "execution_count": 31,
   "metadata": {},
   "outputs": [],
   "source": [
    "# Load a dataset with country names, country codes, and latitude / longitude:\n",
    "\n",
    "countries_url = 'https://raw.githubusercontent.com/dlab-berkeley/introduction-to-pandas/master/data/countries.csv'\n",
    "\n",
    "countries = pd.read_csv(countries_url)"
   ]
  },
  {
   "cell_type": "code",
   "execution_count": 32,
   "metadata": {},
   "outputs": [
    {
     "data": {
      "text/html": [
       "<div>\n",
       "<style scoped>\n",
       "    .dataframe tbody tr th:only-of-type {\n",
       "        vertical-align: middle;\n",
       "    }\n",
       "\n",
       "    .dataframe tbody tr th {\n",
       "        vertical-align: top;\n",
       "    }\n",
       "\n",
       "    .dataframe thead th {\n",
       "        text-align: right;\n",
       "    }\n",
       "</style>\n",
       "<table border=\"1\" class=\"dataframe\">\n",
       "  <thead>\n",
       "    <tr style=\"text-align: right;\">\n",
       "      <th></th>\n",
       "      <th>country</th>\n",
       "      <th>google_country_code</th>\n",
       "      <th>country_group</th>\n",
       "      <th>name_en</th>\n",
       "      <th>name_fr</th>\n",
       "      <th>name_de</th>\n",
       "      <th>latitude</th>\n",
       "      <th>longitude</th>\n",
       "    </tr>\n",
       "  </thead>\n",
       "  <tbody>\n",
       "    <tr>\n",
       "      <th>15</th>\n",
       "      <td>lv</td>\n",
       "      <td>LV</td>\n",
       "      <td>eu</td>\n",
       "      <td>Latvia</td>\n",
       "      <td>Lettonie</td>\n",
       "      <td>Lettland</td>\n",
       "      <td>56.880117</td>\n",
       "      <td>24.606555</td>\n",
       "    </tr>\n",
       "    <tr>\n",
       "      <th>22</th>\n",
       "      <td>pt</td>\n",
       "      <td>PT</td>\n",
       "      <td>eu</td>\n",
       "      <td>Portugal</td>\n",
       "      <td>Portugal</td>\n",
       "      <td>Portugal</td>\n",
       "      <td>39.558069</td>\n",
       "      <td>-7.844941</td>\n",
       "    </tr>\n",
       "    <tr>\n",
       "      <th>27</th>\n",
       "      <td>se</td>\n",
       "      <td>SE</td>\n",
       "      <td>eu</td>\n",
       "      <td>Sweden</td>\n",
       "      <td>Suède</td>\n",
       "      <td>Schweden</td>\n",
       "      <td>62.198468</td>\n",
       "      <td>14.896307</td>\n",
       "    </tr>\n",
       "    <tr>\n",
       "      <th>11</th>\n",
       "      <td>gr</td>\n",
       "      <td>GR</td>\n",
       "      <td>eu</td>\n",
       "      <td>Greece</td>\n",
       "      <td>Grèce</td>\n",
       "      <td>Griechenland</td>\n",
       "      <td>39.698467</td>\n",
       "      <td>21.577256</td>\n",
       "    </tr>\n",
       "    <tr>\n",
       "      <th>16</th>\n",
       "      <td>lt</td>\n",
       "      <td>LT</td>\n",
       "      <td>eu</td>\n",
       "      <td>Lithuania</td>\n",
       "      <td>Lituanie</td>\n",
       "      <td>Litauen</td>\n",
       "      <td>55.173687</td>\n",
       "      <td>23.943168</td>\n",
       "    </tr>\n",
       "  </tbody>\n",
       "</table>\n",
       "</div>"
      ],
      "text/plain": [
       "   country google_country_code country_group    name_en   name_fr  \\\n",
       "15      lv                  LV            eu     Latvia  Lettonie   \n",
       "22      pt                  PT            eu   Portugal  Portugal   \n",
       "27      se                  SE            eu     Sweden     Suède   \n",
       "11      gr                  GR            eu     Greece     Grèce   \n",
       "16      lt                  LT            eu  Lithuania  Lituanie   \n",
       "\n",
       "         name_de   latitude  longitude  \n",
       "15      Lettland  56.880117  24.606555  \n",
       "22      Portugal  39.558069  -7.844941  \n",
       "27      Schweden  62.198468  14.896307  \n",
       "11  Griechenland  39.698467  21.577256  \n",
       "16       Litauen  55.173687  23.943168  "
      ]
     },
     "execution_count": 32,
     "metadata": {},
     "output_type": "execute_result"
    }
   ],
   "source": [
    "countries.sample(5)"
   ]
  },
  {
   "cell_type": "code",
   "execution_count": 33,
   "metadata": {},
   "outputs": [],
   "source": [
    "# We have already seen how to rename column names\n",
    "\n",
    "countries.rename(columns={\"country\":\"iso2:\", \"name_en\":\"country\"}, inplace=True)"
   ]
  },
  {
   "cell_type": "code",
   "execution_count": 34,
   "metadata": {},
   "outputs": [
    {
     "data": {
      "text/html": [
       "<div>\n",
       "<style scoped>\n",
       "    .dataframe tbody tr th:only-of-type {\n",
       "        vertical-align: middle;\n",
       "    }\n",
       "\n",
       "    .dataframe tbody tr th {\n",
       "        vertical-align: top;\n",
       "    }\n",
       "\n",
       "    .dataframe thead th {\n",
       "        text-align: right;\n",
       "    }\n",
       "</style>\n",
       "<table border=\"1\" class=\"dataframe\">\n",
       "  <thead>\n",
       "    <tr style=\"text-align: right;\">\n",
       "      <th></th>\n",
       "      <th>country</th>\n",
       "      <th>math_score</th>\n",
       "    </tr>\n",
       "  </thead>\n",
       "  <tbody>\n",
       "    <tr>\n",
       "      <th>0</th>\n",
       "      <td>Argentina</td>\n",
       "      <td>389.339290</td>\n",
       "    </tr>\n",
       "    <tr>\n",
       "      <th>1</th>\n",
       "      <td>Finland</td>\n",
       "      <td>512.057620</td>\n",
       "    </tr>\n",
       "    <tr>\n",
       "      <th>2</th>\n",
       "      <td>Japan</td>\n",
       "      <td>530.469790</td>\n",
       "    </tr>\n",
       "    <tr>\n",
       "      <th>3</th>\n",
       "      <td>Netherlands</td>\n",
       "      <td>518.278020</td>\n",
       "    </tr>\n",
       "    <tr>\n",
       "      <th>4</th>\n",
       "      <td>New Zealand</td>\n",
       "      <td>497.699710</td>\n",
       "    </tr>\n",
       "    <tr>\n",
       "      <th>5</th>\n",
       "      <td>Norway</td>\n",
       "      <td>502.040590</td>\n",
       "    </tr>\n",
       "    <tr>\n",
       "      <th>6</th>\n",
       "      <td>Romania</td>\n",
       "      <td>426.552610</td>\n",
       "    </tr>\n",
       "    <tr>\n",
       "      <th>7</th>\n",
       "      <td>United States</td>\n",
       "      <td>473.907545</td>\n",
       "    </tr>\n",
       "  </tbody>\n",
       "</table>\n",
       "</div>"
      ],
      "text/plain": [
       "         country  math_score\n",
       "0      Argentina  389.339290\n",
       "1        Finland  512.057620\n",
       "2          Japan  530.469790\n",
       "3    Netherlands  518.278020\n",
       "4    New Zealand  497.699710\n",
       "5         Norway  502.040590\n",
       "6        Romania  426.552610\n",
       "7  United States  473.907545"
      ]
     },
     "execution_count": 34,
     "metadata": {},
     "output_type": "execute_result"
    }
   ],
   "source": [
    "# We have also used .groupby() to get aggregates\n",
    "# Use .groupby() to create new dataframe for country-level median math scores:\n",
    "\n",
    "country_math_median = df.groupby(\"country\")[\"math_score\"].median().reset_index()\n",
    "country_math_median"
   ]
  },
  {
   "cell_type": "code",
   "execution_count": 35,
   "metadata": {},
   "outputs": [],
   "source": [
    "# Homework: Look up documentation on options to merge and concantenate datasets:\n",
    "# pd.merge?\n",
    "# pd.concat?"
   ]
  },
  {
   "cell_type": "code",
   "execution_count": 36,
   "metadata": {},
   "outputs": [
    {
     "data": {
      "text/html": [
       "<div>\n",
       "<style scoped>\n",
       "    .dataframe tbody tr th:only-of-type {\n",
       "        vertical-align: middle;\n",
       "    }\n",
       "\n",
       "    .dataframe tbody tr th {\n",
       "        vertical-align: top;\n",
       "    }\n",
       "\n",
       "    .dataframe thead th {\n",
       "        text-align: right;\n",
       "    }\n",
       "</style>\n",
       "<table border=\"1\" class=\"dataframe\">\n",
       "  <thead>\n",
       "    <tr style=\"text-align: right;\">\n",
       "      <th></th>\n",
       "      <th>country</th>\n",
       "      <th>math_score</th>\n",
       "      <th>iso2:</th>\n",
       "      <th>google_country_code</th>\n",
       "      <th>country_group</th>\n",
       "      <th>name_fr</th>\n",
       "      <th>name_de</th>\n",
       "      <th>latitude</th>\n",
       "      <th>longitude</th>\n",
       "    </tr>\n",
       "  </thead>\n",
       "  <tbody>\n",
       "    <tr>\n",
       "      <th>0</th>\n",
       "      <td>Argentina</td>\n",
       "      <td>389.339290</td>\n",
       "      <td>NaN</td>\n",
       "      <td>NaN</td>\n",
       "      <td>NaN</td>\n",
       "      <td>NaN</td>\n",
       "      <td>NaN</td>\n",
       "      <td>NaN</td>\n",
       "      <td>NaN</td>\n",
       "    </tr>\n",
       "    <tr>\n",
       "      <th>1</th>\n",
       "      <td>Finland</td>\n",
       "      <td>512.057620</td>\n",
       "      <td>fi</td>\n",
       "      <td>FI</td>\n",
       "      <td>eu</td>\n",
       "      <td>Finlande</td>\n",
       "      <td>Finnland</td>\n",
       "      <td>64.950159</td>\n",
       "      <td>26.067564</td>\n",
       "    </tr>\n",
       "    <tr>\n",
       "      <th>2</th>\n",
       "      <td>Japan</td>\n",
       "      <td>530.469790</td>\n",
       "      <td>NaN</td>\n",
       "      <td>NaN</td>\n",
       "      <td>NaN</td>\n",
       "      <td>NaN</td>\n",
       "      <td>NaN</td>\n",
       "      <td>NaN</td>\n",
       "      <td>NaN</td>\n",
       "    </tr>\n",
       "    <tr>\n",
       "      <th>3</th>\n",
       "      <td>Netherlands</td>\n",
       "      <td>518.278020</td>\n",
       "      <td>nl</td>\n",
       "      <td>NL</td>\n",
       "      <td>eu</td>\n",
       "      <td>Pays-Bas</td>\n",
       "      <td>Niederlande</td>\n",
       "      <td>52.108118</td>\n",
       "      <td>5.330198</td>\n",
       "    </tr>\n",
       "    <tr>\n",
       "      <th>4</th>\n",
       "      <td>New Zealand</td>\n",
       "      <td>497.699710</td>\n",
       "      <td>NaN</td>\n",
       "      <td>NaN</td>\n",
       "      <td>NaN</td>\n",
       "      <td>NaN</td>\n",
       "      <td>NaN</td>\n",
       "      <td>NaN</td>\n",
       "      <td>NaN</td>\n",
       "    </tr>\n",
       "    <tr>\n",
       "      <th>5</th>\n",
       "      <td>Norway</td>\n",
       "      <td>502.040590</td>\n",
       "      <td>no</td>\n",
       "      <td>NO</td>\n",
       "      <td>non-eu</td>\n",
       "      <td>Norvège</td>\n",
       "      <td>Norwegen</td>\n",
       "      <td>64.556460</td>\n",
       "      <td>12.665766</td>\n",
       "    </tr>\n",
       "    <tr>\n",
       "      <th>6</th>\n",
       "      <td>Romania</td>\n",
       "      <td>426.552610</td>\n",
       "      <td>ro</td>\n",
       "      <td>RO</td>\n",
       "      <td>eu</td>\n",
       "      <td>Roumanie</td>\n",
       "      <td>Rumänien</td>\n",
       "      <td>45.942611</td>\n",
       "      <td>24.990152</td>\n",
       "    </tr>\n",
       "    <tr>\n",
       "      <th>7</th>\n",
       "      <td>United States</td>\n",
       "      <td>473.907545</td>\n",
       "      <td>NaN</td>\n",
       "      <td>NaN</td>\n",
       "      <td>NaN</td>\n",
       "      <td>NaN</td>\n",
       "      <td>NaN</td>\n",
       "      <td>NaN</td>\n",
       "      <td>NaN</td>\n",
       "    </tr>\n",
       "  </tbody>\n",
       "</table>\n",
       "</div>"
      ],
      "text/plain": [
       "         country  math_score iso2: google_country_code country_group  \\\n",
       "0      Argentina  389.339290   NaN                 NaN           NaN   \n",
       "1        Finland  512.057620    fi                  FI            eu   \n",
       "2          Japan  530.469790   NaN                 NaN           NaN   \n",
       "3    Netherlands  518.278020    nl                  NL            eu   \n",
       "4    New Zealand  497.699710   NaN                 NaN           NaN   \n",
       "5         Norway  502.040590    no                  NO        non-eu   \n",
       "6        Romania  426.552610    ro                  RO            eu   \n",
       "7  United States  473.907545   NaN                 NaN           NaN   \n",
       "\n",
       "    name_fr      name_de   latitude  longitude  \n",
       "0       NaN          NaN        NaN        NaN  \n",
       "1  Finlande     Finnland  64.950159  26.067564  \n",
       "2       NaN          NaN        NaN        NaN  \n",
       "3  Pays-Bas  Niederlande  52.108118   5.330198  \n",
       "4       NaN          NaN        NaN        NaN  \n",
       "5   Norvège     Norwegen  64.556460  12.665766  \n",
       "6  Roumanie     Rumänien  45.942611  24.990152  \n",
       "7       NaN          NaN        NaN        NaN  "
      ]
     },
     "execution_count": 36,
     "metadata": {},
     "output_type": "execute_result"
    }
   ],
   "source": [
    "# NOTE: The 'countries' dataframe only lists countries in Europe\n",
    "\n",
    "# Experiment with how = 'inner' and how = 'right' to understand how pd.merge works\n",
    "\n",
    "combined = pd.merge(country_math_median, countries, on='country', how='left') \n",
    "combined"
   ]
  }
 ],
 "metadata": {
  "kernelspec": {
   "display_name": "APIs_geospatial",
   "language": "python",
   "name": "apis_geospatial"
  },
  "language_info": {
   "codemirror_mode": {
    "name": "ipython",
    "version": 3
   },
   "file_extension": ".py",
   "mimetype": "text/x-python",
   "name": "python",
   "nbconvert_exporter": "python",
   "pygments_lexer": "ipython3",
   "version": "3.7.3"
  }
 },
 "nbformat": 4,
 "nbformat_minor": 4
}
