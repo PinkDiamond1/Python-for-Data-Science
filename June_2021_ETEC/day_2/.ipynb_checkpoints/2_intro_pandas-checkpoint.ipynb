{
 "cells": [
  {
   "cell_type": "markdown",
   "metadata": {},
   "source": [
    "## Day 2: Session 2: Pandas\n",
    "In this session, we will use python's pandas library to read, clean, summarize and plot data.\n",
    "\n",
    "Today we are going to work with an example dataset, which is a simplified version of aggregated data you might derive from international education databases such as TIMSS (https://timss2019.org/international-database/) or PISA (https://www.oecd.org/pisa/data/2018database/). \n",
    "\n",
    "__Please note that this is mainly for training purposes and doesn’t reflect actual achievement in the countries included.__"
   ]
  },
  {
   "cell_type": "code",
   "execution_count": 1,
   "metadata": {},
   "outputs": [],
   "source": [
    "import numpy as np\n",
    "import pandas as pd"
   ]
  },
  {
   "cell_type": "code",
   "execution_count": 2,
   "metadata": {},
   "outputs": [],
   "source": [
    "# Set path to education outcomes dataset\n",
    "\n",
    "path = r'https://raw.githubusercontent.com/worldbank/Python-for-Data-Science/master/June_2021_ETEC/day_2/data/data_edu.csv'"
   ]
  },
  {
   "cell_type": "code",
   "execution_count": 3,
   "metadata": {},
   "outputs": [],
   "source": [
    "# Read data from csv file into dataframe\n",
    "\n",
    "df = pd.read_csv(path, encoding = 'utf_8')"
   ]
  },
  {
   "cell_type": "markdown",
   "metadata": {},
   "source": [
    "#### 1. Data Exploration"
   ]
  },
  {
   "cell_type": "code",
   "execution_count": 4,
   "metadata": {},
   "outputs": [
    {
     "data": {
      "text/plain": [
       "(50397, 18)"
      ]
     },
     "execution_count": 4,
     "metadata": {},
     "output_type": "execute_result"
    }
   ],
   "source": [
    "# Check dataframe shape: (# of observations, # of columns)\n",
    "\n",
    "df.shape"
   ]
  },
  {
   "cell_type": "code",
   "execution_count": 5,
   "metadata": {},
   "outputs": [
    {
     "data": {
      "text/html": [
       "<div>\n",
       "<style scoped>\n",
       "    .dataframe tbody tr th:only-of-type {\n",
       "        vertical-align: middle;\n",
       "    }\n",
       "\n",
       "    .dataframe tbody tr th {\n",
       "        vertical-align: top;\n",
       "    }\n",
       "\n",
       "    .dataframe thead th {\n",
       "        text-align: right;\n",
       "    }\n",
       "</style>\n",
       "<table border=\"1\" class=\"dataframe\">\n",
       "  <thead>\n",
       "    <tr style=\"text-align: right;\">\n",
       "      <th></th>\n",
       "      <th>country_id</th>\n",
       "      <th>country</th>\n",
       "      <th>country_school_id</th>\n",
       "      <th>country_student_id</th>\n",
       "      <th>student_gender</th>\n",
       "      <th>computer_at_home</th>\n",
       "      <th>internet_at_home</th>\n",
       "      <th>immigration_status</th>\n",
       "      <th>early_education</th>\n",
       "      <th>repeated_grades</th>\n",
       "      <th>school_location</th>\n",
       "      <th>school_type</th>\n",
       "      <th>school_size</th>\n",
       "      <th>class_size</th>\n",
       "      <th>socioeconomic_index</th>\n",
       "      <th>math_score</th>\n",
       "      <th>reading_score</th>\n",
       "      <th>parent_education</th>\n",
       "    </tr>\n",
       "  </thead>\n",
       "  <tbody>\n",
       "    <tr>\n",
       "      <th>0</th>\n",
       "      <td>Argentina</td>\n",
       "      <td>Argentina</td>\n",
       "      <td>3200001</td>\n",
       "      <td>3213049</td>\n",
       "      <td>Female</td>\n",
       "      <td>No</td>\n",
       "      <td>Yes</td>\n",
       "      <td>First-Generation</td>\n",
       "      <td>Attended ECEC for at least two but less than t...</td>\n",
       "      <td>Repeated a  grade</td>\n",
       "      <td>A city (100 000 to about 1 000 000 people)</td>\n",
       "      <td>Public</td>\n",
       "      <td>570</td>\n",
       "      <td>31-35 students</td>\n",
       "      <td>-1.3730</td>\n",
       "      <td>314.25031</td>\n",
       "      <td>424.07239</td>\n",
       "      <td>Post secondary, non-tertiary</td>\n",
       "    </tr>\n",
       "    <tr>\n",
       "      <th>1</th>\n",
       "      <td>Argentina</td>\n",
       "      <td>Argentina</td>\n",
       "      <td>3200001</td>\n",
       "      <td>3203374</td>\n",
       "      <td>Female</td>\n",
       "      <td>Yes</td>\n",
       "      <td>Yes</td>\n",
       "      <td>Native</td>\n",
       "      <td>Attended ECEC for at least two but less than t...</td>\n",
       "      <td>Did not repeat a  grade</td>\n",
       "      <td>A city (100 000 to about 1 000 000 people)</td>\n",
       "      <td>Public</td>\n",
       "      <td>570</td>\n",
       "      <td>31-35 students</td>\n",
       "      <td>-1.1825</td>\n",
       "      <td>356.07629</td>\n",
       "      <td>380.26309</td>\n",
       "      <td>Post secondary, non-tertiary</td>\n",
       "    </tr>\n",
       "  </tbody>\n",
       "</table>\n",
       "</div>"
      ],
      "text/plain": [
       "  country_id    country  country_school_id  country_student_id student_gender  \\\n",
       "0  Argentina  Argentina            3200001             3213049         Female   \n",
       "1  Argentina  Argentina            3200001             3203374         Female   \n",
       "\n",
       "  computer_at_home internet_at_home immigration_status  \\\n",
       "0               No              Yes   First-Generation   \n",
       "1              Yes              Yes             Native   \n",
       "\n",
       "                                     early_education          repeated_grades  \\\n",
       "0  Attended ECEC for at least two but less than t...        Repeated a  grade   \n",
       "1  Attended ECEC for at least two but less than t...  Did not repeat a  grade   \n",
       "\n",
       "                              school_location school_type school_size  \\\n",
       "0  A city (100 000 to about 1 000 000 people)      Public         570   \n",
       "1  A city (100 000 to about 1 000 000 people)      Public         570   \n",
       "\n",
       "       class_size  socioeconomic_index  math_score  reading_score  \\\n",
       "0  31-35 students              -1.3730   314.25031      424.07239   \n",
       "1  31-35 students              -1.1825   356.07629      380.26309   \n",
       "\n",
       "               parent_education  \n",
       "0  Post secondary, non-tertiary  \n",
       "1  Post secondary, non-tertiary  "
      ]
     },
     "execution_count": 5,
     "metadata": {},
     "output_type": "execute_result"
    }
   ],
   "source": [
    "# Inspect the first two rows of dataframe\n",
    "\n",
    "df.head(2) # df.tail(2) for last two observations"
   ]
  },
  {
   "cell_type": "code",
   "execution_count": 6,
   "metadata": {},
   "outputs": [
    {
     "data": {
      "text/plain": [
       "Index(['country_id', 'country', 'country_school_id', 'country_student_id',\n",
       "       'student_gender', 'computer_at_home', 'internet_at_home',\n",
       "       'immigration_status', 'early_education', 'repeated_grades',\n",
       "       'school_location', 'school_type', 'school_size', 'class_size',\n",
       "       'socioeconomic_index', 'math_score', 'reading_score',\n",
       "       'parent_education'],\n",
       "      dtype='object')"
      ]
     },
     "execution_count": 6,
     "metadata": {},
     "output_type": "execute_result"
    }
   ],
   "source": [
    "# Inspect dataframe columns\n",
    "\n",
    "df.columns"
   ]
  },
  {
   "cell_type": "code",
   "execution_count": 7,
   "metadata": {},
   "outputs": [
    {
     "name": "stdout",
     "output_type": "stream",
     "text": [
      "<class 'pandas.core.frame.DataFrame'>\n",
      "RangeIndex: 50397 entries, 0 to 50396\n",
      "Data columns (total 18 columns):\n",
      " #   Column               Non-Null Count  Dtype  \n",
      "---  ------               --------------  -----  \n",
      " 0   country_id           50397 non-null  object \n",
      " 1   country              50397 non-null  object \n",
      " 2   country_school_id    50397 non-null  int64  \n",
      " 3   country_student_id   50397 non-null  int64  \n",
      " 4   student_gender       50397 non-null  object \n",
      " 5   computer_at_home     49965 non-null  object \n",
      " 6   internet_at_home     49965 non-null  object \n",
      " 7   immigration_status   50397 non-null  object \n",
      " 8   early_education      50397 non-null  object \n",
      " 9   repeated_grades      50397 non-null  object \n",
      " 10  school_location      49511 non-null  object \n",
      " 11  school_type          50397 non-null  object \n",
      " 12  school_size          50397 non-null  object \n",
      " 13  class_size           49395 non-null  object \n",
      " 14  socioeconomic_index  49564 non-null  float64\n",
      " 15  math_score           50397 non-null  float64\n",
      " 16  reading_score        50397 non-null  float64\n",
      " 17  parent_education     50397 non-null  object \n",
      "dtypes: float64(3), int64(2), object(13)\n",
      "memory usage: 6.9+ MB\n"
     ]
    }
   ],
   "source": [
    "# Get a quick overview of the dataframe (columns, missing values, data types)\n",
    "\n",
    "df.info()"
   ]
  },
  {
   "cell_type": "code",
   "execution_count": 8,
   "metadata": {},
   "outputs": [
    {
     "data": {
      "text/html": [
       "<div>\n",
       "<style scoped>\n",
       "    .dataframe tbody tr th:only-of-type {\n",
       "        vertical-align: middle;\n",
       "    }\n",
       "\n",
       "    .dataframe tbody tr th {\n",
       "        vertical-align: top;\n",
       "    }\n",
       "\n",
       "    .dataframe thead th {\n",
       "        text-align: right;\n",
       "    }\n",
       "</style>\n",
       "<table border=\"1\" class=\"dataframe\">\n",
       "  <thead>\n",
       "    <tr style=\"text-align: right;\">\n",
       "      <th></th>\n",
       "      <th>country</th>\n",
       "      <th>school_type</th>\n",
       "      <th>reading_score</th>\n",
       "      <th>math_score</th>\n",
       "    </tr>\n",
       "  </thead>\n",
       "  <tbody>\n",
       "    <tr>\n",
       "      <th>0</th>\n",
       "      <td>Argentina</td>\n",
       "      <td>Public</td>\n",
       "      <td>424.07239</td>\n",
       "      <td>314.25031</td>\n",
       "    </tr>\n",
       "    <tr>\n",
       "      <th>1</th>\n",
       "      <td>Argentina</td>\n",
       "      <td>Public</td>\n",
       "      <td>380.26309</td>\n",
       "      <td>356.07629</td>\n",
       "    </tr>\n",
       "    <tr>\n",
       "      <th>2</th>\n",
       "      <td>Argentina</td>\n",
       "      <td>Public</td>\n",
       "      <td>384.89191</td>\n",
       "      <td>338.08029</td>\n",
       "    </tr>\n",
       "    <tr>\n",
       "      <th>3</th>\n",
       "      <td>Argentina</td>\n",
       "      <td>Public</td>\n",
       "      <td>392.88031</td>\n",
       "      <td>310.38690</td>\n",
       "    </tr>\n",
       "    <tr>\n",
       "      <th>4</th>\n",
       "      <td>Argentina</td>\n",
       "      <td>Public</td>\n",
       "      <td>452.03439</td>\n",
       "      <td>397.42441</td>\n",
       "    </tr>\n",
       "    <tr>\n",
       "      <th>...</th>\n",
       "      <td>...</td>\n",
       "      <td>...</td>\n",
       "      <td>...</td>\n",
       "      <td>...</td>\n",
       "    </tr>\n",
       "    <tr>\n",
       "      <th>50392</th>\n",
       "      <td>United States</td>\n",
       "      <td>Public</td>\n",
       "      <td>571.73859</td>\n",
       "      <td>543.91510</td>\n",
       "    </tr>\n",
       "    <tr>\n",
       "      <th>50393</th>\n",
       "      <td>United States</td>\n",
       "      <td>Public</td>\n",
       "      <td>632.34979</td>\n",
       "      <td>517.25360</td>\n",
       "    </tr>\n",
       "    <tr>\n",
       "      <th>50394</th>\n",
       "      <td>United States</td>\n",
       "      <td>Public</td>\n",
       "      <td>638.23328</td>\n",
       "      <td>579.05408</td>\n",
       "    </tr>\n",
       "    <tr>\n",
       "      <th>50395</th>\n",
       "      <td>United States</td>\n",
       "      <td>Public</td>\n",
       "      <td>339.23511</td>\n",
       "      <td>302.05261</td>\n",
       "    </tr>\n",
       "    <tr>\n",
       "      <th>50396</th>\n",
       "      <td>United States</td>\n",
       "      <td>Public</td>\n",
       "      <td>638.25922</td>\n",
       "      <td>525.31409</td>\n",
       "    </tr>\n",
       "  </tbody>\n",
       "</table>\n",
       "<p>50397 rows × 4 columns</p>\n",
       "</div>"
      ],
      "text/plain": [
       "             country school_type  reading_score  math_score\n",
       "0          Argentina      Public      424.07239   314.25031\n",
       "1          Argentina      Public      380.26309   356.07629\n",
       "2          Argentina      Public      384.89191   338.08029\n",
       "3          Argentina      Public      392.88031   310.38690\n",
       "4          Argentina      Public      452.03439   397.42441\n",
       "...              ...         ...            ...         ...\n",
       "50392  United States      Public      571.73859   543.91510\n",
       "50393  United States      Public      632.34979   517.25360\n",
       "50394  United States      Public      638.23328   579.05408\n",
       "50395  United States      Public      339.23511   302.05261\n",
       "50396  United States      Public      638.25922   525.31409\n",
       "\n",
       "[50397 rows x 4 columns]"
      ]
     },
     "execution_count": 8,
     "metadata": {},
     "output_type": "execute_result"
    }
   ],
   "source": [
    "# Filter dataframe by relevant columns\n",
    "\n",
    "list_of_relevant_columns = [\"country\", \"school_type\", \"reading_score\", \"math_score\"]\n",
    "\n",
    "df[list_of_relevant_columns]"
   ]
  },
  {
   "cell_type": "code",
   "execution_count": 9,
   "metadata": {},
   "outputs": [
    {
     "data": {
      "text/plain": [
       "50392    543.91510\n",
       "50393    517.25360\n",
       "50394    579.05408\n",
       "50395    302.05261\n",
       "50396    525.31409\n",
       "Name: math_score, dtype: float64"
      ]
     },
     "execution_count": 9,
     "metadata": {},
     "output_type": "execute_result"
    }
   ],
   "source": [
    "# Use square bracket notation to inspect a column \n",
    "\n",
    "df[\"math_score\"].tail()"
   ]
  },
  {
   "cell_type": "code",
   "execution_count": 10,
   "metadata": {},
   "outputs": [
    {
     "data": {
      "text/plain": [
       "50392    543.91510\n",
       "50393    517.25360\n",
       "50394    579.05408\n",
       "50395    302.05261\n",
       "50396    525.31409\n",
       "Name: math_score, dtype: float64"
      ]
     },
     "execution_count": 10,
     "metadata": {},
     "output_type": "execute_result"
    }
   ],
   "source": [
    "# Alternate method: using dot notation:\n",
    "\n",
    "df.math_score.tail()"
   ]
  },
  {
   "cell_type": "code",
   "execution_count": 11,
   "metadata": {},
   "outputs": [
    {
     "data": {
      "text/plain": [
       "469.53370103240275"
      ]
     },
     "execution_count": 11,
     "metadata": {},
     "output_type": "execute_result"
    }
   ],
   "source": [
    "# # Summarize select columns: \n",
    "\n",
    "df.math_score.mean()"
   ]
  },
  {
   "cell_type": "code",
   "execution_count": 12,
   "metadata": {},
   "outputs": [
    {
     "data": {
      "text/plain": [
       "count    50397.000000\n",
       "mean       469.533701\n",
       "std         96.473981\n",
       "min        128.113910\n",
       "25%        399.351590\n",
       "50%        470.627810\n",
       "75%        540.987120\n",
       "max        797.783020\n",
       "Name: math_score, dtype: float64"
      ]
     },
     "execution_count": 12,
     "metadata": {},
     "output_type": "execute_result"
    }
   ],
   "source": [
    "# For a more detailed summary: \n",
    "\n",
    "df.math_score.describe()"
   ]
  },
  {
   "cell_type": "code",
   "execution_count": 13,
   "metadata": {},
   "outputs": [
    {
     "data": {
      "text/plain": [
       "(19692, 18)"
      ]
     },
     "execution_count": 13,
     "metadata": {},
     "output_type": "execute_result"
    }
   ],
   "source": [
    "# Select a subset of the dataframe: i.e. values where a conditional statement is True\n",
    "\n",
    "df[df.math_score>500].shape"
   ]
  },
  {
   "cell_type": "code",
   "execution_count": 14,
   "metadata": {},
   "outputs": [
    {
     "data": {
      "text/plain": [
       "(30705, 18)"
      ]
     },
     "execution_count": 14,
     "metadata": {},
     "output_type": "execute_result"
    }
   ],
   "source": [
    "# Similarly\n",
    "\n",
    "df[df.math_score<=500].shape"
   ]
  },
  {
   "cell_type": "code",
   "execution_count": 15,
   "metadata": {},
   "outputs": [
    {
     "data": {
      "text/plain": [
       "(50397, 18)"
      ]
     },
     "execution_count": 15,
     "metadata": {},
     "output_type": "execute_result"
    }
   ],
   "source": [
    "# Together, the two subsets above make up the original dataframe\n",
    "\n",
    "df.shape"
   ]
  },
  {
   "cell_type": "code",
   "execution_count": 16,
   "metadata": {},
   "outputs": [
    {
     "data": {
      "text/plain": [
       "(6109, 18)"
      ]
     },
     "execution_count": 16,
     "metadata": {},
     "output_type": "execute_result"
    }
   ],
   "source": [
    "# We can also use conditions to create new dataframes\n",
    "# For example, if we want to look at data from a single country: \n",
    "\n",
    "df_japan = df[df.country==\"Japan\"]\n",
    "df_japan.shape"
   ]
  },
  {
   "cell_type": "code",
   "execution_count": 17,
   "metadata": {},
   "outputs": [
    {
     "data": {
      "text/plain": [
       "8"
      ]
     },
     "execution_count": 17,
     "metadata": {},
     "output_type": "execute_result"
    }
   ],
   "source": [
    "# Check the unique number of values in a column (good for categorical data)\n",
    "\n",
    "df.country.nunique()"
   ]
  },
  {
   "cell_type": "code",
   "execution_count": 18,
   "metadata": {},
   "outputs": [
    {
     "data": {
      "text/plain": [
       "array(['Argentina', 'Finland', 'Japan', 'Netherlands', 'New Zealand',\n",
       "       'Norway', 'Romania', 'United States'], dtype=object)"
      ]
     },
     "execution_count": 18,
     "metadata": {},
     "output_type": "execute_result"
    }
   ],
   "source": [
    "# Check what those unique values are: \n",
    "\n",
    "df.country.unique()"
   ]
  },
  {
   "cell_type": "code",
   "execution_count": 19,
   "metadata": {},
   "outputs": [
    {
     "data": {
      "text/plain": [
       "Did not repeat a  grade    32399\n",
       "No Response                13513\n",
       "Repeated a  grade           4485\n",
       "Name: repeated_grades, dtype: int64"
      ]
     },
     "execution_count": 19,
     "metadata": {},
     "output_type": "execute_result"
    }
   ],
   "source": [
    "# Useful for categorical variables:\n",
    "\n",
    "# .value_counts() return a Series containing unique values as its index and\n",
    "# frequencies as its values, in descending order.\n",
    "\n",
    "df.repeated_grades.value_counts()"
   ]
  },
  {
   "cell_type": "code",
   "execution_count": 20,
   "metadata": {},
   "outputs": [
    {
     "data": {
      "text/plain": [
       "Did not repeat a  grade    0.642876\n",
       "No Response                0.268131\n",
       "Repeated a  grade          0.088993\n",
       "Name: repeated_grades, dtype: float64"
      ]
     },
     "execution_count": 20,
     "metadata": {},
     "output_type": "execute_result"
    }
   ],
   "source": [
    "# Alternatively, to get the breakdown in percentages: \n",
    "\n",
    "df.repeated_grades.value_counts(normalize = True)"
   ]
  },
  {
   "cell_type": "code",
   "execution_count": 21,
   "metadata": {},
   "outputs": [
    {
     "data": {
      "text/html": [
       "<div>\n",
       "<style scoped>\n",
       "    .dataframe tbody tr th:only-of-type {\n",
       "        vertical-align: middle;\n",
       "    }\n",
       "\n",
       "    .dataframe tbody tr th {\n",
       "        vertical-align: top;\n",
       "    }\n",
       "\n",
       "    .dataframe thead th {\n",
       "        text-align: right;\n",
       "    }\n",
       "</style>\n",
       "<table border=\"1\" class=\"dataframe\">\n",
       "  <thead>\n",
       "    <tr style=\"text-align: right;\">\n",
       "      <th>student_gender</th>\n",
       "      <th>Female</th>\n",
       "      <th>Male</th>\n",
       "    </tr>\n",
       "    <tr>\n",
       "      <th>country</th>\n",
       "      <th></th>\n",
       "      <th></th>\n",
       "    </tr>\n",
       "  </thead>\n",
       "  <tbody>\n",
       "    <tr>\n",
       "      <th>Argentina</th>\n",
       "      <td>6232</td>\n",
       "      <td>5743</td>\n",
       "    </tr>\n",
       "    <tr>\n",
       "      <th>Finland</th>\n",
       "      <td>2772</td>\n",
       "      <td>2877</td>\n",
       "    </tr>\n",
       "    <tr>\n",
       "      <th>Japan</th>\n",
       "      <td>3120</td>\n",
       "      <td>2989</td>\n",
       "    </tr>\n",
       "    <tr>\n",
       "      <th>Netherlands</th>\n",
       "      <td>2330</td>\n",
       "      <td>2435</td>\n",
       "    </tr>\n",
       "    <tr>\n",
       "      <th>New Zealand</th>\n",
       "      <td>3154</td>\n",
       "      <td>3019</td>\n",
       "    </tr>\n",
       "    <tr>\n",
       "      <th>Norway</th>\n",
       "      <td>2880</td>\n",
       "      <td>2933</td>\n",
       "    </tr>\n",
       "    <tr>\n",
       "      <th>Romania</th>\n",
       "      <td>2444</td>\n",
       "      <td>2631</td>\n",
       "    </tr>\n",
       "    <tr>\n",
       "      <th>United States</th>\n",
       "      <td>2376</td>\n",
       "      <td>2462</td>\n",
       "    </tr>\n",
       "  </tbody>\n",
       "</table>\n",
       "</div>"
      ],
      "text/plain": [
       "student_gender  Female  Male\n",
       "country                     \n",
       "Argentina         6232  5743\n",
       "Finland           2772  2877\n",
       "Japan             3120  2989\n",
       "Netherlands       2330  2435\n",
       "New Zealand       3154  3019\n",
       "Norway            2880  2933\n",
       "Romania           2444  2631\n",
       "United States     2376  2462"
      ]
     },
     "execution_count": 21,
     "metadata": {},
     "output_type": "execute_result"
    }
   ],
   "source": [
    "# How are observations are distributed across country and student_gender?\n",
    "\n",
    "pd.crosstab(df.country, df.student_gender)"
   ]
  },
  {
   "cell_type": "code",
   "execution_count": 22,
   "metadata": {},
   "outputs": [
    {
     "data": {
      "text/html": [
       "<div>\n",
       "<style scoped>\n",
       "    .dataframe tbody tr th:only-of-type {\n",
       "        vertical-align: middle;\n",
       "    }\n",
       "\n",
       "    .dataframe tbody tr th {\n",
       "        vertical-align: top;\n",
       "    }\n",
       "\n",
       "    .dataframe thead th {\n",
       "        text-align: right;\n",
       "    }\n",
       "</style>\n",
       "<table border=\"1\" class=\"dataframe\">\n",
       "  <thead>\n",
       "    <tr style=\"text-align: right;\">\n",
       "      <th>student_gender</th>\n",
       "      <th>Female</th>\n",
       "      <th>Male</th>\n",
       "      <th>All</th>\n",
       "    </tr>\n",
       "    <tr>\n",
       "      <th>country</th>\n",
       "      <th></th>\n",
       "      <th></th>\n",
       "      <th></th>\n",
       "    </tr>\n",
       "  </thead>\n",
       "  <tbody>\n",
       "    <tr>\n",
       "      <th>Argentina</th>\n",
       "      <td>0.123658</td>\n",
       "      <td>0.113955</td>\n",
       "      <td>0.237613</td>\n",
       "    </tr>\n",
       "    <tr>\n",
       "      <th>Finland</th>\n",
       "      <td>0.055003</td>\n",
       "      <td>0.057087</td>\n",
       "      <td>0.112090</td>\n",
       "    </tr>\n",
       "    <tr>\n",
       "      <th>Japan</th>\n",
       "      <td>0.061908</td>\n",
       "      <td>0.059309</td>\n",
       "      <td>0.121218</td>\n",
       "    </tr>\n",
       "    <tr>\n",
       "      <th>Netherlands</th>\n",
       "      <td>0.046233</td>\n",
       "      <td>0.048316</td>\n",
       "      <td>0.094549</td>\n",
       "    </tr>\n",
       "    <tr>\n",
       "      <th>New Zealand</th>\n",
       "      <td>0.062583</td>\n",
       "      <td>0.059904</td>\n",
       "      <td>0.122487</td>\n",
       "    </tr>\n",
       "    <tr>\n",
       "      <th>Norway</th>\n",
       "      <td>0.057146</td>\n",
       "      <td>0.058198</td>\n",
       "      <td>0.115344</td>\n",
       "    </tr>\n",
       "    <tr>\n",
       "      <th>Romania</th>\n",
       "      <td>0.048495</td>\n",
       "      <td>0.052205</td>\n",
       "      <td>0.100700</td>\n",
       "    </tr>\n",
       "    <tr>\n",
       "      <th>United States</th>\n",
       "      <td>0.047146</td>\n",
       "      <td>0.048852</td>\n",
       "      <td>0.095998</td>\n",
       "    </tr>\n",
       "    <tr>\n",
       "      <th>All</th>\n",
       "      <td>0.502173</td>\n",
       "      <td>0.497827</td>\n",
       "      <td>1.000000</td>\n",
       "    </tr>\n",
       "  </tbody>\n",
       "</table>\n",
       "</div>"
      ],
      "text/plain": [
       "student_gender    Female      Male       All\n",
       "country                                     \n",
       "Argentina       0.123658  0.113955  0.237613\n",
       "Finland         0.055003  0.057087  0.112090\n",
       "Japan           0.061908  0.059309  0.121218\n",
       "Netherlands     0.046233  0.048316  0.094549\n",
       "New Zealand     0.062583  0.059904  0.122487\n",
       "Norway          0.057146  0.058198  0.115344\n",
       "Romania         0.048495  0.052205  0.100700\n",
       "United States   0.047146  0.048852  0.095998\n",
       "All             0.502173  0.497827  1.000000"
      ]
     },
     "execution_count": 22,
     "metadata": {},
     "output_type": "execute_result"
    }
   ],
   "source": [
    "# To get crosstab in percentages, with totals under \"All\"\n",
    "\n",
    "pd.crosstab(df.country, df.student_gender, normalize=True, margins = True)"
   ]
  },
  {
   "cell_type": "markdown",
   "metadata": {},
   "source": [
    "#### 2. Visualization: Call matplotlib from pandas\n",
    "\n",
    "MatPlotLib is a widely used plotting library. You can pass it data directly, either for data exploration purposes or to produce publication quality outputs. \n",
    "\n",
    "DataFrames have a helpful set of methods which call MatPlotLib directly."
   ]
  },
  {
   "cell_type": "code",
   "execution_count": 23,
   "metadata": {},
   "outputs": [
    {
     "data": {
      "text/plain": [
       "<AxesSubplot:ylabel='Frequency'>"
      ]
     },
     "execution_count": 23,
     "metadata": {},
     "output_type": "execute_result"
    },
    {
     "data": {
      "image/png": "[encoded data removed]",
      "text/plain": [
       "<Figure size 432x288 with 1 Axes>"
      ]
     },
     "metadata": {
      "needs_background": "light"
     },
     "output_type": "display_data"
    }
   ],
   "source": [
    "# Histogram: Examine how math scores are distributed\n",
    "\n",
    "df.math_score.plot(kind=\"hist\")"
   ]
  },
  {
   "cell_type": "code",
   "execution_count": 24,
   "metadata": {},
   "outputs": [
    {
     "data": {
      "text/plain": [
       "<AxesSubplot:>"
      ]
     },
     "execution_count": 24,
     "metadata": {},
     "output_type": "execute_result"
    },
    {
     "data": {
      "image/png": "[encoded data removed]",
      "text/plain": [
       "<Figure size 432x288 with 1 Axes>"
      ]
     },
     "metadata": {
      "needs_background": "light"
     },
     "output_type": "display_data"
    }
   ],
   "source": [
    "# Bar graph: for levels of parent education\n",
    "\n",
    "df.parent_education.value_counts().plot(kind = 'bar')"
   ]
  },
  {
   "cell_type": "code",
   "execution_count": 25,
   "metadata": {},
   "outputs": [
    {
     "data": {
      "text/plain": [
       "<AxesSubplot:ylabel='school_type'>"
      ]
     },
     "execution_count": 25,
     "metadata": {},
     "output_type": "execute_result"
    },
    {
     "data": {
      "image/png": "[encoded data removed]",
      "text/plain": [
       "<Figure size 432x288 with 1 Axes>"
      ]
     },
     "metadata": {},
     "output_type": "display_data"
    }
   ],
   "source": [
    "# Pie chart: for school_type\n",
    "\n",
    "df.school_type.value_counts().plot(kind = 'pie')"
   ]
  },
  {
   "cell_type": "code",
   "execution_count": 26,
   "metadata": {},
   "outputs": [
    {
     "data": {
      "text/plain": [
       "<AxesSubplot:title={'center':'Student Scores: Math and Reading'}, xlabel='math_score', ylabel='reading_score'>"
      ]
     },
     "execution_count": 26,
     "metadata": {},
     "output_type": "execute_result"
    },
    {
     "data": {
      "image/png": "[encoded data removed]",
      "text/plain": [
       "<Figure size 432x288 with 1 Axes>"
      ]
     },
     "metadata": {
      "needs_background": "light"
     },
     "output_type": "display_data"
    }
   ],
   "source": [
    "# Scatterplot: Math score vs Reading score\n",
    "\n",
    "df.plot(x = 'math_score', y = 'reading_score', kind = 'scatter', title = 'Student Scores: Math and Reading')"
   ]
  },
  {
   "cell_type": "markdown",
   "metadata": {},
   "source": [
    "### Data Munging or Data Wrangling: i.e. cleaning and manipulating datasets so they are fit for analysis"
   ]
  },
  {
   "cell_type": "markdown",
   "metadata": {},
   "source": [
    "#### 3. Rename columns "
   ]
  },
  {
   "cell_type": "code",
   "execution_count": 27,
   "metadata": {},
   "outputs": [],
   "source": [
    "new_column_names = {\"country_school_id\" : \"school_id\",\n",
    "                   \"country_student_id\" : \"student_id\"}\n",
    "\n",
    "df = df.rename(columns=new_column_names)"
   ]
  },
  {
   "cell_type": "code",
   "execution_count": 28,
   "metadata": {},
   "outputs": [
    {
     "data": {
      "text/plain": [
       "Index(['country_id', 'country', 'school_id', 'student_id', 'student_gender',\n",
       "       'computer_at_home', 'internet_at_home', 'immigration_status',\n",
       "       'early_education', 'repeated_grades', 'school_location', 'school_type',\n",
       "       'school_size', 'class_size', 'socioeconomic_index', 'math_score',\n",
       "       'reading_score', 'parent_education'],\n",
       "      dtype='object')"
      ]
     },
     "execution_count": 28,
     "metadata": {},
     "output_type": "execute_result"
    }
   ],
   "source": [
    "# Lets's check the column names again. Notice that we have successfully renamed the two columns above:\n",
    "\n",
    "df.columns"
   ]
  },
  {
   "cell_type": "markdown",
   "metadata": {},
   "source": [
    "#### 4. Drop columns"
   ]
  },
  {
   "cell_type": "code",
   "execution_count": 29,
   "metadata": {},
   "outputs": [],
   "source": [
    "# The country_id column seems redundant, so let's drop it:\n",
    "\n",
    "df.drop(columns=[\"country_id\"], inplace=True)"
   ]
  },
  {
   "cell_type": "code",
   "execution_count": 30,
   "metadata": {},
   "outputs": [
    {
     "data": {
      "text/plain": [
       "Index(['country', 'school_id', 'student_id', 'student_gender',\n",
       "       'computer_at_home', 'internet_at_home', 'immigration_status',\n",
       "       'early_education', 'repeated_grades', 'school_location', 'school_type',\n",
       "       'school_size', 'class_size', 'socioeconomic_index', 'math_score',\n",
       "       'reading_score', 'parent_education'],\n",
       "      dtype='object')"
      ]
     },
     "execution_count": 30,
     "metadata": {},
     "output_type": "execute_result"
    }
   ],
   "source": [
    "df.columns"
   ]
  },
  {
   "cell_type": "code",
   "execution_count": 31,
   "metadata": {},
   "outputs": [
    {
     "data": {
      "text/html": [
       "<div>\n",
       "<style scoped>\n",
       "    .dataframe tbody tr th:only-of-type {\n",
       "        vertical-align: middle;\n",
       "    }\n",
       "\n",
       "    .dataframe tbody tr th {\n",
       "        vertical-align: top;\n",
       "    }\n",
       "\n",
       "    .dataframe thead th {\n",
       "        text-align: right;\n",
       "    }\n",
       "</style>\n",
       "<table border=\"1\" class=\"dataframe\">\n",
       "  <thead>\n",
       "    <tr style=\"text-align: right;\">\n",
       "      <th></th>\n",
       "      <th>country</th>\n",
       "      <th>math_score</th>\n",
       "      <th>reading_score</th>\n",
       "    </tr>\n",
       "  </thead>\n",
       "  <tbody>\n",
       "    <tr>\n",
       "      <th>0</th>\n",
       "      <td>Argentina</td>\n",
       "      <td>314.25031</td>\n",
       "      <td>424.07239</td>\n",
       "    </tr>\n",
       "    <tr>\n",
       "      <th>1</th>\n",
       "      <td>Argentina</td>\n",
       "      <td>356.07629</td>\n",
       "      <td>380.26309</td>\n",
       "    </tr>\n",
       "    <tr>\n",
       "      <th>2</th>\n",
       "      <td>Argentina</td>\n",
       "      <td>338.08029</td>\n",
       "      <td>384.89191</td>\n",
       "    </tr>\n",
       "    <tr>\n",
       "      <th>3</th>\n",
       "      <td>Argentina</td>\n",
       "      <td>310.38690</td>\n",
       "      <td>392.88031</td>\n",
       "    </tr>\n",
       "    <tr>\n",
       "      <th>4</th>\n",
       "      <td>Argentina</td>\n",
       "      <td>397.42441</td>\n",
       "      <td>452.03439</td>\n",
       "    </tr>\n",
       "    <tr>\n",
       "      <th>...</th>\n",
       "      <td>...</td>\n",
       "      <td>...</td>\n",
       "      <td>...</td>\n",
       "    </tr>\n",
       "    <tr>\n",
       "      <th>50392</th>\n",
       "      <td>United States</td>\n",
       "      <td>543.91510</td>\n",
       "      <td>571.73859</td>\n",
       "    </tr>\n",
       "    <tr>\n",
       "      <th>50393</th>\n",
       "      <td>United States</td>\n",
       "      <td>517.25360</td>\n",
       "      <td>632.34979</td>\n",
       "    </tr>\n",
       "    <tr>\n",
       "      <th>50394</th>\n",
       "      <td>United States</td>\n",
       "      <td>579.05408</td>\n",
       "      <td>638.23328</td>\n",
       "    </tr>\n",
       "    <tr>\n",
       "      <th>50395</th>\n",
       "      <td>United States</td>\n",
       "      <td>302.05261</td>\n",
       "      <td>339.23511</td>\n",
       "    </tr>\n",
       "    <tr>\n",
       "      <th>50396</th>\n",
       "      <td>United States</td>\n",
       "      <td>525.31409</td>\n",
       "      <td>638.25922</td>\n",
       "    </tr>\n",
       "  </tbody>\n",
       "</table>\n",
       "<p>50397 rows × 3 columns</p>\n",
       "</div>"
      ],
      "text/plain": [
       "             country  math_score  reading_score\n",
       "0          Argentina   314.25031      424.07239\n",
       "1          Argentina   356.07629      380.26309\n",
       "2          Argentina   338.08029      384.89191\n",
       "3          Argentina   310.38690      392.88031\n",
       "4          Argentina   397.42441      452.03439\n",
       "...              ...         ...            ...\n",
       "50392  United States   543.91510      571.73859\n",
       "50393  United States   517.25360      632.34979\n",
       "50394  United States   579.05408      638.23328\n",
       "50395  United States   302.05261      339.23511\n",
       "50396  United States   525.31409      638.25922\n",
       "\n",
       "[50397 rows x 3 columns]"
      ]
     },
     "execution_count": 31,
     "metadata": {},
     "output_type": "execute_result"
    }
   ],
   "source": [
    "# Alternately, we can also select columns to keep: \n",
    "\n",
    "df[[\"country\", \"math_score\", \"reading_score\"]]"
   ]
  },
  {
   "cell_type": "markdown",
   "metadata": {},
   "source": [
    "#### 5. New column based on other columns"
   ]
  },
  {
   "cell_type": "code",
   "execution_count": 32,
   "metadata": {},
   "outputs": [
    {
     "data": {
      "text/html": [
       "<div>\n",
       "<style scoped>\n",
       "    .dataframe tbody tr th:only-of-type {\n",
       "        vertical-align: middle;\n",
       "    }\n",
       "\n",
       "    .dataframe tbody tr th {\n",
       "        vertical-align: top;\n",
       "    }\n",
       "\n",
       "    .dataframe thead th {\n",
       "        text-align: right;\n",
       "    }\n",
       "</style>\n",
       "<table border=\"1\" class=\"dataframe\">\n",
       "  <thead>\n",
       "    <tr style=\"text-align: right;\">\n",
       "      <th></th>\n",
       "      <th>total_score</th>\n",
       "      <th>math_score</th>\n",
       "      <th>reading_score</th>\n",
       "    </tr>\n",
       "  </thead>\n",
       "  <tbody>\n",
       "    <tr>\n",
       "      <th>18817</th>\n",
       "      <td>944.17670</td>\n",
       "      <td>480.08609</td>\n",
       "      <td>464.09061</td>\n",
       "    </tr>\n",
       "    <tr>\n",
       "      <th>45788</th>\n",
       "      <td>1195.11761</td>\n",
       "      <td>564.08313</td>\n",
       "      <td>631.03448</td>\n",
       "    </tr>\n",
       "    <tr>\n",
       "      <th>8756</th>\n",
       "      <td>917.94900</td>\n",
       "      <td>453.97369</td>\n",
       "      <td>463.97531</td>\n",
       "    </tr>\n",
       "    <tr>\n",
       "      <th>48237</th>\n",
       "      <td>1148.24420</td>\n",
       "      <td>526.69940</td>\n",
       "      <td>621.54480</td>\n",
       "    </tr>\n",
       "    <tr>\n",
       "      <th>50303</th>\n",
       "      <td>774.07709</td>\n",
       "      <td>363.80850</td>\n",
       "      <td>410.26859</td>\n",
       "    </tr>\n",
       "  </tbody>\n",
       "</table>\n",
       "</div>"
      ],
      "text/plain": [
       "       total_score  math_score  reading_score\n",
       "18817    944.17670   480.08609      464.09061\n",
       "45788   1195.11761   564.08313      631.03448\n",
       "8756     917.94900   453.97369      463.97531\n",
       "48237   1148.24420   526.69940      621.54480\n",
       "50303    774.07709   363.80850      410.26859"
      ]
     },
     "execution_count": 32,
     "metadata": {},
     "output_type": "execute_result"
    }
   ],
   "source": [
    "# Using the + operator \n",
    "\n",
    "df[\"total_score\"] = df[\"math_score\"] + df[\"reading_score\"]\n",
    "\n",
    "df[[\"total_score\", \"math_score\", \"reading_score\"]].sample(5)"
   ]
  },
  {
   "cell_type": "markdown",
   "metadata": {},
   "source": [
    "#### 6. Handle missing values"
   ]
  },
  {
   "cell_type": "code",
   "execution_count": 33,
   "metadata": {},
   "outputs": [
    {
     "data": {
      "text/plain": [
       "country                   0\n",
       "school_id                 0\n",
       "student_id                0\n",
       "student_gender            0\n",
       "computer_at_home        432\n",
       "internet_at_home        432\n",
       "immigration_status        0\n",
       "early_education           0\n",
       "repeated_grades           0\n",
       "school_location         886\n",
       "school_type               0\n",
       "school_size               0\n",
       "class_size             1002\n",
       "socioeconomic_index     833\n",
       "math_score                0\n",
       "reading_score             0\n",
       "parent_education          0\n",
       "total_score               0\n",
       "dtype: int64"
      ]
     },
     "execution_count": 33,
     "metadata": {},
     "output_type": "execute_result"
    }
   ],
   "source": [
    "# Missing values for each column\n",
    "\n",
    "df.isnull().sum()"
   ]
  },
  {
   "cell_type": "code",
   "execution_count": 34,
   "metadata": {},
   "outputs": [
    {
     "data": {
      "text/plain": [
       "Invalid        11986\n",
       "No Response     2222\n",
       "322              176\n",
       "392              170\n",
       "350              157\n",
       "               ...  \n",
       "22                 2\n",
       "40                 2\n",
       "8                  2\n",
       "54                 1\n",
       "39                 1\n",
       "Name: school_size, Length: 863, dtype: int64"
      ]
     },
     "execution_count": 34,
     "metadata": {},
     "output_type": "execute_result"
    }
   ],
   "source": [
    "# But there are other values like \"No Response\" and \"Invalid\" that are not currently counted as None or Null: \n",
    "\n",
    "df.school_size.value_counts()"
   ]
  },
  {
   "cell_type": "code",
   "execution_count": 35,
   "metadata": {},
   "outputs": [
    {
     "data": {
      "text/plain": [
       "14208"
      ]
     },
     "execution_count": 35,
     "metadata": {},
     "output_type": "execute_result"
    }
   ],
   "source": [
    "# One way of re-assigning these values as None:\n",
    "df.loc[(df[\"school_size\"] == \"No Response\")|(df[\"school_size\"] == \"Invalid\"),\"school_size\"] = np.nan\n",
    "df.school_size.isna().sum()"
   ]
  },
  {
   "cell_type": "markdown",
   "metadata": {},
   "source": [
    "#### Decide what steps to take, eg:\n",
    "* deduce the missing values (eg. internet_at_home from socioeconomic index)\n",
    "* fill NaNs using mean, median or a custom strategy (Look up: df.fillna?)\n",
    "* drop rows with missing values (Look up: df.dropna?)"
   ]
  },
  {
   "cell_type": "code",
   "execution_count": 36,
   "metadata": {},
   "outputs": [
    {
     "data": {
      "text/plain": [
       "\u001b[0;31mSignature:\u001b[0m\n",
       "\u001b[0mdf\u001b[0m\u001b[0;34m.\u001b[0m\u001b[0mfillna\u001b[0m\u001b[0;34m(\u001b[0m\u001b[0;34m\u001b[0m\n",
       "\u001b[0;34m\u001b[0m    \u001b[0mvalue\u001b[0m\u001b[0;34m=\u001b[0m\u001b[0;32mNone\u001b[0m\u001b[0;34m,\u001b[0m\u001b[0;34m\u001b[0m\n",
       "\u001b[0;34m\u001b[0m    \u001b[0mmethod\u001b[0m\u001b[0;34m=\u001b[0m\u001b[0;32mNone\u001b[0m\u001b[0;34m,\u001b[0m\u001b[0;34m\u001b[0m\n",
       "\u001b[0;34m\u001b[0m    \u001b[0maxis\u001b[0m\u001b[0;34m=\u001b[0m\u001b[0;32mNone\u001b[0m\u001b[0;34m,\u001b[0m\u001b[0;34m\u001b[0m\n",
       "\u001b[0;34m\u001b[0m    \u001b[0minplace\u001b[0m\u001b[0;34m=\u001b[0m\u001b[0;32mFalse\u001b[0m\u001b[0;34m,\u001b[0m\u001b[0;34m\u001b[0m\n",
       "\u001b[0;34m\u001b[0m    \u001b[0mlimit\u001b[0m\u001b[0;34m=\u001b[0m\u001b[0;32mNone\u001b[0m\u001b[0;34m,\u001b[0m\u001b[0;34m\u001b[0m\n",
       "\u001b[0;34m\u001b[0m    \u001b[0mdowncast\u001b[0m\u001b[0;34m=\u001b[0m\u001b[0;32mNone\u001b[0m\u001b[0;34m,\u001b[0m\u001b[0;34m\u001b[0m\n",
       "\u001b[0;34m\u001b[0m\u001b[0;34m)\u001b[0m \u001b[0;34m->\u001b[0m \u001b[0mUnion\u001b[0m\u001b[0;34m[\u001b[0m\u001b[0mForwardRef\u001b[0m\u001b[0;34m(\u001b[0m\u001b[0;34m'DataFrame'\u001b[0m\u001b[0;34m)\u001b[0m\u001b[0;34m,\u001b[0m \u001b[0mNoneType\u001b[0m\u001b[0;34m]\u001b[0m\u001b[0;34m\u001b[0m\u001b[0;34m\u001b[0m\u001b[0m\n",
       "\u001b[0;31mDocstring:\u001b[0m\n",
       "Fill NA/NaN values using the specified method.\n",
       "\n",
       "Parameters\n",
       "----------\n",
       "value : scalar, dict, Series, or DataFrame\n",
       "    Value to use to fill holes (e.g. 0), alternately a\n",
       "    dict/Series/DataFrame of values specifying which value to use for\n",
       "    each index (for a Series) or column (for a DataFrame).  Values not\n",
       "    in the dict/Series/DataFrame will not be filled. This value cannot\n",
       "    be a list.\n",
       "method : {'backfill', 'bfill', 'pad', 'ffill', None}, default None\n",
       "    Method to use for filling holes in reindexed Series\n",
       "    pad / ffill: propagate last valid observation forward to next valid\n",
       "    backfill / bfill: use next valid observation to fill gap.\n",
       "axis : {0 or 'index', 1 or 'columns'}\n",
       "    Axis along which to fill missing values.\n",
       "inplace : bool, default False\n",
       "    If True, fill in-place. Note: this will modify any\n",
       "    other views on this object (e.g., a no-copy slice for a column in a\n",
       "    DataFrame).\n",
       "limit : int, default None\n",
       "    If method is specified, this is the maximum number of consecutive\n",
       "    NaN values to forward/backward fill. In other words, if there is\n",
       "    a gap with more than this number of consecutive NaNs, it will only\n",
       "    be partially filled. If method is not specified, this is the\n",
       "    maximum number of entries along the entire axis where NaNs will be\n",
       "    filled. Must be greater than 0 if not None.\n",
       "downcast : dict, default is None\n",
       "    A dict of item->dtype of what to downcast if possible,\n",
       "    or the string 'infer' which will try to downcast to an appropriate\n",
       "    equal type (e.g. float64 to int64 if possible).\n",
       "\n",
       "Returns\n",
       "-------\n",
       "DataFrame or None\n",
       "    Object with missing values filled or None if ``inplace=True``.\n",
       "\n",
       "See Also\n",
       "--------\n",
       "interpolate : Fill NaN values using interpolation.\n",
       "reindex : Conform object to new index.\n",
       "asfreq : Convert TimeSeries to specified frequency.\n",
       "\n",
       "Examples\n",
       "--------\n",
       ">>> df = pd.DataFrame([[np.nan, 2, np.nan, 0],\n",
       "...                    [3, 4, np.nan, 1],\n",
       "...                    [np.nan, np.nan, np.nan, 5],\n",
       "...                    [np.nan, 3, np.nan, 4]],\n",
       "...                   columns=list('ABCD'))\n",
       ">>> df\n",
       "     A    B   C  D\n",
       "0  NaN  2.0 NaN  0\n",
       "1  3.0  4.0 NaN  1\n",
       "2  NaN  NaN NaN  5\n",
       "3  NaN  3.0 NaN  4\n",
       "\n",
       "Replace all NaN elements with 0s.\n",
       "\n",
       ">>> df.fillna(0)\n",
       "    A   B   C   D\n",
       "0   0.0 2.0 0.0 0\n",
       "1   3.0 4.0 0.0 1\n",
       "2   0.0 0.0 0.0 5\n",
       "3   0.0 3.0 0.0 4\n",
       "\n",
       "We can also propagate non-null values forward or backward.\n",
       "\n",
       ">>> df.fillna(method='ffill')\n",
       "    A   B   C   D\n",
       "0   NaN 2.0 NaN 0\n",
       "1   3.0 4.0 NaN 1\n",
       "2   3.0 4.0 NaN 5\n",
       "3   3.0 3.0 NaN 4\n",
       "\n",
       "Replace all NaN elements in column 'A', 'B', 'C', and 'D', with 0, 1,\n",
       "2, and 3 respectively.\n",
       "\n",
       ">>> values = {'A': 0, 'B': 1, 'C': 2, 'D': 3}\n",
       ">>> df.fillna(value=values)\n",
       "    A   B   C   D\n",
       "0   0.0 2.0 2.0 0\n",
       "1   3.0 4.0 2.0 1\n",
       "2   0.0 1.0 2.0 5\n",
       "3   0.0 3.0 2.0 4\n",
       "\n",
       "Only replace the first NaN element.\n",
       "\n",
       ">>> df.fillna(value=values, limit=1)\n",
       "    A   B   C   D\n",
       "0   0.0 2.0 2.0 0\n",
       "1   3.0 4.0 NaN 1\n",
       "2   NaN 1.0 NaN 5\n",
       "3   NaN 3.0 NaN 4\n",
       "\u001b[0;31mFile:\u001b[0m      /anaconda3/envs/flaring/lib/python3.8/site-packages/pandas/core/frame.py\n",
       "\u001b[0;31mType:\u001b[0m      method\n"
      ]
     },
     "metadata": {},
     "output_type": "display_data"
    }
   ],
   "source": [
    "# check how a method works and what parameters it needs\n",
    "\n",
    "df.fillna?"
   ]
  },
  {
   "cell_type": "code",
   "execution_count": 37,
   "metadata": {},
   "outputs": [
    {
     "name": "stdout",
     "output_type": "stream",
     "text": [
      "original shape:  (50397, 18)\n",
      "new shape:  (35768, 18)\n"
     ]
    }
   ],
   "source": [
    "# What happens if we drop all rows with Null values? \n",
    "\n",
    "print('original shape: ', df.shape)\n",
    "\n",
    "print('new shape: ', df.dropna().shape) # NOTE: here, inplace = False by default"
   ]
  }
 ],
 "metadata": {
  "kernelspec": {
   "display_name": "flaring",
   "language": "python",
   "name": "flaring"
  },
  "language_info": {
   "codemirror_mode": {
    "name": "ipython",
    "version": 3
   },
   "file_extension": ".py",
   "mimetype": "text/x-python",
   "name": "python",
   "nbconvert_exporter": "python",
   "pygments_lexer": "ipython3",
   "version": "3.8.6"
  }
 },
 "nbformat": 4,
 "nbformat_minor": 4
}
