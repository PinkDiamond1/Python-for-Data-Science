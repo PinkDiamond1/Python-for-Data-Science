{
 "cells": [
  {
   "cell_type": "markdown",
   "metadata": {},
   "source": [
    "# Lab 1\n",
    "\n",
    "Answer the exercises or complete the tasks, using the specific method described if applicable."
   ]
  },
  {
   "cell_type": "markdown",
   "metadata": {},
   "source": [
    "#### EXERCISE 1: Album collection\n",
    "Sort these albums into alphabetical order"
   ]
  },
  {
   "cell_type": "code",
   "execution_count": 1,
   "metadata": {},
   "outputs": [],
   "source": [
    "albums = ['Piper At The Gates of Dawn',\n",
    "          'Ummagumma',\n",
    "          'Obscured By Clouds',\n",
    "          'Dark Side Of The Moon']"
   ]
  },
  {
   "cell_type": "code",
   "execution_count": 2,
   "metadata": {},
   "outputs": [
    {
     "data": {
      "text/plain": [
       "['Dark Side Of The Moon',\n",
       " 'Obscured By Clouds',\n",
       " 'Piper At The Gates of Dawn',\n",
       " 'Ummagumma']"
      ]
     },
     "execution_count": 2,
     "metadata": {},
     "output_type": "execute_result"
    }
   ],
   "source": [
    "# YOUR CODE HERE:\n"
   ]
  },
  {
   "cell_type": "markdown",
   "metadata": {},
   "source": [
    "They were recorded in 1967, 1969, 1972 and 1973 respectively. Make a dictionary called album_dict where the key-value pairs are album name and date. Check it worked by retrieving the date of Ummagumma."
   ]
  },
  {
   "cell_type": "code",
   "execution_count": 3,
   "metadata": {
    "scrolled": true
   },
   "outputs": [
    {
     "data": {
      "text/plain": [
       "'1969'"
      ]
     },
     "execution_count": 3,
     "metadata": {},
     "output_type": "execute_result"
    }
   ],
   "source": [
    "# YOUR CODE HERE\n",
    "album_dict = {} "
   ]
  },
  {
   "cell_type": "markdown",
   "metadata": {},
   "source": [
    "#### EXERCISE 2: Shopping spree\n",
    "Write a program to iterate through `shopping_list` (a dictionary containing items and their price). As each item is added, print its name and the running total. If an item cost more than 15 dollars, print \"Warning: expensive!\""
   ]
  },
  {
   "cell_type": "code",
   "execution_count": 4,
   "metadata": {},
   "outputs": [],
   "source": [
    "shopping_list = {'green eggs': 3.09,\n",
    "                'ham': 5.99,\n",
    "                'christmas tree': 45.00,\n",
    "                'caviar': 299.99,\n",
    "                'newspaper': 3.50}"
   ]
  },
  {
   "cell_type": "code",
   "execution_count": 5,
   "metadata": {},
   "outputs": [
    {
     "name": "stdout",
     "output_type": "stream",
     "text": [
      "green eggs\n",
      "total so far:  3.09\n",
      "\n",
      "ham\n",
      "total so far:  9.08\n",
      "\n",
      "christmas tree\n",
      "total so far:  54.08\n",
      "---> Warning: expensive!\n",
      "\n",
      "caviar\n",
      "total so far:  354.07\n",
      "---> Warning: expensive!\n",
      "\n",
      "newspaper\n",
      "total so far:  357.57\n",
      "\n"
     ]
    }
   ],
   "source": [
    "# YOUR CODE HERE:\n"
   ]
  },
  {
   "cell_type": "markdown",
   "metadata": {},
   "source": [
    "#### EXERCISE 3: Functions"
   ]
  },
  {
   "cell_type": "markdown",
   "metadata": {},
   "source": [
    "**Create a function to replace 'not bad' with 'really good' in a string, and add exclamation marks. Your function takes one parameter: my_string.** Bonus: apply it to each of the three strings using a for loop."
   ]
  },
  {
   "cell_type": "code",
   "execution_count": 11,
   "metadata": {},
   "outputs": [],
   "source": [
    "# YOUR FUNCTION HERE:\n",
    "\n",
    "def add_enthusiasm(my_string, number_exclamation_marks):\n",
    "    "
   ]
  },
  {
   "cell_type": "code",
   "execution_count": 12,
   "metadata": {},
   "outputs": [],
   "source": [
    "string1 = 'This chicken curry is not bad'\n",
    "string2 = \"Nick's ukulele playing is not bad\"\n",
    "string3 = 'Our Python instructors are not bad'"
   ]
  },
  {
   "cell_type": "code",
   "execution_count": 13,
   "metadata": {},
   "outputs": [
    {
     "data": {
      "text/plain": [
       "'This chicken curry is really good!!!'"
      ]
     },
     "execution_count": 13,
     "metadata": {},
     "output_type": "execute_result"
    }
   ],
   "source": [
    "add_enthusiasm(string1, 3)"
   ]
  },
  {
   "cell_type": "code",
   "execution_count": 14,
   "metadata": {},
   "outputs": [
    {
     "name": "stdout",
     "output_type": "stream",
     "text": [
      "This chicken curry is really good!!!!!!!!!\n",
      "Nick's ukulele playing is really good!!!!!!!!\n",
      "Our Python instructors are really good!!!!!!\n"
     ]
    }
   ],
   "source": [
    "# YOUR CODE HERE:\n",
    "  \n",
    "\n",
    "print(\"This chicken curry is really good!!!!!!\")\n",
    "print(\"Nick's ukulele playing is really good!!\")\n",
    "print(\"Our Python instructors are really good!\")"
   ]
  },
  {
   "cell_type": "markdown",
   "metadata": {},
   "source": [
    "#### EXERCISE 4: Count nines\n",
    "Write a function to count the instances of integer 9 in a list"
   ]
  },
  {
   "cell_type": "code",
   "execution_count": 24,
   "metadata": {},
   "outputs": [],
   "source": [
    "# YOUR FUNCTION HERE:\n"
   ]
  },
  {
   "cell_type": "code",
   "execution_count": 25,
   "metadata": {},
   "outputs": [],
   "source": [
    "my_list = [0,3,2,4,9,9,3]"
   ]
  },
  {
   "cell_type": "code",
   "execution_count": 26,
   "metadata": {},
   "outputs": [
    {
     "data": {
      "text/plain": [
       "2"
      ]
     },
     "execution_count": 26,
     "metadata": {},
     "output_type": "execute_result"
    }
   ],
   "source": [
    "count_nines(my_list)"
   ]
  }
 ],
 "metadata": {
  "kernelspec": {
   "display_name": "Python 3",
   "language": "python",
   "name": "python3"
  },
  "language_info": {
   "codemirror_mode": {
    "name": "ipython",
    "version": 3
   },
   "file_extension": ".py",
   "mimetype": "text/x-python",
   "name": "python",
   "nbconvert_exporter": "python",
   "pygments_lexer": "ipython3",
   "version": "3.7.3"
  }
 },
 "nbformat": 4,
 "nbformat_minor": 2
}
