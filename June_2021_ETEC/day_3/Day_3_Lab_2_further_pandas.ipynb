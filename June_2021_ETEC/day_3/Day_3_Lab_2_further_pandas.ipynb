{
 "cells": [
  {
   "cell_type": "markdown",
   "metadata": {},
   "source": [
    "## Day 3: Pandas Lab: \n",
    "\n",
    "### Further Practice on:\n",
    "* renaming dataframe columns\n",
    "* df.groupby()\n",
    "* pd.merge()\n",
    "* Accessing data via APIs"
   ]
  },
  {
   "cell_type": "markdown",
   "metadata": {},
   "source": [
    "### Motivating Question: \n",
    "How is GDP per capita associated to the socioeconomic_index metric we saw in our sample education outcomes dataset? \n",
    "\n",
    "Can we visualize the relationship between the two? "
   ]
  },
  {
   "cell_type": "code",
   "execution_count": null,
   "metadata": {},
   "outputs": [],
   "source": [
    "!pip install wbgapi"
   ]
  },
  {
   "cell_type": "code",
   "execution_count": 1,
   "metadata": {},
   "outputs": [],
   "source": [
    "import numpy as np\n",
    "import pandas as pd\n",
    "\n",
    "import wbgapi as wbg\n",
    "import json\n",
    "import requests"
   ]
  },
  {
   "cell_type": "markdown",
   "metadata": {},
   "source": [
    "In this exercise, we will access a few datasets from web sources via their Application Programming Interface (APIs).\n",
    "\n",
    "NOTE: For more information on APIs, skip to the bottom of this notebook! "
   ]
  },
  {
   "cell_type": "markdown",
   "metadata": {},
   "source": [
    "### STEP 1: Create dataframe _df_gdp_pc_ with data on Gross Domestic Product (GDP) Per Capita for countries"
   ]
  },
  {
   "cell_type": "markdown",
   "metadata": {},
   "source": [
    "In this section we pull in data on GDP per capita from the World Bank's World Development Indicators API: \n",
    "\n",
    "https://datahelpdesk.worldbank.org/knowledgebase/topics/125589-developer-information\n",
    "\n",
    "https://pypi.org/project/wbgapi/"
   ]
  },
  {
   "cell_type": "code",
   "execution_count": 2,
   "metadata": {},
   "outputs": [],
   "source": [
    "# df_gdp_pc is a dataframe that pulls in GDP per capita data for the past 2 years\n",
    "\n",
    "df_gdp_pc = wbg.data.DataFrame(series=['NY.GDP.PCAP.CD'], mrv=2).reset_index()"
   ]
  },
  {
   "cell_type": "markdown",
   "metadata": {},
   "source": [
    "NOTE: If we were interested in getting data for total population by country, we would use the name of that indicator ('SP.POP.TOTL') instead \n",
    "    \n",
    "```df_pop = wbg.data.DataFrame(series=['SP.POP.TOTL'], mrv=3)```"
   ]
  },
  {
   "cell_type": "code",
   "execution_count": 3,
   "metadata": {},
   "outputs": [
    {
     "data": {
      "text/html": [
       "<div>\n",
       "<style scoped>\n",
       "    .dataframe tbody tr th:only-of-type {\n",
       "        vertical-align: middle;\n",
       "    }\n",
       "\n",
       "    .dataframe tbody tr th {\n",
       "        vertical-align: top;\n",
       "    }\n",
       "\n",
       "    .dataframe thead th {\n",
       "        text-align: right;\n",
       "    }\n",
       "</style>\n",
       "<table border=\"1\" class=\"dataframe\">\n",
       "  <thead>\n",
       "    <tr style=\"text-align: right;\">\n",
       "      <th></th>\n",
       "      <th>economy</th>\n",
       "      <th>YR2018</th>\n",
       "      <th>YR2019</th>\n",
       "    </tr>\n",
       "  </thead>\n",
       "  <tbody>\n",
       "    <tr>\n",
       "      <th>0</th>\n",
       "      <td>ABW</td>\n",
       "      <td>NaN</td>\n",
       "      <td>NaN</td>\n",
       "    </tr>\n",
       "    <tr>\n",
       "      <th>1</th>\n",
       "      <td>AFG</td>\n",
       "      <td>493.750418</td>\n",
       "      <td>507.103432</td>\n",
       "    </tr>\n",
       "    <tr>\n",
       "      <th>2</th>\n",
       "      <td>AGO</td>\n",
       "      <td>3289.646664</td>\n",
       "      <td>2790.726615</td>\n",
       "    </tr>\n",
       "  </tbody>\n",
       "</table>\n",
       "</div>"
      ],
      "text/plain": [
       "  economy       YR2018       YR2019\n",
       "0     ABW          NaN          NaN\n",
       "1     AFG   493.750418   507.103432\n",
       "2     AGO  3289.646664  2790.726615"
      ]
     },
     "execution_count": 3,
     "metadata": {},
     "output_type": "execute_result"
    }
   ],
   "source": [
    "# Examine the first three observations; \n",
    "# NOTE how this dataframe only has country codes\n",
    "\n",
    "df_gdp_pc.head(3)"
   ]
  },
  {
   "cell_type": "code",
   "execution_count": 4,
   "metadata": {},
   "outputs": [],
   "source": [
    "# Let's rename the columns so they describe the data better:\n",
    "\n",
    "df_gdp_pc.rename(columns={\"YR2018\":\"gdp_pc_2018\", \n",
    "                          \"YR2019\":\"gdp_pc_2019\",}, \n",
    "                 inplace = True)"
   ]
  },
  {
   "cell_type": "markdown",
   "metadata": {},
   "source": [
    "### STEP 2: Create dataframe _df_codes_ that has both the 3-digit country codes and country names"
   ]
  },
  {
   "cell_type": "code",
   "execution_count": 7,
   "metadata": {},
   "outputs": [],
   "source": [
    "# Get dataframe named df_codes, which has information on both iso3 codes to country names, \n",
    "# We pull this in from the from World Bank's API as well\n",
    "\n",
    "codes = requests.get(\"http://api.worldbank.org/v2/country/?per_page=300\", params ={\"format\":\"json\"})\n",
    "df_codes = pd.DataFrame(json.loads(codes.text)[1])"
   ]
  },
  {
   "cell_type": "code",
   "execution_count": 8,
   "metadata": {},
   "outputs": [
    {
     "data": {
      "text/html": [
       "<div>\n",
       "<style scoped>\n",
       "    .dataframe tbody tr th:only-of-type {\n",
       "        vertical-align: middle;\n",
       "    }\n",
       "\n",
       "    .dataframe tbody tr th {\n",
       "        vertical-align: top;\n",
       "    }\n",
       "\n",
       "    .dataframe thead th {\n",
       "        text-align: right;\n",
       "    }\n",
       "</style>\n",
       "<table border=\"1\" class=\"dataframe\">\n",
       "  <thead>\n",
       "    <tr style=\"text-align: right;\">\n",
       "      <th></th>\n",
       "      <th>id</th>\n",
       "      <th>iso2Code</th>\n",
       "      <th>name</th>\n",
       "      <th>region</th>\n",
       "      <th>adminregion</th>\n",
       "      <th>incomeLevel</th>\n",
       "      <th>lendingType</th>\n",
       "      <th>capitalCity</th>\n",
       "      <th>longitude</th>\n",
       "      <th>latitude</th>\n",
       "    </tr>\n",
       "  </thead>\n",
       "  <tbody>\n",
       "    <tr>\n",
       "      <th>0</th>\n",
       "      <td>ABW</td>\n",
       "      <td>AW</td>\n",
       "      <td>Aruba</td>\n",
       "      <td>{'id': 'LCN', 'iso2code': 'ZJ', 'value': 'Lati...</td>\n",
       "      <td>{'id': '', 'iso2code': '', 'value': ''}</td>\n",
       "      <td>{'id': 'HIC', 'iso2code': 'XD', 'value': 'High...</td>\n",
       "      <td>{'id': 'LNX', 'iso2code': 'XX', 'value': 'Not ...</td>\n",
       "      <td>Oranjestad</td>\n",
       "      <td>-70.0167</td>\n",
       "      <td>12.5167</td>\n",
       "    </tr>\n",
       "    <tr>\n",
       "      <th>1</th>\n",
       "      <td>AFG</td>\n",
       "      <td>AF</td>\n",
       "      <td>Afghanistan</td>\n",
       "      <td>{'id': 'SAS', 'iso2code': '8S', 'value': 'Sout...</td>\n",
       "      <td>{'id': 'SAS', 'iso2code': '8S', 'value': 'Sout...</td>\n",
       "      <td>{'id': 'LIC', 'iso2code': 'XM', 'value': 'Low ...</td>\n",
       "      <td>{'id': 'IDX', 'iso2code': 'XI', 'value': 'IDA'}</td>\n",
       "      <td>Kabul</td>\n",
       "      <td>69.1761</td>\n",
       "      <td>34.5228</td>\n",
       "    </tr>\n",
       "    <tr>\n",
       "      <th>2</th>\n",
       "      <td>AFR</td>\n",
       "      <td>A9</td>\n",
       "      <td>Africa</td>\n",
       "      <td>{'id': 'NA', 'iso2code': 'NA', 'value': 'Aggre...</td>\n",
       "      <td>{'id': '', 'iso2code': '', 'value': ''}</td>\n",
       "      <td>{'id': 'NA', 'iso2code': 'NA', 'value': 'Aggre...</td>\n",
       "      <td>{'id': '', 'iso2code': '', 'value': 'Aggregates'}</td>\n",
       "      <td></td>\n",
       "      <td></td>\n",
       "      <td></td>\n",
       "    </tr>\n",
       "  </tbody>\n",
       "</table>\n",
       "</div>"
      ],
      "text/plain": [
       "    id iso2Code         name  \\\n",
       "0  ABW       AW        Aruba   \n",
       "1  AFG       AF  Afghanistan   \n",
       "2  AFR       A9       Africa   \n",
       "\n",
       "                                              region  \\\n",
       "0  {'id': 'LCN', 'iso2code': 'ZJ', 'value': 'Lati...   \n",
       "1  {'id': 'SAS', 'iso2code': '8S', 'value': 'Sout...   \n",
       "2  {'id': 'NA', 'iso2code': 'NA', 'value': 'Aggre...   \n",
       "\n",
       "                                         adminregion  \\\n",
       "0            {'id': '', 'iso2code': '', 'value': ''}   \n",
       "1  {'id': 'SAS', 'iso2code': '8S', 'value': 'Sout...   \n",
       "2            {'id': '', 'iso2code': '', 'value': ''}   \n",
       "\n",
       "                                         incomeLevel  \\\n",
       "0  {'id': 'HIC', 'iso2code': 'XD', 'value': 'High...   \n",
       "1  {'id': 'LIC', 'iso2code': 'XM', 'value': 'Low ...   \n",
       "2  {'id': 'NA', 'iso2code': 'NA', 'value': 'Aggre...   \n",
       "\n",
       "                                         lendingType capitalCity longitude  \\\n",
       "0  {'id': 'LNX', 'iso2code': 'XX', 'value': 'Not ...  Oranjestad  -70.0167   \n",
       "1    {'id': 'IDX', 'iso2code': 'XI', 'value': 'IDA'}       Kabul   69.1761   \n",
       "2  {'id': '', 'iso2code': '', 'value': 'Aggregates'}                         \n",
       "\n",
       "  latitude  \n",
       "0  12.5167  \n",
       "1  34.5228  \n",
       "2           "
      ]
     },
     "execution_count": 8,
     "metadata": {},
     "output_type": "execute_result"
    }
   ],
   "source": [
    "# Let's see what this dataframe looks like \n",
    "\n",
    "df_codes.head(3)"
   ]
  },
  {
   "cell_type": "code",
   "execution_count": 9,
   "metadata": {},
   "outputs": [],
   "source": [
    "# Let's keep a few select columns\n",
    "\n",
    "df_codes = df_codes[[\"id\", \"iso2Code\", \"name\", \"capitalCity\",\"longitude\", \"latitude\"]]"
   ]
  },
  {
   "cell_type": "markdown",
   "metadata": {},
   "source": [
    "### Now we have two dataframes: _df_gdp_pc_ and _df_codes_. \n",
    "\n",
    "### Can you think of how we might combine them?"
   ]
  },
  {
   "cell_type": "code",
   "execution_count": 10,
   "metadata": {},
   "outputs": [
    {
     "data": {
      "text/html": [
       "<div>\n",
       "<style scoped>\n",
       "    .dataframe tbody tr th:only-of-type {\n",
       "        vertical-align: middle;\n",
       "    }\n",
       "\n",
       "    .dataframe tbody tr th {\n",
       "        vertical-align: top;\n",
       "    }\n",
       "\n",
       "    .dataframe thead th {\n",
       "        text-align: right;\n",
       "    }\n",
       "</style>\n",
       "<table border=\"1\" class=\"dataframe\">\n",
       "  <thead>\n",
       "    <tr style=\"text-align: right;\">\n",
       "      <th></th>\n",
       "      <th>economy</th>\n",
       "      <th>gdp_pc_2018</th>\n",
       "      <th>gdp_pc_2019</th>\n",
       "    </tr>\n",
       "  </thead>\n",
       "  <tbody>\n",
       "    <tr>\n",
       "      <th>0</th>\n",
       "      <td>ABW</td>\n",
       "      <td>NaN</td>\n",
       "      <td>NaN</td>\n",
       "    </tr>\n",
       "    <tr>\n",
       "      <th>1</th>\n",
       "      <td>AFG</td>\n",
       "      <td>493.750418</td>\n",
       "      <td>507.103432</td>\n",
       "    </tr>\n",
       "    <tr>\n",
       "      <th>2</th>\n",
       "      <td>AGO</td>\n",
       "      <td>3289.646664</td>\n",
       "      <td>2790.726615</td>\n",
       "    </tr>\n",
       "  </tbody>\n",
       "</table>\n",
       "</div>"
      ],
      "text/plain": [
       "  economy  gdp_pc_2018  gdp_pc_2019\n",
       "0     ABW          NaN          NaN\n",
       "1     AFG   493.750418   507.103432\n",
       "2     AGO  3289.646664  2790.726615"
      ]
     },
     "execution_count": 10,
     "metadata": {},
     "output_type": "execute_result"
    }
   ],
   "source": [
    "df_gdp_pc.head(3)"
   ]
  },
  {
   "cell_type": "code",
   "execution_count": 11,
   "metadata": {},
   "outputs": [
    {
     "data": {
      "text/html": [
       "<div>\n",
       "<style scoped>\n",
       "    .dataframe tbody tr th:only-of-type {\n",
       "        vertical-align: middle;\n",
       "    }\n",
       "\n",
       "    .dataframe tbody tr th {\n",
       "        vertical-align: top;\n",
       "    }\n",
       "\n",
       "    .dataframe thead th {\n",
       "        text-align: right;\n",
       "    }\n",
       "</style>\n",
       "<table border=\"1\" class=\"dataframe\">\n",
       "  <thead>\n",
       "    <tr style=\"text-align: right;\">\n",
       "      <th></th>\n",
       "      <th>id</th>\n",
       "      <th>iso2Code</th>\n",
       "      <th>name</th>\n",
       "      <th>capitalCity</th>\n",
       "      <th>longitude</th>\n",
       "      <th>latitude</th>\n",
       "    </tr>\n",
       "  </thead>\n",
       "  <tbody>\n",
       "    <tr>\n",
       "      <th>0</th>\n",
       "      <td>ABW</td>\n",
       "      <td>AW</td>\n",
       "      <td>Aruba</td>\n",
       "      <td>Oranjestad</td>\n",
       "      <td>-70.0167</td>\n",
       "      <td>12.5167</td>\n",
       "    </tr>\n",
       "    <tr>\n",
       "      <th>1</th>\n",
       "      <td>AFG</td>\n",
       "      <td>AF</td>\n",
       "      <td>Afghanistan</td>\n",
       "      <td>Kabul</td>\n",
       "      <td>69.1761</td>\n",
       "      <td>34.5228</td>\n",
       "    </tr>\n",
       "    <tr>\n",
       "      <th>2</th>\n",
       "      <td>AFR</td>\n",
       "      <td>A9</td>\n",
       "      <td>Africa</td>\n",
       "      <td></td>\n",
       "      <td></td>\n",
       "      <td></td>\n",
       "    </tr>\n",
       "  </tbody>\n",
       "</table>\n",
       "</div>"
      ],
      "text/plain": [
       "    id iso2Code         name capitalCity longitude latitude\n",
       "0  ABW       AW        Aruba  Oranjestad  -70.0167  12.5167\n",
       "1  AFG       AF  Afghanistan       Kabul   69.1761  34.5228\n",
       "2  AFR       A9       Africa                               "
      ]
     },
     "execution_count": 11,
     "metadata": {},
     "output_type": "execute_result"
    }
   ],
   "source": [
    "df_codes.head(3)"
   ]
  },
  {
   "cell_type": "markdown",
   "metadata": {},
   "source": [
    "### EXERCISE 1: Create a new dataframe _df_gdf_pc_new_ by combining df_gdp_pc with df_codes"
   ]
  },
  {
   "cell_type": "markdown",
   "metadata": {},
   "source": [
    "#### 1a:\n",
    "\n",
    "First, rename the \"economy\" column in _df_gdp_pc_ to \"id\".  That way both dataframes have identical names for the 3-digit country code (i.e. iso3) column"
   ]
  },
  {
   "cell_type": "code",
   "execution_count": 12,
   "metadata": {},
   "outputs": [],
   "source": [
    "# YOUR CODE HERE: \n",
    "\n",
    "\n",
    "\n"
   ]
  },
  {
   "cell_type": "code",
   "execution_count": 13,
   "metadata": {},
   "outputs": [
    {
     "data": {
      "text/html": [
       "<div>\n",
       "<style scoped>\n",
       "    .dataframe tbody tr th:only-of-type {\n",
       "        vertical-align: middle;\n",
       "    }\n",
       "\n",
       "    .dataframe tbody tr th {\n",
       "        vertical-align: top;\n",
       "    }\n",
       "\n",
       "    .dataframe thead th {\n",
       "        text-align: right;\n",
       "    }\n",
       "</style>\n",
       "<table border=\"1\" class=\"dataframe\">\n",
       "  <thead>\n",
       "    <tr style=\"text-align: right;\">\n",
       "      <th></th>\n",
       "      <th>id</th>\n",
       "      <th>gdp_pc_2018</th>\n",
       "      <th>gdp_pc_2019</th>\n",
       "    </tr>\n",
       "  </thead>\n",
       "  <tbody>\n",
       "    <tr>\n",
       "      <th>0</th>\n",
       "      <td>ABW</td>\n",
       "      <td>NaN</td>\n",
       "      <td>NaN</td>\n",
       "    </tr>\n",
       "    <tr>\n",
       "      <th>1</th>\n",
       "      <td>AFG</td>\n",
       "      <td>493.750418</td>\n",
       "      <td>507.103432</td>\n",
       "    </tr>\n",
       "    <tr>\n",
       "      <th>2</th>\n",
       "      <td>AGO</td>\n",
       "      <td>3289.646664</td>\n",
       "      <td>2790.726615</td>\n",
       "    </tr>\n",
       "    <tr>\n",
       "      <th>3</th>\n",
       "      <td>ALB</td>\n",
       "      <td>5284.380184</td>\n",
       "      <td>5353.244856</td>\n",
       "    </tr>\n",
       "    <tr>\n",
       "      <th>4</th>\n",
       "      <td>AND</td>\n",
       "      <td>41793.055258</td>\n",
       "      <td>40886.391165</td>\n",
       "    </tr>\n",
       "    <tr>\n",
       "      <th>...</th>\n",
       "      <td>...</td>\n",
       "      <td>...</td>\n",
       "      <td>...</td>\n",
       "    </tr>\n",
       "    <tr>\n",
       "      <th>259</th>\n",
       "      <td>XKX</td>\n",
       "      <td>4419.914327</td>\n",
       "      <td>4430.784947</td>\n",
       "    </tr>\n",
       "    <tr>\n",
       "      <th>260</th>\n",
       "      <td>YEM</td>\n",
       "      <td>824.117629</td>\n",
       "      <td>774.334490</td>\n",
       "    </tr>\n",
       "    <tr>\n",
       "      <th>261</th>\n",
       "      <td>ZAF</td>\n",
       "      <td>6372.605655</td>\n",
       "      <td>6001.401121</td>\n",
       "    </tr>\n",
       "    <tr>\n",
       "      <th>262</th>\n",
       "      <td>ZMB</td>\n",
       "      <td>1516.390661</td>\n",
       "      <td>1305.063254</td>\n",
       "    </tr>\n",
       "    <tr>\n",
       "      <th>263</th>\n",
       "      <td>ZWE</td>\n",
       "      <td>1683.740577</td>\n",
       "      <td>1463.985910</td>\n",
       "    </tr>\n",
       "  </tbody>\n",
       "</table>\n",
       "<p>264 rows × 3 columns</p>\n",
       "</div>"
      ],
      "text/plain": [
       "      id   gdp_pc_2018   gdp_pc_2019\n",
       "0    ABW           NaN           NaN\n",
       "1    AFG    493.750418    507.103432\n",
       "2    AGO   3289.646664   2790.726615\n",
       "3    ALB   5284.380184   5353.244856\n",
       "4    AND  41793.055258  40886.391165\n",
       "..   ...           ...           ...\n",
       "259  XKX   4419.914327   4430.784947\n",
       "260  YEM    824.117629    774.334490\n",
       "261  ZAF   6372.605655   6001.401121\n",
       "262  ZMB   1516.390661   1305.063254\n",
       "263  ZWE   1683.740577   1463.985910\n",
       "\n",
       "[264 rows x 3 columns]"
      ]
     },
     "execution_count": 13,
     "metadata": {},
     "output_type": "execute_result"
    }
   ],
   "source": [
    "# Inspect the renamed df_codes dataframe. Does it look like this?\n",
    "\n",
    "df_gdp_pc"
   ]
  },
  {
   "cell_type": "markdown",
   "metadata": {},
   "source": [
    "#### 1b:\n",
    "Create a new dataframe named df_gdf_pc_new by combining the two datasets above (i.e. df_codes and df_gdp_pc)\n",
    "\n",
    "HINT: Use pd.merge() with the right arguments"
   ]
  },
  {
   "cell_type": "code",
   "execution_count": 14,
   "metadata": {},
   "outputs": [],
   "source": [
    "# YOUR CODE HERE:\n",
    "\n",
    "\n",
    "\n",
    "\n"
   ]
  },
  {
   "cell_type": "code",
   "execution_count": 15,
   "metadata": {},
   "outputs": [
    {
     "data": {
      "text/html": [
       "<div>\n",
       "<style scoped>\n",
       "    .dataframe tbody tr th:only-of-type {\n",
       "        vertical-align: middle;\n",
       "    }\n",
       "\n",
       "    .dataframe tbody tr th {\n",
       "        vertical-align: top;\n",
       "    }\n",
       "\n",
       "    .dataframe thead th {\n",
       "        text-align: right;\n",
       "    }\n",
       "</style>\n",
       "<table border=\"1\" class=\"dataframe\">\n",
       "  <thead>\n",
       "    <tr style=\"text-align: right;\">\n",
       "      <th></th>\n",
       "      <th>id</th>\n",
       "      <th>iso2Code</th>\n",
       "      <th>name</th>\n",
       "      <th>capitalCity</th>\n",
       "      <th>longitude</th>\n",
       "      <th>latitude</th>\n",
       "      <th>gdp_pc_2018</th>\n",
       "      <th>gdp_pc_2019</th>\n",
       "    </tr>\n",
       "  </thead>\n",
       "  <tbody>\n",
       "    <tr>\n",
       "      <th>0</th>\n",
       "      <td>ABW</td>\n",
       "      <td>AW</td>\n",
       "      <td>Aruba</td>\n",
       "      <td>Oranjestad</td>\n",
       "      <td>-70.0167</td>\n",
       "      <td>12.5167</td>\n",
       "      <td>NaN</td>\n",
       "      <td>NaN</td>\n",
       "    </tr>\n",
       "    <tr>\n",
       "      <th>1</th>\n",
       "      <td>AFG</td>\n",
       "      <td>AF</td>\n",
       "      <td>Afghanistan</td>\n",
       "      <td>Kabul</td>\n",
       "      <td>69.1761</td>\n",
       "      <td>34.5228</td>\n",
       "      <td>493.750418</td>\n",
       "      <td>507.103432</td>\n",
       "    </tr>\n",
       "    <tr>\n",
       "      <th>2</th>\n",
       "      <td>AFR</td>\n",
       "      <td>A9</td>\n",
       "      <td>Africa</td>\n",
       "      <td></td>\n",
       "      <td></td>\n",
       "      <td></td>\n",
       "      <td>NaN</td>\n",
       "      <td>NaN</td>\n",
       "    </tr>\n",
       "    <tr>\n",
       "      <th>3</th>\n",
       "      <td>AGO</td>\n",
       "      <td>AO</td>\n",
       "      <td>Angola</td>\n",
       "      <td>Luanda</td>\n",
       "      <td>13.242</td>\n",
       "      <td>-8.81155</td>\n",
       "      <td>3289.646664</td>\n",
       "      <td>2790.726615</td>\n",
       "    </tr>\n",
       "    <tr>\n",
       "      <th>4</th>\n",
       "      <td>ALB</td>\n",
       "      <td>AL</td>\n",
       "      <td>Albania</td>\n",
       "      <td>Tirane</td>\n",
       "      <td>19.8172</td>\n",
       "      <td>41.3317</td>\n",
       "      <td>5284.380184</td>\n",
       "      <td>5353.244856</td>\n",
       "    </tr>\n",
       "    <tr>\n",
       "      <th>...</th>\n",
       "      <td>...</td>\n",
       "      <td>...</td>\n",
       "      <td>...</td>\n",
       "      <td>...</td>\n",
       "      <td>...</td>\n",
       "      <td>...</td>\n",
       "      <td>...</td>\n",
       "      <td>...</td>\n",
       "    </tr>\n",
       "    <tr>\n",
       "      <th>292</th>\n",
       "      <td>XZN</td>\n",
       "      <td>A5</td>\n",
       "      <td>Sub-Saharan Africa excluding South Africa and ...</td>\n",
       "      <td></td>\n",
       "      <td></td>\n",
       "      <td></td>\n",
       "      <td>NaN</td>\n",
       "      <td>NaN</td>\n",
       "    </tr>\n",
       "    <tr>\n",
       "      <th>293</th>\n",
       "      <td>YEM</td>\n",
       "      <td>YE</td>\n",
       "      <td>Yemen, Rep.</td>\n",
       "      <td>Sana'a</td>\n",
       "      <td>44.2075</td>\n",
       "      <td>15.352</td>\n",
       "      <td>824.117629</td>\n",
       "      <td>774.334490</td>\n",
       "    </tr>\n",
       "    <tr>\n",
       "      <th>294</th>\n",
       "      <td>ZAF</td>\n",
       "      <td>ZA</td>\n",
       "      <td>South Africa</td>\n",
       "      <td>Pretoria</td>\n",
       "      <td>28.1871</td>\n",
       "      <td>-25.746</td>\n",
       "      <td>6372.605655</td>\n",
       "      <td>6001.401121</td>\n",
       "    </tr>\n",
       "    <tr>\n",
       "      <th>295</th>\n",
       "      <td>ZMB</td>\n",
       "      <td>ZM</td>\n",
       "      <td>Zambia</td>\n",
       "      <td>Lusaka</td>\n",
       "      <td>28.2937</td>\n",
       "      <td>-15.3982</td>\n",
       "      <td>1516.390661</td>\n",
       "      <td>1305.063254</td>\n",
       "    </tr>\n",
       "    <tr>\n",
       "      <th>296</th>\n",
       "      <td>ZWE</td>\n",
       "      <td>ZW</td>\n",
       "      <td>Zimbabwe</td>\n",
       "      <td>Harare</td>\n",
       "      <td>31.0672</td>\n",
       "      <td>-17.8312</td>\n",
       "      <td>1683.740577</td>\n",
       "      <td>1463.985910</td>\n",
       "    </tr>\n",
       "  </tbody>\n",
       "</table>\n",
       "<p>297 rows × 8 columns</p>\n",
       "</div>"
      ],
      "text/plain": [
       "      id iso2Code                                               name  \\\n",
       "0    ABW       AW                                              Aruba   \n",
       "1    AFG       AF                                        Afghanistan   \n",
       "2    AFR       A9                                             Africa   \n",
       "3    AGO       AO                                             Angola   \n",
       "4    ALB       AL                                            Albania   \n",
       "..   ...      ...                                                ...   \n",
       "292  XZN       A5  Sub-Saharan Africa excluding South Africa and ...   \n",
       "293  YEM       YE                                        Yemen, Rep.   \n",
       "294  ZAF       ZA                                       South Africa   \n",
       "295  ZMB       ZM                                             Zambia   \n",
       "296  ZWE       ZW                                           Zimbabwe   \n",
       "\n",
       "    capitalCity longitude  latitude  gdp_pc_2018  gdp_pc_2019  \n",
       "0    Oranjestad  -70.0167   12.5167          NaN          NaN  \n",
       "1         Kabul   69.1761   34.5228   493.750418   507.103432  \n",
       "2                                            NaN          NaN  \n",
       "3        Luanda    13.242  -8.81155  3289.646664  2790.726615  \n",
       "4        Tirane   19.8172   41.3317  5284.380184  5353.244856  \n",
       "..          ...       ...       ...          ...          ...  \n",
       "292                                          NaN          NaN  \n",
       "293      Sana'a   44.2075    15.352   824.117629   774.334490  \n",
       "294    Pretoria   28.1871   -25.746  6372.605655  6001.401121  \n",
       "295      Lusaka   28.2937  -15.3982  1516.390661  1305.063254  \n",
       "296      Harare   31.0672  -17.8312  1683.740577  1463.985910  \n",
       "\n",
       "[297 rows x 8 columns]"
      ]
     },
     "execution_count": 15,
     "metadata": {},
     "output_type": "execute_result"
    }
   ],
   "source": [
    "# Inspect your new dataframe.\n",
    "\n",
    "df_gdp_pc_new"
   ]
  },
  {
   "cell_type": "markdown",
   "metadata": {},
   "source": [
    "### Get the example education dataset we have been using:"
   ]
  },
  {
   "cell_type": "markdown",
   "metadata": {},
   "source": [
    "Once, again, we are going to work with the example dataset from before, which is a simplified version of aggregated data you might derive from international education databases such as TIMSS (https://timss2019.org/international-database/) or PISA (https://www.oecd.org/pisa/data/2018database/).\n",
    "\n",
    "__Please note that this is mainly for training purposes and doesn’t reflect actual achievement in the countries included.__\n"
   ]
  },
  {
   "cell_type": "code",
   "execution_count": 16,
   "metadata": {},
   "outputs": [],
   "source": [
    "# Set path to example education outcomes dataset\n",
    "\n",
    "path = r'https://raw.githubusercontent.com/worldbank/Python-for-Data-Science/master/June_2021_ETEC/day_2/data/data_edu.csv'"
   ]
  },
  {
   "cell_type": "code",
   "execution_count": 17,
   "metadata": {},
   "outputs": [],
   "source": [
    "# Read data from csv file into dataframe\n",
    "\n",
    "df = pd.read_csv(path, encoding = 'utf_8')"
   ]
  },
  {
   "cell_type": "markdown",
   "metadata": {},
   "source": [
    "### EXERCISE 2: Use the _df_ dataframe to derive a new dataframe _df_country_ that gives us data on median socioeconomic index by country\n",
    "\n",
    "HINT: You will most likely need to use the following functions on df: .groupby(), .median(), and .reset_index()"
   ]
  },
  {
   "cell_type": "code",
   "execution_count": 18,
   "metadata": {},
   "outputs": [],
   "source": [
    "# YOUR CODE HERE:\n",
    "\n",
    "\n",
    "\n",
    "\n"
   ]
  },
  {
   "cell_type": "code",
   "execution_count": 20,
   "metadata": {},
   "outputs": [
    {
     "data": {
      "text/html": [
       "<div>\n",
       "<style scoped>\n",
       "    .dataframe tbody tr th:only-of-type {\n",
       "        vertical-align: middle;\n",
       "    }\n",
       "\n",
       "    .dataframe tbody tr th {\n",
       "        vertical-align: top;\n",
       "    }\n",
       "\n",
       "    .dataframe thead th {\n",
       "        text-align: right;\n",
       "    }\n",
       "</style>\n",
       "<table border=\"1\" class=\"dataframe\">\n",
       "  <thead>\n",
       "    <tr style=\"text-align: right;\">\n",
       "      <th></th>\n",
       "      <th>country</th>\n",
       "      <th>socioeconomic_index</th>\n",
       "    </tr>\n",
       "  </thead>\n",
       "  <tbody>\n",
       "    <tr>\n",
       "      <th>0</th>\n",
       "      <td>Argentina</td>\n",
       "      <td>-0.77800</td>\n",
       "    </tr>\n",
       "    <tr>\n",
       "      <th>1</th>\n",
       "      <td>Finland</td>\n",
       "      <td>0.41510</td>\n",
       "    </tr>\n",
       "    <tr>\n",
       "      <th>2</th>\n",
       "      <td>Japan</td>\n",
       "      <td>-0.07080</td>\n",
       "    </tr>\n",
       "    <tr>\n",
       "      <th>3</th>\n",
       "      <td>Netherlands</td>\n",
       "      <td>0.38690</td>\n",
       "    </tr>\n",
       "    <tr>\n",
       "      <th>4</th>\n",
       "      <td>New Zealand</td>\n",
       "      <td>0.31030</td>\n",
       "    </tr>\n",
       "    <tr>\n",
       "      <th>5</th>\n",
       "      <td>Norway</td>\n",
       "      <td>0.66620</td>\n",
       "    </tr>\n",
       "    <tr>\n",
       "      <th>6</th>\n",
       "      <td>Romania</td>\n",
       "      <td>-0.57445</td>\n",
       "    </tr>\n",
       "    <tr>\n",
       "      <th>7</th>\n",
       "      <td>United States</td>\n",
       "      <td>0.15320</td>\n",
       "    </tr>\n",
       "  </tbody>\n",
       "</table>\n",
       "</div>"
      ],
      "text/plain": [
       "         country  socioeconomic_index\n",
       "0      Argentina             -0.77800\n",
       "1        Finland              0.41510\n",
       "2          Japan             -0.07080\n",
       "3    Netherlands              0.38690\n",
       "4    New Zealand              0.31030\n",
       "5         Norway              0.66620\n",
       "6        Romania             -0.57445\n",
       "7  United States              0.15320"
      ]
     },
     "execution_count": 20,
     "metadata": {},
     "output_type": "execute_result"
    }
   ],
   "source": [
    "# Inspect the df_country dataframe.\n",
    "\n",
    "df_country"
   ]
  },
  {
   "cell_type": "code",
   "execution_count": 21,
   "metadata": {},
   "outputs": [
    {
     "data": {
      "text/html": [
       "<div>\n",
       "<style scoped>\n",
       "    .dataframe tbody tr th:only-of-type {\n",
       "        vertical-align: middle;\n",
       "    }\n",
       "\n",
       "    .dataframe tbody tr th {\n",
       "        vertical-align: top;\n",
       "    }\n",
       "\n",
       "    .dataframe thead th {\n",
       "        text-align: right;\n",
       "    }\n",
       "</style>\n",
       "<table border=\"1\" class=\"dataframe\">\n",
       "  <thead>\n",
       "    <tr style=\"text-align: right;\">\n",
       "      <th></th>\n",
       "      <th>id</th>\n",
       "      <th>iso2Code</th>\n",
       "      <th>name</th>\n",
       "      <th>capitalCity</th>\n",
       "      <th>longitude</th>\n",
       "      <th>latitude</th>\n",
       "      <th>gdp_pc_2018</th>\n",
       "      <th>gdp_pc_2019</th>\n",
       "    </tr>\n",
       "  </thead>\n",
       "  <tbody>\n",
       "    <tr>\n",
       "      <th>0</th>\n",
       "      <td>ABW</td>\n",
       "      <td>AW</td>\n",
       "      <td>Aruba</td>\n",
       "      <td>Oranjestad</td>\n",
       "      <td>-70.0167</td>\n",
       "      <td>12.5167</td>\n",
       "      <td>NaN</td>\n",
       "      <td>NaN</td>\n",
       "    </tr>\n",
       "    <tr>\n",
       "      <th>1</th>\n",
       "      <td>AFG</td>\n",
       "      <td>AF</td>\n",
       "      <td>Afghanistan</td>\n",
       "      <td>Kabul</td>\n",
       "      <td>69.1761</td>\n",
       "      <td>34.5228</td>\n",
       "      <td>493.750418</td>\n",
       "      <td>507.103432</td>\n",
       "    </tr>\n",
       "    <tr>\n",
       "      <th>2</th>\n",
       "      <td>AFR</td>\n",
       "      <td>A9</td>\n",
       "      <td>Africa</td>\n",
       "      <td></td>\n",
       "      <td></td>\n",
       "      <td></td>\n",
       "      <td>NaN</td>\n",
       "      <td>NaN</td>\n",
       "    </tr>\n",
       "  </tbody>\n",
       "</table>\n",
       "</div>"
      ],
      "text/plain": [
       "    id iso2Code         name capitalCity longitude latitude  gdp_pc_2018  \\\n",
       "0  ABW       AW        Aruba  Oranjestad  -70.0167  12.5167          NaN   \n",
       "1  AFG       AF  Afghanistan       Kabul   69.1761  34.5228   493.750418   \n",
       "2  AFR       A9       Africa                                         NaN   \n",
       "\n",
       "   gdp_pc_2019  \n",
       "0          NaN  \n",
       "1   507.103432  \n",
       "2          NaN  "
      ]
     },
     "execution_count": 21,
     "metadata": {},
     "output_type": "execute_result"
    }
   ],
   "source": [
    "# Inspect the combined dataframe with country name and GDP per capita data:\n",
    "\n",
    "df_gdp_pc_new.head(3)"
   ]
  },
  {
   "cell_type": "markdown",
   "metadata": {},
   "source": [
    "### EXERCISE 2: Combine the two dataframes _df_country_ and _df_gdp_pc_new_"
   ]
  },
  {
   "cell_type": "markdown",
   "metadata": {},
   "source": [
    "#### 2a: Rename the column on which you want to perform the join"
   ]
  },
  {
   "cell_type": "code",
   "execution_count": 22,
   "metadata": {},
   "outputs": [],
   "source": [
    "# YOUR CODE HERE: \n",
    "\n",
    "\n",
    "\n",
    "\n"
   ]
  },
  {
   "cell_type": "code",
   "execution_count": 23,
   "metadata": {},
   "outputs": [
    {
     "data": {
      "text/html": [
       "<div>\n",
       "<style scoped>\n",
       "    .dataframe tbody tr th:only-of-type {\n",
       "        vertical-align: middle;\n",
       "    }\n",
       "\n",
       "    .dataframe tbody tr th {\n",
       "        vertical-align: top;\n",
       "    }\n",
       "\n",
       "    .dataframe thead th {\n",
       "        text-align: right;\n",
       "    }\n",
       "</style>\n",
       "<table border=\"1\" class=\"dataframe\">\n",
       "  <thead>\n",
       "    <tr style=\"text-align: right;\">\n",
       "      <th></th>\n",
       "      <th>id</th>\n",
       "      <th>iso2Code</th>\n",
       "      <th>country</th>\n",
       "      <th>capitalCity</th>\n",
       "      <th>longitude</th>\n",
       "      <th>latitude</th>\n",
       "      <th>gdp_pc_2018</th>\n",
       "      <th>gdp_pc_2019</th>\n",
       "    </tr>\n",
       "  </thead>\n",
       "  <tbody>\n",
       "    <tr>\n",
       "      <th>0</th>\n",
       "      <td>ABW</td>\n",
       "      <td>AW</td>\n",
       "      <td>Aruba</td>\n",
       "      <td>Oranjestad</td>\n",
       "      <td>-70.0167</td>\n",
       "      <td>12.5167</td>\n",
       "      <td>NaN</td>\n",
       "      <td>NaN</td>\n",
       "    </tr>\n",
       "    <tr>\n",
       "      <th>1</th>\n",
       "      <td>AFG</td>\n",
       "      <td>AF</td>\n",
       "      <td>Afghanistan</td>\n",
       "      <td>Kabul</td>\n",
       "      <td>69.1761</td>\n",
       "      <td>34.5228</td>\n",
       "      <td>493.750418</td>\n",
       "      <td>507.103432</td>\n",
       "    </tr>\n",
       "    <tr>\n",
       "      <th>2</th>\n",
       "      <td>AFR</td>\n",
       "      <td>A9</td>\n",
       "      <td>Africa</td>\n",
       "      <td></td>\n",
       "      <td></td>\n",
       "      <td></td>\n",
       "      <td>NaN</td>\n",
       "      <td>NaN</td>\n",
       "    </tr>\n",
       "    <tr>\n",
       "      <th>3</th>\n",
       "      <td>AGO</td>\n",
       "      <td>AO</td>\n",
       "      <td>Angola</td>\n",
       "      <td>Luanda</td>\n",
       "      <td>13.242</td>\n",
       "      <td>-8.81155</td>\n",
       "      <td>3289.646664</td>\n",
       "      <td>2790.726615</td>\n",
       "    </tr>\n",
       "    <tr>\n",
       "      <th>4</th>\n",
       "      <td>ALB</td>\n",
       "      <td>AL</td>\n",
       "      <td>Albania</td>\n",
       "      <td>Tirane</td>\n",
       "      <td>19.8172</td>\n",
       "      <td>41.3317</td>\n",
       "      <td>5284.380184</td>\n",
       "      <td>5353.244856</td>\n",
       "    </tr>\n",
       "  </tbody>\n",
       "</table>\n",
       "</div>"
      ],
      "text/plain": [
       "    id iso2Code      country capitalCity longitude  latitude  gdp_pc_2018  \\\n",
       "0  ABW       AW        Aruba  Oranjestad  -70.0167   12.5167          NaN   \n",
       "1  AFG       AF  Afghanistan       Kabul   69.1761   34.5228   493.750418   \n",
       "2  AFR       A9       Africa                                          NaN   \n",
       "3  AGO       AO       Angola      Luanda    13.242  -8.81155  3289.646664   \n",
       "4  ALB       AL      Albania      Tirane   19.8172   41.3317  5284.380184   \n",
       "\n",
       "   gdp_pc_2019  \n",
       "0          NaN  \n",
       "1   507.103432  \n",
       "2          NaN  \n",
       "3  2790.726615  \n",
       "4  5353.244856  "
      ]
     },
     "execution_count": 23,
     "metadata": {},
     "output_type": "execute_result"
    }
   ],
   "source": [
    "# Notice how the relevant column has been renamed\n",
    "\n",
    "df_gdp_pc_new.head()"
   ]
  },
  {
   "cell_type": "markdown",
   "metadata": {},
   "source": [
    "#### 2b: Combine the df_gdf_pc dataframe with the df_country dataframe. We want to keep data on the eight countries in our education outcomes dataframe\n",
    "\n",
    "Can you tell how the outputs differ depending on whether you pass how=\"left\", \"right\", or \"inner\""
   ]
  },
  {
   "cell_type": "code",
   "execution_count": 24,
   "metadata": {},
   "outputs": [],
   "source": [
    "# YOUR CODE HERE: \n",
    "\n",
    "\n",
    "\n",
    "\n"
   ]
  },
  {
   "cell_type": "markdown",
   "metadata": {},
   "source": [
    "### EXERCISE 3: Calculate the correlation between per capita gdp and socioeconomic_index and visualize this"
   ]
  },
  {
   "cell_type": "markdown",
   "metadata": {},
   "source": [
    "#### 3a: What is the correlation between per capita gdp and socioeconomic_index?"
   ]
  },
  {
   "cell_type": "code",
   "execution_count": 25,
   "metadata": {},
   "outputs": [
    {
     "data": {
      "text/plain": [
       "0.9066350150655134"
      ]
     },
     "execution_count": 25,
     "metadata": {},
     "output_type": "execute_result"
    }
   ],
   "source": [
    "# YOUR CODE HERE:\n",
    "\n",
    "\n",
    "\n",
    "\n"
   ]
  },
  {
   "cell_type": "markdown",
   "metadata": {},
   "source": [
    "#### 3b: Can you visualize this relationship?"
   ]
  },
  {
   "cell_type": "code",
   "execution_count": 28,
   "metadata": {},
   "outputs": [
    {
     "data": {
      "text/plain": [
       "<AxesSubplot:xlabel='gdp_pc_2019', ylabel='socioeconomic_index'>"
      ]
     },
     "execution_count": 28,
     "metadata": {},
     "output_type": "execute_result"
    },
    {
     "data": {
      "image/png": "[encoded data removed]",
      "text/plain": [
       "<Figure size 432x288 with 1 Axes>"
      ]
     },
     "metadata": {
      "needs_background": "light"
     },
     "output_type": "display_data"
    }
   ],
   "source": [
    "# YOUR CODE HERE: \n",
    "\n",
    "\n",
    "\n",
    "\n"
   ]
  },
  {
   "cell_type": "markdown",
   "metadata": {},
   "source": [
    "#### What are APIs, why use them?"
   ]
  },
  {
   "cell_type": "markdown",
   "metadata": {},
   "source": [
    "Companies and organizations make certain data available through their Application Programming Interfaces (APIs). To use an API, you make a request to a remote web server via its HTTP address.\n",
    "\n",
    "You can retrieve data from APIs instead of downloading a static file to your hard drive and reading it in. This is helpful where:\n",
    "* you want the latest data in real time (eg. stock prices or weather)\n",
    "* you want a small, selected piece of data (eg. hospital locations in a bounding box)\n",
    "* the organization will run its own computations for you (eg. request satellite imagery with cloud cover removed, Planet API; analyze sentiment of a document, IBM Watson API)."
   ]
  },
  {
   "cell_type": "markdown",
   "metadata": {},
   "source": [
    "#### Four steps to using APIs\n",
    "\n",
    "1. Read the documentation\n",
    "\n",
    "  APIs are rules specifying what query you should send, and what format of data the server will return back. You query APIs using an HTTP request (ie. a web address). Read the docs to check (i) what the API can do; (ii) what the HTTP request should look like. \n",
    "  \n",
    "\n",
    "2. Find the API endpoint\n",
    "\n",
    "  Examples: http://api.twitter.com, http://api.github.com\n",
    "\n",
    "\n",
    "3. Try a sample query in your web brower or terminal: `curl https://api.github.com/users/nj935/repos`\n",
    "\n",
    "  Queries start with the API endpoint, then add commands using the API's specific format. Send a sample query to see what the output looks like. Normally it will be Javascript Object Notation (JSON).\n",
    "\n",
    "\n",
    "4. Extract the information you need from the JSON.\n",
    "\n",
    "  Remember JSON is a widely used data interchange format. It comprises nested dictionaries and lists.\n",
    "\n",
    "\n",
    "5. Write some code to send custom requests.\n",
    "\n",
    "  The `requests` library is a painless way to make HTML requests. Using the API's rules and some lines of code, you can quickly request the precise data you want. There are also API wrappers (small Python libraries that manage API requests for you, providing an easier syntax)."
   ]
  }
 ],
 "metadata": {
  "kernelspec": {
   "display_name": "flaring",
   "language": "python",
   "name": "flaring"
  },
  "language_info": {
   "codemirror_mode": {
    "name": "ipython",
    "version": 3
   },
   "file_extension": ".py",
   "mimetype": "text/x-python",
   "name": "python",
   "nbconvert_exporter": "python",
   "pygments_lexer": "ipython3",
   "version": "3.8.6"
  }
 },
 "nbformat": 4,
 "nbformat_minor": 4
}
